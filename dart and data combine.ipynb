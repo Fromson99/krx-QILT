{
 "cells": [
  {
   "cell_type": "markdown",
   "metadata": {},
   "source": [
    "# 데이터셋 만들기 (기업 재무정보)"
   ]
  },
  {
   "cell_type": "code",
   "execution_count": null,
   "metadata": {},
   "outputs": [],
   "source": [
    "import io\n",
    "import zipfile\n",
    "import requests\n",
    "from xml.etree.ElementTree import parse\n",
    "import pandas as pd\n",
    "import time\n",
    "import datetime\n",
    "\n",
    "# crtfc_key=\n",
    "\n",
    "#회사정보 가져오기\n",
    "#임의로 'E:/' 로 설정 및 다운로드 파일 corpcode.zip으로 설정\n",
    "path='data'\n",
    "filename='corpcode.zip'\n",
    "\n",
    "url = 'https://opendart.fss.or.kr/api/corpCode.xml'\n",
    "params = {\n",
    "    'crtfc_key': crtfc_key,\n",
    "}\n",
    "results=requests.get(url, params=params)\n",
    "\n",
    "file = open(path+filename, 'wb')\n",
    "file.write(results.content)\n",
    "file.close()\n",
    "\n",
    "## 내 폴더에 저장하기 \n"
   ]
  },
  {
   "cell_type": "code",
   "execution_count": null,
   "metadata": {},
   "outputs": [],
   "source": [
    "path='data'\n",
    "\n",
    "filename='corpcode.zip'"
   ]
  },
  {
   "cell_type": "code",
   "execution_count": null,
   "metadata": {},
   "outputs": [],
   "source": [
    "import io\n",
    "import zipfile\n",
    "import requests\n",
    "from xml.etree.ElementTree import parse\n",
    "import pandas as pd\n",
    "import time\n",
    "import datetime\n",
    "zipfile.ZipFile(path+filename).extractall(path)\n",
    "\n",
    "\n",
    "tree = parse(path + '/CORPCODE.xml') #상장회사 이름과 티커 들고오기 \n",
    "root = tree.getroot()\n",
    "li=root.findall('list')\n",
    "corp_code,corp_name,stock_code,modify_date=[],[],[],[]\n",
    "for d in li:\n",
    "    corp_code.append(d.find('corp_code').text)\n",
    "    corp_name.append(d.find('corp_name').text)\n",
    "    stock_code.append(d.find('stock_code').text)\n",
    "    modify_date.append(d.find('modify_date').text)\n",
    "corps_df = pd.DataFrame({'corp_code':corp_code,'corp_name':corp_name,\n",
    "         'stock_code':stock_code,'modify_date':modify_date})\n",
    "\n",
    "corps_df = corps_df.loc[corps_df['stock_code']!=' ',:].reset_index(drop=True)"
   ]
  },
  {
   "cell_type": "code",
   "execution_count": 4,
   "metadata": {},
   "outputs": [
    {
     "data": {
      "text/html": [
       "<div>\n",
       "<style scoped>\n",
       "    .dataframe tbody tr th:only-of-type {\n",
       "        vertical-align: middle;\n",
       "    }\n",
       "\n",
       "    .dataframe tbody tr th {\n",
       "        vertical-align: top;\n",
       "    }\n",
       "\n",
       "    .dataframe thead th {\n",
       "        text-align: right;\n",
       "    }\n",
       "</style>\n",
       "<table border=\"1\" class=\"dataframe\">\n",
       "  <thead>\n",
       "    <tr style=\"text-align: right;\">\n",
       "      <th></th>\n",
       "      <th>corp_code</th>\n",
       "      <th>corp_name</th>\n",
       "      <th>stock_code</th>\n",
       "      <th>modify_date</th>\n",
       "    </tr>\n",
       "  </thead>\n",
       "  <tbody>\n",
       "    <tr>\n",
       "      <th>0</th>\n",
       "      <td>00260985</td>\n",
       "      <td>한빛네트</td>\n",
       "      <td>036720</td>\n",
       "      <td>20170630</td>\n",
       "    </tr>\n",
       "    <tr>\n",
       "      <th>1</th>\n",
       "      <td>00264529</td>\n",
       "      <td>엔플렉스</td>\n",
       "      <td>040130</td>\n",
       "      <td>20170630</td>\n",
       "    </tr>\n",
       "    <tr>\n",
       "      <th>2</th>\n",
       "      <td>00358545</td>\n",
       "      <td>동서정보기술</td>\n",
       "      <td>055000</td>\n",
       "      <td>20170630</td>\n",
       "    </tr>\n",
       "    <tr>\n",
       "      <th>3</th>\n",
       "      <td>00231567</td>\n",
       "      <td>애드모바일</td>\n",
       "      <td>032600</td>\n",
       "      <td>20170630</td>\n",
       "    </tr>\n",
       "    <tr>\n",
       "      <th>4</th>\n",
       "      <td>00359614</td>\n",
       "      <td>리더컴</td>\n",
       "      <td>056140</td>\n",
       "      <td>20170630</td>\n",
       "    </tr>\n",
       "  </tbody>\n",
       "</table>\n",
       "</div>"
      ],
      "text/plain": [
       "  corp_code corp_name stock_code modify_date\n",
       "0  00260985      한빛네트     036720    20170630\n",
       "1  00264529      엔플렉스     040130    20170630\n",
       "2  00358545    동서정보기술     055000    20170630\n",
       "3  00231567     애드모바일     032600    20170630\n",
       "4  00359614       리더컴     056140    20170630"
      ]
     },
     "execution_count": 4,
     "metadata": {},
     "output_type": "execute_result"
    }
   ],
   "source": [
    "corps_df.head()"
   ]
  },
  {
   "cell_type": "markdown",
   "metadata": {},
   "source": [
    "## 추출한 회사 이름으로 Dart에서 재무정보 들고오기\n",
    "다양한 재무정보가 존재하지만 Text로 쓰기 용이한 데이터는 \"회사의 개요, 사업의 내용, 경영진단 및 분석\" 이다 \n",
    "이 데이터는 api로 제공되지 않음으로 직접 크롤링 진행"
   ]
  },
  {
   "cell_type": "code",
   "execution_count": null,
   "metadata": {},
   "outputs": [
    {
     "name": "stderr",
     "output_type": "stream",
     "text": [
      "3784it [2:21:53,  2.25s/it]\n"
     ]
    }
   ],
   "source": [
    "import requests\n",
    "from bs4 import BeautifulSoup\n",
    "from tqdm import tqdm\n",
    "request_list = ['A001','A002','A003'] # 각각 회사의 개요, 사업의 내용, 경영진단 및 분석 페이지 형식\n",
    "final_list = []\n",
    "error_list = []\n",
    "# 메인 페이지 URL\n",
    "for i,r in tqdm(corps_df[['corp_code','corp_name']].iterrows()):\n",
    "    text_list = [r.iloc[1]]\n",
    "    for i in request_list:\n",
    "        url = f\"https://dart.fss.or.kr/navi/searchNavi.do?naviCrpCik={r.iloc[0]}&naviCrpNm={r.iloc[1]}&naviCode={i}\" \n",
    "        headers = {\n",
    "        'User-Agent': 'Mozilla/5.0',\n",
    "        'Connection': 'keep-alive'  # keep-alive 설정\n",
    "        }\n",
    "        # 메인 페이지 요청\n",
    "        response = requests.get(url, headers=headers)\n",
    "        soup = BeautifulSoup(response.text, 'html.parser')\n",
    "\n",
    "        # iframe URL 추출\n",
    "        iframe_tag = soup.find('iframe')\n",
    "        iframe_url = iframe_tag['src'] if iframe_tag else None\n",
    "\n",
    "        if iframe_url:\n",
    "            \n",
    "            # 절대 경로로 변환\n",
    "            iframe_url = f\"https://dart.fss.or.kr{iframe_url}\" if iframe_url.startswith('/') else iframe_url\n",
    "            \n",
    "            # iframe 페이지 요청\n",
    "            iframe_response = requests.get(iframe_url, headers=headers)\n",
    "            \n",
    "            # iframe 소스를 파싱\n",
    "            iframe_soup = BeautifulSoup(iframe_response.text, 'html.parser')\n",
    "            iframe_text = iframe_soup.get_text(separator='\\n', strip=True)\n",
    "            text_list.append(iframe_text)\n",
    "        else:\n",
    "            text_list = []\n",
    "            error_list.append(r.iloc[1])\n",
    "        time.sleep(0.5)\n",
    "    if text_list == []:\n",
    "        pass\n",
    "    else:\n",
    "        final_list.append(text_list)"
   ]
  },
  {
   "cell_type": "code",
   "execution_count": null,
   "metadata": {},
   "outputs": [],
   "source": [
    "final_list"
   ]
  },
  {
   "cell_type": "code",
   "execution_count": null,
   "metadata": {},
   "outputs": [],
   "source": []
  },
  {
   "cell_type": "markdown",
   "metadata": {},
   "source": [
    "## 데이터 전처리"
   ]
  },
  {
   "cell_type": "markdown",
   "metadata": {},
   "source": [
    "\n"
   ]
  },
  {
   "cell_type": "code",
   "execution_count": null,
   "metadata": {},
   "outputs": [
    {
     "ename": "FileNotFoundError",
     "evalue": "[Errno 2] No such file or directory: '/Users/sonhyeongjin/Desktop/project/KRX_LLM/finance_company_report.csv'",
     "output_type": "error",
     "traceback": [
      "\u001b[1;31m---------------------------------------------------------------------------\u001b[0m",
      "\u001b[1;31mFileNotFoundError\u001b[0m                         Traceback (most recent call last)",
      "Cell \u001b[1;32mIn[260], line 2\u001b[0m\n\u001b[0;32m      1\u001b[0m \u001b[38;5;28;01mimport\u001b[39;00m \u001b[38;5;21;01mpandas\u001b[39;00m \u001b[38;5;28;01mas\u001b[39;00m \u001b[38;5;21;01mpd\u001b[39;00m\n\u001b[1;32m----> 2\u001b[0m final_df \u001b[38;5;241m=\u001b[39m pd\u001b[38;5;241m.\u001b[39mread_csv(\u001b[38;5;124m'\u001b[39m\u001b[38;5;124m/Users/sonhyeongjin/Desktop/project/KRX_LLM/finance_company_report.csv\u001b[39m\u001b[38;5;124m'\u001b[39m)\n",
      "File \u001b[1;32mc:\\Users\\son\\anaconda3\\Lib\\site-packages\\pandas\\io\\parsers\\readers.py:1026\u001b[0m, in \u001b[0;36mread_csv\u001b[1;34m(filepath_or_buffer, sep, delimiter, header, names, index_col, usecols, dtype, engine, converters, true_values, false_values, skipinitialspace, skiprows, skipfooter, nrows, na_values, keep_default_na, na_filter, verbose, skip_blank_lines, parse_dates, infer_datetime_format, keep_date_col, date_parser, date_format, dayfirst, cache_dates, iterator, chunksize, compression, thousands, decimal, lineterminator, quotechar, quoting, doublequote, escapechar, comment, encoding, encoding_errors, dialect, on_bad_lines, delim_whitespace, low_memory, memory_map, float_precision, storage_options, dtype_backend)\u001b[0m\n\u001b[0;32m   1013\u001b[0m kwds_defaults \u001b[38;5;241m=\u001b[39m _refine_defaults_read(\n\u001b[0;32m   1014\u001b[0m     dialect,\n\u001b[0;32m   1015\u001b[0m     delimiter,\n\u001b[1;32m   (...)\u001b[0m\n\u001b[0;32m   1022\u001b[0m     dtype_backend\u001b[38;5;241m=\u001b[39mdtype_backend,\n\u001b[0;32m   1023\u001b[0m )\n\u001b[0;32m   1024\u001b[0m kwds\u001b[38;5;241m.\u001b[39mupdate(kwds_defaults)\n\u001b[1;32m-> 1026\u001b[0m \u001b[38;5;28;01mreturn\u001b[39;00m _read(filepath_or_buffer, kwds)\n",
      "File \u001b[1;32mc:\\Users\\son\\anaconda3\\Lib\\site-packages\\pandas\\io\\parsers\\readers.py:620\u001b[0m, in \u001b[0;36m_read\u001b[1;34m(filepath_or_buffer, kwds)\u001b[0m\n\u001b[0;32m    617\u001b[0m _validate_names(kwds\u001b[38;5;241m.\u001b[39mget(\u001b[38;5;124m\"\u001b[39m\u001b[38;5;124mnames\u001b[39m\u001b[38;5;124m\"\u001b[39m, \u001b[38;5;28;01mNone\u001b[39;00m))\n\u001b[0;32m    619\u001b[0m \u001b[38;5;66;03m# Create the parser.\u001b[39;00m\n\u001b[1;32m--> 620\u001b[0m parser \u001b[38;5;241m=\u001b[39m TextFileReader(filepath_or_buffer, \u001b[38;5;241m*\u001b[39m\u001b[38;5;241m*\u001b[39mkwds)\n\u001b[0;32m    622\u001b[0m \u001b[38;5;28;01mif\u001b[39;00m chunksize \u001b[38;5;129;01mor\u001b[39;00m iterator:\n\u001b[0;32m    623\u001b[0m     \u001b[38;5;28;01mreturn\u001b[39;00m parser\n",
      "File \u001b[1;32mc:\\Users\\son\\anaconda3\\Lib\\site-packages\\pandas\\io\\parsers\\readers.py:1620\u001b[0m, in \u001b[0;36mTextFileReader.__init__\u001b[1;34m(self, f, engine, **kwds)\u001b[0m\n\u001b[0;32m   1617\u001b[0m     \u001b[38;5;28mself\u001b[39m\u001b[38;5;241m.\u001b[39moptions[\u001b[38;5;124m\"\u001b[39m\u001b[38;5;124mhas_index_names\u001b[39m\u001b[38;5;124m\"\u001b[39m] \u001b[38;5;241m=\u001b[39m kwds[\u001b[38;5;124m\"\u001b[39m\u001b[38;5;124mhas_index_names\u001b[39m\u001b[38;5;124m\"\u001b[39m]\n\u001b[0;32m   1619\u001b[0m \u001b[38;5;28mself\u001b[39m\u001b[38;5;241m.\u001b[39mhandles: IOHandles \u001b[38;5;241m|\u001b[39m \u001b[38;5;28;01mNone\u001b[39;00m \u001b[38;5;241m=\u001b[39m \u001b[38;5;28;01mNone\u001b[39;00m\n\u001b[1;32m-> 1620\u001b[0m \u001b[38;5;28mself\u001b[39m\u001b[38;5;241m.\u001b[39m_engine \u001b[38;5;241m=\u001b[39m \u001b[38;5;28mself\u001b[39m\u001b[38;5;241m.\u001b[39m_make_engine(f, \u001b[38;5;28mself\u001b[39m\u001b[38;5;241m.\u001b[39mengine)\n",
      "File \u001b[1;32mc:\\Users\\son\\anaconda3\\Lib\\site-packages\\pandas\\io\\parsers\\readers.py:1880\u001b[0m, in \u001b[0;36mTextFileReader._make_engine\u001b[1;34m(self, f, engine)\u001b[0m\n\u001b[0;32m   1878\u001b[0m     \u001b[38;5;28;01mif\u001b[39;00m \u001b[38;5;124m\"\u001b[39m\u001b[38;5;124mb\u001b[39m\u001b[38;5;124m\"\u001b[39m \u001b[38;5;129;01mnot\u001b[39;00m \u001b[38;5;129;01min\u001b[39;00m mode:\n\u001b[0;32m   1879\u001b[0m         mode \u001b[38;5;241m+\u001b[39m\u001b[38;5;241m=\u001b[39m \u001b[38;5;124m\"\u001b[39m\u001b[38;5;124mb\u001b[39m\u001b[38;5;124m\"\u001b[39m\n\u001b[1;32m-> 1880\u001b[0m \u001b[38;5;28mself\u001b[39m\u001b[38;5;241m.\u001b[39mhandles \u001b[38;5;241m=\u001b[39m get_handle(\n\u001b[0;32m   1881\u001b[0m     f,\n\u001b[0;32m   1882\u001b[0m     mode,\n\u001b[0;32m   1883\u001b[0m     encoding\u001b[38;5;241m=\u001b[39m\u001b[38;5;28mself\u001b[39m\u001b[38;5;241m.\u001b[39moptions\u001b[38;5;241m.\u001b[39mget(\u001b[38;5;124m\"\u001b[39m\u001b[38;5;124mencoding\u001b[39m\u001b[38;5;124m\"\u001b[39m, \u001b[38;5;28;01mNone\u001b[39;00m),\n\u001b[0;32m   1884\u001b[0m     compression\u001b[38;5;241m=\u001b[39m\u001b[38;5;28mself\u001b[39m\u001b[38;5;241m.\u001b[39moptions\u001b[38;5;241m.\u001b[39mget(\u001b[38;5;124m\"\u001b[39m\u001b[38;5;124mcompression\u001b[39m\u001b[38;5;124m\"\u001b[39m, \u001b[38;5;28;01mNone\u001b[39;00m),\n\u001b[0;32m   1885\u001b[0m     memory_map\u001b[38;5;241m=\u001b[39m\u001b[38;5;28mself\u001b[39m\u001b[38;5;241m.\u001b[39moptions\u001b[38;5;241m.\u001b[39mget(\u001b[38;5;124m\"\u001b[39m\u001b[38;5;124mmemory_map\u001b[39m\u001b[38;5;124m\"\u001b[39m, \u001b[38;5;28;01mFalse\u001b[39;00m),\n\u001b[0;32m   1886\u001b[0m     is_text\u001b[38;5;241m=\u001b[39mis_text,\n\u001b[0;32m   1887\u001b[0m     errors\u001b[38;5;241m=\u001b[39m\u001b[38;5;28mself\u001b[39m\u001b[38;5;241m.\u001b[39moptions\u001b[38;5;241m.\u001b[39mget(\u001b[38;5;124m\"\u001b[39m\u001b[38;5;124mencoding_errors\u001b[39m\u001b[38;5;124m\"\u001b[39m, \u001b[38;5;124m\"\u001b[39m\u001b[38;5;124mstrict\u001b[39m\u001b[38;5;124m\"\u001b[39m),\n\u001b[0;32m   1888\u001b[0m     storage_options\u001b[38;5;241m=\u001b[39m\u001b[38;5;28mself\u001b[39m\u001b[38;5;241m.\u001b[39moptions\u001b[38;5;241m.\u001b[39mget(\u001b[38;5;124m\"\u001b[39m\u001b[38;5;124mstorage_options\u001b[39m\u001b[38;5;124m\"\u001b[39m, \u001b[38;5;28;01mNone\u001b[39;00m),\n\u001b[0;32m   1889\u001b[0m )\n\u001b[0;32m   1890\u001b[0m \u001b[38;5;28;01massert\u001b[39;00m \u001b[38;5;28mself\u001b[39m\u001b[38;5;241m.\u001b[39mhandles \u001b[38;5;129;01mis\u001b[39;00m \u001b[38;5;129;01mnot\u001b[39;00m \u001b[38;5;28;01mNone\u001b[39;00m\n\u001b[0;32m   1891\u001b[0m f \u001b[38;5;241m=\u001b[39m \u001b[38;5;28mself\u001b[39m\u001b[38;5;241m.\u001b[39mhandles\u001b[38;5;241m.\u001b[39mhandle\n",
      "File \u001b[1;32mc:\\Users\\son\\anaconda3\\Lib\\site-packages\\pandas\\io\\common.py:873\u001b[0m, in \u001b[0;36mget_handle\u001b[1;34m(path_or_buf, mode, encoding, compression, memory_map, is_text, errors, storage_options)\u001b[0m\n\u001b[0;32m    868\u001b[0m \u001b[38;5;28;01melif\u001b[39;00m \u001b[38;5;28misinstance\u001b[39m(handle, \u001b[38;5;28mstr\u001b[39m):\n\u001b[0;32m    869\u001b[0m     \u001b[38;5;66;03m# Check whether the filename is to be opened in binary mode.\u001b[39;00m\n\u001b[0;32m    870\u001b[0m     \u001b[38;5;66;03m# Binary mode does not support 'encoding' and 'newline'.\u001b[39;00m\n\u001b[0;32m    871\u001b[0m     \u001b[38;5;28;01mif\u001b[39;00m ioargs\u001b[38;5;241m.\u001b[39mencoding \u001b[38;5;129;01mand\u001b[39;00m \u001b[38;5;124m\"\u001b[39m\u001b[38;5;124mb\u001b[39m\u001b[38;5;124m\"\u001b[39m \u001b[38;5;129;01mnot\u001b[39;00m \u001b[38;5;129;01min\u001b[39;00m ioargs\u001b[38;5;241m.\u001b[39mmode:\n\u001b[0;32m    872\u001b[0m         \u001b[38;5;66;03m# Encoding\u001b[39;00m\n\u001b[1;32m--> 873\u001b[0m         handle \u001b[38;5;241m=\u001b[39m \u001b[38;5;28mopen\u001b[39m(\n\u001b[0;32m    874\u001b[0m             handle,\n\u001b[0;32m    875\u001b[0m             ioargs\u001b[38;5;241m.\u001b[39mmode,\n\u001b[0;32m    876\u001b[0m             encoding\u001b[38;5;241m=\u001b[39mioargs\u001b[38;5;241m.\u001b[39mencoding,\n\u001b[0;32m    877\u001b[0m             errors\u001b[38;5;241m=\u001b[39merrors,\n\u001b[0;32m    878\u001b[0m             newline\u001b[38;5;241m=\u001b[39m\u001b[38;5;124m\"\u001b[39m\u001b[38;5;124m\"\u001b[39m,\n\u001b[0;32m    879\u001b[0m         )\n\u001b[0;32m    880\u001b[0m     \u001b[38;5;28;01melse\u001b[39;00m:\n\u001b[0;32m    881\u001b[0m         \u001b[38;5;66;03m# Binary mode\u001b[39;00m\n\u001b[0;32m    882\u001b[0m         handle \u001b[38;5;241m=\u001b[39m \u001b[38;5;28mopen\u001b[39m(handle, ioargs\u001b[38;5;241m.\u001b[39mmode)\n",
      "\u001b[1;31mFileNotFoundError\u001b[0m: [Errno 2] No such file or directory: '/Users/sonhyeongjin/Desktop/project/KRX_LLM/finance_company_report.csv'"
     ]
    }
   ],
   "source": [
    "import pandas as pd\n",
    "final_df = pd.read_csv('/Users/sonhyeongjin/Desktop/project/KRX_LLM/finance_company_report.csv')"
   ]
  },
  {
   "cell_type": "code",
   "execution_count": null,
   "metadata": {},
   "outputs": [],
   "source": [
    "final_df"
   ]
  },
  {
   "cell_type": "code",
   "execution_count": null,
   "metadata": {},
   "outputs": [
    {
     "ename": "KeyError",
     "evalue": "\"None of ['0'] are in the columns\"",
     "output_type": "error",
     "traceback": [
      "\u001b[1;31m---------------------------------------------------------------------------\u001b[0m",
      "\u001b[1;31mKeyError\u001b[0m                                  Traceback (most recent call last)",
      "\u001b[1;32m~\\AppData\\Local\\Temp\\ipykernel_10340\\667107904.py\u001b[0m in \u001b[0;36m?\u001b[1;34m()\u001b[0m\n\u001b[1;32m----> 1\u001b[1;33m \u001b[0mfinal_df\u001b[0m \u001b[1;33m=\u001b[0m \u001b[0mfinal_df\u001b[0m\u001b[1;33m.\u001b[0m\u001b[0mset_index\u001b[0m\u001b[1;33m(\u001b[0m\u001b[1;34m'0'\u001b[0m\u001b[1;33m)\u001b[0m\u001b[1;33m\u001b[0m\u001b[1;33m\u001b[0m\u001b[0m\n\u001b[0m",
      "\u001b[1;32mc:\\Users\\son\\anaconda3\\Lib\\site-packages\\pandas\\core\\frame.py\u001b[0m in \u001b[0;36m?\u001b[1;34m(self, keys, drop, append, inplace, verify_integrity)\u001b[0m\n\u001b[0;32m   6118\u001b[0m                     \u001b[1;32mif\u001b[0m \u001b[1;32mnot\u001b[0m \u001b[0mfound\u001b[0m\u001b[1;33m:\u001b[0m\u001b[1;33m\u001b[0m\u001b[1;33m\u001b[0m\u001b[0m\n\u001b[0;32m   6119\u001b[0m                         \u001b[0mmissing\u001b[0m\u001b[1;33m.\u001b[0m\u001b[0mappend\u001b[0m\u001b[1;33m(\u001b[0m\u001b[0mcol\u001b[0m\u001b[1;33m)\u001b[0m\u001b[1;33m\u001b[0m\u001b[1;33m\u001b[0m\u001b[0m\n\u001b[0;32m   6120\u001b[0m \u001b[1;33m\u001b[0m\u001b[0m\n\u001b[0;32m   6121\u001b[0m         \u001b[1;32mif\u001b[0m \u001b[0mmissing\u001b[0m\u001b[1;33m:\u001b[0m\u001b[1;33m\u001b[0m\u001b[1;33m\u001b[0m\u001b[0m\n\u001b[1;32m-> 6122\u001b[1;33m             \u001b[1;32mraise\u001b[0m \u001b[0mKeyError\u001b[0m\u001b[1;33m(\u001b[0m\u001b[1;33mf\"\u001b[0m\u001b[1;33mNone of \u001b[0m\u001b[1;33m{\u001b[0m\u001b[0mmissing\u001b[0m\u001b[1;33m}\u001b[0m\u001b[1;33m are in the columns\u001b[0m\u001b[1;33m\"\u001b[0m\u001b[1;33m)\u001b[0m\u001b[1;33m\u001b[0m\u001b[1;33m\u001b[0m\u001b[0m\n\u001b[0m\u001b[0;32m   6123\u001b[0m \u001b[1;33m\u001b[0m\u001b[0m\n\u001b[0;32m   6124\u001b[0m         \u001b[1;32mif\u001b[0m \u001b[0minplace\u001b[0m\u001b[1;33m:\u001b[0m\u001b[1;33m\u001b[0m\u001b[1;33m\u001b[0m\u001b[0m\n\u001b[0;32m   6125\u001b[0m             \u001b[0mframe\u001b[0m \u001b[1;33m=\u001b[0m \u001b[0mself\u001b[0m\u001b[1;33m\u001b[0m\u001b[1;33m\u001b[0m\u001b[0m\n",
      "\u001b[1;31mKeyError\u001b[0m: \"None of ['0'] are in the columns\""
     ]
    }
   ],
   "source": [
    "final_df = final_df.set_index('0')"
   ]
  },
  {
   "cell_type": "markdown",
   "metadata": {},
   "source": [
    "### 회사의 개요\n",
    "회사의 개요 같은 경우 비어있는 형식도 다양하고 정보량 수준이 다 달랐음 일괄적으로 처리하기 어려워 문장을 임베딩 모델에 넣어 확인함"
   ]
  },
  {
   "cell_type": "code",
   "execution_count": 258,
   "metadata": {},
   "outputs": [
    {
     "name": "stdout",
     "output_type": "stream",
     "text": [
      "1. 회사의 개요\n",
      "1. 연결대상 종속회사 개황(연결재무제표를 작성하는 주권상장법인이 사업보고서, 분기ㆍ반기보고서를 제출하는 경우에 한함)\n",
      "연결대상 종속회사 현황(요약)\n",
      "(단위 : 사)\n",
      "구분\n",
      "연결대상회사수\n",
      "주요\n",
      "종속회사수\n",
      "기초\n",
      "증가\n",
      "감소\n",
      "기말\n",
      "상장\n",
      "-\n",
      "-\n",
      "-\n",
      "-\n",
      "-\n",
      "비상장\n",
      "-\n",
      "-\n",
      "-\n",
      "-\n",
      "-\n",
      "합계\n",
      "-\n",
      "-\n",
      "-\n",
      "-\n",
      "-\n",
      "※상세 현황은 '상세표-1. 연결대상 종속회사 현황(상세)' 참조\n",
      "1-1. 연결대상회사의 변동내용\n",
      "구 분\n",
      "자회사\n",
      "사 유\n",
      "신규\n",
      "연결\n",
      "-\n",
      "-\n",
      "-\n",
      "-\n",
      "연결\n",
      "제외\n",
      "-\n",
      "-\n",
      "-\n",
      "-\n",
      "중소기업 등 해당 여부\n",
      "중소기업 해당 여부\n",
      "미해당\n",
      "벤처기업 해당 여부\n",
      "미해당\n",
      "중견기업 해당 여부\n",
      "미해당\n",
      "회사의 주권상장(또는 등록ㆍ지정)여부 및 특례상장에 관한 사항\n",
      "주권상장\n",
      "(또는 등록ㆍ지정)여부\n",
      "주권상장\n",
      "(또는 등록ㆍ지정)일자\n",
      "특례상장 등\n",
      "여부\n",
      "특례상장 등\n",
      "적용법규\n",
      "-\n",
      "-\n",
      "-\n",
      "-\n"
     ]
    },
    {
     "name": "stderr",
     "output_type": "stream",
     "text": [
      "C:\\Users\\son\\AppData\\Local\\Temp\\ipykernel_10340\\2338289525.py:1: FutureWarning: Series.__getitem__ treating keys as positions is deprecated. In a future version, integer keys will always be treated as labels (consistent with DataFrame behavior). To access a value by position, use `ser.iloc[pos]`\n",
      "  print(final_df.iloc[1,:][0]) # 내용이 없음\n"
     ]
    }
   ],
   "source": [
    "print(final_df.iloc[1,:][0]) # 내용이 없음"
   ]
  },
  {
   "cell_type": "code",
   "execution_count": 16,
   "metadata": {},
   "outputs": [
    {
     "name": "stderr",
     "output_type": "stream",
     "text": [
      "  0%|          | 0/2984 [00:00<?, ?it/s]Attention type 'block_sparse' is not possible if sequence_length: 232 <= num global tokens: 2 * config.block_size + min. num sliding tokens: 3 * config.block_size + config.num_random_blocks * config.block_size + additional buffer: config.num_random_blocks * config.block_size = 704 with config.block_size = 64, config.num_random_blocks = 3. Changing attention type to 'original_full'...\n",
      "100%|██████████| 2984/2984 [23:58<00:00,  2.07it/s]  \n"
     ]
    }
   ],
   "source": [
    "from transformers import AutoTokenizer, AutoModel\n",
    "import torch\n",
    "from sklearn.cluster import KMeans\n",
    "from sklearn.neighbors import KNeighborsClassifier\n",
    "import numpy as np\n",
    "import collections\n",
    "\n",
    "from tqdm import tqdm\n",
    "\n",
    "# KoBigBird 모델 로드\n",
    "tokenizer = AutoTokenizer.from_pretrained(\"monologg/kobigbird-bert-base\")\n",
    "model = AutoModel.from_pretrained(\"monologg/kobigbird-bert-base\")\n",
    "\n",
    "\n",
    "\n",
    "# 텍스트 데이터를 임베딩으로 변환하는 함수\n",
    "def get_embeddings(texts):\n",
    "    embeddings = []\n",
    "    for text in tqdm(texts):\n",
    "        inputs = tokenizer(text, return_tensors=\"pt\", max_length=4096, truncation=True)\n",
    "        with torch.no_grad():\n",
    "            model_output = model(**inputs)\n",
    "            # CLS 토큰의 출력을 사용해 임베딩 생성\n",
    "            embedding = model_output.last_hidden_state[:, 0, :].squeeze().numpy()\n",
    "            embeddings.append(embedding)\n",
    "    return np.array(embeddings)\n",
    "\n",
    "# 예시 텍스트 데이터 배열\n",
    "texts = final_df.loc[:,'1'].values\n",
    "texts = np.array([text.replace(\"\\n\", \" \") for text in texts])\n",
    "# 텍스트를 임베딩으로 변환\n",
    "embeddings = get_embeddings(texts)\n",
    "\n"
   ]
  },
  {
   "cell_type": "code",
   "execution_count": 17,
   "metadata": {},
   "outputs": [
    {
     "name": "stderr",
     "output_type": "stream",
     "text": [
      "/Users/sonhyeongjin/miniforge3/lib/python3.10/site-packages/sklearn/cluster/_kmeans.py:1412: FutureWarning: The default value of `n_init` will change from 10 to 'auto' in 1.4. Set the value of `n_init` explicitly to suppress the warning\n",
      "  super()._check_params_vs_input(X, default_n_init=10)\n",
      "huggingface/tokenizers: The current process just got forked, after parallelism has already been used. Disabling parallelism to avoid deadlocks...\n",
      "To disable this warning, you can either:\n",
      "\t- Avoid using `tokenizers` before the fork if possible\n",
      "\t- Explicitly set the environment variable TOKENIZERS_PARALLELISM=(true | false)\n"
     ]
    },
    {
     "name": "stdout",
     "output_type": "stream",
     "text": [
      "Cluster counts: Counter({2: 1578, 1: 555, 4: 374, 3: 243, 0: 234})\n",
      "Cluster labels for each data point: [3 3 2 ... 4 2 0]\n",
      "Cluster 3: 243 points\n",
      "Cluster 2: 1578 points\n",
      "Cluster 4: 374 points\n",
      "Cluster 0: 234 points\n",
      "Cluster 1: 555 points\n"
     ]
    }
   ],
   "source": [
    "num_clusters = 5  # 군집 수 설정\n",
    "kmeans = KMeans(n_clusters=num_clusters, random_state=0)\n",
    "kmeans.fit(embeddings)\n",
    "\n",
    "# 각 데이터가 속한 군집 번호\n",
    "cluster_labels = kmeans.labels_\n",
    "\n",
    "# 2. KNN으로 유사도 평가\n",
    "knn = KNeighborsClassifier(n_neighbors=3)  # 이웃 수 조정 가능\n",
    "knn.fit(embeddings, cluster_labels)\n",
    "\n",
    "# 각 군집에 데이터가 몇 개씩 들어 있는지 계산\n",
    "cluster_counts = collections.Counter(cluster_labels)\n",
    "\n",
    "# 결과 출력\n",
    "print(\"Cluster counts:\", cluster_counts)\n",
    "print(\"Cluster labels for each data point:\", cluster_labels)\n",
    "\n",
    "# 각 데이터가 속한 군집 및 군집별 개수 확인\n",
    "for cluster_id, count in cluster_counts.items():\n",
    "    print(f\"Cluster {cluster_id}: {count} points\")\n",
    "\n",
    "# 예시: 새로운 데이터 포인트와 가까운 군집 찾기\n"
   ]
  },
  {
   "cell_type": "code",
   "execution_count": 18,
   "metadata": {},
   "outputs": [],
   "source": [
    "count = 0\n",
    "cluster_data = []\n",
    "for i in cluster_labels:\n",
    "    if i == 3:\n",
    "        cluster_data.append(texts[count])\n",
    "    count += 1"
   ]
  },
  {
   "cell_type": "code",
   "execution_count": null,
   "metadata": {},
   "outputs": [],
   "source": [
    "cluster_data"
   ]
  },
  {
   "cell_type": "markdown",
   "metadata": {},
   "source": [
    "클러스터 수 5개정도면 유의미할 것 같음 \n",
    "초기에 확인한 의미없는 데이터들이 3번 군집에 많이 있음을 확인 => 3번 클러스터를 np.NaN값으로 대체  "
   ]
  },
  {
   "cell_type": "code",
   "execution_count": 20,
   "metadata": {},
   "outputs": [],
   "source": [
    "count = 0\n",
    "cluster_data = []\n",
    "item1_replace = []\n",
    "for i in cluster_labels:\n",
    "    if i == 3:\n",
    "        item1_replace.append(np.NaN)\n",
    "    else:\n",
    "        item1_replace.append(texts[count])\n",
    "    count += 1"
   ]
  },
  {
   "cell_type": "code",
   "execution_count": null,
   "metadata": {},
   "outputs": [],
   "source": [
    "item1_replace"
   ]
  },
  {
   "cell_type": "code",
   "execution_count": 22,
   "metadata": {},
   "outputs": [],
   "source": [
    "final_df['item1_replace'] = item1_replace"
   ]
  },
  {
   "cell_type": "code",
   "execution_count": 24,
   "metadata": {},
   "outputs": [],
   "source": [
    "# final_df.to_csv('finance_company_report_replace1.csv')"
   ]
  },
  {
   "cell_type": "code",
   "execution_count": 283,
   "metadata": {},
   "outputs": [],
   "source": [
    "import pandas as pd\n",
    "final_df = pd.read_csv('finance_company_report_replace1.csv')"
   ]
  },
  {
   "cell_type": "code",
   "execution_count": 289,
   "metadata": {},
   "outputs": [
    {
     "data": {
      "text/plain": [
       "array([\"1. 회사의 개요 (1) 연결대상 종속회사 현황 1) 연결대상 종속회사 현황(요약) (단위 : 사) 구분 연결대상회사수 주요 종속회사수 기초 증가 감소 기말 상장 - - - - - 비상장 3 - - 3 1 합계 3 - - 3 1 ※상세 현황은 '상세표-1. 연결대상 종속회사 현황(상세)' 참조 2) 연결대상회사의 변동내용 구 분 자회사 사 유 신규 연결 - - - - 연결 제외 - - - - (2) 회사의 법적ㆍ상업적 명칭 당사의 명칭은「주식회사 드래곤플라이」라고 표기합니다. 또한, 영문으로는「Dragonfly GF Co., Ltd.(약호 Dragonfly)」라고 표기합니다. (3) 설립일자 당사는 1990년 3월 22일에 설립되었습니다. 또한 1997년 11월 10일자로 코스닥시장에 상장되었으며, 2009년 7월 10일자로 (구)드래곤플라이를 흡수합병하였습니다. (4) 본사의 주소, 전화번호, 홈페이지 주소 1) 주소 : 서울특별시 서초구 서초중앙로22길 80(서초동) 2) 전화번호 : 02) 522-9393 3) 홈페이지 : http://www.dragonflygame.com (5) 중소기업 등 해당 여부 중소기업 해당 여부 해당 벤처기업 해당 여부 미해당 중견기업 해당 여부 미해당 (6) 주요 사업의 내용 당사는「VR(가상현실), AR(증강현실), 온라인, 모바일 콘텐츠 소프트웨어의 개발 및유통업」을 주요 사업목적으로 영위 중이며, 멀티 플랫폼 기반의「VRㆍAR 게임」및 PC 인터넷 플랫폼 기반의「온라인 게임」과 스마트폰 등 모바일 플랫폼 기반의「모바일 게임」을 개발 및 유통하고 있습니다. 현재, 유통 또는 개발 중인 주요 게임 콘텐츠로는「스페셜포스 VR: INVASION」,「스페셜포스 VR: INFINITY WAR」등의 VRㆍAR 게임 및「스페셜포스」,「스페셜포스2」,「프로젝트 AX」등의 온라인 게임과「스페셜포스 서바이벌M」,「콜 오브 카오스 : 어셈블」,「아도르: 수호의 여신」,「위치스위치」등의 모바일 게임이 있습니다. 당사의 종속회사인 (주)몽스는 온라인, 모바일 게임 등 소프트웨어 개발을 주요 사업으로 영위 중이며, 온라인 및 모바일 게임 뿐만 아니라 NFT, P2E 등 블록체인 관련 콘텐츠 또한 전문적으로 개발하고 있습니다. 당사의 종속회사인 (주)리노펙은 기능성 필름 사업과 자동차 흡음재 제조을 목적 사업으로 영위 중이며, 기능성 필름 사업에서는 박막 증착기술로 투명전도막 필름을 개발하여 제조 및 판매하고 있고 자동차 흡음재 사업에서는 다년간의 노하우로 모든 형상 제조 가능한 자동차 흡음재를 제조 및 판매하고 있습니다. 상세한 내용은 본 공시자료의「II. 사업의 내용」을 참조하시기 바랍니다. (7) 회사의 주권상장(또는 등록ㆍ지정)여부 및 특례상장에 관한 사항 주권상장 (또는 등록ㆍ지정)현황 주권상장 (또는 등록ㆍ지정)일자 특례상장 유형 코스닥시장 상장 1997년 11월 10일 해당사항 없음\"],\n",
       "      dtype=object)"
      ]
     },
     "execution_count": 289,
     "metadata": {},
     "output_type": "execute_result"
    }
   ],
   "source": [
    "final_df[final_df['0'] == '드래곤플라이']['item1_replace'].values"
   ]
  },
  {
   "cell_type": "markdown",
   "metadata": {},
   "source": [
    "## 사업의 내용\n",
    "사업의 내용같은 경우는 대부분 데이터가 차 있는 것 같아서 아에 정보가 존재하지 않는 데이터만 제외하는 형식으로 진행한다."
   ]
  },
  {
   "cell_type": "code",
   "execution_count": 290,
   "metadata": {},
   "outputs": [],
   "source": [
    "import numpy as np\n",
    "texts = final_df.loc[:,'2'].values\n",
    "texts = np.array([text.replace(\"\\n\", \" \") for text in texts])"
   ]
  },
  {
   "cell_type": "code",
   "execution_count": 291,
   "metadata": {},
   "outputs": [
    {
     "data": {
      "text/plain": [
       "'II. 사업의 내용 1. 사업의 개요 2. 주요 제품 및 서비스 3. 원재료 및 생산설비 4. 매출 및 수주상황 5. 위험관리 및 파생거래 6. 주요계약 및 연구개발활동 7. 기타 참고사항'"
      ]
     },
     "execution_count": 291,
     "metadata": {},
     "output_type": "execute_result"
    }
   ],
   "source": [
    "texts[1]"
   ]
  },
  {
   "cell_type": "code",
   "execution_count": 292,
   "metadata": {},
   "outputs": [],
   "source": [
    "texts_normal = np.array([text.replace(texts[1], 'a') for text in texts])"
   ]
  },
  {
   "cell_type": "code",
   "execution_count": 293,
   "metadata": {},
   "outputs": [],
   "source": [
    "item2_list = []\n",
    "count =0\n",
    "count2 = 0\n",
    "for i in texts_normal:\n",
    "    if i == 'a':\n",
    "        item2_list.append(np.NaN)\n",
    "        count2 += 1\n",
    "    else:\n",
    "        item2_list.append(i)"
   ]
  },
  {
   "cell_type": "code",
   "execution_count": 294,
   "metadata": {},
   "outputs": [
    {
     "data": {
      "text/plain": [
       "['II. 사업의 내용 1. 사업의 개요 가. 영업의 현황 엠씨스퀘어 사업이 35 년의 오랜 시간을 겪어오며 여러 어려운 과정이 있었지만 새로운 성장 분야를 위해 끊임없는 노력을 계속하고 있으며 , 뇌과학 기술에 대한 연구와 임상 시험에 대한 투자를 소홀히 하지 않고 그동안 많은 준비해 왔습니다 . 엠씨스퀘어는 뇌과학기술을 기초로한 헬스케어 분야에 오랜 경험과 사업의 뿌리를 갖고 있습니다 . 성장분야로서 수면시장이 크게 확장되고 있고 또한 반려견 시장에서 반려견들의 정서안정 등 응용 분야에 대한 기회가 열리고 있습니다 . 수면시장과 반려견들에 대해 그동안 구축해온 임상 Evidence 를 주축으로 B2C 및 B2B 사업 분야로 신규 사업 기회가 확장되가며 디자인 전문회사 및 유통 전문 회사들과 전략적 제휴를 통해 수면 및 반려견 관련 새로운 제품 라인업을 구성하며 사업을 진행해 가고 있습니다 . 한편으로 회사의 재무구조를 개선하기 위하여 , 페인스크램블러 의료기기 사업 부분을 관련 바이오전문기업에게 자산양수도 방식으로 채무 상환에 합의하여 구조 조정하여 사업 양도 시켰으며 , 이에 따라 회사의 핵심 역량을 엠씨스퀘어에 집중하여 성장해 가고 있는 디지털 헬스 시장에 회사의 모든 역량을 집중하여 수면시장과 반려견 시장을 중점으로 진행해 가고 있습니다 . 엠씨스퀘어 사업 주요 진행 현황 B2C 사업으로 홈쇼핑 전문유통회사와의 계약을 체결하고 상품 디자인을 위한 전문 디자인회사와 전략적 제휴를 통하여 수면 전문 제품과 펫 정서안정을 위한 제품을 개발하여 사업 진행 중에 있습니다 . 당사는 엠씨스퀘어 기술 제공으로 로얄티를 받는 계약 구조로 상품 생산에 따른 자금 부담을 최소화하고 선 주문에 의한 개발 진행으로 사업리스크가 최소화된 사업 형태로 진행 중에 있습니다 . 유통회사의 선 투자에 의한 제품 개발 형태로서 새로운 사업 구조로 진행하고 있으며 , 당사의 기술제공 및 유통회사의 생산 및 마케팅 투자로 상호 강점을 결합하여 사업을 확장해 가는 새로운 사업구조입니다 . 한편으로 B2B 사업 형태로 엠씨스퀘어 빌트인 사업모델로 현대건설의 H- 슬립피노믹스 신주택기술 개념하에 침심 수면기능의 엠씨스퀘어와 학생 공부방에 엠씨스퀘어 집중력 기능으로 아파트 빌트인 협업 프로젝트가 작년에 이어 계속 진전을 보이며 , 현재 현대 아파트 홍보관에 설치되어 시범 운영 중에 있습니다 . 또한 실시간 건강 모니터링 전문기업과 다양한 제품 라인에 엠씨스퀘어 기능의 빌트인 사업 기회도 현재 적극적으로 진행 중에 있어 하반기에 구체적인 성과가 예상되고 있습니다 . 이와같이 엠씨스퀘어 사업은 선투자에 의한 생산 판매 및 사업리스크를 최소화하여 상기의 기술 라이센싱을 통해 B2C 또는 B2 의 다양한 사업라인으로 로얄티 수입 등의 새로운 사업모델로 발전 진행해 가고 있습니다 . (2) 의료기기 사업 의료기기 사업부문을 자산양수도로 채무 상환으로 양도한 후 , 기존 판매처에 대한 AS 관리를 계속 수행하고 있으며 , 관련 회사와 페인스크램블러의 국내 및 해외 사업을 확장해 갈 수 있도록 협력을 계속 하고 있습니다 . 해외사업부분은 기존의 해외 판매회사인 미국 Competitive Technologies Inc.(\"CTI\") 와의 수출대금 미지급에 대한 소송이 2023 년 1 월 양측 합의로 종결되었고 , 이에 따라 CTI 가 소송합의금을 분할 지급하기로 하였으나 지급되지 않고 있어 , 2023 년 11 월 법원강제집행 판결을 받아 현재 CTI 에 대해 재고제품 회수를 포함하여 강제집행 진행중에 있습니다 나 . 판매경로 및 판매방법 등 (1) 판매조직 B2C 사업모델은 전문유통회사 중심으로 선주문에 의한 엠씨스퀘어 기술 라이센싱 위주로 사업이 진행되고 있어 회사는 기술라이센싱을 위한 최소한의 인력만을 보유하고 개발 및 생산 , 마케팅 등 기능은 외주로 진행하고 있습니다 . B2B 사업모델은 타 브랜드 회사들과 전략적 제휴로 해당 브랜드 제품에 엠씨스퀘어 기능이 빌트인되는 사업모델로서 여러 브랜드 회사들과 제휴를 위한 파트너쉽을 위한 top level 의 사업관계 구축에 집중하고 있습니다 . (2) 판매방법 홈쇼핑 전문 유통회사를 통해 판매하고 있으며 , 추가로 회사의 자사몰 또는 네이버 스마트스토어를 중심으로 판매하고 있습니다 . B2B 사업은 상대 회사들과의 제휴를 위한 사업소개에 중점을 두고 진행하고 있습니다 . (3) 판매전략 엠씨스퀘어는 수면 전문 제품 라인을 중심으로 홈쇼핑 유통 채널에 집중하고 있으며 , 특히 B2B 사업기회를 확장하여 빌트인 사업 모델을 위한 유명 브랜드 회사들과의 협력사업을 계속 개발 진행해 가고 있습니다 . 나. 조직도 조직도 2. 주요 제품 및 서비스 (1) 주요 제품 등의 현황 (기준일 : 2024년 06월 30일) \\xa0 \\xa0 \\xa0 \\xa0 \\xa0 \\xa0 \\xa0 \\xa0 \\xa0 \\xa0 \\xa0 \\xa0 \\xa0 \\xa0 \\xa0 \\xa0 \\xa0 \\xa0 \\xa0 \\xa0 \\xa0 \\xa0 \\xa0 \\xa0 \\xa0 \\xa0 \\xa0 \\xa0 \\xa0 \\xa0 (단위: 천원) 사업부문 매출유형 품 \\xa0 목 주요상표등 매출액 (비율) 엠씨스퀘어 제품/상품 집중력/릴렉스 엠씨스퀘어 外 119,557 3.87% 의료사업 제품/상품 통증치료기기 페인스크램블러 外 2,971,235 96.13% 합 \\xa0 계 3,090,792 100% 3. 원재료 및 생산설비 가. 주요 원재료 현황 (기준일 : 2024년 06월 30일) \\xa0 \\xa0 \\xa0 \\xa0 \\xa0 \\xa0 \\xa0 \\xa0 \\xa0 \\xa0 \\xa0 \\xa0 \\xa0 \\xa0 \\xa0 \\xa0 \\xa0 \\xa0 \\xa0 \\xa0 \\xa0 \\xa0 \\xa0 \\xa0 \\xa0 \\xa0 \\xa0 \\xa0 \\xa0 \\xa0 (단위: 천원) 사업부문 매입유형 품 \\xa0 목 구체적용도 매입액(비율) 비고 학습기자재 매입/외주가공비 엠씨스퀘어 X1 학습기기 0 (0.00%) - 엠씨스퀘어 X7 의료기기 매입/ 외주가공비 페인스크램블러 의료기기 51,902(100.00%) - 합 \\xa0 \\xa0계 51,902(100.00%) - 나. 주요 원재료 등의 가격변동추이 당사 제조원가 절감 차원에서 부품의 상당부분으로 자체적으로 매입하여 외주생산 업체에 제조하는 바, 주요 원재료의 가격은 변동이 미미합니다. 다. 생산능력 및 생산능력의 산출근거 당사는 모든 제품을 외부협력업체에 외주임가공으로 생산하고 있으며, 자체 생산 설비를 보유하고 있지 않습니다. (1) 생산능력 - 해당사항이 없습니다. (2) 생산능력의 산출근거 - 해당사항이 없습니다. 라. 생산실적 및 가동률 당사는 모든 제품을 외부협력업체에 외주임가공으로 생산하고 있으며, 자체 생산 설비를 보유하고 있지 않습니다. 마. 생산설비의 현황 등 당사는 모든 제품을 외부협력업체에 외주임가공으로 생산하고 있으며, 자체 생산 설비를 보유하고 있지 않으며, 향후 생산설비의 매입 ·증설 계획은 없습니다. 4. 매출 및 수주상황 가. 매출 실적 (기준일 : 2024년 06월 30일) \\xa0 \\xa0 \\xa0 \\xa0 \\xa0 \\xa0 \\xa0 \\xa0 \\xa0 \\xa0 \\xa0 \\xa0 \\xa0 \\xa0 \\xa0 \\xa0 \\xa0 \\xa0 \\xa0 \\xa0 \\xa0 \\xa0 \\xa0 \\xa0 \\xa0 \\xa0 \\xa0 \\xa0 \\xa0 \\xa0 \\xa0(단위:천원) 사업부문 매출유형 품 목 제39기 제38기 제37기 학습기자재 제품 및 상품 엠씨스퀘어 수 출 - - - 내 수 119,557 102,986 212,630 합 계 119,557 102,986 212,630 의료기기 페인스크램블러 수출 - - - 내수 2,971,235 522,755 1,106,542 합계 2,971,235 522,754 1,106,542 합 \\xa0 \\xa0계 수 출 - - - 내 수 3,090,792 625,740 1,319,172 합 계 3,090,792 625,740 1,319,172 나. 수주상황 -해당사항 없음. 5. 위험관리 및 파생거래 가. 외부자금조달 요약 (단위 : 천원) 조달원천 기초잔액 신규조달 상환등감소 기말잔액 비고 금융기관(은행) - - - - - 금융기관(어음할인) - - - - - 비금융기관 - - - - - 회사채사모 3,200,000 - - 신주인수권부사채/ 전환사채 계 3,200,000 - - - - 나. 리스크 관리에 관한 사항 - 해당사항이 없습니다. 6. 주요계약 및 연구개발활동 가. 경영상의주요계약 등 1) [Daimer-Benz] 졸음운전 극복위한 엠씨스퀘어 기술적용에 대한 NDA 체결 (2019) 2) [현대건설] 침실의 수면환경 최적화 공간 구현과 관련한 기술개발 MOU 체결 (2020) 3) [양우전자] LG전자 개인용경피성통증완화전기자극장치 개발비 계약 (2020) 4) [LG전자] 기술 및 노하우 라이센스 계약 (2020) 5) [한국표준과학연구원] 슬립스퀘어 임상계약 (2020) 나. 연구개발비용 (기준일 : 2024년 06월 30일) \\xa0 \\xa0 \\xa0 \\xa0 \\xa0 \\xa0 \\xa0 \\xa0 \\xa0 \\xa0 \\xa0 \\xa0 \\xa0 \\xa0 \\xa0 \\xa0 \\xa0 \\xa0 \\xa0 \\xa0 \\xa0 \\xa0 \\xa0 \\xa0 \\xa0(단위 : 백만원) 과 \\xa0 \\xa0 \\xa0 목 제39기 제38기 제37기 원 \\xa0재 \\xa0료 \\xa0비 - - 4 인 \\xa0 \\xa0건 \\xa0 \\xa0비 - - - 감 가 상 각 비 1 17 2 기 \\xa0 \\xa0 \\xa0 \\xa0 \\xa0 \\xa0타 - 13 10 연구개발비용 계 2 2 16 회계처리 판매비와 관리비 364 963 963 제조경비 - 32 15 개발비(무형자산) - 68 68 연구개발비 / 매출액 비율 [연구개발비용계÷당기매출액×100] 0.08% 2.70% 9.88% (3) 연구개발 실적 (1) 엠씨스퀘어 임상연구 (1991~2005) 12건: 국내외 대학교 외부위탁 (2) HMD(개인용디스플레이 영상장치) 연구개발 (1999) (3) 바이오엠씨스퀘어 개발 (2003) (4) 유비모드(모바일 홈네트워킹) 개발 (2006) (5) 엠씨스퀘어 미국 토마스제페슨대학교 임상 발표 및 저널지 발표 (2007) (6) FMD(안면 착용형 개인용디스플레이 영상장치) 연구개발 (2008) (7) 페인스크램블러 개발 유럽 CE 취득 (2008) 및 한국 식약청 승인 (2011) (8) 모바일 엠씨스퀘어 스마트폰앱 출시 (2012) (9) 페인스크램블러 보건복지부 신의료기술 인정 고시 (2013) (10) 엠씨스퀘어 스마트스쿨용 엠씨스퀘어 클래스 개발 (2013) (11) 페인스크램블러 보건복지부 행위 비급여 확정고시 (2014) (12) 엠씨스퀘어 한밭대학교 임상 (2015) (13) 한국표준과학연구원 엠씨스퀘어 수면유도효과 검증 임상 (2017) (14) 페인스크램블러 3ch 신제품 개발 (2017) (15) 졸음예방장치 개발 (2019) (16) 슬립스퀘어 개발(2020) (17) 바이탈펫 출시(2022) 7. 기타 참고사항 가. 외부자금조달 요약 (기준일 : 2024년 06월 30일) \\xa0 \\xa0 \\xa0 \\xa0 \\xa0 \\xa0 \\xa0 \\xa0 \\xa0 \\xa0 \\xa0 \\xa0 \\xa0 \\xa0 \\xa0 \\xa0 \\xa0 \\xa0 \\xa0 \\xa0 \\xa0 \\xa0 \\xa0 \\xa0 \\xa0 \\xa0 \\xa0 \\xa0 \\xa0 \\xa0(단위 : 천원) 조달원천 기초잔액 신규조달 상환등감소 기말잔액 비고 금융기관(은행) - - - - - 금융기관(어음할인) - - - - - 비금융기관 - - - - - 회사채사모 3,200,000 - - 3,200,000 신주인수권부사채/ 전환사채 계 3,200,000 - - 3,200,000 -',\n",
       " nan,\n",
       " 'II. 사업의 내용 1. 사업의 개요 당사는 홍콩에 설립된 비금융 지주회사이며, 실질영업자회사는 주로 포장필름 및 광학보호필름 제품의 개발, 제조 및 판매를 주요 목적사업으로 하고 있습니다. 또한, 현재 주력 제품인 광학필름을 중심으로 지속적인 연구개발을 통해 고부가가치 정밀코팅제품인 광학보호필름, PE무결정체 보호막, 3D 디스플레이 광학필름 등 생산 및 판매를 주요 사업으로 영위하고 있습니다. 2. 주요 제품 및 서비스 가. 주요 제품 등의 현황 (단위: 천RMB) 품 목 제12기 제11기 제10기 매출액 비중 매출액 비중 매출액 비중 포장필름 373,431 8.16% 271,062 6.71% 247,552 10.71% 광학보호필름 1,659,722 36.28% 1,604,816 39.71% 664,632 28.77% 광학접착필름 1,267,151 27.70% 708,714 17.54% 492,009 21.29% 자동차필름 1,181,551 25.83% 1,345,111 33.28% 796,519 34.47% 기타 92,367 2.02% 111,936 2.77% 109,824 4.75% 나. 주요제품의 가격변동 추이 (단위: RMB/kg, RMB/㎡) 구분 제12기 제11기 제10기 포장필름 8.77 8.04 12.56 광학보호필름 4.71 2.60 2.44 광학접착필름 2.72 4.73 5.11 자동차필름 10.32 7.48 13.47 기타 5.51 1.50 4.53 3. 원재료 및 생산설비 가. 주요 원재료 매입 현황 (단위: 천RMB) 매입 유형 품 목 구 분 제12기 제11기 제10기 화학입자 폴리에틸렌, 폴리프로필렌 본국내 210,599 244,315 359,218 수 입 3,373 24,022 14,924 화학용제 HC막, 실리콘겔, 벤젠 본국내 276,200 391,820 645,600 수 입 125 196 712 박막 원필름 본국내 793,706 717,677 860,657 수 입 956 4,768 888 기타 본국내 0 - 90,479 수 입 0 - 5,804 합계 본국내 1,280,504 1,353,813 2,363,407 수 입 4,454 28,986 22,328 나. 원재료 가격 변동 추이 (단위: RMB) 매입 유형 품 목 구 분 제12기 제11기 제10기 화학입자 폴리에틸렌, 폴리프로필렌 본국내 9.36 9.46 11.03 수 입 - 10.01 - 화학용제 HC막, 실리콘겔, 벤젠 본국내 28.86 34.19 32.89 수 입 755.51 492.03 - 박막 원필름 본국내 1.91 1.36 1.86 수 입 23.91 22.29 - 다. 생산능력, 생산실적 및 가동율 (단위: 천RMB) 구분 제12기 제11기 제10기 수량 금액 수량 금액 수량 금액 제1공장 포장필름 생산능력(ton) 40,300 - 36,600 - 36,600 - 생산실적(ton) 37,107 259,543 31,191 264,407 28,536 292,816 설비이용률 92% 85% 78% 기말재고(ton) 462 2,819 526 936 1,192 13,592 제1공장 정밀코팅필름 생산능력(천㎡) 315,000 - 300,000 - 300,000 - 생산실적(천㎡) 288,010 572,315 269,196 475,324 236,920 485,114 설비이용률 91% 90% 79% 기말재고(천㎡) 6,393 11,234 7,303 10,553 22,910 41,866 제2공장 정밀코팅필름 생산능력(천㎡) 550,000 - 290,000 - 290,000 - 생산실적(천㎡) 466,182 890,355 258,950 1,224,281 223,472 951,635 설비이용률 85% 89% 77% 기말재고(천㎡) 4,168 13,557 3,266 11,239 10,979 65,848 제3공장 생산능력(천㎡) 1,000,000 508,800 - - - 생산실적(천㎡) 514,050 1,611,567 499,693 1,927,255 - - 설비이용률 51% 98% - 기말재고(천㎡) 2,834 20,235 5,134 23,606 - - 주1) 제1공장 포장필름의 설비이용률이 100%를 상회하는 부분은 제2공장 정밀코팅필름에 적용되는 base필름의 일부 생산량이 합계 계상된 것입니다. 주2) 제2공장 정밀코팅필름의 연 생산능력은 다음과 같습니다. 187,000천㎡/년(full 광합접착필름) ~ 314,000천㎡/년(광학접착필름 + 기능성필름) 상기 제2공장 설비이용률은 최대 생산능력 기준으로 산출되었습니다. 주3) 제3공장의 생산능력은 해당 기간에 설치된 설비의 생산능력만 기재하였습니다. 라. 제품별 공정도 당사의 제품 생산공정과 관련하여 주요 공정별로 구분하여 설명하면 다음과 같습니다. PE기재막 생산 공정의 경우 PE입자 및 지정 원료를 각각의 배합 비율에 맞추어 버킷에 투입 후 혼합과정을 거치게 됩니다. 그 후 혼합된 원료는 200도 이상의 고온으로 녹이는 가열압출을 거치며 3중 압출 블로몰딩 작업을 거친 후 풍냉순환 과정을 통해 제품의 열기를 식히게 됩니다. 그 후 제품별 두께를 확인 하여 견인 기계를 통하여 분절 및 감기과정을 거쳐 각각 Roll단위 또는 매단위로 가공 및 포장 되어 제품의 형태를 유지하게 됩니다. PE기재막 생산 공정의 주요 생산공정도는 아래와 같습니다. pe기재막생성과정 PE/CPP 보호막 생산공정은 다음과 같습니다. 생산된 PE/CPP필름은 코팅기를 거쳐 코팅이 되며, 이를 건조 후 Roll 단위로 포장이 됩니다. 다만 적정한 코팅 및 건조과정을 거쳐야하는 바 당사의 경우 철저한 제품검사를 통해 불량품을 줄이고자 합니다. 제품검사를 통과한 필름은 숙성실을 거친 후 제2차 제품검사를 통과 합니다. 통과된 제품은 고객의 요구에따라 분절되고 포장되어 출하 준비를 마치고 있습니다. pe, cpp 보호막 공법과정 4. 매출 및 수주상황 가. 매출현황 (단위: 톤, 천㎡, 천RMB) 항목명 제12기 제11기 제10기 수량 금액 수량 금액 수량 금액 포장필름 42,573 373,431 33,722 271,062 19,713 247,552 광학보호필름 352,108 1,659,722 616,316 1,604,816 272,907 664,632 광학접착필름 465,541 1,267,151 149,830 708,714 96,323 492,009 자동차필름 114,441 1,181,551 179,887 1,345,111 59,116 796,519 기타 16,762 92,367 74,771 111,936 24,247 109,824 합계 991,426 4,574,221 1,054,527 4,041,639 472,307 2,310,536 주) 포장필름의 매출수량 단위는 톤이며, 기타 제품의 매출수량 단위는 천㎡ 입니다. 나. 매출원가 (단위: 천RMB) 항목명 제12기 제11기 제10기 금액 원가율 금액 원가율 금액 원가율 포장필름 314,351 84.18% 248,493 91.67% 221,337 89.41% 광학보호필름 1,242,339 74.85% 1,329,474 82.84% 503,535 75.76% 광학접착필름 911,157 71.91% 588,527 83.04% 408,302 82.99% 자동차필름 857,223 72.55% 1,149,854 85.48% 639,715 80.31% 기타 66,940 72.47% 85,827 76.67% 92,592 84.31% 합계 3,392,010 74.15% 3,402,175 84.18% 1,865,481 80.74% 당사의 매출은 직접판매로 이루어지고 있으며, 업무는 다음과 같은 절차로 이루어집니다. . 고객 자료 수집, 정리 및 귀납. 고객에 대해 철저한 분석 진행, 시장 동향 정확히 파악 . 시장 조사연구 정기적 진행, 시장 정보 수집, 시장 동향, 특징과 발전 추세 분석, 시장 개척 . 마케팅 전략 확정, 판매 목표 구축, 판매 계획 작성 . 계획의 집행 상황 감독, 판매 추진 상황 즉시에 회사에 보고 . 고객과의 계약 심사, 주문 평가 및 가격책정 주도 . 시장 개척, 주문상담, 주문진행, 판매 후 관리 등 고객 관련 협상 담당 . 고객 수요 수집, 고객이 반응한 정보를 정확하고 온전하게 관련 부문에 전달. 또한 내부 관련 부문 처리 및 답변 정보를 고객에게 전달 . 생산계획에 따라 출고 계획 작성, 제품 출고 상황 추적, 물품 납기 요구 만족 . 제품의 운송과 세관업무 담당 . 애프터 서비스 업무에 참여, 고객 사용 후 감수 수집하여 정확하고 즉시적으로 회사에 전달 . 정기적으로 고객 만의도 조사 진행, 고객의 의견과 제안을 객관적이고 즉시적으로 반영 . 주문서, 계획, 물품준비 등 생산업무의 절차적인 진행을 확보하기 위해 정기(매주 또는 매월)적으로 생산판매회의 개최, 정기적인 재고 검토 회의 참여, 불량재고 소화 담당 . 시장 상황 및 판매 전략에 맞춰 신제품 개발 수요 제시 및 연구개발 진도에 따라 제품 개발 평가에 참여 . 고객과의 매월 정산 담당, 고객의 여신한도 및 매출채권 관리에 참여 . 판매 관리 제도, 업무 절차 작성, 실시 감독 . 판매 인력 교육, 평가 및 인재 육성 다. 수주상황 현재 당사 재무제표에 중요한 영향을 미치는 장기공급계약 수주거래는 없습니다. 5. 위험관리 및 파생거래 (1) 자본위험관리 연결실체의 경영진은 부채와 자본의 적절한 균형을 유지하여 주주들의 이익이 최대가 되고, 연결실체의 종속기업이 계속기업으로 유지될 수 있도록 회사의 자본구조를 관리하고 있습니다. 연결실체의 자본구조는 현금및현금성자산 차감 후 은행차입금, 특수관계자차입금, 금융리스부채 및 회사의 지배주주에게 귀속되는 자본 (자본금, 자본잉여금 및 이익잉여금)으로 구성되어 있습니다. 경영진은 정기적으로 자본구조를 검토하고 있으며, 이러한 검토의 일환으로 각 주식종류별 자본비용과 관련 위험을 고려하여 추가 차입 또는 기존 채무의 상환 등에 대한 자본의 전반적인 균형을 고려하여 의사결정을 하고 있습니다. (2) 재무위험관리 목적과 정책 연결실체의 주요 금융상품은 매출채권및기타채권, 매입채무및기타채무, 주주차입금,은행차입금, 현금및현금성자산을 포함하고 있으며, 상세한 내역은 각 주석에 있습니다. 이와 관련된 위험으로는 신용위험, 시장위험(이자율위험과 환위험)과 유동성위험이 있습니다. 이러한 위험들을 감소시키기 위한 정책은 다음과 같습니다. 경영진은 이와 같은 정책이 적시에 효과적으로 시행될 수 있도록 계속적으로 관리 및 감독하고있습니다. (3) 시장위험 1) \\xa0환위험관리 회사는 보고기간말 현재 USD, HKD 및 KRW로 표시된 외화표시 은행 예치금과 차입금을 보유하고 있습니다. 상기 모든 통화는 연결실체의 중요한 보유 외환으로 연결실체는 환위험에 노출되어 있습니다. 연결실체는 환위험을 헷지하기 위한 정책을 마련하고 있지 않습니다. 민감도분석 경영진의 의견으로는, 민감도분석은 환위험의 노출에 반영되지 않은 고유의 환위험은 나타내고 있지 않습니다. 2) \\xa0이자율위험관리 연결실체의 공정가치 이자율 위험은 주로 고정금리부 은행차입금과 관련되어 있으며, 현금흐름이자율위험은 주로 변동금리부 은행예치금 및 변동금리부 은행차입금과 관련되어 있습니다. 연결실체는 현재 이자율위험을 헷지하기 위한 이자율스왑거래를실행하고 있지 않으며, 경영진은 연결실체가 보고기간말 현재 이자율위험에 중요하게 노출되어 있지 않다고 판단하고 있습니다. 이자율 민감도 분석 아래의 민감도 분석은 보고기간말 현재 은행예치금 및 은행차입금이 회계기간 중 동일하게 유지되었다고 가정하고 작성되었습니다. 이자율의 5% 증가 또는 감소는 이자율 위험을 내부적으로 경영진에게 보고할 때 사용되는 기준이며, 합리적으로 변동가능한 이자율변동에 대한 경영진의 평가가 반영된 것입니다. (4) 신용 위험 계약상대방의 채무불이행으로 인하여 재정적 손실을 가져올 수 있는 연결실체의 신용위험에 대한 최대노출정도는 매 보고기간 종료일 현재 연결재무상태표에 표시된 기 인식된 금융자산에서 기인합니다. 연결실체의 신용위험은 매출채권에 편중되어 있습니다. 신용위험을 감소하기 위하여 연결실체의 경영진은 기한이 경과된 대출에 대한 후속조치를 명확하게 하기 위하여 신용한도의 결정, 신용승인과 기타 모니터링 절차에 책임이 있는 팀을 구성했습니다. 은행 예치금의 계약상대방이 편중되어 있으나, 계약상대방이 중국 정부 소유은행으로 신용위험은 제한적일 것으로 판단됩니다. (5) \\xa0유동성위험 유동성 위험을 관리하기 위하여 연결실체는 운용조달 및 현금흐름 변동위험을 완화시킬수 있는 정도의 현금및현금성자산을 유지하고 있으며, 경영진은 대출약관을 준수하고 차입금을 지속적으로 운용할 수 있도록 관리하고 있습니다. 만기구조 만기구조는 연결실체가 금융부채를 상환해야 하는 가장 이른시점을 기준으로 할인하지 않은 현금흐름에 기초하여 작성되었으며, 이자 및 원금 현금흐름을 모두 포함하고 있습니다. (6) \\xa0공정가치 연결실체는 금융자산과 금융부채의 공정가치를 할인된 현금흐름의 분석에 근거한 일반적으로 인정된 가격 결정 모델에 따라 산정하고 있습니다. 회사의 경영진은 각 연도말 금융자산과 금융부채의 장부가액이 공정가치에 근접한 상각후원가로 기록되고 있다고 판단하고 있습니다. 6. 주요계약 및 연구개발활동 강음통리광전과기유한회사는 전문 기술부를 설립하여 신제품의 연구개발을 담당하고 있습니다. 가. 연구개발 조직도 자회사 강음통리광전과기유한회사 연구개발부 나. 연구개발인력 현황 (단위: 명) 직위 제12기 제11기 제10기 기술총감 5 4 3 기술경리 7 6 4 RD엔지니어 31 23 18 RD보조 18 17 16 PE경리 2 1 2 PE엔지니어 19 4 4 품질경리 6 4 2 QA엔지니어 37 36 23 합계 125 95 72 다. 연구개발 비용 (단위: \\xa0RMB) 구분 제12기 제11기 제10기 비고 자산처리 - - - 전액 비용처리 비용 처리 판관비 199,278,744 79,091,212 44,728,500 - 급여 20,079,636 12,276,485 7,600,795 - 감가상각비 40,818,909 5,824,959 3,259,647 - 원재료 133,804,435 58,833,897 31,923,962 - 사무용품비 4,575,764 2,155,871 1,944,097 - 정부보조금 - - - 합계 199,278,744 79,091,212 44,728,500 - 매출액 대비 비율 4.36% 1.96% 1.94% - 라. 기술경쟁력 (1) 연구개발 실적 연구과제 연구기관 연구결과 및 기대효과 광학PE막 개발 통리기술부 상품화 실현/100여개 관련 제품 고객 수요 만족 육안식3D디스플레이 광학막의 연구개발 통리기술부 상품화 실현/30여개 휴대폰, 패드 제품 고객 수요 만족 CPP광학보호막의 최적화 통리기술부 상품화 실현/40여개 관련 제품이 고객 수요 만족 PU고무보호막의 연구개발 통리기술부 상품화 실현/10여개 제품이 고정적으로 고객 수요 만족할 수 있고 또한 고객 수요에 따라 융통성 있게 조정 가능 블루레이눈 보호막 R&D 통리기술부 블루레이눈 보호막 상품화 실현 고해상도 조절식 3D게임 광학막 R&D 통리기술부 & 청두전자과학기술대학교 연구과제 2의 기초 하에 한층 정밀화하여 상품화 실현 방폭필름 및 윈도우필름 통리기술부 상품화 실현 AB접착필름 통리기술부 상품화 실현 OCA 광학 접착제 필름 통리기술부 상품화 실현 폴리에틸렌 폼 양면 테이프 통리기술부 상품화 실현 폴리 우레탄 폼 양면 테이프 통리기술부 상품화 실현 고무성 필름 통리기술부 상품화 실현 3D글라스용 유연성 보호필름 통리기술부 상품화 실현 광확용UV 응고PE 이형필름 통리기술부 상품화 실현 배기CPP 실리콘 보호필름 통리기술부 상품화 실현 실버나노 전도필름 통리기술부 상품화 실현 내화 중공업용 무직필름 통리기술부 상품화 실현 TPU자동차칠면보호필름 통리기술부 상품화 실현 가구필름 통리기술부 상품화 실현 PVC자동차칠면보호필름 통리기술부 상품화 실현 알루미늄막 마찰 이형필름 통리기술부 상품화 실현 실내 모조 인테리어필름 통리기술부 상품화 실현 실외 내후성 인테리어필름 통리기술부 상품화 실현 나노탄소산열동박필름 통리기술부 상품화 실현 녹 방지 필름 통리기술부 상품화 실현 항균 보호 필름 통리기술부 상품화 실현 중공업용 난연(방염) 부직포 테이프 통리기술부 상품화 실현 위조 방지 테이프 통리기술부 상품화 실현 야외 내후성 인테리어 필름 통리기술부 상품화 실현 가구용 인테리어 필름 통리기술부 상품화 실현 OLED 곡면 글래스용 AB 접착 테이프 통리기술부 상품화 실현 나노탄산열동박테이프 통리기술부 상품화 실현 자동차인테리어필름（INS/IMD） 통리기술부 상품화 실현 글래스용 PET 프린트 결 장식막 통리기술부 상품화 실현 레이저 TV 빛저항 스크린 통리기술부 상품화 실현 MLCC 분리막 통리기술부 상품화 실현 셀프 인테리어필름(가구, 고속전철, 비행기, 공공시설) 통리기술부 상품화 실현 PU 폐공 포면 방수테이프 통리기술부 상품화 실현 일종의 5G 고주파 감지기용 저수축 큰두께 적체막 통리기술부 상품화 실현 일종의 적외금속 차단 보호 연막 통리기술부 상품화 실현 일종의 접히는 화면의 투명기재 자가 복구 HC 및 그 제조에 사용되는 방법 통리기술부 상품화 실현 레이저 투영에 사용되는 높은 대조도의 스크래치방지 스크린 막 통리기술부 상품화 실현 용제형 실리콘오일과 비용제형 실리콘오일의 혼합도포방식 통리기술부 상품화 실현 신형 고투명 훔쳐보기 방지 필름의 연구개발 통리기술부 상품화 실현 신축과 제거에 용이한 양면테이프 통리기술부 상품화 실현 캐스팅 연장법으로 폴리아미드필름 생산 통리기술부 상품화 실현 자가 회복 가능한 신형 PU 컬러변경 필름의 개발 통리기술부 상품화 실현 TPU기본소재 유연성3D곡면 유리내 방폭필름의 연구개발 통리기술부 상품화 실현 핸드폰 백커버 방폭필름 통리기술부 상품화 실현 접이식 스크린용 PU 양면테이프 통리기술부 상품화 실현 필름방폭필름 통리기술부 상품화 실현 OLED용 정전기 방지 분리막의 연구개발 통리기술부 상품화 실현 투영항광필름 통리기술부 상품화 실현 나노은전도필름 통리기술부 상품화 실현 PVD 단일층 구조 보호필름의 연구개발 통리기술부 상품화 실현 신형 반도체 산화물 전기변색 필름 생산제품의 제조 및 연구 통리기술부 상품화 실현 OLED 제조용 상하 보호필름 및 지지필름 통리기술부 상품화 실현 도전성 잉크를 인쇄하기 위한 보호 필름 통리기술부 상품화 실현 열경화형전도테이프 통리기술부 상품화 실현 차량용 반사방지필름 통리기술부 상품화 실현 편광판 보호필름용 이형필름 연구개발 통리기술부 2024년 2분기 상품화 예정 PVC를 대체할 재활용 및 재사용이 가능한 PETG 장식 시트 통리기술부 2024년 2분기 상품화 예정 상변화 에너지 저장 소재 통리기술부 2024년 2분기 상품화 예정 태양광발전용 고반사율 갭 스트립 통리기술부 2024년 2분기 상품화 예정 초음파 지문으로 잠금 해제할 수 있는 엿보기 방지 AB 접착제 통리기술부 2024년 2분기 상품화 예정 폴더플스크린용 OCA 광학접착제 통리기술부 2024년 4분기 상품화 예정 열 전도성 PI 감압성 테이프 통리기술부 2024년 4분기 상품화 예정 CPU 및 GPU용 열전도 및 방열 초박형 양면 접착 테이프 통리기술부 2024년 4분기 상품화 예정 회전 가능하고 휴대 가능한 PETG 홈 프로젝션 필름 통리기술부 2025년 2분기 상품화 예정 7. 기타 참고사항 가. 산업의 이해 (1) 영위하고 있는 사업 당사의 주요 사업영역으로는 정밀 코팅 기능성 신소재 및 고분자 박막자재 개발, 생산, 판매업무를 하고 있습니다. 정밀 코팅 기능성 신소재란 한 가지 또는 여러 가지 코팅 소재와 서로 다른 종류의 기자재로 정밀 코팅 복합을 진행하여 형성되는 것으로, 접착, 보호, 항균, 방폭, 방사선 방호 등 각종 기능성을 갖춘 신소재의 통칭입니다. 정밀 코팅 기능성 신소재는 크게 정밀 코팅 접착 소재 및 정밀 코팅 보호 소재, 기능성 코팅 소재, 고분자 박막 소재 4가지가 포함됩니다. 정밀 코팅 기능성 신소재는 기능성(항균, 방폭, 방사선 방호 등)을 갖추고 있고 접착 및 표면 보호 등의 기능을 가지고 있어 제품 각 항목의 요구와 사용 편의성 등 방면의요구를 보다 잘 만족시켜줍니다. 또한 정밀 코팅 기능성 신소재는 탁월한 사용 효과를 가지고 있어 전자제품, 자동차, 건축 에너지 절약 등의 분야에서 빠질 수 없는 필수 소재입니다. 정밀 코팅 기능성 신소재는 통상적으로 비교적 높은 기술적 함량, 비교적 효율적인 경제 효율, 비교적 강력한 시장 경쟁력을 지니고 있습니다. 또한 평면 디스플레이, 전자제품, 반도체, 자동차, 건축 에너지 절약, IoT 등 각종 영역에서 광범위하게 응용되고 있으며 점차적으로 웨어러블 기기 등 새로운 스마트 단말기, 로봇, 무인 자동차, 항공우주, 스마트 가구, 스마트 시티 등의 영역까지 뻗어나가고 있습니다. 고분자 박막 소재란 폴리머 또는 고분자 복합 소개로 만들어진 일정한 기능성을 지닌박막 소재로, 해당 타입의 소재는 일반적으로 높은 차단성, 제습성, 정전기 방지, 김 서림 방지, 열 수축, 개봉 용이성 등의 기능 및 성능을 가지고 있으며 주로 포장 및 보호 분야에 사용됩니다. (2) 제품설명 당사 제품의 용도 및 특징을 분류하면 다음과 같습니다. 제품명 제품 용도 특징 정밀코팅접착소재 OCA 광학 테이프 - 노트북, 휴대폰, PDA 등 터치스크린 접착에 활용 - 액정 디스플레이 부품 및 백라이트 부품 고정, OLED 부품 접착 - 전자 종이 및 투명 기자재 부착, 스크린 조립, 항공우주 또는 군사 광학 기자재 조립, 디스플레이 조립, 렌즈 조립, 패널, ICON 및 유리, 폴리카보네이트 등 플라스틱 소재 라미네이팅 - 유럽에서 수입한 설비를 사용하여 생산, 제품 표면이 깔끔함, 복굴절 없음, 뉴턴 원무늬 방지 - 눈부심 감소, 디스플레이 광도 증가, 투광률 향상, 에너지소비 감소 - UV 저항, 대비도 향상 AB 양면 테이프 강화유리 보호 스티커와 휴대폰 또는 PAD 액정을 라미네이팅할 때 사용 - 특수 공법을 사용하여 충격보호 처리, 효과적으로 외력을 방지하여 액정 화면의 손상 방지 - 특수 실리카겔 수지를 사용, 눌어붙지 않으면서 자동 흡착성을 지니고 있으며 배기성이 뛰어나 효과적으로 기포발생 방지 - 투광률 높음(92%) 방수, 방진 광학 양면 테이프 - 휴대폰 Window Glass 및 Case 라미네이팅 용도로 사용 -Touch Panel 및 LCD 모듈 고정에 사용 - 휴대폰 카메라/스피커/버튼 고정에 사용 - 방수성 우수, IP67수준 달성 - 리워커블(Re-workable) - 접착성 장시간 유지, 비교적 강력한 고정 능력 - 우수한 충격 흡수성 - 저독성(Toluene-Free) 차광 TSP 백보드 광학 양면 테이프 모든 휴대폰, Pad 등 제품에 사용, 백라이트와 Cell 사이를 접착하는 테이프 - 우수한 선광 차단 성능 - 특수 젤로 코팅하여 두께가 더 두꺼워져 방진효과 겸비 - 리워커블(Re-workable) - 우수한 가공 성능 플렉서블 디스플레이 분야 양면 테이프 모든 플렉서블 디스플레이 타입 제품의 라미네이팅에 적합한 테이프 - 정밀코팅보호소재 OCA 광학 이형필름 OCA 광학필름 제품 정후면에 사용하여 이형을 보호하는데 사용 - PE 광학 보호필름 - LCD 도광판, 디퓨저 필름 커팅 가공, 아크릴, PC, PET, 유리판재, 터치스크린 유리, 고광도 사출성형 케이스 보호용 - 정전기 방지형은 주로 LED 백라이트 모듈, 도광판 등의 고정밀도 전자 부품 보호용으로 사용 - 접착물 표면의 거침 정도에 따라 주문 제작형 박리력 설계 - 박리력 변화가 작아 라미네이팅 및 박리가 쉬움 - 두께 균등도 ±4% 이내 CPE 광학 보호필름 LED 백라이트 모듈의 BEF, 도광판, 광학유리 보호에 사용 - 일정한 강성도 및 내고온성을 갖추고 있으며 135℃의 작업환경에서 사용 가능 - 글루 프리, 박리력 변화가 적어 라미네이팅 및 박리가 쉬움 - 두께 균등도 및 공정점 요구가 높은 제품에 사용 CPP 광학 보호필름 - LED LED 백라이트 모듈의 BEF, 도광판, 광학유리 보호에 사용 - 노트북 케이스 및 광학유리 보호 - 일정한 강성도 및 내고온성을 갖추고 있으며 135℃의 작업환경에서 사용 가능 - 러버시멘트의 우수한 라미네이트성으로 굴곡이 있는 가공 제품에 적합 - 두께 균등도 및 공정점 요구가 높은 제품에 사용 PET 광학 보호필름 - 아크릴/PC/PET 등 시트의 표면 보호 및 고광도 스테인리스 보드/알루미늄 보드/도금 시트/전기도금 스위치 버튼 보호에 사용 - 휴대폰 렌즈, 터치스크린, 모니터 패널, ITO필름 가공 보호 - 터치형 휴대폰 화면 또는 태블릿 화면 보호, 스크레치 방지/지문 방지/눈부심 방지/반사 방지의 특수 기능 쉬운 박리, 정전기 방지, 글루 잔류 없음, 경화, 반사 방지, 지문 방지, 눈부심 방지 인쇄형 액정 보호필름 모든 휴대폰, Pad 등 제품에 사용, 백라이트와 Cell 사이를 접착하는 테이프 - 우수한 표면 인쇄 기능 - 리워커블(Re-workable) - 표면을 특수 처리하여 더 좋은 질감으로 제품의 부가가치를 향상시킴 웨이퍼 절단용 보호 필름 - LED 반도체 칩 절단 시 표면 보호에 사용 - 스테인리스 보드, 알루미늄 보드, 금속 라벨 등 가공 시 훼손 방지에 사용 - 유리 및 알루미늄 창틀 등 소재를 보호하는데 사용 - 접착 지속력 우수, 글루 잔류 없음 - 내고온성 - 우수한 가공성 내불산성 보호 필름 유리 에칭, 2차 강화, 절단 등 제조공정에 응용 - 우수한 접착성, 리워커블, 우수한 코팅력 - 150um의 소재 두께로도 지탱성이 우수하여 절단 및 라미네이팅 등 가공이 편리함 기능성 코팅 소재 3D 홀로그램 위조방지 필름 - 여권, 비자, 화폐, 우표, 인보이스, 통행증 등에 응용 - 식품, 주류, 음료, 담배, 의약품 등 분야에 응용 - 당사의 3D 홀로그램 위조방지 필름 기술은 미국 달러화 및 한국 한화에도 인용됨 - 미국 달러화 중간의 세로로 된 위조방지 띠는 인쇄한 것임 위조방지 띠 상의 숫자와 도안은 시각 변화에 따라 변화함. 맨눈 3D 필름 - 휴대폰, 태블릿, 컴퓨터, TV 스크린에 응용하여 2D/3D 방송 모드로 언제든지 변환 가능 - 기술 특허를 보유하고 있는 통리과기의 맨눈 3D 플라잉 필름, 2014년 국가 \"과학기술 성과\"로 평가됨 - 렌티큘러 렌즈 기술 사용, 양면 볼록 렌즈 또는 마이크로 렌티큘러 렌즈 3D 기술로도 불리며 가장 큰 특징은 광도가 영향을 받지 않는 다는 것임 블루라이트 차단 필름 - 노트북 컴퓨터, 휴대폰, PAD 등의 화면 보호 - 고에너지를 가진 단파 블루라이트, 자외선을 차단하여 시력 손상 감소 - 효과적으로 단파 블루라이트 차단(380nm~420nm), 80%에 달함 블루라이트 차단, 고흡착력, 고투광률, 경도 3H, 글루가 잔류하지 않음 고효율 방폭 필름 - 노트북 컴퓨터, 휴대폰, PAD 등의 터치스크린, 자동차, 건축물의 에너지 절약 등 응용분야에 사용 - 강화유리에 라미네이팅하여 비산 방지 - 공정 중 스크레치 방지 - 수분 및 염분 등 혼입 방지 - 우수한 표면 강도 - 우수한 광학적 특성(비교적 적은 무지개 현상) - 우수한 접착 특성 및 내산성 특성을 가지고 있어 부식되지 않음 인조소재 필름 - 노트북 컴퓨터, 휴대폰, PAD 케이스의 필름 내 장식용, 자동차, 가구, 고급 호텔의 커튼월에 사용 - 광학 시뮬레이션 기술 및 숙련된 몰드 가공기술에 성숙된 성형기술을 조합하고 접착제를 배합하여 시장에서 요구되는 각 종 도안 배합 및 개발 가능 - 도안 표면 미관, 내마모성, 내고온성 구축 - 다양한 도안, 커스터마이즈 가능 - 글루 분무도장으로 원가가 낮고 생산이 쉬움 항균 소재 - 노트북 컴퓨터, 휴대폰, PDA 등의 터치스크린, 자동차, 의료설비 등 항균 응용 분야에 사용 - 항균력 75%, 세균번식 억제 수 15억에 달함 - 필름 표면의 세균 서식 및 번식 방지 - 경화처리 후에는 생활 스크레치 방지 - 실리카겔 라미네이팅, 배기성 우수 - 투광률 90% 이상, 액정화면 선명함 유지 고분자 박막 소재 표면인쇄형 CPP 직접 인쇄에 사용하며 인쇄가 필요한 외장, 빵, 냅킨의 외장 등 상품 외부 포장에 응용 높은 기기 성능, 높은 편평도, 높은 투명도, 마찰 계수 ＜0.2 김서림 방지 CPP 야채와 과일 포장 및 온실용 필름, 육류품, 팽이버섯 포장 등에 사용하며 김 서림을 감소시켜 박막의 투명도를 증가시키고 포장 내용물의 매력을 향상시켜 구매력을 높여줌. 또한 포장 내용물의 보존율을 높여 식물 열량 및 숙성 파괴를 감소시켜 줌 무오염, 높은 편평도, 높은 통기성, 두께 균일 정전기 방지 CPP 가루약, 약품, 전자제품 등 포장에 사용 정전기 방지 효과 PE소재 필름 시리즈 -PE 무공정점 보호 필름 소재: 컬러 강판, 스테인리스 보드, 가전제품, 가구, 플라스틱 판재 표면 보호에 사용 - 무용제 복합소재: BOPP, PETP, LLDPE, OPA, NY, HL, CPP, COEX, FILM, PAPER 등 복합재질에 사용 - PE 차폐, 알루미늄 호일 복합 소재 필름: 전자제품 포장에 사용 우수한 평편도 및 공정점 제어 의약품 포장 시리즈 - PE-A-P 알약 포장 필름: \\xa0알약 자동 포장에 사용하며 포장기기의 정확한 위치 선정을 보장하여 위치 편차로 인한 약품 훼손을 방지 - PE-Y 가로방향으로 찢기 용이한 필름: 약품 포장에 사용하며 쉽게 찢을 수 있어 약을 간단히 꺼낼 수 있음. 가로방향으로 찢기 용이하고 우수한 히트실 (heat seal) 강도 및 부드러운 촉감을 가지고 있음 -PE 콘돔 필름: 콘돔 외부 포장 필름에 사용 방유성, 침투 방지, 찢기 용이함, 쉽게 파손되지 않음 식품 포장 시리즈 - PE-T 히트실 오픈이 용이한 필름: 좌약 약품 포장에 사용하며 히트실 후 우수한 밀봉으로 장기 보존의 약품 밀봉 요구를 보장함. 사용 시에는 완전히 오픈할 수 있으며 포장 필름이 파손되지 않음 - PE 오일포장 필름: 라면 포장에 사용- 캉스푸의 기름 봉지, 수프 봉지 포장 - PE 정전기 방지 포장 필름: 조미료, 분유, 두유가루, 유류 식품 및 약품 속포장에 사용하며 화학 시료제 속포장에도 자주 사용됨, 알루미늄 호일과 복합하여 비교적 자주 사용됨 방유성, 침투 방지, 무독무취, 찢기 용이함, 저온 히트실, 우수한 밀봉성, 쉽게 파손되지 않음 나. 시장 현황 (1) 시장의 특성 당사의 목표시장은 정밀 코팅 기능성 신소재 제품 및 고분자 박막 소재로서, 향후 발전 전략으로는 현재 제품보다 더욱 향상된 제품에 맞추어져 있습니다. 정밀 코팅 기능성 신소재제품은 단순한 식품 및 의약 포장 소재 등 생활소비재 전자산업부터 전자제품, IT 기기 등 IT 영역에까지 생활 전역에 밀접한 관련성을 가지고 있으며, 다원화된 신형 코팅 소재의 등장으로 IoT 시대의 스마트 라이프라는 사회 구조의 변화에 따라 그 시장의 다양성이 확대되고 있다고 볼 수 있습니다. 따라서, 당사의 목표 시장은 크게 생활소비재와 전자제품 및 IT 영역의 전자재료 시장으로 구분할 수 있습니다. 고분자 박막 소재 및 정밀코팅접착소재는 식품 및 의약, 기타 소비품 등의 연포장 재료의 주요 소재로서, 소비자의 제품의 안정성과 신뢰도에 대한 인식이 높아지면서, 전방산업 내에서 중요한 섹터로 자리잡고 있습니다. 식품 포장의 경우, 제품의 품질 보존율 등을 높여야 하는 기본적인 기능성 이외에 외형적 투명도 등 소비 구매를 불러일으킬 수 있는 디자인적 기능도 구현될 수 있어야 하는 바, 이미 단순 포장 기능 이상의 기술적 기능이 요구되고 있습니다. 최근 세계경제의 성장 기조가 둔화되어 저성장에 머물 것으로 예측되고 있고, 최근 10년간 고도 성장을 이어오던 중국의 경우에도 6% 대로 그 성장률이 둔화되고 있으나, 소비 문화의 구조에있어서는 소비 수준 및 의식, 요구 수준이 높아지면서, 생활소비재 시장에 있어서도 양적인 성장 외에 구조변화에 따른 질적인 성장으로의 턴이 이루어지고 있는 모습을 볼 수 있습니다. 더욱이 중국은 식품 및 의약 등 생활소비재 산업이 그동안 단순한 양적 성장 패턴에서 벗어나 소득수준 및 경제 규모에 걸맞는 고급화와 차별화가 이루어지고 있는 바, 완제품으로서의 완성도를 높이기 위한 포장물과 포장재의 수직적 산업발전이 필수적일 수밖에 없어 기능성 소재에 대한 수요 시장 성장 가능성은 높다고 볼 수 있습니다. (2) 시장 규모 및 전망 (가) 세계 기능성 코팅 및 필름 시장 세계 기능성 코팅 및 필름 시장 규모 및 전망 (단위 : 백만달러) 구분 2015 2016 2017 2018 2019 2020 2021 CAGR(%) 물리화학적 코팅 8,685 9,465 10,260 11,122 12,056 13,069 14,167 8.4% 광, 전자 및 열적 코팅 2,805 3,425 4,011 4,697 5,500 6,441 7,542 17.1% 전도성필름 51,945 55,010 58,256 61,693 65,333 69,188 73,270 5.9% 이형필름 1,466 1,612 1,773 1,950 2,145 2,360 2,596 10.0% 윈도우필름 690 918 1,239 1,673 2,259 3,050 4,118 35.0% 자료 출처: 중소기업 기술로드맵 2018-2020_화학 및 섬유소재 (중소벤처기업부 발간) 당사의 주력 제품인 정밀기능성신소재의 경우, 새로운 기술과 소재로 지속적인 발전을 하고 있어 세계 경기 변동과는 다르게 지속적인 성장세를 유지하고 있는 것으로 분석되고 있습니다. 단순 기술력을 요하는 제품군이 아니라, High-end 급의 전자 산업과 연관성이 있고, 스마트 제품 등 소비 구조 변화에 따른 시장 수요 변화와 연관된 특성상 단순한 경기 양적 변동보다는 시장 구조의 재편과 연관성이 높은 것에 기인한다고 볼 수 있습니다. 따라서, 향후에도 이러한 시장 특성이 반영되어 경기 변동과의 단순한 민감도는 상대적으로 타 저가제품군 대비 높지 않다고 볼 수 있습니다. 현재 세계 \\xa0기능성 코팅 및 필름 시장은 일본, 미국과 유럽의 다국적 기업이 시장을 주도하는 가운데, 상대적으로 작은 규모지만 고도의 기술을 보유한 한국, 대만, 중국 등이 뒤쫓아 가능 양상을 보이고 있습니다. 특히 중국은 전체 경제 구조가 전환기에 접어듬에 따라 향후 신기술분야 및 전략적 신규 산업 분야의 발전을 위한 투자 및 장려 정책을 강화할 것으로 예상됩니다. 이에 따라 당사의 전방산업인 플렉서블 디스플레이, 웨어러블 기기, 반도체, FPCB, 무인 자동차, 로봇, 항공우주, IoT, 스마트 가전제품, 스마트 시티 등 분야가 미래 중점 육성 산업이 되어 높은 성장을 할 수 있을 것으로 기대되고 있습니다. 정밀 코팅 접착 소재, 정밀 코팅 보호 소재, 기능성 코팅 소재, 고분자 박막 소재 등 정밀 코팅 기능성 신소재는 향후 전략적 신규 산업 및 첨단 기술 산업의 발전에 힘입어 동반 성장이 가능할 것으로 보입니다. (3) 시장 경쟁 현황 기능성 코팅 소재, 정밀 코팅 접착 소재와 정밀 코팅 보호 소재를 대표로 하는 정밀 코팅 기능성 신소재 분야는 기술 집약형 및 규모의 경제를 시현하기 위한 자금 집약형의 특성을 가지고 있어 신규 업체의 시장 진입장벽이 상대적으로 높은 산업에 속한다고 볼 수 있습니다. 업계에 새로 진출하는 기업은 비교적 강력한 자금력과 관리 및 기술 능력을 구비해야 하며, 또한 비교적 긴 시간을 할애하여 대형 고객의 구매 인증을 통한 순조로운 구매 및 판매망을 구축해야 합니다. 동 시장의 진입장벽을 각 요소별로 기술하면 다음과 같습니다. 구 분 내 \\xa0 \\xa0 \\xa0 \\xa0 용 기술력 정밀 코팅 기능성 신소재의 생산은 비교적 높은 기술 수준을 요구하며, 제품의 성능과 정밀에 대한 요건이 비교적 높습니다. 각 제품 응용은 정밀 코팅 기능성 신소재의 연구개발 생산에 대해서도 서로 다른 기술 요건이 있으며, 접착 소재의 화학성능, 물리성능, 사용환경 등에 따라 서로 다른 제품을 주문 제작할 필요가 있습니다. 동시에, 생산 속도를 가속화하고 생산 품질을 높이기 위해서, 업계 내의 기업은 매우 많은 시간을 할애하여 신설비를 연구제작하고 신공정을 모색하며 표준을 제정하여 신속하고 우수한 품질의 생산능력에 도달하는 것이 필요합니다. 이것은 주로 각 회사가 장악한 핵심기술의 수량과 질에서 구현됩니다. Down stream 기업의 설비, 기술, 생산 방식과 필요한 제품 종류가 각기 다르기 때문에, 박막 제품의 품질과 적용성에 대한 요건이 비교적 높습니다.충분한 자금을 투입하여야 다운스트림 수요에 적합한 제품을 생산할 수 있습니다. 제품의 품질과 적용성의 제고는 장기적인 기술 축적과 반복적인 실기를 필요로 합니다. 그러므로 장기적인 기술 축적은 정밀 코팅 기능성 신소재 생산기업의 생존과 발전에 있어 중요한 요소입니다. 또한 정밀 코팅 기능성 신소재는 신형 복합 소재 업계에 속합니다. 다운스트림 신흥 산업의 기술 변화가 급변하고 발전이 신속하기 때문에, 매우 강력한 기술 연구개발 실력을 갖추어야만 Down stream 산업의 발전을 따라가 Down stream 고객의 제품 수요를 만족시킬 수 있습니다. 그러므로 정밀 코팅 기능성 신소재 제조는 새로 진출한 기업에 대해 기술 요구가 비교적 높습니다. 업계 기술의 선진화와 특징은 주로 유연한 연구개발 모델, 생산설비의 주문제작과 선진화, 그리고 생산공정의 신뢰성과 선진화에서 구현됩니다. 기술 도입 문제가 존재하고, 업계 기술 장벽이 높아서 기술 도입이 용이하지 않습니다. 또한 새로 진출한 기업은 설비 주문제작에서 정상적인 운영까지 통상적으로 약 3년의 시간을 필요로 합니다. 자금 외에도 공정기술 문턱이 매우 높습니다. 또한 물자 등 측면에서 진출 기업은 고객 요구에 따라 각 제품의 주문 제작된 연구개발을 진행하는 것이 필요하며, 이런 과정에서 다량의 기초소재를 응용하게 됩니다. 단순한 구매에 의존한다면 성능과 품질이 고객의 요구를 만족시킬 수 없을 뿐만 아니라 원가가 비교적 높습니다. 그래서 물자 생산 공급업체도 비교적 높은 장벽을 형성하였습니다. 자금 능력 정밀 코팅 접착 소재와 정밀 코팅 보호 소재 업계의 경우 기업의 초기 비용 투입은 주로 생산설비 구매와 생산라인 건설에서 발생합니다. 현재의 정밀 코팅 기능성 신소재 업계 제품 생산은 대형 수입 설비, 고정밀 생산 및 코팅 설비를 많이 채용하고 있으며, 제어시스템 자동화 수준과 기술 수준이 높습니다. 모든 프로젝트는 거액을 투자합니다. 1세트 설비는 천만 위안, 특히 CPP기초소재의 정밀 코팅 기능성 신소재 분야는 초기에 억 위안을 투입하는 것이 필요합니다. 또한 정밀 코팅 접착 소재와 정밀 코팅 보호 소재의 클린 요건이 매우 엄격합니다. 공장 환경 건설에 대한 요건이매우 높으며, 고등급의 클린 생산 환경을 필요로 합니다. 동시에 원자재 원가가 비교적 높으며, 테스트 자체가 적지 않은 원가입니다. 또한 관련 제품 연구개발과 생산투입에 있어 원가가 비교적 높고 업계 자금 장벽이 높습니다. 체계적인 관리 운영 능력 최종 제품의 변화 속도가 가속화되고 업계 내 생산관리수준이 상승함에 따라 다운스트림 고객은 가능하면 최대한 재고를 낮추고 완벽한 생산을 진행할 것입니다. 그래서 다운스트림 코팅 기능성 신소재 업체가 신속하고 대량의 납품 능력을 구비할 수 있도록 요구합니다. 이런 추세는 정밀 코팅 기능성 신소재 업체로 하여금 매우 강력하고 신속한 대응 능력, 신속한 생산 능력과 업스트림 공급업체와의 협력 능력을 구비하도록 하였습니다. 고객의 주문서를 받기만 하면, 업체는 최단시간 내에 고객의 요구에 따라 필요한 샘플을 연구개발하여 제품을 양산해야 합니다. 제품의 우수성의 높고 낮음은 단위 제품의 원가와 역비례 관계를 이룹니다. 우수성이 높을수록 단위 제품의 원가는 낮습니다. 업계 내 회사가 생산관리수준이 충분하지 않아 우수성이 낮으면 그 생산한 제품은 시장에서가격경쟁력을 갖지 못합니다. 결론적으로, 정밀 코팅 기능성 신소재 업계의 특징은 업체의 관리능력과 경험에 상당히 높은 요구를 제기하였으며, 이후에 진출하는 업체에 대해도 관리 능력 장벽을 구성하였습니다. 시장 내 인지도: 수요처 구매 인증 등 정밀 코팅 기능성 신소재 업계의 거액 주문서는 일반적으로 평판 디스플레이와 전자제품 등 분야의 대형 외자 혹은 글로벌 기업에 집중됩니다. 최종고객은 매우 엄격한 원자재 검사를 진행합니다. 이런 우수한 고객의 공급업체 대열에 진입하려면 일반적으로 장기적이고 엄격한 인증 과정을 겪어야 합니다. 따라서, 업계 특성상 오랜 기간 시장 내에서 검증된 업체를 선택하고자하는 보수성이 존재할 수 밖에 없습니다. 일반적인 과정은, 정밀 코팅 기능성 신소재 업체는 연합 개발, 샘플발송 등 방식을 통해 자신 혹은 슬리팅 업체의 브랜드 최종업체 소개와 추천을 통해 브랜드 최종업체가 정밀 코팅 기능성 신소재에 대한 인증을 진행합니다. 인증을 통과하기만 하면, 해당 소재의 특성 매개변수는 해당 원자재구매 시의 규범 요건으로 설정됩니다. 인증 과정에서 회사 제품의 품질, 가격, 납기에 대해 요건이 비교적 높은 것 외에도, 회사의 설비, 환경, 내부제어시스템, 재무상황 심지어 사회적 책임에 대해서도 비교적 높은 표준을 설정합니다. 그러므로 다운스트림의 우수한 대형 고객의 인증을 통과하여 합격하거나 우수한 공급업체가 되기만 하면, 일반적인 상황에서 이런 업·다운스트림 협력은 비교적 안정적입니다. 새로 진출한 업체의 경우, 우수한 대형 고객의 주문서를 확보하여 중·고급 시장에 진출하는 것은 상대적으로 어려우며, 대형 고객 구매 인증 장벽이 존재합니다. (4) 경쟁업체 현황 (가) 정밀 코팅 접착 소재 분야 중국내에서 정밀 코팅 접착 소재 업종은 3M, TESA, NITTO DENKO과 Soken Chemical 등 선도적인 기업과 더불어 중국 내 기업들이 경쟁을 하고 있는 구조를 이루고 있습니다. 시장내 주요 경쟁 기업의 현황은 다음과 같습니다. 기업명 기업 현황 기술 수준 등 주요 비교 사항 3M 3M사(정식명칭: Minnesota Minningand Manufacturing)는 1902년에 설립되었습니다. 본사는 미국 미네소타주의 세인트폴시에 있으며 세계적으로 유명한 제품이 다원화된 글로벌기업입니다. 3M사는 100여년 동안 6만여 고품질 제품을 개발하여 운송, 건축에서 비즈니스, 교육과 전자, 통신에 이르기까지 각 분야에서 광범위하게 응용되고 있습니다. 3M의 정밀 코팅 기능성 신소재 제품은 품목의 포토폴리오가 구비되어 있어 시장의 다양한 needs를 적시에 충족시킬 수 있는 경쟁 우위를 가지고 있다고 판단됩니다. 주요 제품으로는 양면 테이프 소재, 표시 소재, 차폐 소재, 포장 소재, 보호 소재 등 소재 산업의 전분야를 포괄하고 있는 것으로 알려져 있습니다. 3M 중국유한회사는 1984년 11월 상하이에 설립되어 경제특구 밖에 설립된 중국 최초 외국인독자기업입니다. 3M사는 중국에 12개의 회사, 11개의 생산기지, 27개의 오피스, 4개의 기술센터와 1개의 연구센터를 설립하였습니다. 정밀 코팅 기능성 신소재 업계에 있어서 업력 및 브랜드 파워, 인지도 등에 있어 높은 상대적 우위를 가지고 있습니다. 오랜 업력에 걸맞게 다양한 제품 포트폴리오를 구비하고 있는 강점을 가지고 있지만, 그 중에서도 OCA광학 접착 기술은 전 세계적으로 앞서 있는 분야라는 평가를 받고 있습니다. TESA TESA테이프회사는 공업, 소매상과 소비자에게 정밀 코팅 기능성 신소재 제품과 시스템 솔루션을 제공하는 세계 선두 제조업체 중 하나입니다. TESA는 Beiersdorf회사의 전액출자 자회사입니다. 제품은 전 세계 100여개 국가에서 판매되고 있으며, 1995년 중국 시장에 진출하여 1999년 독자회사를 설립하였습니다. TESA의 중국 본사 TESA테이프(상하이)유한회사는 북경, 광저우, 심천 등지에 지사와 오피스를 설립하였다. 코팅 소재의 기술 역량은 세계적으로 선두권을 형성하고 있으며, 일부 테이프 분야는 선두를 유지하고 있습니다. 현재 TESA가 생산한 제품은 이미 전기공사와 전자, 자동차, 인쇄 및 제지와 제약, 태양에너지와 풍력에너지, 보안 응용 및 위조방지의 기타 산업에서 광범위하게 사용되고 있습니다. NITTO DENKO NITTO DENKO주식회사는 1918년 10월 25일 설립되었습니다. 본사는 일본 오사카 이바라키시에 위치한 글로벌기업입니다. 전 세계에 매우 많은 생산공장과 연구기관을 두었으며, 전 세계에 100개 이상의 지사를 보유하고 있습니다. NITTO DENKO은 고분자 합성기술, 접착기술과 코팅기술을 바탕으로 각종 첨단기술을 응용하여 새로운 성능의 신소재를 개발하여 고성능 박막 등 제품을 생산하였습니다. NITTO DENKO는 1985년 중국에 진출하였으며 1995년 처음으로 중국 상하이에 공장을 설립하였습니다. 2002년 설립한 NITTO DENKO(중국)투자유한회사는 그룹의 중국 지구 본사입니다. NITTO DENKO는 중국의 북경, 상하이 송강, 상하이 푸동신구, 하문, 홍콩, 심천과 대만에 지사를 설립하고 습니다. NITTO DENKO는 세계적으로 가장 앞선 \\xa0생산설비와 공정절차, 연구인프라를 보유하고 있는 것으로 알려져 있습니다. NITTO DENKO의 정밀 코팅 기능성 신소재 중 양면 테이프, OCA광학 테이프 분야의 기술은 매우 앞서 있습니다. NITTO DENKO의 제품 품질은 3M, Soken Chemical, Hitachi Chemical과 어깨를 나란히 하고 있습니다. (나) 정밀 코팅 보호 소재 분야 중국의 광학 보호막 분야에 있어 주요한 생산기업은 당사를 포함하여 DAMEI, SIDIKE, BYE 등이 있습니다. 이중에 당사 및 SIDIKE와 DAMEI는 각 세분 제품에서 경쟁 우위를 가지고 있습니다. 웨이퍼 절단용 보호막, 항불화수소산 보호막 CPP광학 보호필름 분야에서 당사는 중국내에서 절대적인 우위를 차지하여 이미 시장 평균 수준을 선도하였으며 업계를 리더하고 있습니다. PET광학 보호필름에 있어 SIDIKE, DAMEI, BYE 등 기업의 점유율이 비교적 큽니다. OCA이형필름에 있어 국제시장은 SKC, 후지모리, 율촌화학과 DuPont Teijin 등 4개기업이 독점하고 있습니다. 이들 4개 기업의 점유율은 90%를 넘습니다. 현재 이 분야에서 당사는 기본적인 기술적 장벽은 극복한 상황이며, OCA이형필름 생산에 착구한 상태입니다. 이것은 중국의 국가 산업 측면에세도 수입 대체의 효과를 가져온 것으로 평가될 수 있습니다. 기업명 기업 현황 기술 수준 등 주요 비교 사항 소주SIDIKE 신소재 과학기술 주식유한회사 2006년 설립되었으며 주요 제품은 전자, 자동차, 건축 등 3대 영역을 커버하고 있습니다. 제품 규격은 천여 종에 이르러 자체적인 기술 우위를 통해 고객에게 고품질, 고성능의 정밀 코팅 소재 제품과 기술 솔루션을 제공하고 있습니다. 회사는 장쑤성 첨단기술기업에 속하며 정밀 코팅 보호 소재 측면 기술은 국내에서 선두권을 형성하고 있습니다. 광동DAMEI 신소재 유한회사 광동DAMEI신소재유한회사는 1983년에 설립된 국가급 첨단기술기업으로 표면 보호 시리즈 정밀 코팅 보호 소재를 전문 연구개발 생산하고 있습니다. 제품은 자동차 보호 필름, 심 가공 보호 필름, 고급 전자 보호 필름, 건축류 보호 필름, 보호용지가 있습니다. 전자, 의료, 화공, 교통운송, 건축, 통신, 반도체 제조와 항공우주 관련 분야에 고품질 제품과 업계 선두의 기술 솔루션을 제공합니다. 지금까지 24년 동안 표면 보호 시리즈 제품의 개발과 생산 경험을 보유하여, 회사는 표면 보호 제품 분야에서 풍부한 경험을 쌓았습니다. 고급 엔지니어, 박사, 석사로 구성된 실험, 분석, 검측, 기술팀이 표면 보호 제품 분야에서 풍부한 경험을 쌓았고, 동시에 유명한 대학교와 함께 과학연구 프로젝트협력을 진행하였습니다. 자체적으로 연구개발을 성공한20여 건의 발명특허를 획득한 상태입니다. 소주 TAILUN 전자소재 유한회사 소주 TAILUN전자소재유한회사는 2008년에 설립된 정밀 코팅 보호 소재 전문 생산 기업입니다. 주요 제품은 PET 보호 필름, PP보호 필름, 정전기 방지 보호 필름, 자동 흡착 보호 필름, 실리콘 접착 보호 필름, 초저 접착 보호 필름, 저접착 보호 필름, 중고 접착 보호 필름 등이 있으며, 전자제품과 LCD액정디스플레이 보호, EPE보호, 따내기(Die cutting) 보호, 플라스틱 재질 보호, 금속 재질 보호 등 분야에서 광범위하게 응용되고 있습니다. TAILUN 보호 필름 브랜드 제품은 주로 수입 원자재와 선진 설비를 채용하여 첨단기술 심 가공 제조를 통해 제작하며, 시리즈 공업과 광전 디스플레이 IT업용 보호 필름을 커버하고 있습니다. 회사는 정밀 코팅 보호 소재 분야에서 다년간 제품연구개발 경험과 전문 기술을 보유하고 있습니다. 또한 세계의 선진적인 디지털화 코팅 전문 설비를 채용하고 있으며, 10세트의 세계 일류의 코팅 전자동 코팅 생산라인과 실험라인, 32,000평방미터의 공장을 보유하고 있습니다. 곤산Boyixincheng 고분자소재 유한회사 Boyixincheng고분자소재유한회사는 2001년 심천에 설립하였으며, 본사는 2007년 장쑤성 곤산시 고신구에 자리잡고 있습니다. 또한 연구, 생산, 판매를 통합한 곤산 Boyixincheng고분자소재유한회사, 곤산시 Boyixincheng 고분자소재유한회사를 설립하여 기능성 박막소재와 코팅기술의 연구 및 생산에 최선을 다하는 국가 횃불계획 중점 첨단기술기업입니다. 현재 제품은 소비류 전자 업계의 액정화면/터치스크린/인쇄회로 산업 분야에 공급되고 있습니다. 집약형 기능성 박막 소재와 고급 코팅형 박막 소재기술의 경우 국내 동종 업계에서 기술 혁신에서 앞서고 있습니다. 발명 특허로는 클린 먼지접착롤러, 제조방법 및 정척 절단 롤링기, 무광택 클린 롤러제조방법, 먼지접착롤러 및 제조방법, 감압접착제 및 그 제조방법과 해당감압접착제 응용 보호 필름, 평면디스플레이 제조공정용PET보호 필름, 평판디스플레이 제조공정용PET보호 필름 생산방법, 평판디스플레이 제조공정용PET보호필름의 감압접착제 및 생산방법, 핫멜팅 감압접착제와 보호필름과의 제조방법이 있습니다. 삼지플라스틱 제품(곤산) 유한회사 삼지산업주식회사는 1989년에 설립되었습니다. 삼지산업 주식회사는 현재 정밀 코팅 보호 소재를 생산하는 한국 최대 공장 중 하나입니다. 2002년 11월 중국에 중국 지사인 삼지플라스틱제품(곤산) 유한회사를 설립하여 PE, PET, CPP, EVA 등 보호 필름 등 제품을 전문 생산 가공하고 있습니다. 삼지는 현대식 생산설비를 채용하고 있으며, 한국에서는 클린 시스템을 적극적으로 사용하고 있습니다. 회사는 삼지산업주식회사의 정밀 코팅 보호 소재 분야에서의 생산 경험에 의존하여, 현재 기술 수준은 국내에서 비교적 높은 수준에 있습니다. (다) 기능성 코팅 소재 분야 기능성 코팅 소재는 주로 3D필름, 안티 블루 필름, 에너지 절약 방폭 필름, 모방 소재필름 등 소재를 포함합니다. 현재 국내 기능성 코팅 소재 업계는 신흥 발전 세분 분야에서 출발하여, 발전 단계에 있어 본격적인 성장 단계에 접어 들고 있습니다. 또한 Down stream 응용 시장의 잠재 시장 규모가 방대하여 시장 발굴이 기대됩니다. 현 발전 단계에 있어 업계 경쟁은 치열하지 않으며 시장 내 기업도 상대적으로 낮은 편에 속합니다. 현재 시장 내에서 당사 외에 Kangdexin복합소재주식유한회사가 육안 3D필름, 에너지 절약 방폭 필름에 있어 연구개발과 생산을 시작한 단계입니다. (라) 고분자 박막 분야 고분자 박막 업계 발전 단계에 있어 성숙기에 접어듬에 따라 업계 경쟁에 있어 규모의경제와 더불어 기술력이 중요한 경쟁요인이 되고 있습니다. 선두기업이 풍부한 자금,안정된 생산 및 혁신능력을 구비하였기 때문에 위험대처능력과 규모경쟁 우위가 갈수록 뚜렷해지고있습니다. 기업명 기업 현황 기술 수준 등 주요 비교 사항 장수쌍성 컬러플라스틱 신소재주식 유한회사 장쑤쌍성컬러플라스틱신소재주식유한회사는 1997년에 설립된 과학 연구, 포장 소재 가공, 수출입 무역을 통합한 국가급 첨단기술기업입니다. 각종 포장 박막과 복합포장소재, 기능성 고분자 신소재 등 시리즈 제품을 주로 경영하고 있습니다. 회사는 4개의 생산 공장을 보유하고, 현재 수입 도금 필름 설비 5개, 다양한 수입 폴리에스테르 박막 생산라인을 보유하고 있으며, 신형 기능성 폴리에스테르 박막 20만톤, 알루미늄 도금 필름 1.5만톤을 연간 생산합니다. 또한 수축필름 1만톤을 연간 생산하며, 수축율은 50%를 넘습니다. 회사는 국가급 첨단기술기업으로 포장 필름 분야 기술에 있어서는 중국내에서 선두권에 속해 있습니다. 절강대동남 포장주식 유한회사 절강대동남포장주식유한회사는 2000년에 설립되었으며 중국 절강대동남그룹에 속한 회사입니다. 모회사 대동남그룹은 1975년 설립되어 절강 대동남그룹유한회사가 주요 발기인으로 중국 포장 수출입 총회사 등 7개 발기인과 공동 발기하여 설립하였습니다. 회사는 주로 플라스틱 박막과 전기 도금 필름을 생산합니다. 회사의 기술력에 있어서는 시장 내에서 그 경쟁력을 인정받고 있으며, 모회사 설립 이후 최근 40년 동안 박막 생산 업력을 통해 풍부한 생산 경험을 쌓았으며, 산업체와 연구기관 협력의 개방식 기술 경영 플랫폼을 구축하여 연구개발 혁신 능력을 높힌 것으로 평가받고 있습니다. 불산Dupont Hongji박막 유한회사 불산DuPont Hongji박막유한회사는 DuPont Teijin박막중국유한회사와 불산 Fosu과학기술그룹주식 유한회사가 합자하여 설립되었으며, 현재 국내의 생산 판매 규모가 최대이고 세계 일류 기술 수준을 갖춘 양방향 인장 폴리에스테르 박막 생산기업 중 하나입니다. 녕파에 자회사 녕파 DuPont Teijin Hongji박막유한회사를 설립하였습니다. 회사는 국제 선진 수준인 7개의 생산라인을 보유하고, 가장 완벽한 차별화된 폴리에스테르 박막 산업 구조를 갖추고 있습니다. 회사의 제품은 포장 필름, 공업 필름, 전자 소재, 영상 필름, 특종 필름, 자성 소재 등 6가지로 분류되고, 포장, 공업, 전자, 전기 등 용도에 광범위하게 사용되고 있습니다. 회사는 글로벌 기업의 현지법인으로서 조직 체계 및 시스템 등에 있어 선진화된 체계를 구축하고 있으며, 박막 분야 기술에서 앞서 있는 것으로 평가되고 있습니다. (5) 비교우위 사항 (가) 기초소재 및 설비 우위 기초소재 측면에서 당사의 정밀 코팅 기능성 신소재 업스트림 원자재는 주로 PE, PP, PET 등 플라스틱 재료, 원 필름 소재 및 접착제입니다. 특히 원 필름 소재와 접착제 배합 측면에서 2가지 우위를 갖는 기업 경쟁력이 뚜렷합니다. 통리광전은 10여 년의기초소재 필름 생산 경험을 바탕으로 원 필름을 자체적으로 생산하였습니다. 또한 각종 기초 박막을 주문제작하며 성능이 독특한 배합은 고객의 수요 만족도에 있어 상대적으로 높은 우위를 가지고 있다고 판단됩니다. 동시에 당사는 접착제 배합 연구제작을 진행하고, 친환경 고분자 접착제 설계, 합성 및 접착배합 기술의 연구 및 혁신을 통해 각종 성능의 접착제 기초소재를 형성하고 있습니다. 설비 측면에서 당사의 공정 배합은 상대적으로 높은 경쟁력을 가지고 있습니다. 독일, 한국으로부터 수입한 수 대의 흡입막(Blow Membrane), 캐스트(Cast)와 코팅 생산라인을 구비하고 있습니다. 당사는 18대의 흡입막 설비, 4대의 캐스트설비, 21대의 정밀 코팅 설비를 보유하여 정밀 코팅 업계 모든 제품의 생산 수요를 만족시킬 수 있습니다. 당사의 제 2공장은 2016년 10월부터 본격적인 양산에 들어갔습니다. 회사의 코팅 설비는 모두 주문제작 설비이며 원 필름, 접착제와 연결하여 제품의 품질을 더욱 보증할 수 있습니다. 당사는 다년간의 코팅 경험을 보유하고 있고 다층 코팅 제품은 1차 성형을 실현할 수 있습니다. 또한, 당사는 대대적인 투자를 통해 일본의 클린 관리 시스템을 도입하여 100만급 클린 시스템 작업장을 건설하였습니다. 생산 작업장은 제품 요구에 따라 온도와 습도를엄격히 제어하여 생산 환경을 최적화하고 있습니다. 당사는 2003년 ISO9001:2000 국제 품질관리시스템 인증과 ISO14001-2004국제 환경관리시스템 인증을 통과하였으며, ISO9001과 ISO14000을 기본 모델로 하여 회사의 품질과 환경 시스템을 구축,시장조사연구, 제품설계, 보조소재 구입 입고에서 제품 출고까지, 모든 단계별로 상응하는 과학적이고 엄격한 조작 규범과 관리 요구를 수행하고, 여러 단계의 범위별 내부 품질시스템 심사를 통해 그리고 각종 수입 정밀 기기를 보조로 하여 각 검사검측을 진행하여 제품의 품질을 보장하고 있습니다. \\'통리\\' 브랜드 시리즈 정밀 코팅 기능성 신소재 제품은 SGS검측을 통과하였으며, 환경보호 측면은 국제 표준에 부합하고 잇습니다. (나) 기술 및 연구개발 우위 당사는 성도 전자과학기술대학교, 소주 대학교 등 대학교와 장기적으로 산학연 협력을 진행하여 필름 소재 연구를 진행하고 있습니다. 통리광전은 성시(省市) 두 급의 프로젝트 공정 기술 연구센터 \\'장쑤성 평판디스플레이 기능성 광학 테이프 공정기술연구센터\\'와 \\'무석시 평판디스플레이 기능기술연구센터\\'를 설립하였으며, 국가급의 성능테스트실험실을 보유하고 있습니다. 또한 2014년 국가급 정밀 코팅 기능성 신소재 연구센터를 설립하였습니다. 당사는 국가 횃불계획의 여러 항목의 프로젝트, 국가 중점 신제품 및 성급 고급제품의 여러 항목을 수주하여 각종 기술상을 수상하였으며, 다수의 특허를 보유하고 있습니다. 당사는 정밀 코팅 기능성 신소재 분야에서 풍부한 생산 경험이 있으며, 다년간의 정밀 코팅 기술력을 보유하고 있습니다. 장기적인 기술 축적, 방향성 있는 연구 능력을 통해 높은 대량, 다양화, 주문제작 생산이 가능합니다. 당사는 시장의 정밀 코팅 국제첨단기술에 대한 수요를 만족시키기 위해, 국내외 기술과 인재를 지속적으로 유치하고, 여러 지역에 여러 업계 선두기업과 함께 공동으로 연구개발센터를 설립하여 기능성 신소재 연구를 진행하고 있습니다. 향후에도 다른 지역에서 관련 연구기관 설립을통해 첨단 제품 연구개발을 진행할 것입니다. 당사는 임베디드 연합 연구 모델을 채택하여 적용하고 있습니다. 다운스트림 고객은 대부분 전략적 신흥 세분 산업, 예를 들어 항공우주, 신에너지 자동차, 로봇, 사물인터넷, 스마트홈 등 분야의 과학기술 수준과 기술 집약형 업계에 속합니다. 제품 기술은 변화가 빠르고, 업계의 파급효과가 매우 높습니다. 업계 내에 연구개발 실력이 있는 기업 대다수는 유연한 연구개발 모델을 채용하여 업계 특징을 적응하고 다운스트림 고객 제품 설계에 깊이 관여하여 제품의 선발 우위를 갖습니다. 당사는 매년마다 영업수입 5%의 경비를 제품 연구개발에 투입하고 있습니다. 또한 인보그룹산업군과 기타 이미 관계를 구축한 고객 기업을 중심으로 시리즈 정밀 코팅 기능성 신소재 제품을 주문제작 개발하고 있습니다. 그래서신속하게 각 제품에 응용하여 생산방향을 확정하여 회사의 모든 제품의 발전을 촉진시키고 있습니다. 연구개발 혁신 능력, 개성화 제품은 신속한 반응 능력을 필요로 하며, 기업의 계속성에 있어 중용한 영향을 미치는 요소입니다. 다운스트림 신흥 업계 고객의 신속한 변화의 시장 수요에 직면하여, 유연하고 신속한 반응의 연구개발 메커니즘을 구비해야만 시장에서 생존할 수 있습니다. 당사와 다운스트림 고객이 연합하여 제품의 연구개발을 진행하고 시장 반응에 유연해야 고객과 함께 신형 주문제작 제품을 공동 개발하고 고객의 특수 수요를 만족시킬 수 있을 것으로 판단하고 있습니다. (다) 제품 및 종합 서비스 우위 당사는 다년간의 발전을 통해 정밀 코팅 접착 소재, 정밀 코팅 보호 소재, 기능성 코팅 소재, 고분자 박막 소재 등 분야에서 선진적인 우위를 갖는 정밀 코팅 기능성 신소재 종합 솔루션 공급업체로 성장하였습니다. 응용 분야는 평판디스플레이, 소비전자,자동차, 연성 플라스틱 포장 및 건축 에너지 절약 등 분야이며, 웨어러블 스마트 설비류 소비전자, 플렉시블 소비전자제품, 사물인터넷, 로봇, 항공우주, 스마트홈, 스마트도시 등 영역까지 연장됩니다. 당사는 고객에게 전방위의 정밀 코팅 기능성 신소재 제품 서비스를 제공할 수 있습니다. 정밀 코팅 기능성 신소재는 선진적인 설비, 새로운 코팅 공정을 채용하고, 제품 코팅의 시스템 솔루션을 제공합니다. 특히 현대 신형 소재의 끊임없는 혁신과 공정의 상승에 대응하여 정밀 코팅 기능성 신소재는 더욱 새로운 제품과 기능 지원 제공에 필요하며, 이렇게 해야 시장에 진출하여 안정적인 시장 지위를 점할 수 있습니다. 정밀 코팅 기능성 신소재가 기술 축적, 원료 공급 분야 통합, 생산공정 통합 등으로부터 규모 효과를 구비하여야 시장 수요와 상호 지원하고 상호 호응하는 최적화 효과를 볼 수 있습니다. 중국내 대부분 기업은 기술력과 자금력이 부족하기 때문에 일부 정밀 코팅 기능성 신소재를 제공할 수 없습니다. 또한 다운스트림 대형 제조업체의 전체적인 정밀 코팅 기능성 신소재 수요를 만족시킬 수 없습니다. 당사는 다년간의 코팅 제품의 신속한 발전을 거듭하며지금은 다종 모델, 다양한 규격, 다용도의 정밀 코팅 기능성 신소재를 생산할 수 있습니다. 기본적으로 소비전자, 자동차, 건축 에너지 절약, 사물인터넷, 로봇, 항공우주에 필요한 대부분의 소재를 커버할 수 있습니다. 동시에 자체적인 연구개발 우위를 이용하여 최신 공정기술 연구개발 성과를 최신 제품에 융합할 수 있으며 고객에게 \\'원스톱\\' 종합 솔루션을 제공할 수 있습니다. 결론적으로, 당사 제품 구조 우위는 뚜렷하고, 동시에 종합 서비스 능력은 매우 강력한 경쟁 우위를 갖습니다. (라) 경영 및 관리 우위 당사는 세계적인 브랜드 제품을 대체하는 발전 전략을 세우고 구체적인 실현을 위해 집중적인 투자를 하고 있습니다. 중국 소비전자, 자동차, 건축 에너지 절약, 로봇, 항공우주, 사물인터넷, 스마트홈, 스마트 시티 등 분야의 정밀 코팅 기능성 신소재는 여전히 높은 수입 대체 여력이 존재하기 때문에, 당사는 대체 기업으로서의 지위를 점하기 위해 노력을 하고있습니다. 당사의 관리층은 많은 정밀 코팅 기능성 신소재 업계 경험, 기술연구개발 경력을 구비하고있습니다. 업계 발전 특징과 추세에 익숙하여 시장 발전 동태를 신속하고 정확히 파악할 수 있으며, 시장 상황에 따른 대처능력이 높아 시장 수요에 부합하는 제품을 시장에 출시하고 있습니다. 이 밖에도, 당사는 고객 수요 개성화와 제품 품종 다양화 특징에 따라 선진적인 ERP관리소프트웨어를 응용하여 생산을 합리적으로 배치하였습니다. 생산 능력을 최대한 이용하여 생산 효율을 높이고 생산 소모를 낮추었습니다. 동시에 당사는 고객의 비포서비스와 애프터서비스에 대한 관리에 역점을 두고 있습니다. 이것을 직원의 성과관리와 장려의 범위에 포함시켰으며 고객 만족도를 크게 높이고자 하고 있습니다. 당사는 다년간의 발전을 거듭하며 각계로부터 인정을 받고 있습니다. 또한 \\'장쑤성 첨단기술기업\\', \\'장쑤성 민영과학기술기업\\', \\'AAA급 신용기업\\', \\'무석시 첨단기술기업\\', \\'강음시 정보화 및 공업화 융합 시범기업\\', \\'중국 유명 브랜드\\' 등 영예 칭호를 받았습니다. 동시에 제품은 \\'국가 과학기술성과상\\', \\'국가 중점 신제품\\', \\'국가 횃불계획산업화 시범 프로젝트\\',\\'장쑤성첨단기술제품\\', \\'무석시 과학기술진보상\\' 등 제품 인증을 획득하여 국가급 재정 보조와 세수정책 혜택을 받았습니다. (마) 마케팅 우위 당사가 위치한 장강삼각주 지역은 경제 발전이 빠르고 전 세계 제조업이 모여있는 지역입니다. 양호한 산업 환경은 정밀 코팅 기능성 신소재 제품의 마케팅 진행에 양호한 환경을 제공하여 마케팅 우위를 갖도록 긍정적인 영향을 제공하고 있습니다. 당사는 전 세계 최고의 광전업계 소재 업체, 생산업제와 투명한 전략 마케팅 협력을 형성하였고, 기술협력을 통한 공급수요망을 구축하였습니다. 또한 고객에게 애프터서비스를 긴밀히 제공합니다. 장쑤, 광동, 대만, 한국도 서비스망을 두어 고객에게 가장 빠르고 좋은 서비스를 제공할 수 있습니다. 당사는 설립 이래로 고객중심의 서비스 이념과 우수한 제품 품질, 신속한 애프터서비스로 인한 시장 파악을 통해 정밀 코팅 기능 신소재 업계에서 양호한 시장 명성을 얻었습니다. 현재 당사는 시장을 이끄는 다채널 입체식 판매 서비스 모델을 형성하였습니다. 중국내 시장에서 완벽한 판매망을 구축하여 점차로 국제 시장을 확대하였습니다. (바) 인재 우위 당사는 600여명의 직원이 근무하고 있습니다. 이중에는 석사 학력자가 50명을 넘고, 박사 학력 연구인원이 2명, 고급엔지니어는 1백명을 넘습니다. 당사의 일선 노동자는 5년 이상의 코팅 경험을 보유하고 있으며, 회사 관리층 핵심 임원의 근무경험은 10년을 넘습니다. 또한 당사는 한국과 대만에 대표처를 두어 고객과 기술적으로 소통하고 있고 동시에 회사가 현지 인재를 유치하는데 도움을 줍니다. 현재 당사는 이미 국내외 3D위조방지 코팅 분야의 기술 전문가를 통합하였으며 기타 정밀 코팅 기능성 신소재 분야에서매우 강력한 인재 흡인력과 호소력을 갖추었습니다. (사) 자금 우위 정밀 코팅 기능성 신소재 업계는 제품 연구개발, 생산 투입 원가로 인해 자금 장벽은 높은 편에 속합니다. 당사의 전체적인 규모는 업계 내에서 비교적 높은 수준에 속하며 풍부한 현금자금을 바탕으로 지속적인 연구개발 및 안정적인 거래처 확보를 통해 자금 우위를 보유하고 있습니다. (아) 고객 우위 당사의 전체적인 생산시스템은 전 세계 중점 기업의 인정을 받았으며 관련 인증을 획득하였습니다. 정보 공유를 통해 신속히 고객의 수요에 대응하고 있습니다. 주요 고객은 중금마태, 캉스푸, 징동팡, 중강광전, 서의광전, Hisense, 인보그룹, 우달광전, 팍스콘, 광요 등을 포함하고 있습니다. 인보그룹 투자기금은 회사 주주입니다. 향후 그 응용되는 관련 소재 계획을 완전히 대체함과 동시에 인보그룹산업군 주변 기업과 관련 기업이 당사에 중대한 발전 계기를 제공할 것으로 보고 있습니다. 당사는 인보그룹과 함께 기술과 수요 연결을 실현할 수 있습니다. 지속적인 연구개발 투입과 동시에, 당사는 인보그룹과 신속하고 효과적으로 최신 제품 수요와 공정 요구를 소통하여 다운스트림 수요에 대해 신속히 반응할 수 있습니다. 위의 경쟁력 분석을 통해 기초소재 및 설비, 기술 및 연구개발, 제품 및 종합서비스, 경영 및 관리, 마케팅, 인재, 자금과 고객 등 8가지 측면에서 볼 때, 당사의 각 항목의 우위가 뚜렷하며, 당사의 전체적인 종합 실력은 정밀 코팅 기능성 신소재 업계에서 선두 수준에 있음을 알 수 있습니다. 다. 신규 사업 계획 앞서 기술하였듯 중국은 전체 경제 구조가 전환기에 접어듬에 따라 향후 신기술분야 및 전략적 신규 산업 분야의 발전을 위한 투자 및 장려 정책을 강화할 것으로 예상됩니다. \\xa0전방산업인 플렉서블 디스플레이, 웨어러블 기기, 반도체, FPCB, 전기차, \\xa0IoT, 스마트 가전제품 등 분야가 미래 중점 육성 산업이 되어 높은 성장을 할 수 있을 것으로 기대하고 있습니다. 정밀코팅의 전방산업 (1) 신규 사업 분야 및 시장 규모 기존의 광학필름, 윈도우필름 & 기능성 필름에서 제 4차 산업 필름 코팅소재로의 포트폴리오 확장을 추진하고자 합니다. - MLCC(적층세라믹콘덴서)용 이형필름 MLCC 제조공정에서 세라믹 성형 공정 기재로 사용되며, 균일한 박리력 및 무결점 이 요구됩니다. \\xa0MCLL는 주로 스마트 전자제품 뿐만 아니라 2차전지의 핵심 요소로 중국내 전방 시장 규모 및 전망은 다음과 같습니다. 중국 mlcc 시장 규모 전망 Source : 중국 산업망 - OLED 생산용 필름 OLED 내구성 향상 용도로 패널이 감기는 Curl 현상 방지하며, OLED 소자 및 봉지층 보호합니다. 중국내 전방 시장 규모 및 전망은 다음과 같습니다. 중국 oled 시장규모 전망 Source : 중국 디스플레이 산업연구원 - FCCL(연성동박적층필름) FCCL은 전자제품 경박단소화에 필수적인 FPCB 핵심 원재료로 스마트 기기 Zero-bezel 구현에 필수적입니다. 구동부에 적용 가능합니다. 중국내 전방 시장 규모 및 전망은 다음과 같습니다. 중국 fpcb 수요 전망 Source : 중국 Zhiyan컨설팅',\n",
       " 'II. 사업의 내용 1. 사업의 개요 ( 1) 사업부문별 시장여건 및 영업의 개황 (가) 산업의 특성, 성장성, 경기변동의 특성, 계절성 ① 산업의 특성 당사가 영위하고 있는 산업은 한국표준산업분류에 의거 할 경우 18113으로 분류되는 \"오프셋 인쇄업\" 에 해당됨. 옵셋 인쇄 제조업을 영위하는 업체들은 외부로부터 수주를 받아 생산 후 납품 하고 있으며, 고가의 인쇄설비를 갖추 어야하는 장치산업임. 다른 제조업에 비해 재료비의 비중이 낮은 편으로 이는 주문 업체에서 인쇄물을 주문할 때 원재료인 인쇄용지를 제공해 주는 경우가 많기 때문임. ② 산업의 성장성 컴퓨터 및 스마트폰, 패드, 전자책 등의 비약적인 발전으로 출판,인쇄물의 상당량이 디지탈화 하여 종이출판, 인쇄물을 대체하고 있는 가운데, 업계의 채산성은 더욱 나빠지고, 종이출판, 인쇄물의 디지탈화로 인한 물량감소는 동종업체간의 생존을 위한 치열한 경쟁으로 이어지는 등 성장성은 크게 기대 하기란 어렵다 하겠음. ③ 경기 변동의 특성, 계절성 국내 도서시장의\\xa0 약 70%를 차지하고 있는\\xa0 교과서, 참고서, 아동도서등, 학습물 생산이 주로 신학기 전에(10월∼2월) 생산이 되고, 기타인쇄물 등도 연도말까지\\xa0 \\xa0 \\xa0\\xa0 생산 납품되는 물량이 많은 관계로\\xa0 상반기 보다는\\xa0 하반기 영업 및 생산실적이 양호\\xa0 함. (나) 시장에서 경쟁력을 좌우하는 요인 및 회사의 경쟁상의 강점과 단점 주문처의 주문내용에 따라 인쇄물의 형식, 크기, 수량 등이 다양하게 구성되며, 이에따라 인쇄산업의 경쟁력은 인쇄물의 선명도, 색재현성, 납기일 준수 등에 있는 관계로 고객이 원하는 인쇄물을 적기에 생산하기 위한 첨단 장치산업으로의 변환과 유지관리가 경쟁적 요소로 판단됨 (2) 신규사업에 관한 사항 - 해당 사항 없음 - 2. 회사의 현황 당사는 일제강점기인 1912년 8월 15일 순수 민족자본을\\xa0 바탕으로 \"보진재 석판 인쇄소\"란\\xa0 상호로 창립되어 1924 : 민간업체 최초 옵셋인쇄기 도입 1933 : 국내최초 크리스마스씰 인쇄 1935 : 한국최초 원색프로세스 인쇄술 도입 1956 : 민간업체 최초 옵셋자동매엽인쇄기 도입 및 국내최초 사진원색분해 시작 1968 : 사진제판, 옵셋활판인쇄 제책시설 완비한 종합인쇄공장 완성 1969 : 주식회사로 법인전환 1996 : 업계최초로 코스닥시장 상장 (2005 코스닥시장 상장폐지) 2002 : 파주출판단지내 보진재 파주공장 완공 및 이전 2019 : 파주출판단지내 보진재 파주공장 매각 (인쇄업 철수 및 사업구조 재편) 2020 : 보진재 해산 및 청산 등으로 회사전통이 밝혀주 듯 당사는 우리나라 인쇄산업 발전의 선구자적 역할 을 수행하여 왔으며, 현존하는 인쇄출판 업체 중 最古의 역사를 자랑하는 업체입니다. (현 대표이사 까지 4대째 가업을 계승하고 있음.) 당사는 100여년간 오로지 인쇄, 출판업의 외길만을 고집하며 전문화를 추구한 결과 보유하고 있는 인쇄기술과 시설은 동업계에서 최선두 그룹을 유지하고 있으며 특히 박엽지 인쇄분야 에서는 세계 120여개국의 성경을 인쇄하고 있을정도로 세계 最高 수준이라 하겠습니다. 당사는 지속적인 적자로 인해\\xa0 2019년에 인쇄업 철수를 결정하고,\\xa0 생산과 영업 중단을 선언하고, 2020년 2월 26일 주주총회에서 회사 해산 결의를 하였습니다 3. 주요 제품에 관한 사항 (1) 주요 제품등의 현황 사업부문 매출유형 품\\xa0\\xa0 목 구체적 용도 주요상표등 매출액(비율) 인\\xa0 쇄 수주매출 인쇄물 교과서,성경,참고서, 정기월간잡지,광고물 없 음 100% (2) 주요 제품의 가격 변동 추이 (단위 : 원) 품\\xa0 \\xa0\\xa0 목 제 51 기 제 50 기 제 49 기 인쇄물(연) 4,500 4,500 4,500 (가) 산출기준 주문생산이기 때문에 가격형성이 다양함 (특정품목 연말가격임) (나) 주요 가격변동원인 인쇄도수, 인쇄통수 4. 주요 원재료 (1) 주요원재료 현황 (단위 : 백만원) 사업부문 매입유형 품\\xa0\\xa0 목 구체적용도 매입액 비\\xa0\\xa0 고 인\\xa0 쇄 원 재 료 부 재 료 \" \" 인쇄용지 인 쇄 판 인쇄잉크 제 책 풀 기본원재료 인쇄용\\xa0\\xa0 판 인쇄용잉크 종이붙임용 1,052(63.2%) 400 (24.0%) 175(10.5%) 38 (2.3%) (주)전주페이퍼 외 (주)에스앤아이시스템즈외 (주) 동양잉크 서부 외 신성이엠씨(주) 외 (2) 주요 원재료 등의 가격변동추이 (단위 : 원) 품\\xa0\\xa0 목 제 51 기 제 50 기 제 49 기 180g\\xa0 아트지\\xa0 국전 국내 60,960 58,300 57,000 인쇄잉크\\xa0 청 국내 8,540 8,540 8,540 P.S판\\xa0 국전지용 국내 4,400 4,400 4,400 제 본 풀 국내 3,850 3,850 3,850 (가) 산출기준 기말 및 연말 가격 (나) 주요 가격변동원인 인쇄용지 값은 펄프가격의 등락에 따라, P.S판은 환율변동에 따라 변동됨 5. 생산설비 현황 (1) 생산능력 및 산출방법 (가) 생산능력 (단위 : 백만원) 사업부문 품 목 사업소 제51기 10월 제50기 연간 제49기 연간 인 쇄 인쇄물 파주시 직지길 250 6,991 8,650 9,210 합 계 6,991 8,650 9,210 (나) 생산능력의 산출방법 ① 산출기준 평균실가동능력×평균단가×일일근무시간×월근무일수× 10월 ② 산출방법 인쇄기 29Unit×8,000통×1/500장×@4,500×10H×24D×10M=5,011백만원 기타시설\\xa0 3대×5,000×@55×10H×24D×10M = 1,980백만원 ※ 당사의 인쇄업 철수 결정에 따른 생산과 영업중지로 파주공장 및 생산설비를 매각하여 제51기 생산능력은 10월까지로 표시하였습니다 (2) 생산실적 (단위 : 백만원) 사업부문 품 목 사업소 제 51 기 제 50 기 제 49 기 인 쇄 인쇄물 본사 및 공장 6,048 7,644 8,581 합\\xa0 \\xa0 계 6,048 7,644 8,581 (3) 가동율 (단위 : 시간) 사업소(사업부문) 당기가동가능시간 당기실제가동시간 평균가동률 파주시 직지길 250 (문발동,파주출판단지) 10시간x240일 (1-10월) 7시간x240일 (1-10월) 70% 합 계 2,400 1,680 ※ 당사의 인쇄업 철수 결정에 따른 생산과 영업중지로 가동률은\\xa0 10월까지로 표시 하였습니다 (4)\\xa0 생산시설 변동사항 년 월 변\\xa0\\xa0 동\\xa0\\xa0 내\\xa0\\xa0 용 1912. 08 종로구 종로 1가 85번지 창업 석판인쇄시설 설치 1956. 09 용산구 원효로 1가 117번지로 사옥 신축 이전 1963. 06 종로구 운니동 28번지 분공장 설치 1968. 10 영등포구 당산동 5가 8번지로 이전 1977. 02 영등포구 당산동 5가 8번지 건물 1,789.49㎡ 신축(지하 1, 지상 1,2층) 1988. 04 영등포구 당산동 5가 8번지 건물 지상 3,4층 1,522㎡ 증축 1989. 04 일제 중철기 1대 도입 (2019. 11 매각) 2002. 06 경기도 파주시 교하읍 문발리 파주출판단지 514-2 에 공장1,2층 신축\\xa0 (12,123.614㎡) 2002. 08 독일제 하이델 M600 46판 4도/4도 상업윤전기 1대 도입 (2020. 02 매각) 2002. 08 영등포구 당산동 5가 8번지 당산동 공장 매각 2004. 01 일제 고모리 양면 1도/1도 인쇄기 1대 도입 (2019. 10 매각) 2006. 09 일제 요시노 무선제본기 1대 도입 (2019. 11 매각) 2007. 05 일제 고모리 양면 1도/1도 인쇄기 1대 도입 (2019. 10 매각) 2008. 08 일제 고모리 5색 1대 도입 (2019. 10 매각) 2009. 10 CTP(판출력기) 1Set 도입 (2019. 11 매각) 2010. 03 일제 고모리 양면 1도/1도 인쇄기 1대 도입 (2019. 10 매각) 2012. 02 일제 고모리 양면 1도/1도 인쇄기 1대 도입 (2019. 10 매각) 2013. 04 후지제록스 디지털 인쇄기 1대 도입 (2019. 11 폐기) 2013. 07 CTP(판출력기) 1Set 도입 (2019. 11 매각) 2015. 08 일제 고모리 2도/2도 양면전용 매엽인쇄기 1대 도입 (2019. 10 매각) 2016. 04 독일제 워렌버그 무선제본기 1대 도입 (2019. 11 매각) 2017. 11 일제 고모리 4도/4도 양면전용 매엽인쇄기 1대 도입\\xa0 (2019. 12\\xa0 매각) 2018. 10 CTP(판출력기) 1Set 도입 (2019. 11 매각) 2019. 11 경기도 파주시 직지길 250 (문발동, 파주출판단지) 파주공장 매각 (5) 생산설비의 현황 [자산항목 : 토지] (단위 : 백만원) 사업소 소유 형태 소재지 구분 기초장부가액 당기증감 당기 상각 기말장부가액 비고 증가 감소 사무실 (본사) 자가 영등포구 당산로 237, 402호 본점 토지 22 0 0 0 22 공시지가 35 파주 공장 자가 파주시 직지길 250 지점 토지 3,025 0 3,025 0 0 공시지가 9,621 자가 문발동 520-2 지점 토지 138 0 138 0 0 공시지가 603 소\\xa0\\xa0 계 3,185 0 3,163 0 22 [자산항목 : 건물, 구축물,기계장치, 차량운반구, 기타유형자산, 임목] (단위 : 백만원) 사업소 소유 형태 소재지 구분 기초장부가액 당기증감 당기 상각 기말장부가액 비고 증가 감소 사무실 (본사) 파주 공장 자가 서울 당산 · 경기 파주 건\\xa0 \\xa0 \\xa0 물 978 0 734 235 9 - 구\\xa0 축\\xa0 물 42 0 32 10 0 - 기계장치 3,629 2 3,193 433 5 - 차량운반구 56 0 16 18 22 - 기타유형자산 22 0 14 6 2 - 임\\xa0 \\xa0 \\xa0 목 54 0 54 0 0 - 소\\xa0 \\xa0 계 4,781 2 4,043 702 38 - (6) 생산시설에 대한 진행중인 투자, 향후 투자계획 - 해당 사항 없음 - 6. 매출에 관한 사항 (1) 품목별 매출 현황 (단위 : 천원) 사업 부문 매출 유형 품\\xa0\\xa0 목 제 51기 제 50 기 제 49 기 인쇄 수주 매출 인쇄물 수 출 52,401 176,486 87,169 내 수 6,291,377 8,065,491 9,513,282 합 계 6,343,778 8,241,977 9,600,451 (2) 판매조직, 경로, 방법, 전략 (가) 판매조직 영업담당 임원 산하에 2개팀 (나) 판매경로 인쇄사업부문 : 직접수주, 직접납품 매출 함\\xa0 ( 100 % ) (다) 판매방법 및 조건 거래처를 직접 방문하여\\xa0 희망하는 인쇄물의\\xa0 종류, 수량을\\xa0 수주받아\\xa0 생산 하고\\xa0 납품 한 후 세금계산서를 발행 청구를 하며,\\xa0 수주당시 약속된 조건에 따라 수금을 하고 있음.\\xa0\\xa0 납품 비용은\\xa0 발주자 부담을\\xa0 원칙으로 하고 있으나 거래조건에 따라\\xa0 당사가 부담하는 경우도 있음. (라) 판매전략 새로운\\xa0 시장의 개척\\xa0 및\\xa0 기존\\xa0 거래처에\\xa0 대하여\\xa0\\xa0 최고의\\xa0 신용과,\\xa0 지속적인 거래유지를 위하여 1. 최고의 품질 2. 납기 준수 3. 노력하고 협력하여 함 7. 수주상황 당 사가 영위하는 업종은 동종업체간 경쟁이 너무 치열하고, 수주상황은 영업기밀 에 해당되어 공시할 경우 영업에 현저한 손실을 초래 할 수 있어\\xa0 수주상황은 별도 로 기재하지 않습니다. 8. 시장위험과 위험관리 - 해당 사항 없음 - 9. 파생상품 및 풋백옵션 등 거래 현황 - 해당 사항 없음 - 10. 경영상의 주요계약 (1) 2019년도 EBS 직영 발행 교재 인쇄 (제작) - 계약일 : 2018년 10월 30일 - 계약금액 : 34억 8천만원 (2) 파 주공장 토지 및 건물 양도 - 계약일 : 2019년 9월 3일 - 매수인 : 주식회사 프린피아 - 양도금액 : 14,500백만원 (건물에 대한 부가세 별도) - 양도목적 : 적자구조 탈피 (인쇄업 철수 및 사업구조 재편) - 공시일 : 2019. 09. 03 - 관련공시 : 영업정지 (2019. 09. 03 공시), 기계장치 매각(2019.10.29 공시) 11. 연구개발활동 - 해당 사항 없음 - 12. 그밖의 투자의사결정에 필요한 사항 (1) 영업정지 - 영업정지 내용 : 인쇄업\\xa0 (영업정지일자 : 2019.11.30) - 영업정지사유 : 계속적인 적자구조 탈피 - 공시일 : 2019. 09. 03 - 관련공시 : 파주공장 토지 및 건물 양도(2019. 09. 03 공시), 기계장치 양도(2019.10.29 공시) (2) 해산결의 - 해산결의 : 정기주주총회 2020. 02. 26 - 관련공시 : 해산결의 (2020. 02. 26 공시), (3) K-OTC 시장 지정해제 - 지정해제일 : 2020. 03. 03',\n",
       " 'II. 사업의 내용 1. 사업의 개요 당사와 연결종속회사의 주된 영업활동은 자동차용 전장제품의 연구개발과 제조 및 유통이며, 크게 CAN 제어시스템을 기반으로 한 CAN bus 부문, 자동 에어컨디셔닝 등의 차량용 공조설비 부문、ZTE통신 가정용 정보단말 사업부문으로 구성되어 있습니다. 부문 연결종속회사 주요제품 CAN bus 부문 강소로스웰, 양주보싱 CAN \\xa0Gateway, CAN 화면모듈 북두/GPS 듀얼 주행기록장치 등 차량용 공조 설비 부문 강소로스웰 자동차히터, 에어컨시스템 압축기 및 팽창밸브 ZTE통신 가정용 정보단말사업부문 강소로스웰 GPON단말 (기가비트 수동 광 네트워크 단말) < CAN bus 부문 > CAN bus(Controller Area Network)는 중앙네트워킹 프로토콜로서 자동차에서 호스트 컴퓨터 없이 사용되는 중앙 네트워킹 프로토콜입니다. 이는 자동차 내의 모든 모듈/장치 간 커뮤니케이션을 수행하며 이러한 모듈들이 효과적이고 효율적으로 함께 동작할 수 있도록 하는 CPU와 같은 장치입니다. 당사는 CAN bus 설계, 프로토콜 개발, 내장 통제 능력, 그리고 CAN 프로토콜 스택에 이르기까지 토탈 솔루션을 제공합니다. 관련제품은 세단, 트럭 및 승객용 버스에 사용됩니다. < 차량용 공조설비 부문 > 자동 에어컨디셔닝 등은 모든 차량에 표준장치가 되었습니다. 당사의 자동 에어컨디셔닝 등의 제품에는 온/냉기의 전기제어패널, 제습 및 동결방지장치, 항온을 위한 전기 컨트롤, 수동조절을 위한 기계부문, LVD/LED 패널, 그리고 컨덴서 등이 포함됩니다. 이러한 제품들은 세단, 트럭, 경량버스, SUV, 특수차량 및 건설장비 운영에 사용됩니다. <ZTE통신 가정용 정보 단말 사업)> 지난 2021년 12월 말 당사는 ZTE통신(중흥통신) 향 공급계약을 공시한바 있으며 이에 대응하여 자회사는 가정용 통신단말사업부문을 신설하였으며 현재 GPON(기가 비트 수동 광네트워크)단말제품을 생산하고 있습니다. \\xa0GPON 단말 제품이란 최종사용자에게 신호를 전달하는 과정에서서 일대 다중 연결방식을 지원하는 단말장치입니다. 2. 주요 제품 및 서비스 가. 주요 제품 등의 현황 (단위 : \\xa0RMB) 품 목 2024년 반기 2023년 2022년 제 품 설 명 매출 비율 매출 비율 매출 비율 CAN bus 시스템 BCM차체 제어기 23,981,058 1.74% 38,159,996 1.94% 29,510,046 6.64% 중앙차체제어모듈, 이는 차체제어 기능의 중추입니다. 이는 과거의 공조모듈, 헤드라이트모듈, 윈도우제어, 도난방지 및 출입제어 등 각 모듈의 시스템화와 집중화를 의미합니다. CAN통합음향 오락시스템 1,840,229 0.13% 9,046,696 0.46% 9,178,585 2.07% 순수 라디오수신, 라디오+MP3, MP3+CD, MP4+NAVI 와 DVD+NAVI 등 다섯가지 플랫폼 시리즈를 갖추고 있습니다. 세단, 트럭, 상용차와 건설기기 등의 전장시장을 타깃으로 합니다. 작업전압의 사용대역이 넓고, 진동에 강하며 MP3, WMA, MP4 등 다양한 포맷을 지원합니다. 또한 USB, SD카드 및 외부접속 AUX 음악입력을 갖추며 우수한 성능의 디스플레이와 쉬운 조작성, 안정적인 성능을 갖춘 높은 신뢰도의 장점을 갖고 있습니다. CAN통합정위 및 운행기록기 -일체 3,583,389 0.26% 1,797,714 0.09% 8,927,501 2.01% RTH-9AB형 위성정위기운전기록기는 삽입접촉식/비접촉식 IC 카드식별을 지원합니다; 내부에 소형프린터를 갖추어 운전기록의 출력이 가능합니다; 또한 리튬이온전지를 내부에 갖추었으며 주파수의 수집 및 원거리 무선업그레이드 기능을 지원합니다. 공조제어기 16,234,107 1.18% 37,855,474 1.92% 27,966,161 6.30% 공조제어기는 자동차시스템을 조종하여 온풍 및 제습장치를 제어하는 자동차전자부품입니다. 당사는 세단의 공조시스템 개발 및 생산을 위하여 전동조절공조제어기 및 자동온도유지공조제어기를 갖춥니다.냉방, 온풍, 송풍, 자동모드, 서리제거 등 다양한 기능은 물론, 강력냉방, 강력온풍 기능도 갖추었습니다. CD실시간디스플레이는 차량 실내외 온도를 나타내며 설정한 온도, 현재 모드 및 바람방향등에 대한 정보도 나타냅니다. 전통적인 기계식 제어기와 비교하여 당사 제품은 그 구조가 훨씬 간단하며 조작이 용이하고 제어정확성이 높습니다. 또한 사용수명 또한 길다는 장점이 있습니다. 지능리모트키 2,153,429 0.16% 5,317,361 0.27% 3,595,994 0.81% 리모트방식의 비열쇠 방식 RKE 및 피동식 비열쇠 PKE 시스템입니다. 당 스마트키에는 1개의 삽입식 열쇠를 내장하고 있습니다. PKE 및 RKE 의 단방향통신방식은 다르며 PKE 에서 응용한 것은 쌍방향통신의 원리이며 RF주파수신호를 통해 전자열쇠 ID 를 확인하므로 안전성이 높습니다. 또한 원터치키 자동엔진점화 기능도 갖출수 있습니다. 차량용 공조 시스템 공조부품 128,979 0.01% 1,733,341 0.09% 4,604,663 1.04% 공조시스템에 포함되는 부품입니다. (온풍기 및 공조완제품의 세트) 입출 수도관, 배관집개, 지지대, 통풍구 및 물탱크, 전기기기 등 부품입니다. ZTE통신 가정용 정보단말 GPON단말 1,332,955,771 96.53% 1,876,066,705 95.23% 360,386,000 81.14% 기가비트 수동광 네트워크를 사용자와 연결하는 단말제품.최종사용자에게 신호를 전달하는 과정에서서 일대 다중 연결방식을 지원하는 단말장치입니다. \\xa0광대역 네트워크 접속기술로서 전자기파 간섭이 적으며 안정성, 경제성에서 킅 우세를 발휘하고 있습니다. 소계 1,380,876,962 100.00% 1,969,978,518 100.00% 444,177,019 100.00% 나. 주요제품의 가격변동 추이 (단위 : RMB) 품 목 구분 2024년 반기 2023년 2022년 CAN bus 시스템 BCM차체제어기 본국내 186.84 158.94 152.72 CAN통합음향오락시스템 본국내 197.20 177.08 173.69 CAN통합정위및운행기록기-일체 본국내 531.11 533.13 489.12 공조제어기 본국내 120.06 120.63 119.75 지능리모트키 본국내 26.52 24.81 31.71 차량용 공조 시스템 공조부품 본국내 18.79 34.65 33.99 공조완제품 본국내 - 205.13 141.55 ZTE통신 가정용정보단말 GPON단말 본국내 368.19 276.47 173.56 주) 제품은 패키지 단위로 거래처에 판매되며, 패키지의 구성 물품에 따라 판매단가에 영향이 있습니다. 3. 원재료 및 생산설비 가. 주요 매입 현황 (단위 : 천 RMB) 매입유형 품목 구분 2024년 반기 2023년 2022년 원재료 온풍기 본국내 332 1,139 1,988 연결기 본국내 9,945 11,624 7,218 집성회로 본국내 10,706 13,320 14,661 기타 본국내 9,771 18,964 15,142 합계 30,754 45,048 39,009 외주가공비 공조부품 본국내 186 1,358 2,744 CAN통합네트워크시스템 (중앙제어기) 본국내 1,145 584 1,373 CAN통합음향오락시스템 본국내 - - 9 기타 본국내 293 671 627 합계 1,626 2,614 4,752 ZTE통신 가정용 정보 단말 연결기 본국내 185,004 278,642 75,527 집성회로 본국내 929,252 1,181,588 258,956 기타 본국내 177,005 303,809 100,553 합계 1,291,263 1,764,039 435,035 나. 원재료 가격 변동 추이 (단위 : RMB/개) 품목 구분 2024년반기 2023년 2022년 온풍기 본국내 3.21 3.38 5.66 연결기 본국내 11.15 9.46 3.65 집성회로 본국내 30.98 25.20 16.07 기타 본국내 0.05 0.06 0.06 (*) 품목별 매입 원재료의 구성에 따라 원재료의 매입단가가 변동합니다. 다. 생산능력, 생산실적 및 가동율 (단위 : 개, 천 RMB) 분류 품목명 구분 2024년 반기 2023년 2022년 수량(개) 금액 수량(개) 금액 수량(개) 금액 CAN bus 시스템 BCM차체제어기 생산능력 658,440 112,034 658,440 93,157 658,440 74,582 생산실적 164,417 27,975 247,408 35,003 214,827 24,333 가동율 24.97% 37.57% 32.63% 기말재고 131,238 17,185 118,793 14,092 105,402 10,508 CAN통합음향오락시스템 생산능력 674,040 134,472 674,040 131,347 674,040 120,453 생산실적 8,478 1,691 42,606 8,302 58,461 10,447 가동율 1.26% 6.32% 8.67% 기말재고 6,732 1,201 7,936 1,482 19,863 3,826 CAN통합전자엑셀 생산능력 674,040 - 674,040 28,035 674,040 - 생산실적 - - 180 7 - - 가동율 0.00% 0.03% 0.00% 기말재고 913 45 913 45 733 38 CAN통합정위및운행기록기-일체 생산능력 370,720 175,863 370,720 154,017 370,720 138,280 생산실적 13,691 6,494 3,895 1,618 25,730 9,597 가동율 3.69% 1.05% 6.94% 기말재고 5,485 1,971 4,945 1,719 15,265 5,204 공조제어기 생산능력 836,480 75,156 836,480 74,357 836,480 69,000 생산실적 142,904 12,839 338,431 30,084 242,557 20,008 가동율 17.08% 40.46% 29.00% 기말재고 73,894 6,950 73,733 6,770 65,992 5,653 지능리모트키 생산능력 837,720 16,117 837,720 18,282 837,720 18,456 생산실적 90,165 1,734 210,987 4,604 130,507 2,875 가동율 10.76% 25.19% 15.58% 기말재고 62,664 1,364 48,166 1,535 41,121 1,247 ZTE통신 가정용 정보 단말 GPON 단말 생산능력 8,400,000 2,806,494 6,600,000 1,715,487 6,600,000 1,028,062 생산실적 3,770,220 1,259,654 6,842,156 1,778,428 2,409,218 375,276 가동율 44.88% 103.67% 36.50% 기말재고 319,156 155,128 270,520 77,112 271,345 47,640, <생산능력산출근거> 연도 구분 (A)단일라인 시간당 생산능력 (B)일 생산시간 (C)단일라인 일 생산능력 (D)연간 작업일수 (E)연간생산능력 {CXD} (F)총 장착 조립라인수 (G)생산능력 (AxB) (ExF) 개/시간 시간 개/일 일 개/라인 라인 개 2018년 ~ 현재 BCM차체제어기 62 16 995 331 329,220 2 658,440 CAN통합음향오락시스템 127 16 2,036 331 674,040 1 674,040 CAN통합전자엑셀 127 16 2,036 331 674,040 1 674,040 CAN통합정위및운행기록기-일체 70 16 1,120 331 370,720 1 370,720 공조제어기 158 16 2,527 331 836,480 1 836,480 지능리모트키 158 16 2,530 331 837,720 1 837,720 배터리팩 1.36 16 21.8 331 7200 1 7,200 전기모터모듈 1.36 16 21.8 331 7200 1 7,200 GPON 단말 208 16 3323 331 1,100,000 6 6,600,000 합계 10,454,000 주1) 배터리 팩, 전기모터 모듈을 제외한 모든 전장제품 제조의 핵심은 PCB판의 생산입니다. PCB판은 SMT 라인에서 생산이 되며 모든 생산능력은 1대당 SMT 라인 기준으로 계산합니다. 당사는 현재 9개의 SMT 라인을 보유하고 있으며 생산계획에 따라 8가지 전장제품을 9개의 SMT 라인에서 생산하고 있습니다. \\xa0따라서 위의 제품별 가동률 = (당해 생산량)/(1라인당 연간생산가능수량) 으로 계산하였습니다. 라. 제품별 공정도 1) CAN시스템 제조공정 can시스템 부품 제조공정 2) 자동차 공조시스템 제조공정 자동차 공조시스템 부품 제조공정 3) \\xa0ZTE통신 가정용 정보 단말 공정 통신정보스마트 단말 공정 4. 매출 및 수주상황 당사의 매출은 전액 중국 내수에서 발생하였습니다. 가. 사업부문별 (단위 : \\xa0RMB) 구분 2024년 반기 2023년 2022년 CAN bus 제품 1. 매출액 외부매출액 47,921,191 92,177,241 79,178,287 부문간내부매출액 - - - 계 47,921,191 92,177,241 79,178,287 2. 영업손익 8,685,352 14,108,526 (22,261,046) 3. 자산 836,125,812 1,059,780,764 1,166,290,55 자동 에어컨디셔닝 등 1. 매출액 외부매출액 - 1,734,572 4,612,731 부문간내부매출액 - - - 계 - 1,734,572 4,612,731 2. 영업손익 - 60,012 (1,674,570) 3. 자산 - 10,490,849 13,444,403 ZTE통신 가정용 정보 단말 등 1. 매출액 외부매출액 1,332,955,771 1,876,066,705 360,386,000 내부매출액 - - - 계 1,332,955,771 1,876,066,705 360,386,000 2. 영업손익 67,491,521 64,782,448 (10,555,384) 3. 자산 1,696,915,708 1,231,542,747 367,036,275 당사의 매출은 전액 중국 내수에서 발생하였습니다. 나. 판매에 관한 사항 당사는 영업부 책임자를 중심으로, 기존 매출처에 대한 유지관리 및 지속적인 신규 거래처 발굴을 위해 아래와 같이 판매기획, 물류, 종합관리, 프로젝트관리, A/S 별로 전담자를 두어 체계적으로 판매전략을 세우고 수행하고 있습니다. 구분 판매전략 판매기획자 - \\xa0 \\xa0 \\xa0 거래처 수주에 대한 정리/분석 - \\xa0 \\xa0 \\xa0 생산/판매 계획 및 전략 수립 물류 전담자 - \\xa0 \\xa0 \\xa0 재고자산 관리 - \\xa0 \\xa0 \\xa0 거래처 납품 적시성 확보 종합관리자 - \\xa0 \\xa0 \\xa0 계약조건 협의, 심사 등 담당 - \\xa0 \\xa0 \\xa0 영업부 관리감독을 통한 영업효율성 확보 - \\xa0 \\xa0 \\xa0 실적달성 정기심사 및 프로모션 방안 모색 프로젝트 관리자 - \\xa0 \\xa0 \\xa0 사내 프로젝트 제안 - \\xa0 \\xa0 \\xa0 신제품 개발 프로젝트를 위한 TF 구성 기획 - \\xa0 \\xa0 \\xa0 프로젝트 평가, 가격책정 진행 A/S 전담자 - \\xa0 \\xa0 \\xa0 제품 판매 후 거래처 피드백 수집 - \\xa0 \\xa0 \\xa0 거래처 의견 및 보완 필요사항 보고 다. 수주현황에 관한 사항 2021년 12월 29일 당사는 자회사 강소로스웰전기유한회사의 가정용 스마트 정보 단말제품 공급계약을 체결 관련 공정공시를 올린바 있으며 차 후 계약 일정에 따라 재공시할 예정입니다. 5. 위험관리 및 파생거래 (1) 자본위험 관리 연결실체는 부채와 자본의 적절한 균형을 유지하여 주주들의 이익을 극대화하고 연결실체의 종속회사가 계속기업으로 유지될 수 있도록 종속회사의 자본구조를 관리하고 있습니다. 연결실체는 자본위험관리에 대한 전반적인 정책을 회계기간 동안 일관성있게 유지하고 있습니다. 연결실체의 자본구조는 현금및현금성자산 차감후 총 차입금(금융기관차입금, 전환사채 포함)과 연결실체의 지배주주에 귀속되는 자본(납입자본, 각종 잉여금)으로 구성되어 있습니다. 연결실체의 경영진은 정기적으로 자본구조를 검토하고 있으며, 이러한 검토의 일환으로 각 주식종류별 자본비용과 관련 위험을 고려하여 추가 차입 또는 기존 채무의 상환 뿐만 아니라 배당금 지급, 추가 주식발행 등 자본의 전반적인 균형을 고려하여 의사결정을 하고 있습니다. 연결실체는 순부채를 총자본으로 나눈 기어링 비율(gearing ratio)을 활용하여 자본 현황을 모니터링하고 있습니다. 순차입금부채는 총차입금에서 현금및현금성자산을 차감하여 산정합니다. 당반기말 및 전기말 현재 연결실체의 기어링 비율의 산정내역은 다음과 같습니다. (단위 : RMB) 구 \\xa0 분 당반기말 전기말 총차입금 294,730,000 297,020,000 차감: 현금및현금성자산 (651,873,296) (953,379,983) 순차입금부채 (357,143,296) (656,359,983) 자기자본 1,240,644,576 1,170,119,561 총자본 883,501,280 513,759,578 기어링 비율(*) N/A N/A (*) 당반기말 및 전기말의 순차입금부채가 (-)의 금액이므로 \\xa0당반기말 및 전기말의 기어링비율은 산정하지 아니하였습니다. (2) 금융위험 관리 연결실체의 주요 금융상품은 매출채권 및 기타수취채권, 매입채무 및 기타지급채무, 금융기관차입금, 대여금 및 현금및현금성자산을 포함하고 있습니다. 이와 관련된 위험으로는 신용위험, 시장위험(이자율위험과 환위험)과 유동성위험이 있습니다. 이러한 위험들을 감소시키기 위한 정책은 다음과 같습니다. 경영진은 이와 같은 정책이 적시에 효과적으로 시행될 수 있도록 계속적으로 관리 및 감독하고 있습니다. 가. 시장위험 ① 환위험 연결실체는 지배기업이 소재한 홍콩과 종속기업이 소재한 중국에서 대부분의 거래를각 소재지의 통화로 하고 있으며, 이에 따라 개별회사 입장에서 외화로 표시된 거래는 제한적으로 발생합니다. 따라서 연결실체의 환위험은 지배기업과 종속기업의 통화의 차이에 따른 환위험 이외에는 그 발생빈도가 제한적이고 중요하지 않으며, 연결실체는 이로 인한 환위험을 헷지하기 위한 정책을 마련하고 있지 않습니다. ② 이자율위험 연결실체의 시장이자율위험은 고정금리부 금융기관차입금과 관련되어 있으며, 현금흐름변동위험은 주로 변동금리부 금융기관 예금과 관련되어 있습니다. 연결실체는 이자율위험을 헷지하기 위한 별도의 금융기법을 활용하고 있지 않으며, 경영진은 연결실체가 보고기간 종료일 현재 이자율위험에 중요하게 노출되어 있지 않다고 판단하고 있습니다. 금융기관 예금 및 차입금의 이자율의 변동 0.3%는 이자율 위험을 내부적으로 경영진에게 보고할 때 사용되는 기준이며, 합리적으로 변동가능한 이자율에 대한 경영진의 평가가 반영된 것입니다. 보고기간 종료일 현재 변동금리부 금융기관 예금이 각 연도의 보고기간 동안 동일하게 유지되었다고 가정하고 금융기관 예금의 이자율이 0.3% 상승하거나 하락할 경우 각 연도별 보고기간의 법인세비용차감전순이익에 미치는 영향은 다음과 같습니다. (단위 : RMB) 구 \\xa0 분 0.3% 상승시 0.3% 하락시 당반기 효과 : (손)익 1,955,620 (1,955,620) 전반기 효과 : (손)익 2,575,972 (2,575,972) 나. 신용위험 계약상대방의 채무불이행으로 인하여 재정적 손실을 가져올 수 있는 연결실체의 신용위험에 대한 최대노출정도는 매 보고기간 종료일 현재 연결재무상태표에 계상된 금융자산에 기인합니다. 신용위험은 연결실체 차원에서 관리되고 있습니다. 거래처의 경우 독립적으로 신용평가를 받는다면 평가된 신용등급이 사용되며, 독립적인 신용등급이 없는 경우에는 고객의 재무상태, 과거경험 등 기타 요소들을 고려하여 신용위험을 평가하게 됩니다.개별적인 위험한도는 동사회가 정한 한도에 따라 내부 또는 외부적으로 결정된 신용등급을 바탕으로 결정됩니다. 신용한도의 사용여부는 정기적으로 검토되고 있습니다. 당기 중 신용한도를 초과한 건은 없었으며 경영진은 상기 거래처로부터 의무불이행으로 인한 손실을 예상하고 있지 아니합니다. 연결실체의 신용위험은 매출채권에 편중되어 있습니다. 당반기말 현재 상위 5대 고객의 매출채권 잔액은 전체 매출채권 잔액의 약 98%(전기말 : 95%)를 차지하고 있습니다. 연결실체는 위험노출정도를 감소시키고 연체 채권을 회수하기 위한 후속조치나 시정조치를 즉시 시행하는 등 신용위험 노출수준을 계속적으로 감독하고 있습니다. 다. 유동성 위험 연결실체의 재무팀은 미사용 차입금한도를 적정수준으로 유지하고 영업 자금 수요를충족시키기 위해 차입금 한도나 약정을 위반하는 일이 없도록 유동성에 대한 예측을 항시 모니터링하고 있습니다. 유동성에 대한 예측 시에는 연결회사의 자금조달계획, 약정 준수, 연결실체 내부의 목표재무비율 및 통화에 대한 제한과 같은 외부 법규나 법률 요구사항이 있는 경우 그러한 요구사항도 고려하고 있습니다. 당반기말 및 전기말 현재 연결실체의 비파생상품 금융부채의 상환조건에 따른 잔존 만기구조는 다음과 같습니다. 만기구조는 연결실체가 금융부채를 상환하여야 하는 가장 이른시점을 기준으로 할인하지 않은 현금흐름에 기초하여 작성되었습니다. (단위 : RMB) 연 \\xa0 도 구 \\xa0 분 1년 이내 1년 초과 계 당반기말 금융기관차입금 174,400,000 120,330,000 294,730,000 매입채무 930,467,826 - 930,467,826 기타지급채무 28,919,440 - 28,919,440 합 \\xa0 \\xa0계 1,133,787,266 120,330,000 1,254,117,266 전기말 금융기관차입금 159,500,000 137,520,000 297,020,000 매입채무 771,607,623 - 771,607,623 기타지급채무 29,754,266 - 29,754,266 합 \\xa0 \\xa0계 960,861,889 137,520,000 1,098,381,889 6. 주요계약 및 연구개발활동 가. 연구개발 조직 구분 2024.01.01 증가 감소 2024.03.31 소프트웨어엔지니어 16 5 1 20 하드웨어엔지니어 8 8 구조엔지니어 3 1 4 포장엔지니어 1 1 공정엔지니어 7 7 종합관리 9 1 10 합계 44 7 1 50 나. 연구개발비용 (단위: 천 RMB) 구분 2024년반기 2023년 2022년 비고 자산처리 - - - 전액 당기 비용처리 비용 처리 제조원가 8,636 16,252 12,825 - 소모품비 - - - - 인건비 4,496 9,753 4,954 - 인증비 309 600 1,128 - 설계비 26,253 43,994 3,566 - 감가상각비 1,776 2,492 264 - 기타 832 1,853 1,289 - 정부보조금 310 1,714 3,688 - 합계 42,302 74,943 24,026 - 매출액 대비 비율 3.06 3.81 5.41 - 다. 주요계약 제출일 현재 당사 재무제표에 중요한 영향을 미치는 경영상 주요 계약은 없습니다. 7. 기타 참고사항 가. 지적재산권 현황 당사는 다수의 발명특허, 실용신안특허를 보유하고 있으며, 차체통제기, 자동차 리모컨키 등 다양한 자동차부품 분야에서 배타적인 권리의 행사가 가능합니다. 중국 내 자동차부품 업계의 다양한 업체가 전장부품 및 선진부품 시장진입을 시도하고 있으나, 당사는 수년전부터 기술력을 인정받아 협업관계를 유지하고 있는 완성차업체들과 신규차종 개발 단계부터 기술개발을 진행하고 있어 타사의 시장진입은 용이하지 않습니다. 당사가 보유하고 있는 특허와 출원중인 특허내역은 아래와 같습니다. 지적재산권 등 소유 내역 구분 2024년 반기 2023년 2022년 비고 지적재산권 발명특허 50 49 48 - 실용신안 61 54 46 - 소프트웨어저작권 94 92 90 - 발명특허 번호 특허명칭 특허권자 특허번호 특허권부여공고일 1 안전벨트 대체 방지 및 안전벨트의 대체 방지 방법의 일종 강소로스웰 ZL201310024218.6 2015. 4. 29 2 자동차 온도 스마트 컨트롤러 및 통제 방법의 일종 강소로스웰 ZL201410107113.1 2016. 1. 20 3 적외선 어레이 감응기의 일종 강소로스웰 ZL201410107330.0 2017. 10. 17 4 전기자동차 배터리팩 고속 균형 통체 방법 및 통제 장치의 일종 강소로스웰 ZL201610366973.6 2018. 4. 6 5 리튬이온전지 SOC추정방법의 일종 강소로스웰 ZL201711397185.4 2020. 5. 26 6 배터리팩 시스템의 전지 모노머 전압 방법 강소로스웰 ZL201810296328.0 2020. 10. 9 7 전기자동차 배터리 고온저온 충전 및 열 관리 방법의 일종 강소로스웰 ZL201711396058.2 2021. 5. 4 8 배터리셀내 배터리 균형 방법의 일종 강소로스웰 ZL201711397204.3 2021. 5. 4 9 선형전향고장시 자가진단 및 자동복구 방법의 일종 강소로스웰 ZL201811340277.3 2021.7.13 10 차량 온도 공제 방법 및 시스템의 일종 강소로스웰 ZL202010586340.2 2021.7.13 11 차량 공조기 고장진단측정방법의 일종 강소로스웰 CN111622977B 2022.01.11 12 선형전향 방법의 일종 강소로스웰 CN109334762B 2022.02.01 13 차량공조의 온도 컨트롤러 및 온도컨트롤러 고장 회복방법의 일종 강소로스웰 2020105292317 2022.06.11 14 배터리패키지시스템의 단일전압 균형장치의 일종 강소로스웰 2020110321220 2022.08.15 15 자동 정차 방식의 일종 강소로스웰 ZL201811316763.1 2023.12.07 16 차량 부품고정집게의 일종 강소로스웰 ZL201611101821.X 2024-01-05 실용신안 번호 특허명칭 특허권자 특허번호 특허권부여공고일 1 자동차내 인체 탐지 경고 장치의 일종 강소로스웰 ZL201521109596.5 2016-08-17 2 자동차 및 주택 출입문 연결 무선 통제 통제 시스템의 일종 강소로스웰 ZL201521109609.9 2016-06-08 3 운전자 심박수 측정과 경고 시스템 강소로스웰 ZL201521109614.X 2016-07-06 4 CAN통신에 기반한 분포식 LIN BUS 자동 테스트 장치 강소로스웰 ZL201521111231.6 2016-05-18 5 GPRS통신에 기반한K-line 원거리 자동 테스트 장치 강소로스웰 ZL201521113815.7 2016-05-25 6 GPRS통신에 기반한 LIN bus 원거리 자동 테스트 장치 강소로스웰 ZL201521116644.3 2016-05-25 7 CAN통신에 기반한 분포식 k line 자동 테스트 장치 강소로스웰 ZL201521116778.5 2016-06-01 8 원거리 전기자동차 전체 통제기 강소로스웰 ZL201620736313.8 2017-01-11 9 GPRS통신에 기반한 등관 통제기 원거리 자동 테스트 장치 강소로스웰 ZL201620736685.0 2017-01-11 10 GPRS통신에 기반한 원거리 BMS 강소로스웰 ZL201620739452.6 2017-01-11 11 트럭 방향 전환 경고 보조 장치의 일종 강소로스웰 ZL201620805489.4 2017-01-11 12 배터리 팩 받침대의 일종 강소로스웰 ZL201621423460.6 2017-11-24 13 배터리 팩의 밀봉 덮개의 일종 강소로스웰 ZL201621423468.2 2017-08-11 14 배터리 팩 수냉판의 일종 강소로스웰 ZL201621423640.4 2017-11-24 15 자동차 배터리에 사용되는 배터리 팩 상자의 일종 강소로스웰 ZL201720226267.1 2017-11-24 16 신에너지 자동차용 전기배터리팩 열관리 장치의 일종 강소로스웰 ZL201720885867.9 2018-06-05 17 배터리 모선 배열 합류 고정 장치의 일종 강소로스웰 ZL201721012321.9 2018-03-13 18 전기배터리 모듈 장치의 일종 강소로스웰 ZL201721012721.X 2018-04-03 19 전기배터리 장치의 일종 강소로스웰 ZL201721012725.8 2018-04-03 20 집성 배터리 팩 전기자동차 일체화 섀시의 일종 강소로스웰 201721401430.X 2018-05-18 21 전기배터리 장치의 일종 강소로스웰 201721402845.9 2018-08-14 22 전기배터리 모듈 장치의 일종 강소로스웰 201721402858.6 2018-08-31 23 전기배터리 쾌속플러그장치 강소로스웰 201721805791.0 2018-07-27 24 흔들림방지 스마트 주행기록기 고정장치의 일종 강소로스웰 201821148413.4 2019-03-01 25 동력 배터리 용단 장치의 일종 강소로스웰 201821237581.0 2019-03-26 26 동력 배터리모듈 알리미늄 클램프의 일종 강소로스웰 201821252876.5 2019-03-05 27 동력배터리 용단 장치 강소로스웰 201821252880.1 2019-03-01 28 동력 배터리 모듈 수직 스택 서포트 장치의 일종 강소로스웰 ZL201821252830.3 2019-04-23 29 후차안전예고기능있는 기록기의 일종 강소로스웰 ZL201821575308.9 2019-05-24 30 CAN총선 통신모듈기반 분포식 기록장치 강소로스웰 ZL201821575343.0 2019-04-23 31 수냉식 IGBT 조합조립장치의 일종 강소로스웰 ZL201821577839.1 2019-05-24 32 배터리 모듈 설치다지장치의 일종 강소로스웰 ZL201821670624.4 2019-04-23 33 차체 제품 제어를 위한 테스트 장치의 일종 강소로스웰 ZL201922305329.x 2020-07-24 34 차체공조제어기의 테스트 장치의 일종 강소로스웰 ZL201922151918.7 2020-07-24 35 공조제어기의 누광 방지 겸 발수성능의 버튼 구조의 일종 강소로스웰 2019221956969 2020-06-19 36 차량 유량 변경의 전동 3통 온풍 밸브구조의 일종 강소로스웰 2020210268239 2021-03-16 37 크럼플 구조의 공조 제어기의 일종 강소로스웰 ZL202022101277.7 2021-07-13 38 T-BOX 순전기차량 운행거래 잔여량 추측방법의 일종 강소로스웰 ZL2018112707331 2021-12-28 39 전기전도젤식 차량시트 압력센서의 일종 강소로스웰 CN215893843U 2022-02-22 40 스프링식 차량시트 압력센서의 일종 강소로스웰 CN215883588U 2022-02-22 41 차량시트 가열모듈의 일종 강소로스웰 ZL202121824198.7 2022-05-24 42 배터리모듈 알리미늄 용접 고정장치의 일종 강소로스웰 ZL201820962428.8 2022-07-20 43 자율운전차량의 백미러모듈의 일종 강소로스웰 2022205685221 2022-09-16 44 자율운전차량간의 거리측정장치의 일종 강소로스웰 202220636720.7 2022-09-06 45 자율운전차량의 비상용 전기공급장치의 일종 강소로스웰 202220770790.1 2022-09-06 46 차량 공조제어기의 회전식 버튼의 조립모듈의 일종 강소로스웰 2022213936876 2022-11-04 47 사물인터넷제품의 베터리교체모듈의 일종 강소로스웰 2022213276753 2022-11-08 48 차량공조제어기 탈부착버튼의 일종 강소로스웰 ZL202221393687.6 2022-11-04 49 온도센서를 탑재한 수동보호스위치의 일종 강소로스웰 ZL201721804641.8 2023-01-21 50 동력배터리 쾌속 탈삽입 장치의 일종 강소로스웰 ZL201721805791.0 2023-01-21 51 리튬동력배터리셀 전압 수집라인의 일종 강소로스웰 ZL201721806644.5 2023-01-21 52 배터리 모듈 패키지의 일종 강소로스웰 ZL201721806657.2 2023-01-21 53 탈선 보정 차키의 일종 강소로스웰 ZL201820146487.8 2023-02-28 54 소형 오염물 진단 시스템의 일종 강소로스웰 ZL201820458072.4 2023-04-30 55 차량 인터넷 자율주행 전기제어 장치의 설치구조의 일종 강소로스웰 202220508356.6 2023-04-10 56 자율주행차량의 주행환경검증설비의 일종 강소로스웰 ZL202320654169.3 2023-10-9 57 자융주행차량의 주행기록설비의 일종 강소로스웰 ZL202320993258.0 2023-11-16 58 전기-액체 제동 시스템의 일종 강소로스웰 ZL201420758111.4 2024-01-08 59 전자기 제동 시스템의 일종 강소로스웰 ZL201420758112.9 2024-01-08 60 분사보조제동 시스템의 일종 강소로스웰 ZL201420758114.8 2024-01-08 61 차향 공조제어기의 모니터보호구조의 일종 강소로스웰 202208133637 2024-05-08 62 차량 가열 시트의 일종 강소로스웰 ZL202220864795.0 2024-05-15 63 자율운전차량의 핸들의 일종 강소로스웰 ZL202320720611.8 2024-05-06 64 자율운전차량의 주행기록기의 일종 강소로스웰 ZL202320993258.0 2024-05-27 소프트웨어 저작권 보유내역 번호 소프트웨어명칭 저작권자 개발완성시기 최초발표일자 등기번호 1 Rothwell CAN Bus에 기반한 차체 컨트롤 및 진단 시스템 소프트웨어 V1.0 강소로스웰 2015-05-05 미발표 2015SR222271 2 Rothwell 다기능 자동차 개폐패널 소프트웨어 V1.0 강소로스웰 2015-06-15 미발표 2015SR222274 3 Rothwell 다기능 리모컨 소프트웨어 V1.3 강소로스웰 2015-03-21 미발표 2015SR222278 4 Rothwell CAN Bus에 기반한 non-key 진입 시스템 탑재 소프트웨어 V1.0 강소로스웰 2013-08-08 미발표 2015SR222282 5 Rothwell 자동차 BCM 전자동 테스트 장치 소프트웨어 V1.0 강소로스웰 2013-12-20 미발표 2015SR222346 6 Rothwell 자동차 좌우측문 통제기 전자동 테스트 장치 소프트웨어 V1.0 강소로스웰 2013-12-20 미발표 2015SR222363 7 Rothwell 자동차 주행기록 데이터 분석 및 해독 시스템 통제기 소프트웨어 V1.0 강소로스웰 2015-08-20 미발표 2015SR223415 8 Rothwell 블루투스 스피커 [약칭:블루투스 스피커] V1.0 강소로스웰 2015-08-06 미발표 2015SR223496 9 Rothwell 가상 USB 소프트웨어[약칭: 가상USB]V1.0 강소로스웰 2015-08-14 미발표 2015SR223504 10 Rothwell 자동차 차제 통제기 전자동 테스트 장치 소프트웨어 V1.0 강소로스웰 2013-12-20 미발표 2015SR223510 11 Rothwell 자동차 리모컨 수신기 전자동 테스트 장치 소프트웨어 V1.0 강소로스웰 2013-12-20 미발표 2015SR223777 12 Rothwell 자동차 에어컨 컨트롤러 자동 테스트 장치 소프트웨어 V1.0 강소로스웰 2013-12-20 미발표 2015SR230500 13 Rothwell 차량 탑재 생수 디스펜서 FREE WELL 통제기 소프트웨어 [약칭:차량 탑재 생수 디스펜서 FREE WELL] V1.0 강소로스웰 2015-07-13 미발표 2016SR120059 14 Rothwell 태양열 충전식 TPMS 시스템 소프트웨어 [약칭:태양열 충전식 TPMS 시스템] V1.0 강소로스웰 2014-07-13 미발표 2016SR120103 15 Rothwell 차량 탑재 생수 디스펜서 GR320RB 컨트롤러 소프트웨어 [약칭:차량 탑재 생수 디스펜서 GR320RB] V1.0 강소로스웰 2015-07-13 미발표 2016SR120578 16 Rothwell 이륜식 TPMS 시스템 소프트웨어 약칭:이륜식 TPMS 시스템] V1.0 강소로스웰 2015-06-13 미발표 2016SR120612 17 Rothwell 차량 탑재 생수 디스펜서 BLUE 컨트롤러 소프트웨어 [약칭:차량 탑재 생수 디스펜서 BLUE] V1.0 강소로스웰 2015-08-18 미발표 2016SR170244 18 Rothwell 차량 탑재 생수 디스펜서 LONSID 컨트롤러 소프트웨어 [약칭:차량 탑재 생수 디스펜서 LONSID] V1.0 강소로스웰 2015-03-14 미발표 2016SR185384 19 Rothwell 차량 탑재 생수 디스펜서 GB2300 컨트롤러 소프트웨어 [약칭:차량 탑재 생수 디스펜서 GB2300] V1.0 강소로스웰 2015-06-19 미발표 2016SR185684 20 Rothwell 6륜 TPMS 컨트롤러 소프트웨어[약칭:6륜 TPMS 컨트롤러] V1.0 강소로스웰 2014-09-24 미발표 2016SR213300 21 Rothwell 순수전기 에어컨 컨트롤러 소프트웨어 [약칭:순수전기 에어컨 컨트롤러] V1.0 강소로스웰 2015-02-23 미발표 2016SR220181 22 Rothwell 차량 탑재 WIFI 복합기 매입형 소프트 웨어 [약칭:차량 탑재 WIFI 복합기] V1.0 강소로스웰 2016-08-20 미발표 2016SR307043 23 Rothwell 다기능 확장성 스마트 기록기 소프트웨어 [약칭:다기능 확장성 스마트 기록기] V1.0 강소로스웰 2016-06-14 미발표 2016SR307283 24 Rothwell 원거리 시동 제한 기능을 구비한 자동차 통제 시스템 소프트웨어 V1.0 강소로스웰 2017-04-20 미발표 2017SR358009 25 X3000 에어컨 컨트롤러 소프트웨어 V0.2 강소로스웰 2017-04-25 미발표 2017SR358019 26 H4B 자동 에어컨 컨트롤러 소프트웨어 V1.2 강소로스웰 2017-04-26 미발표 2017SR358034 27 C131 전열, 중앙 에어컨 컨트롤러 소프트웨어 V3.8 강소로스웰 2017-04-15 미발표 2017SR358042 28 Rothwell 연료 도난 방지 경고 기능을 구비한 차체 컨트롤 시스템 소프트웨어 V1.0 강소로스웰 2017-04-18 미발표 2017SR358063 29 Rothwell 영문버전 기록기 소프트웨어 [약칭:영문버전 기록기 소프트웨어] V1.0 강소로스웰 2016-06-14 미발표 2017SR490424 30 Rothwell전동상용차배터리관리시스템OTLOADER기반소프트웨어 [약칭：BMS BOOTLOADER]V1.0 강소로스웰 2018-04-12 2018-04-13 2018SR520192 31 rothwell전기차보조펌프전기제어소프트웨어 [약칭：전기제어소프트웨어]V1.0 강소로스웰 2018-04-07 2018-04-08 2018SR520591 32 RothwellBMS감시시스템소프트웨어V1.0 강소로스웰 2018-04-12 미발표 2018SR520687 33 rothwell전동상용차주요제어소프트웨어[약칭:상용차주요제어소프트웨어]V1.0 강소로스웰 2018-04-18 2018-04-18 2018SR520732 34 rothwell120kW순전동차버스전기제어소프트웨어[약칭:전기제어소프트웨어]V1.0 강소로스웰 2018-05-02 2018-05-03 2018SR521296 35 Rothwell전동상용차배터리관리보조제어소프트웨어V1.0 강소로스웰 2018-04-16 2018-04-16 2018SR521489 36 rothwell배터리관리시스템BOOTLOADER상위기소프트웨어 [약칭：BOOTLOADER상위기]V1.0 강소로스웰 2018-04-18 2018-04-19 2018SR521494 37 Rothwell기반의 UDS프로토콜의공조제어기 고장진단플랫폼소프트웨어V1.0 강소로스웰 2018-04-28 미발표 2018SR610714 38 RothwellCAN기반의 UDS표준의 BootLoader소프트웨어V1.0 강소로스웰 2018-04-20 미발표 2018SR610715 39 Rothwell Autosar구조기반의 차량제어시스템소프트웨어 [약칭:구조기반의 차량제어시스템소프트웨어]V1.0 강소로스웰 2018-04-18 미발표 2018SR610716 40 Rothwell 충돌시정지기능을 가진 공조제어시스템소프트웨어V1.0 강소로스웰 2018-03-18 미발표 2018SR610717 41 Rothwell UDS고장진단기능을 가진 차창제어시스템소프트웨어V1.0 강소로스웰 2018-03-08 미발표 2018SR611845 42 Rothwell 인터넷차단기능을 가진 차체제어시스템소프트웨어V1.0 강소로스웰 2018-03-30 미발표 2018SR615663 43 Rothwell 원격제어기능을 구비한 도아제어소프트웨어 [약칭:원격제어기능을 구비한 도아제어소프트웨어 ]V1.0 강소로스웰 2018-02-20 미발표 2018SR615669 44 Rothwell 4G 통신기능 IoV스마트 단말 T-BOX V1.0 강소로스웰 2019-08-30 미발표 2019SR0902775 45 Rothwell 도난방지경보기능을 구비한 T-BOX 소프트웨어 V1.0 강소로스웰 2019-09-03 미발표 2019SR0915212 46 Rothwell 원격진단기능을 구비한 T-BOX 소프트웨어 V1.0 강소로스웰 2019-09-09 미발표 2019SR0936265 47 Rothwell 원격제어기능을 구비한 T-BOX 소프트웨어 V1.0 강소로스웰 2019-09-09 미발표 2019SR0936169 48 Rothwell 원격도난방지기능을 구비한 T-BOX 소프트웨어 V1.0 강소로스웰 2019-09-05 미발표 2019SR0925345 49 T7H 공조제이기 시스템 강소로스웰 2020-05-23 미발표 2020SR1218148 50 OTA기능을 탑재한 체어환경 제어시스템 강소로스웰 2020-05-20 미발표 2020SR1164630 51 차량 원격제어 회전제한 T-BOX 소프트웨어 강소로스웰 2020-04-20 미발표 2020SR1164622 52 원격제어기능을 탑재한 차량제어시스템 강소로스웰 2020-05-10 미발표 2020SR1078185 53 원격제어기증을 탑재한 차량제어시스템 소프트웨어 강소로스웰 2020-04-18 미발표 2020SR1050769 54 T-box 원격제어 시스템 강소로스웰 2021-08-06 미발표 2021SR1160059 55 전동차 에어콘 PTC가열 제어 시스템 소프트웨어 강소로스웰 2021-08-06 미발표 2021SR1205026 56 하이브리드 차형을 기반한 키리스 가동 소프트웨어 강소로스웰 2021-08-06 미발표 2021SR1165215 57 차량전향등 원격제어 시스템 소프트웨어 강소로스웰 2021-08-10 미발표 2021SR1174358 58 PEPS제어 기능을 삽입한 차량제어 소프트웨어 강소로스웰 2021-08-09 미발표 2021SR1172007 59 스마트 진단기능을 탑재한 T-box 소프트웨어 강소로스웰 2021-08-09 미발표 2021SR1167441 60 라이트, 캐프, 스피커 제어기능을 탑제한 차량제어 시스템 강소로스웰 2021-08-09 미발표 2021SR1167620 61 CCTV기능을 탑재한 차량 주행기록기 소프트웨어 강소로스웰 2021-08-16 미발표 2021SR1205027 나. 산업의 특성 자동차 산업 자동차 제조산업은 자동차용 제동장치, 클러치, 축, 기어, 변속기, 휠 및 완충기 등과 같은 자동차, 차체 또는 자동차 엔진용 부분품의 제조를 전반적으로 포함하며, \\xa0자동차 1대는 평균 5천여 종 2 ~ 3만여 개의 부품으로 구성되어 있습니다. 따라서 자동차 제조산업은 다양한 타산업과 연관성이 높으며, 생산유발 파급효과가 매우 큽니다. 타산업으로부터 중간재를 구매하는 정도를 나타내는 후방연쇄효과(Background Linkage Effects)가 매우 높은 반면 타 산업에 중간재를 판매하는 정도를 나타내는 전방연쇄효과는 비교적 낮은 최종수요적 제조업형 특성을 가지고 있습니다. 또한, 자동차의 생산에는 막대한 설비투자와 개발비가 소요되며 적정수준의 생산규모를 유지하고 생산코스트를 절감시켜야 가격경쟁력을 확보할 수 있어서 생산수량의 증가에 따라 나타나는 생산비용의 감소효과인 규모의 경제(Economies of Scale)효과가 매우 뚜렷이 나타나는 산업입니다. 통신산업 통신 산업은 전세계적 디지털화 추세에 힘입어 국가 기간산업으로서의 성격이 강해지고 있습니다. 특히 4차산업혁명의 주축을 이루는 자율주행, 스마트공장, XR, 원격진료 등의 모든 산업영역의 기저에는 대량의 데이터가 송수신 가능하도록 하는 통신시장이 뒷받침되어야 합니다. 2013년 중국정부는 “광대역 중국”절략을 발표하였으며 이를 시작으로 국가 전략형 공공 기초시설로서 광대역 네트워크를 건설하고, 관련 어플리케이션의 보급, 서비스 혁신, 산업 협력 등을 통한 정보화와 경제발전 및 사회 민생에 대한 서비스 추구하였으며 지역간 협력 발전, 지속적 업그레이드, 사회 전반으로의 효과 확대, 산업 체인의 개선, 안전 보장 강화하고 고속 네트워크 시대에 진입하였습니다. 2019년 6월 중국공신부는 중국 테레콤, 중국 모바일 등 통신사에 5G 상용을 정식 허가를 시작으로 5G상용화를 시작하였으며 국가 정책의 추진과 더불어 고속적인 발전을 가져왔습니다. \\xa02023년 중국통신영업수입은 1.68만억위안(2300억달러)을 기록하였으며 2022년 대비 6.2%증가하였습니다. 중국은 글로벌규모의 최대 이동 광대역 네트워크와 광섬유 네트워크를 구성하였습니다. 다. 산업의 성장성 1) 자동차 제조 산업 가치사슬의 변화 최근 자동차의 진화 트렌드를 살펴보면, 첫째 안정성, 편의성에 대한 소비자의 기대가 높아지면서 스마트카, 자율주행 자동차 등 차량 시스템의 지능화가 빠르게 진행되고 있고, 둘째, 휘발유, 경유를 연로로 사용하는 내연기관 엔진차에서 전기 배터리와 모터로 구동되는 동력원의 전기화 추세가 지속되고 있습니다. 이와 같은 자동차 산업 핵샘경쟁력의 변화는 가치사슬 변화, 산업구조 재편으로 이어지며 완성차 및 부품 소재 공급 기업들에게 위기와 기회를 동시에 제공하고 있습니다. 자동차의 진화 트렌드 (자료 출처 : 자동차 산업 핵심 경쟁력의 중심이동 _ 현대경제연구원) 2) 글로벌 자동차 시장 글로벌 자동차 수요는 선진 시장의 대기수요의 구매 전환과 중국 등 신흥 시장의 고성장을 기반으로 증가해 왔으나, 최근 세계 경제는 대공황 이후 최악의 경기 침체를 겪을 것으로 보입니다. 최근 신용평가사 무디스가 발표한 글로벌 자동차 수요 전망에 따르면, 2020년 글로벌 자동차 판매는 전년대비 20% 감소한 7200만대, 국가별 판매량은 중국 10% 감소한 2320만대, 미국 25% 감소한 1283만대, 서유럽 30% 감소한 1141만대, 일본 15% 감소한 436만대에 그칠 것으로 예상되고 있습니다. 세계 자동차 시장은 코로나19 이후 경제회복 및 \\xa0소비심리 정상화와 전년도 부진의 기저효과로 회복세를 보일 것이라는 낙관적인 전망과 함께, 한편으로는 백신 효과에 대한 우려감 및 대규모 글로벌 경제위기가 발생할 수 있다는 부정적 전망도 공존하고 있습니다. 3) 중국 자동차 시장 2023년 중국자동차 생산량, 판매량 각각 3016.1만대, 3009.4만대를 기록하였으며 작년대비 각각 11.6%,12%증가하였습니다. \\xa0그중 승용차 생산량 판매량은 각각 2612.4만대, 2606.3만대이며 전년대비 각각 \\xa09.6%, 10.6%증가하였으며 2년 연속 9% 증가율을 보이고 있습니다. \\xa02023년 전년 상용차 \\xa0생산량, 판매량은 각각 \\xa0403.7만대, 403.1만대이며 전년대비 각각 26.8%, 22.1% 증가하였습니다. 4) 중국 상용차 시장 중국 상용차 시장은 크게 트럭과 버스 시장으로 나뉠 수 있으며, 이 두 시장의 특성은 각각 다음과 같습니다. 합자브랜드가 우위를 차지하고 있는 승용차시장과 달리 트럭 시장은 로컬 완성차 업체와 합자 완성차 업체 모두 현지 브랜드 제품 위주로 판매하고 있어 트럭시장의 약 80%가 로컬브랜드를 사용하고 있습니다. 또한, 트럭은 화물을 적재한 상태의 차량 총 중량으로 차급을 구분하는데, 크게 미형(1.8톤 미만), 경형(1.8~6톤), 중형(6톤~14톤), 대형(14톤 초과) 4가지 차급으로 구분하고 있습니다. 그 중 중국의 트럭시장은 근거리 지역 간의 물류 운송을 전담하는 경형 트럭이 최대 판매 차급을 형성하여 트럭시장의 약 55%를 차지하고 있습니다. 지역적으로는 경제 규모가 크고 물동량이 많은 동부 지역 중심으로 판매되고 있는 특징이 있습니다. 현재 당사가 납품하고 있는 주요 시장인 대형트럭시장과 소형트럭시장은 2010년을 기점으로 경제발전속도 하락, 중국 내 환경법규의 제한(국가IV표준: 기동차 오염물 배출 표준) 등의 영향을 받아 주춤하는 모습을 보였지만 최근 코로나 여파에도 불구하고 사상 최고치를 갱신하였으며 지속 성장 중에 있습니다. 버스 시장은 트럭과 마찬가지로 로컬 완성차 업체의 현지 브랜드 제품이 높은 판매 비중을 차지하나, 트럭과 달리 합자 완성차 업체들은 합자 브랜드 제품 위주로 판매하고 있습니다. 또한, 도시화 진행에 따라 차량 전장이 3.5m~7m에 해당하는 경형 버스가 최대 판매 차급을 형성하고 있습니다. 지역적 특성으로는 트럭과 마찬가지로 여객 수송량이 많은 동부 지역 중심으로 판매되는 특징이 있습니다. 5) 통신산업현황 2013년 중국정부는 “광대역 중국”절략을 발표하였으며 이를 시작으로 국가 전략형 공공 기초시설로서 광대역 네트워크를 건설하고, 관련 어플리케이션의 보급, 서비스 혁신, 산업 협력 등을 통한 정보화와 경제발전 및 사회 민생에 대한 서비스 추구하였으며 지역간 협력 발전, 지속적 업그레이드, 사회 전반으로의 효과 확대, 산업 체인의 개선, 안전 보장 강화하고 고속 네트워크 시대에 진입하였습니다. 네트워크 통신속도는 현저히 제고하였으며 PON기술은 EPON, GPON을 거쳐 10GPON, 25GPON을 도달하였으며 모바일통신기술은 1G에서 4/5G에 도달하였으며 공유기는 고업무성, 통합성, 지능화, 안정성, 안전성, \\xa0접근성 방향으로 발전하고 있는 한편 더 광범위하고 스마트한 \\xa0정보통신서비스를 요구하고 있습니다. 2022년 중국국내디지털경제규모는 50만억위안을 도달하였으며 2021년대비 10%성장하였습니다. 2023년은 56억위안을 달설할것으로 예상됩니다.기초통신산업은 중국디지털경제의 주요구성부분으로 전반적인 발전과 구조적 최적화를 진행하고 있으며 발전동력을 갖고 있습니다. 2023년 중국통신영업수입은 1.68만억위안을 기록하였으며 2022년 대비 6.2%증가하였습니다. 중국은 글로벌규모의 최대 이동 광대역 네트워크와 광섬유 네트워크를 구성하였습니다. 2022년 12월 31일 기준 중국국내 5G기지국은 231.2만개를 보유하고 있으며 2022년한해 88.7만개 신설하였습니다. 10G-PON단말 수령은 1,523만개 도달하였습니다. 6) 중국 자동차 부품 산업 현황 중국 자동차 부품 산업의 연구개발과 산업화는 1990년대부터 시작하여 현재 기술적 토대를 갖추고 빠른 속도로 발전하고 있습니다. 1980년대까지만 하여도 완전조립생산(CKD)에만 의존하고 있어 거의 공백시장이라고 볼 수 있습니다. 그 뒤로 자동차산업이 발전하면서부터 자동차 부품시장에 대한 수요도 날로 증가하기 시작하였고 당시 대부분 본국내 기업들의 설비 및 기술 수준이 미비하여 해외 기술, 설비를 도입하기 시작하였습니다. 1986년부터 많은 기업들이 점차 자동차 부품 시장에 발을 들여놓기 시작하였으나 각 기업들이 서로 다른 국가에서 기술 및 설비 도입으로 인하여 산업 내 통일된 기술 표준이 없고 핵심 기술이 부족한 국면에 이르게 되었습니다. 1993년 이후 중국 거시정책 아래 본국내 규모가 있는 몇 개의 기업들이 해외 선진기술 설비를 도입하고 기술을 흡수하면서 본국내에 처음으로 규모화 생산 능력을 구비하게 되었습니다. 게다가 해외 다국적 기업들의 독자 또는 합자 형식으로 중국시장에 진입하면서 자동차 부품 시장이 자리를 잡아가기 시작하였습니다. 현재 본국내에서 생산되고 있는 자동차 중 합자기업 생산의 자동차 및 자동차 부품은 이미 해외 동급 자동차의 기술 수준에 도달했습니다. - 커넥티드카(Connected car) 관련 제품 자동차 산업은 인간의 생명과 직결되는 문제로 기술력의 변화보다는 차량의 안정성을 최우선으로 하고 있습니다. 따라서 타 산업에 비하여 IT 기술의 도입이 소극적이었으나 최근 IT 기술의 급격한 발전과 동시에 운전자의 안전과 편의를 추구하면서 인간 친화적 자동차 즉 스마트카 (SmartCar)의 방향으로 발전하고 있습니다. 스마트카란 자동차를 단순한 운송 수단에서 벗어나 운전자와 양방향 소통을 할 수 있는 IT기기화가 된다는 의미이며 자동차가 직접 외부 통신망과 연결되어 실시간 교통정보, 인터넷 검색 등을 직접 제공할수 있습니다. 즉 커넥티드카는 자동차와 IT 기술을 융합하여 인터넷 접속이 가능하고 양방향 인터넷/모바일 서비스가 가능한 자동차를 일컷습니다. 중국의 커넥티드카는 2010년에 \"중국국제 IoT박람회 및 IoT대회\"에서 처음으로 언급되었으며 그후 2013년 중국자동차공업학회에서 \"커넥티드산업기술혁신전략동맹\"을 설립하면서 커넥티드카 개념이 시장에 널리 알려지기 시작하였습니다. 그 후 수많은 완성차기업, IT기업, 통신사, 자동차부품기업 등이 커넥티드 제품을 시장에 내놓기 시작했으며 주로 사람과 차량，차량과 차량간의 통신을 기반으로 하고 있습니다. 중국 커넥티트가 시장 규모는 2015년 50억달러에서 2020년 338억달러로 증가가 예상되며, 2020년부터 연평균 45% 증가하여 2025년 시장 규모는 2,162억달러에 달할 전망입니다. 마. 시장 경쟁 현황 1) 경쟁 상황 당사는 자동차 전자의 매출 비중을 높여가고 있고 향후 성장 전략 또한 자동차 전자 부품의 연구개발 및 생산입니다. 중국내 자동차 전자 제조 기업은 약 3,000개 정도로 외자기업이 19.8%(독자기업 4.1%, 합자기업 15.7%)로 중국내 자동차 전자 시장에서 67.7%의 점유율을 차지하고 본토 기업은 총수가 80.2%, 시장점유율 32.3%를 차지하고 있습니다. 통계에 따르면 독일 콘티넨탈(Continental), 보쉬, 일본의 덴소(Denso)가 TOP3를 차지하고 있으며 그 외의 외자 기업으로는 Delphi，Visteon，Valeo，TRW, 현대모비스 등이 있습니다. 2) \\xa0진입장벽 자동차 전자 산업에는 아래와 같은 진입 장벽들이 있습니다. (가) 기술 및 연구개발 장벽 자동차 전자는 전형적인 기술 집약적 산업으로 제품 제조 과정에서 반도체 핵심 기술 및 기타 시스템 통합 기술 요구합니다. 따라서 자동차 전자 제품 제조사는 소프트웨어, 하드웨어 면에서 아주 높은 종합실력을 갖추어야 합니다. 자동차 전자 산업에서 사용되는 기술 영역으로는 금속자재학, 고분자재학, 자재력학, 열학, 전공 및 전자 기술, 반도체물리학, 금형 설계 및 개발, 기계가공공정, 반도체제조기술, 인터넷기술, 전자정보기술 등이 있습니다. 따라서 시장에서 경쟁우위를 가지려는 기업은 반드시 위와 같은 세분화된 영역의 기술 우위를 가져야만 하고 관련 기술 영역 내의 연구인원, 연구개발에 필요한 기계, 설비, 시험실 등 물리적 조건을 구비하여야 합니다. 따라서 시장에 진입하기 위해서는 기술과 연구개발조건을 우선적으로 만족해야만 가능합니다. (나) 고객사 장벽 완성차 제조사들은 부품 제조사에 대한 요구가 아주 높습니다. 자동차부품산업의 품질관리체계를 통과한 기업만이 완성차에 대한 납품을 진행할 수 있습니다. 자동차전자제품은 차량안전, 환경 및 쾌적성 등 성능에 중요한 영향을 미치기 때문에 완성차 제조사는 공급업자를 선택함에 있어서 엄격한 인증 절차를 진행합니다. 자동차전자제품은 고객사에서 선정의향을 보이는 시점부터 생산하기까지 수개월, 길게는 1년의 시간이 소요됩니다. 예를 들면 고객사에서 요구하는 제품의 설계부터 샘플제공까지 복잡한 측정 평가 단계를 거치며 평가 합격 후에만 시험단계로 넘어가 제품을 완성차에 장착하여 실제 작동상태를 측정합니다. 제품의 성능과 완성차와의 매칭 검사가 끝나면 소량생산부터 시작하여 점차 생산량을 늘려갑니다. 제품인증과정에서 고객사가 제시하는 문제점들을 개선하면서 장기간 동안 안정적인 공급, 협력관계가 형성되므로 단기간 내 다른 경쟁업체가 진입하기 어렵습니다. (다) 규모화, 다양한 제품 공급 장벽 자동차 전자 산업은 자동차 산업과 전자정보산업을 포함한 산업으로서 시장화 정도가 높습니다. 자동차전자제품에 대한 수요는 파동성을 가지고 있으며 서로 다른 자동차 모델, 다른 사양, 다른 구조설계에 대응한 자동차전자제품에 대한 요구도 다릅니다. 따라서 공급자는 제품 품질 요건을 만족하는 기초에서 완성차의 다양화, 규모화의 탄력제품 수요를 만족해야 하므로 규모화 공급능력에 대한 높은 기준이 필요합니다. 규모화 생산은 기업의 생산효율성을 높여주고 제품 원가를 낮춰주므로 구매, 연구개발, 생산, 판매간의 시너지효과가 발생하게 됩니다. 따라서 새로운 경쟁자는 기술적, 고객적 장벽으로 인해 짧은 시간 내에 규모화 공급을 진행할 수 없습니다. (라) 제품품질, 자금 및 브랜드 장벽 자동차 전자 산업은 자동차 산업과 마찬가지로 자금 집약적 산업입니다. 규모화 경영, 고정자산, 연구개발 조건 도달 등은 모두 대량의 자금을 필요로 하며 또한 지속적인 투자가 필요합니다. 제품의 품질과 브랜드 지명도 또한 공급상 선정에 있어서의 중요한 조건입니다. 새로운 시장 진입자는 제품 품질 보장, 경험, 브랜드 등 모든 면에서 열세에 놓이게 됩니다. 바. 신규 추진 사업 -ZTE통신 가정용 통신 단말사업 2013년 중국정부는 “광대역 중국”절략을 발표하였으며 이를 시작으로 국가 전략형 공공 기초시설로서 광대역 네트워크를 건설하고, 관련 어플리케이션의 보급, 서비스 혁신, 산업 협력 등을 통한 정보화와 경제발전 및 사회 민생에 대한 서비스 추구하였으며 지역간 협력 발전, 지속적 업그레이드, 사회 전반으로의 효과 확대, 산업 체인의 개선, 안전 보장 강화하고 고속 네트워크 시대에 진입하였습니다. 네트워크 통신속도는 현저히 제고하였으며 PON기술은 EPON, GPON을 거쳐 10GPON, 25GPON을 도달하였으며 모바일통신기술은 1G에서 4/5G에 도달하였으며 공유기는 고업무성, 통합성, 지능화, 안정성, 안전성, \\xa0접근성 방향으로 발전하고 있는 한편 더 광범위하고 스마트한 \\xa0정보통신서비스를 요구하고 있습니다. 당사 자회사인 강소로스웰은 ZTE통신과 가정용 스마트 단말 프로젝트 협의를 체결하였으며 협의에 따라 2022년 5월부터 5년간 최소 100억위안의 제품을 공급하기로 하였습니다. 이에 대응 생산능력을 제고하기 위하여 생산 설비 매입 및 공장업그레이드를 진행하였습니다. 설비매입 및 시설 투자 금액은 1.6억위안(원화 환산 297.8억)이며 생산계획 및 주요수입설비의 수량 및 기한요구에 따라 단계적으로 진행하였습니다. 투자 생산라인은 SMT생산라인 18조, 납땜&조립라인 10조, 주요설비는 (ASM 또는 파나소닉)고속2라인 SMT장비, \\xa0DEK, 인쇄설비 및 대표전자브랜드 AOI,SPI 등 생산, 테스트 설비 등이 있습니다. 생산공정은 \\xa0MES시스템을 도입하여 사람, 기계, 원자재, 작업의 전 라인 추적 가능하며 자동화 조립 및 테스트기 등 시스템을 도입하여 생산의 효율성 및 정확성을 제고 할수 있다고 예측됩니다. 현재 ZTE 통신 프로젝트 전문 팀을 구성하여 생산계획, 물류플랫폼, 생산공정표준, 품질기준, \\xa0테스트기준, \\xa0정보화시스템 등 각종 업무를 주고 받고 있으며 공급사 인증을 통과하여 ZTE통신의 글로벌 공급사 코드를 취득 완료하였습니다. ZTE통신은 1985년에 설립된 글로벌 선두의 통합 통신정보 솔루션제공 기업으로서 중국 홍콩,심천 2곳에 상장하였으며 통신업계 내 제품 및 솔루션을 전부 커버하였다. 현재 160여개의 국가와 지역에 서비스를 지원하며 글로벌 \\xa04대통신 업체로 선두를 달리고 있습니다. 당사는 ZTE통신과 \\xa0협력을 통하여 \\xa0GPON단말제품을 시작으로 더 나아가 Wi-Fi 공유기등 제품군을 확장하고 나아가 차량용 및 가정용 제품의 전부 생산라인을 구비하여 사업영역을 확대해 나갈것입니다. - IoV 전장시스템 사업 계획 1) 사업 분야 및 진출 목적 당사는 차세대 자동차 전장솔루션 전문기업으로 성장기반을 강화하기 위해 Internet of Vehicles(IoV)플랫폼 기술을 바탕으로 커넥티트카 및 자율주행 관련 부가가치 높은 각종 솔루션을 개발 및 생산하기 위해 로스웰 스마트IoV과학기술산업단지 조성을 계획하고 있습니다. 스마트IoV과학기술산업단지의 보다 구체적인 계획이 수립되어 진행될 경우, 이에 대한 추가적인 공시를 할 계획입니다. 2) 시장의 주요 특성ㆍ규모 및 성장성 당사는 전장시스템 및 커넥티트카 시장을 대응하기 위해 IoV 플랫폼 기술을 바탕으로 커넥티트 카 관련 부가가치 높은 각종 솔루션을 개발하고 있습니다. 당사가 개발 중인 IoV 관련 제품은 (1) 인포테인먼트시스템 (CID, Center Information Display), (2) T-Box(Telematics Box), (3) 차량용 디지털 복합기 (4) 첨단운전자보조시스템(ADAS, Advanced Driver Assistance Systems) 등 입니다. (가) 인포테인먼트시스템 (CID, Center Information Display) 자동차와 인터넷이 연결되는 IoV는 그 연결성만큼이나 운전자가 정보를 인식하고 통제하는 Interface가 중요합니다. 중국 자동차 산업 내 인포테인먼트(Information + Entertainment) 시스템에 대한 수요는 2009년~2017년 연평균 26%의 증가세 시현하고 있으며, 중국 커넥티드카 수요 확대에 따라 UI(User Interface) 관점에서 인포테인먼트 시스템에 대한 수요 동반 증가 예상됩니다. 당사가 개발한 CID는 다음과 같은 기능을 제공합니다. - \\xa0라디오 수신, 라디오+MP3, MP3+CD, MP4+NAVI 와 DVD+NAVI의 \\xa0다섯 가지 플랫폼 지원 - 세단, 트럭, 상용차와 건설기기 등의 전장시장 타겟 - 넓은 사용대역, 내진동, MP3, WMA, MP4 등 다양한 포맷 지원 - USB, SD카드 및 외부접속 AUX 단자 지원 - 우수한 성능의 디스플레이와 쉬운 조작성, 안정적인 성능 확보 (나) T-BOX (Telematics Box) Terminal System 중국 정부의 적극적인 IoV 정책 지원에 힘입어 텔레매틱스 시장 성장 기반 구축 진행 중입니다. 중국 공업정보화부 \\'차량 텔레매틱스 산업표준 구축 지침\\'에 따르면, 2018년까지 기초기술연구를 완료하여 2020년까지 5G 기반 텔레매틱스 산업표준을 완료하였습니다. 또한 중국 내 대형 자동차 기업들과 인터넷 기업 간 활발한 기술 협력을 기반으로 텔레매틱스 시장이 성장이 예상됩니다. 이에 당사는 차량용 T-BOX (Telematics Box) Terminal System 과 관련하여 중국 대표 상용차 업체인 Dongfeng Motor와 Foton Motor로부터 T-Box 위탁개발을 담당하고 있습니다. 중국의 자동차 환경기준 강화 및 수요 둔화로 업계 전반에 걸쳐 성장성 둔화가 진행되고 있으나, 로스웰은 IoV 관련 시스템 개발을 완료하고 관련 제품납품 등의 성과를 거두면서 스마트 IoV 전장시스템 분야에서 기술력을 인정 받았습니다. 한편, 차량용 T-Box 터미널 시스템은 차량 정보 수지 및 저장, 백그라운드 시스템과 모바일 APP의 통신, 차량 정보 표시 및 제어를 담당하는 역할을 하는 장치입니다. 이를 통해 자동차 상황 보고, 운행 보고, 고장 경고, 위반 조회, 스마트폰을 이용한 자동차 자금장치 개폐, 에어백 상태 점검, 위치 추적 등 다양한 기능을 제공합니다. (다) 차량용 디지털복합기 당사는 베이더우(북두, 北斗) 위성에 기반한 차량용 디지털복합기 개발을 완료하였습니다. 당사의 차량용 디지털복합기는 현재 버스 3만 5천대에 설치되어 시험 운행 중에 있으며, Foton 트럭에도 시범설치 운행 중에 있습니다. 차량용 주행 모니터링 시스템 장착이 확대되면서 중국 주요 상용차 업체인 Foton, JianLing, Yiqi, DongFeng, Zhongqi, Shanqi, JieFang 등과 공급 협의 중에 있습니다. 당사의 베이더우(북두, 北斗) 위성항법 데이터 터미널은 위성항법 시스템을 기반으로 한 자동차 주행기록기로 분류되며, 중국 공안부 및 교통부의 표준에 부합하는 제품입니다. 모든 3G/4G망을 통해 데이터 업로드 및 다운로드가 자유로우며, 고속, 고용량의 메모리 확장 및 내부 Web Server를 지원합니다. 또한 Dual Channel WiFi 서비스를 지원함으로써 높은 품질의 인터넷 서비스가 가능합니다. 본 제품은 로스웰의 커넥티드카 분야 진입 전략의 교두보가 되는 의미 있는 제품이며, 이를 시작으로 로스웰은 커넥티트카의 \\'H/W플랫폼\\', \\'S/W플랫폼\\' 및 \\'Big Data플랫폼\\'을 포괄하는 커넥티드카 솔루션 전문기업으로 성장할 것으로 예상하고 있습니다. (라) 첨단운전자보조시스템(ADAS, Advanced Driver Assistance Systems) 중국 자동차 시장이 본격 확대되고 안전에 대한 수요가 빠르게 증가하면서 다양한 안전 시스템 적용 확대되고 있습니다. ADAS는 카메라, 레이더, 레이저, 초음파 등의센서를 이용하여 차량 안팎의 환경 데이터를 측정하여 운전자를 보조하여 안전도를 획기적으로 높이는 기술로, 현재는 주로 위험 경고 및 조향보조의 단계에서 시장 형성되어 있습니다. 당사는 지난 5년간 15만Km 도로 테스트 통한 안정성을 확보하였습니다. \\xa0그 밖에도 중국 자동차기술연구원 기능성 테스트를 완료하였으며, 난징이공대학 산학협력 스마트자동차대회 참가하여 스마트 보조부문 수상하였습니다. 당사는 차세대 자동차 전장솔루션 전문기업으로 성장하기 위해 커넥티드카 관련 부가가치가 높은 각종 솔루션을 개발하고 있으며, 향후 이러한 커넥티드카 및 IoV 관련 기술을 활용하여 운전자, 차주, 자동차 관련 사업자 (보험, 주유, 정비 등) 간 부가가치 서비스를 창출하는 IoV플랫폼을 운영할 계획입니다.',\n",
       " \"II. 사업의 내용 1. 사업의 개요 가. 업계의 현황 (1) 산업의 특성 에스티씨라이프는 생명과학기업으로서 줄기세포 치료제 개발, 노화 관련 유전자 작용 기작연구, 유전자 치료제 개발, 신약 개발, 에너지워터 사업 및 농업생산성 향상에 대한 연구 개발, 화장품 상품기획 및 개발 등 연구중심의 기업입니다. 각 산업의 특성은 다음과 같습니다. 1) 줄기세포 사업 줄기세포는 스스로 증식하는 능력, (Self-renewal) 조직 세포로 분화되는 능력(differentiation potency) 및 호밍효과(Homming effect)를 가지고 있어 세포의 기능이상으로 초래되는 조직과 장기의 손상을 회복시켜 만성질환과 난치병의 치료를 가능하게 하여 인류에게 큰 희망을 주고 있습니다. 특히 성체 줄기세포는 분화가 끝난 조직 속의 줄기세포를 분리해 사용하므로 윤리적 문제가 없으며 부작용이 또한 없어 안전합니다. 또한, 만능줄기세포는 모든 인체조직의 세포로 분화가 가능하여 인체의 모든 손상된 장기 조직 및 세포를 대체하여 재생하므로 난치병질환 치료 및 생명연장을 할 수 있는 유일한 대안으로 떠오르고 있습니다. 2) 항노화 사업 전 세계적으로 인구 고령화의 빠른 진행과 소득 수준의 향상으로 건강에 대한 관심이 고조됨에 따라 항노화 산업이 빠르게 성장하고 있으며 국가 사회적 중요성도 높아지고 있습니다. 항노화 산업은 항노화 의약품, 항노화 의료기기, 항노화 식품, 항노화 화장품 등의 제품분야와 건강관리서비스, 외모관리서비스 등의 항노화 서비스분야로 구성할 수 있습니다. 항노화 치료제 시장은 지속되는 글로벌 고령화, 항노화 제품에 대한 인식 증가, 건강 노화산업이라는 신흥 생태계 부상 등으로 급격한 성장세가 예상됩니다. 항노화 치료제 시장의 급부상 배경에는 지속적인 연구를 통해 노화가 자연스러운 현상에서 질병 혹은 치료의 대상으로 패러다임이 변화한 것에서 찾을 수 있습니다. 현재 의료 관련 기업들뿐만 아니라 IT 기업들까지도 항노화에 관심을 두고 산업화를 빠르게 진행 중에 있습니다. 나아가 항노화 기술이 미래 유망기술로 선정되며 각국은 항노화 시장 선점을 위해 치열한 경쟁을 벌이고 있습니다. 3) 에너지워터 사업 에너지워터는 생명체를 유지하는 생명현상에 기능적으로 가장 적합한 물로 정의할 수 있습니다. 세포의 기능에 적합한 물을 공급하여 신체 스스로가 질병적 환경을 극복하고 정상으로 회복하도록 세포 내부와 외부에서 건강한 환경을 조성하는 기능을 가지고 있습니다. 에너지워터에 각인된 정보는 인체의 손상된 유전정보의 전달을 DNA와 RNA의 정보 전달 단계에서 점차적으로 복구시킵니다. 또한 에너지워터는 성장촉진, 면역력증가, 항산화 기능을 통한 세포 및 피부의 노화 억제 등 11가지의 주요 기능을 보유하고 있으며 농업, 공업, 화장품, 식품 등에 적용되고 있습니다. 에너지워터는 현재 ICID(국제 화장품 원료사전)에 등재되어 있으며 미국 FDA 안정성 테스트를 통과한 제품이기도 합니다. 4) 화장품 사업 화장품은 인체에 직접 사용됨에 따라 화학, 생물학, 약학, 생리학 등 기초과학과 합성 기술 등 응용기술이 복합적으로 작용되는 제품입니다. 화장품 산업은 정밀화학의 한 분야로 기술집약적 산업이며 부가가치유발효과와 고용유발 계수가 높은 고부가가치산업입니다. 2014년 한국보건산업진흥원의 보건산업 산업연관효과 분석에 따르면 부가가치유발계수는 화장품이 0.69로 자동차(0.60), 전기전자(0.51), 화학(0.45)보다 높으며 고용유발계수는 화장품이 9.93으로 자동차(6.00), 화학(4.00), 전기전자(3.97)보다 일자리 창출효과가 큰 것으로 파악되었습니다. 또한, 종전에는 내수 지향적 산업이었으나 최근에는 글로벌화 되고 있습니다. 5) 식품사업 식품산업은 인간생활의 가장 기본이 되는 먹거리를 다루는 산업이므로 위생 및 안전성에 대한 사회적 관심이 높고 다른 산업에 비해 경기에 대한 영향이 적고, 경제안정에 기여하는 성향이 있습니다. 또한 생산원가 중 원재료의 비중이 높고 연구개발비가 적게 드는 반면 제품차별화 및 신제품 정보전달을 위한 판촉비용 등 광고 선전비가 많이 투입됩니다. 그리고 부패 및 변질이 쉬워 생산에 계절적 영향을 많이 받는 것을 특징으로 합니다. (2) 산업의 성장성 등 1) 줄기세포 사업 성체줄기세포와 관련된 제품은 21세기 '바이오테크혁명'의 핵심으로 조명을 받고 있으며 첨단 분야 중 가장 성장성이 높을 것으로 예상하고 있습니다. 글로벌 줄기세포 시장은 줄기세포 치료제 및 치료기술과 관련된 임상 시험의 증가와 줄기세포 기반의 신약개발 활성화와 줄기세포 은행 서비스 산업 화 등에 힘입어 연평균 25.8%(‘17~25년’)씩 꾸준히 성장하고 있습니다. 2016년 약 500억 달러 규모였던 시장 규모는 2025년에 약 3,944억 달러 규모로 성장할 것으로 전망되며, 2025년 전체 치료제 중 성체 줄기세포가 69%, 유도만능 줄기세포(iPSC)가 14%, 배아 줄기세포가 13%를 차지할 것으로 전망했습니다(*출처 : Inkwood Research, Global Stem Cell Market Forecast : 2017-2025(2017.4)). 우리나라의 줄기세포시장은 아시아-태평양 지역에서 상대적으로 적은 비중을 차지하고 있으나, 줄기세포 치료제의 출시 및 상용화로 인하여 연 25%씩 성장하여 2018년 약 297억 원대 규모로 급성장하였으며 앞으로도 높은 성장세를 이어갈 것으로 예상되고 있습니다. 이에 우리 정부에서도 줄기세포 산업의 성장성과 잠재력을 인식하여 세계 수준의 줄기세포 인프라 확충을 위해 투자를 확대하는 추세입니다. 우리 정부는 바이오 헬스 산업을 신 성장 동력으로 키우고, 새로운 시장 기회의 선점을 위한 환경을 조성하고자, 2020년 첨단재생바이오법을 시행하였습니다. 첨단재생바이오법은 줄기세포 치료, 유전자 치료 등 바이오 재생 의료 산업을 육성하고 첨단 바이오 의약품의 개발 기간을 단축하고자 도입된 법으로, 이 법에서 도입된 임상 연구 제도, 신속 처리 제도 등을 통해 난치병 환자들에게 새로운 치료 기회를 제공하고, 첨단 바이오 의약품 개발 기간을 단축시킬 것으로 기대하고 있습니다. 또한, 각 국가에서는 코로나바이러스 감염에 의한 질환을 치료하기 위하여 백신을 개발하고 혈장을 이용한 치료법을 개발하는 등 발 빠르게 움직이고 있고 백신을 접종하기 시작하였습니다. 중국과 미국의 연구진들은 코로나 바이러스에 감염된 환자에 중간엽 줄기세포를 투여하여 환자의 상태를 호전시킨 것을 발표하는 등 세계 곳곳에서 중간엽 줄기세포를 이용한 코로나 바이러스 치료를 진행하고 있습니다. 2) 항노화 사업 우리나라를 비롯한 전 세계가 65세 이상 인구가 7%를 넘어서는 고령화 사회로 진입하였습니다(14% 이상 이면 고령사회로 판단하고 있습니다). 최근 생명공학정책연구센터는 ‘2023년 글로벌 항노화 치료제 시장 전망 보고서’를 통해 전 세계 항노화 치료제 시장은 2023년 6.8억 달러에서 연평균 17.5%로 성장해 2031년에는 24.7억 달러 규모에 이를 것으로 전망했습니다. 특히 2029년부터는 전년대비 성장률이 20%를 지속적으로 상회할 것으로 나타났습니다. 2022년 기준 글로벌 시장의 약 33%를 미국이 차지를 하면서, 항노화 치료제 시장을 주도하였습니다. 그러나 2031년 시장규모는 북아메리카(8.9억)가 가장 클 것으로 전망되며, 아시아 테평양은 연평균 17.9% 성장으로 가장 급격한 성장세를 보일 것으로 분석되었습니다. 항노화 치료제 시장은 고령인구 증가로 인한 사회적 비용 해결, 기존 항노화 제품(화장품, 수술, 보충제 등)의 한계를 극복할 대안으로 주목받고 있으며, 항노화 연구 및 파이프 증가로 인해 성장세를 보일 것으로 예상됩니다. 결국 고령화 사회가 진행될수록 항노화 산업은 성장할 수밖에 없는 상황입니다. 3) 에너지워터 사업 당사의 에너지워터 사업은 식량의 생산성을 증대시켜 기아에 시달리는 지구촌에 인류애를 실현하고, 에너지워터를 이용하여 사막화 현상이 가속화 되고 있는 지구 환경에 사막의 초지화 사업을 진행하여 지구의 녹지화에 이바지할 비전을 가지고 있습니다. 또한, 항산화 효과, 독성 완화, 세포의 안정 효과를 이용한 항노화, 피부개선, 세포재생 제품에 적용하여 화장품, 의약품 등에 응용할 수 있습니다. 이처럼 에너지워터는 식품, 농업, 축산, 환경, 화장품 등의 분야에서 활용이 가능하여 잠재적 시장가치가 무궁무진할 것으로 예상하고 있습니다. 4) 화장품 사업 노령화 사회로의 급속한 진행과 외모에 대한 높은 관심으로 소비층 확대 및 소비금액이 증가하였습니다. 세계 화장품 시장 규모는 2021년 3,572억 달러에 달했지만 매년 약 5% 증가해 2027년에는 5,083억 달러 규모로 성장할 것으로 예측되고 있습니다. 산업통상자원부의 발표에 따르면 2022년 우리나라 화장품 수출액은 총 79억6천200만 달러를 기록해 지난 2021년의 91억7천500만 달러보다 13.2%가 줄어든 성적표를 받았습니다. 우리나라 화장품 수출 실적은 지난 2000년 이후 최저 2.9%(2011년), 최고 75.4%(2010년)의 성장률을 기록하며 21년 연속 성장세를 기록하다가 처음으로 마이너스 성장에 머물렀습니다. 하지만 한국보건산업진흥원의 발표에 따르면 2024년의 수출액을 100억 달러로 전망하여 수출 증가로 전환될 것이라고 하였습니다. 5) 식품사업 현재 인구의 구조는 초고령사회 진입을 앞두고 있고, 1인 가구가 전체 가구의 30% 비중을 차지하고 있습니다. 또한, 근로시간의 단축에 따라 가정에서의 소비가 증대되고 있으며 온라인 쇼핑, 음식배달 서비스의 수요가 증가하고 있습니다. 다른 한편으로는 코로나19에 의해 비대면 환경에 따른 재택근무, 재택수업 등 가정소비의 증대와 코로나19 감염 우려와 함께 위생 및 안정성에 대한 인식이 증대되었습니다. 글로벌 리서치 기관인 스태티스타에 따르면 전 세계 2023년 기능성 식품시장 규모는 전년 대비 9.4% 증가한 3,369억 1,000만 달러(한화 약 44조 7,888억 1,540만 원)에 달할 것으로 전망되고 있습니다. 또한, 국내 건강기능 시장을 보면, 한국건강기능식품협회가 전문 리서치 기관과 함께 구매지표를 조사한 결과 2022년 건강기능식품 시장 규모가 6조 1429억 원으로 추산된다고 밝혔습니다. 이는 재작년 5조 6902억 원보다 8% 성장한 것입니다. 건강기능식품 시장은 코로나19 장기 유행과 전 연령에 걸친 건강 중시 트렌드에 힘입어 경기 침체에도 지속적으로 성장세를 보이며, 2019년 4조 8000억 원에서 4년 만에 25% 가까이 커졌습니다. 고령화에 따른 건강 관심 증대와 코로나19 사태를 겪으면서 건강상품 및 서비스 수요 증대로 건강 기능성 식품의 수요는 계속 높아질 것으로 전망됩니다. (3) 경기변동의 특성 1) 줄기세포 사업 줄기세포 사업은 만성 및 난치성질환의 치료를 대상으로 하며, 다운에이징, 얼굴 및 신체 성형, 신약 활성탐색, 독성시험 대체 등에도 응용이 가능합니다. 일본, 미국 등 선진국들은 줄기세포 치료의 활성화를 시행하고 있으며, 세계적으로 노인 인구의 증가로 노령화되는 추세이고 한국 역시 노령화 국가 중 하나가 될 것으로 예상됨에 따라 세계 줄기세포 시장이 더욱 확대될 것으로 예상되고 있습니다. 현재 줄기세포 치료제, 보관(은행), R&D서비스, 신약개발 스크리닝 등 다양한 연관 산업에서 경쟁 구도가 형성되고 있으며 다양한 질환별 치료제 및 치료기술의 개발이 활발히 일어나고 있습니다. 줄기세포는 세포치료제 및 신약개발 효율화, 조직공학 및 바이오 장기개발, 화장품 원료 등 다양한 분야에서 활용이 가능하며 타 분야와의 융합을 통하여 활용 범위가 확대되는 추세에 있습니다. 또한, 신약 개발을 효율화하기 위하여 신약개발 전 임상 단계에서 동물을 활용한 독성과 유효성 평가시험을 질환 맞춤형 인체 줄기세포로 대체하여 비용과 시간을 절약하는 방법으로 신약개발과정에서 활용하는 사업에도 점진적으로 응용되고 있습니다. 현재 급성 심근경색 치료제, 퇴행성 관절염 연골 결손 치료제, 크론병 치료제, 근위축성 측삭경화증 치료제가 세포치료제로서 허가를 받았고 향후 대사성 질환, 퇴행성 신경질환, 심장병 등 대부분 성인병과 노화에 따른 질병치료를 목표로 하는 제품들이 승인을 받을 것으로 예상되고 있습니다. 다른 한편으로는 줄기세포의 항암 효과를 이용한 연구가 진행되고 있습니다. 2) 항노화 사업 인구 고령화가 가속화되면서 구매력이 높은 고령층이 증가하고 있으며, 이들을 중심으로 건강한 노년을 보내기 위한 고가의 항노화 제품 및 서비스 시장이 형성되고 있습니다. 국민들의 평균수명이 길어지면서 외모와 건강 관리에 관심을 갖는 50대 이상의 소비자 ‘엑티브시니어(Active senior)’가 신 계층으로 부상하기 시작하고 그 수는 꾸준히 증가하고 있으며 엑티브시니어는 근검절약이 몸에 밴 실버세대와 달리 자신에 대한 투자를 아끼지 않고, 문화생활 등 여가 활동도 적극적으로 하며, 젊은 세대와 달리 오프라인 구매도 활발합니다. 또한, 경제적 수준이 향상되면서 건강 및 외모에 대한 관심이 높아져 젊은 층에서도 항노화 산업에 대한 수요가 증가하고 있습니다. 더불어 평균수명의 증가로 병원 의료 서비스, 화장품, 여가 등의 다양한 사업이 부각될 것으로 전망되고 있습니다. 3) 에너지워터 사업 에너지워터를 이용하여 화장품 분야에서는 차별화된 흡수성과 기능성을 가진 제품을 개발하고 있으며, 농업분야에서는 농업생산성을 향상시키는 효능을 가진 제품을 개발하고, 산업분야에서는 공업적 응용으로 유화기능이 뛰어나 연료용 벙커씨유의 유화를 위한 제품을 개발하고 있습니다. 이렇듯 다양한 기능을 가진 에너지워터는 경기변동이나 외부 환경변화와 상관없이 에너지절약 효과와 생산성 향상을 기할 수 있어 당사는 에너지워터를 이용한 다양한 제품을 개발하여 시판하는 노력을 계속하고 있습니다. 4) 화장품 사업 코트라는 ‘2024년 지역별 수출전략’에서 중국(기능성화장품), 일본(화장품, 네일 등), 북미(화장품), 동남아·대양주(화장품), CIS(기초화장품), 중동(화장품), 중남미(화장품), 서남아(스킨케어), 아프리카(화장품) 등 수출 유망상품으로 화장품을 선정했습니다. 그만큼 K-뷰티는 글로벌 어느 지역이라도 경쟁력이 있다는 분석입니다. 중국 시장을 보면 중국은 코로나 여파로 인해 소비심리 위축으로 소매판매 둔화가 지속 중이지만 정부 차원의 소비 촉진, 소득 증가로 신소비 트렌드가 나타나고 소비 계층이 분화 중입니다. 이에 유망품목으로는 기능성 화장품이 뽑혔습니다. 중국 소비자들은 주름개선, 리프팅 등 노화방지 기능을 선호하며 시장규모가 지속적으로 증가 중입니다. 동남아지역은 한류 열풍과 자연스러운 뷰티를 추구하는 트렌드가 유행 조짐을 보이고 있어 한국 화장품에 유리합니다. 현지에서는 좋은 품질 대비 경쟁력 있는 가격, 포장 디자인이 뛰어나다는 평가를 받고 있습니다. 다만 한국 컨셉트를 이용한 현지 브랜드가 비약적으로 성장하고 있어 차별화가 필요한 상황입니다. 5) 식품사업 코로나 19 사태에 의해 건강에 대한 관심이 높아지고 있으며 기능성 식품이나 유기식품 등 웰빙 건강식품에 대한 관심의 증가에 힘입어 종전보다 더 빠른 속도로 성장할 것으로 전망하고 있습니다. 한국의 식품산업은 화장품 등과 함께 수출을 선도할 5대 유망소비재에 선정(산업부)되어 육성 중이며, 해당 5대 유망소비재는 프리미엄 소비재라는 명칭으로 12대 신산업(산업부)에도 선정되었으며, 2015년 세계 식품시장 규모는 약 6.3조 달러이며, 2020년까지 7.7조 달러까지 성장 전망하며 2013년에서 2020년동안 연평균 1.9% 성장을 하며, 관련 생산 업체 수는 약 2만 5,000여 개, 종업원 수도 약 28만여 명에 달하는 전통적인 기반산업입니다. 특히 천연물을 이용한 식품에 신기술이 융합된 고부가가치식품은 최근의 안전 및 웰빙 등의 식품 소비트렌드와 부합하여 신 성장 동력 분야로 주목받고 있습니다. (4) 경쟁요소 1) 줄기세포 nEPS (newly Elicited Pluripotent Stem Cellwithout side effects by natural Compound)는 부작용 없는 만능줄기세포로 어떠한 인위적 조작 없이 중간엽 줄기세포에서 만능성을 유도한 세계 최초이자 유일한 부작용 없는 만능줄기세포입니다. 줄기세포치료연구원(STRI)은 모든 질병 치료를 위해 nEPS를 적용함에 있어 nEPS 세포를 이용하여 인체의 모든 장기세포를 구성하는 내배엽, 중배엽, 외배엽의 3개의 배엽층 세포로 분화를 했습니다. 나아가 모든 인체의 조직이나 장기를 만들어 나가고 있습니다. 현재 분당서울대병원과 간경화 및 간암에서 치료 및 항암 효과를 확인하였고, 1형, 2형 당뇨병을 치료할 수 있음과 수명연장 효과 및 다운에이징을 확인하였습니다. nEPS는 다양한 의료, 제약, 바이오산업, 화장품 사업에 활용되어 인류의 건강과 삶의 질을 향상시키는 게임체인저가 될 것입니다. 2) 항노화 사업 에스티씨생명과학연구원은 성균관대 신재균 교수 연구팀과 함께 세포가 모든 스트레스로 인해 산화되면서 발생하는 현대 질병 중 대표적인 퇴행성 질환, 특히 알츠하이머, 파킨슨병, 당뇨, 비만, 뇌발작, 간경화, 유방암, 간염에 대해서 작용하는 유전적인 인자인 p62를 발견하였습니다. 이 유전자는 미토콘드리아 기능을 유지함으로써 수명을 연장시키고 체내 활성산소를 조절함으로써 노화를 억제시키는 역할을 하는 핵심 유전자입니다. 이 결과물은 유전자 치료제 개발과 유전자를 통한 질병 예방 및 진단이라는 모든 과정에 사용될 수 있으며 전 세계를 대상으로 한 지적재산권과 논문은 당사에 귀속되어 지적재산권을 이용할 경우 상당한 로열티 수익이 예상되고 있습니다. p62유전자는 노인성 질병 퇴치를 위한 새로운 기작을 제시하고 있습니다. 또한, 줄기세포치료연구원(STRI)은 줄기세포를 이용한 항노화제 개발과 더불어 세포의 수명을 연장시켜 주는 물질 발굴 및 개발에 연구를 진행하고 있습니다. 또한, 수명과 직접적으로 관련이 있는 텔로미어 유전자와 줄기세포와의 상관관계 연구를 진행하여 줄기세포의 텔로미어 길이를 연장하는 성과를 거두었으며 체내에 줄기세포를 주입하였을 때 텔로미어의 길이가 늘어나 세포의 수명이 연장되는 것을 확인하였습니다. 3) 에너지워터 사업 에너지워터는 정상세포 속에 있는 물과 유사하게 분자구조를 바꾼 물로서, 체액의 이온밸런스를 조절하고 세포의 정상화 기능을 자극 및 활성화하여 세포의 신진대사를 개선하고 정상화하는 생체 기능수(水)입니다. 당사는 에너지워터의 효능에 관하여 에스티씨 생명과학연구원, 고려대학교 의과대학 생화학 교실, 고려대학교 한국분자의학영양연구소, 메타바이오 연구소에서 2000년 5월1일부터 2002년 4월30일까지 2년간 진행한 실험으로 여러 가지 효능을 밝힌 바 있습니다. 당사는 이러한 연구의 결과를 널리 홍보함과 동시에 새로운 개념과 응용성을 가진 신제품을 개발하고 있습니다. 또한, 에너지워터를 이용하여 항산화효과와 DNA안정화에 의한 세포 노화방지 프로그램 연구를 통하여 수명연장 연구를 진행하고 있습니다. 에너지워터는 에스티씨라이프가 판매하는 모든 화장품의 주원료로서 화장품 유해성분의 독성완화, 항산화 기능을 통한 세포 및 피부의 노화 억제, 상처의 신속한 회복능력 등의 효능이 매우 뛰어납니다. 또한 에너지워터는 현재 농업, 식품 등 제품에 적용되어 판매되고 있고, 해외시장에서도 그 제품력을 인정받고 있습니다. 4) 화장품 사업 ICID에 등재된 원료인 에너지워터를 이용한 에스티씨 화장품은 기능성 화장품과 줄기세포화장품을 비롯한 기초라인과 색조라인 총 360여 종이 있습니다. 당사는 국내 최초로 줄기세포 배양액 화장품을 개발하였고, KFDA가 지정한 임상기관에서 그 효능을 입증받았습니다. 특히 맞춤형 줄기세포 화장품을 개발하여 수출을 진행하고 있습니다. 또한 현재 트랜드에 맞는 다양한 제품군은 소비자들의 요구를 충족시키고 있습니다. ISO22716 시설을 갖춘 국내 최고의 생산시설에서 생산되는 당사 화장품은 국내 및 해외 수출을 통해 판매되고 있습니다. 특히 줄기세포의 성장인자를 ICID에 등재하였으며 이 줄기세포배양액을 함유한 마스크팩과 헤어라인 제품은 국내외 바이어들에게 좋은 영감을 주고 있습니다. 5) 식품사업 당사는 현재 활발하게 판매 중인 다이어트식품인 샹떼꼬르 및 샹떼꼬르 컷5에 대한 지속적인 품질 향상 및 기능 발전을 위한 연구를 통하여 판매를 증대하고 있습니다. 이외에 물에 녹는 칼슘인 카리온칼슘, 옥스늄, 셀렌 이스트라민, 굿모닝 로얄올포원젤리, 에스테포인원 감마리놀렌산, 하이폴리젤 프로폴리스 등에 대해서도 지속적인 연구개발을 통해 더 나은 품질 향상을 꾀하고 있습니다. 나. 회사의 현황 (1) 영업개황 및 사업부문의 구분 1) 영업개황 줄기세포치료연구원(STRI)은 중간엽 줄기세포로부터 세계 최초이며 유일한 부작용이 없는 만능 줄기세포를 개발하였고 이를 이용하여 연골, 신경, 골, 간, 지방, 피부 상피, 췌장 베타세포, 신장세포, 조혈모세포로의 분화에도 성공하였습니다. 이러한 기술들은 퇴행성 신경질환, 신경손상, 간경화증, 퇴행성 관절염, 골절, 피부성형, 화상, 당뇨질환, 신부전, 암 등의 치료에 활용될 수 있습니다. 한편, 줄기세포를 배양하는 과정에서 세포로부터 분비되는 다양한 단백질 및 성장인자 등을 함유하고 줄기세포로부터 이러한 단백질 성분들만을 분리한 줄기세포 배양액의 세포 성장 및 재생 효과에 대해 연구하였고, 이를 화장품 원료 사전인 ICID에 등재하였으며 코스메틱과 에스테틱 분야에 적용하여 제품을 개발하고 있습니다. 당사의 에너지워터를 이용한 화장품은 차별화된 흡수성과 기능성으로 고객 만족도가 높아 큰 호응을 얻고 있으며 농업생산성을 향상시키는 효능이 있어 농민들로부터도 좋은 반응을 얻고 있습니다. 유화기능도 뛰어나 공업적으로도 응용이 가능하여 연료용 벙커씨유의 유화를 위한 제품을 개발하고 있습니다. 이외에도 경기변동이나 외부 환경변화와 상관없이 에너지절약 효과와 생산성 향상을 꾀할 수 있어 당사는 에너지워터를 이용한 다양한 제품을 개발하여 시판하려는 노력과 함께 에너지프레이크솔트를 해외에 수출하고자 협상을 진행 중에 있습니다. 당사의 화장품 사업은 기능성화장품 위주로 개편되어, 국내외 시장의 호평을 받고 있습니다. 당사는 줄기세포 화장품을 국내 최초로 출시하여 판매하고 있으며, 줄기세포화장품을 포함한 기능성 화장품을 해외에 수출하고 있습니다. 특히 고객의 몸에서 채취한 자가 지방 줄기세포를 배양하거나 고객의 면역 항원성에 적합한 줄기세포를 배양하여 얻은 줄기세포 성장인자성분을 이용한 고객 맞춤형 화장품은 국외에 수출되고 있습니다. 또한 당사가 생산하는 양질의 줄기세포 배양액은 줄기세포 배양액 화장품, 의약품, 식품 등에 응용이 가능하여 세계 유수의 제조회사들의 매수 문의가 들어오고 있는 상황입니다. 특히 줄기세포배양액을 함유한 마스크팩과 헤어라인 제품은 국내외 바이어들에게 좋은 영감을 주고 있습니다. 식품의 경우 다양한 제품에 대한 수출 협상을 진행하고 있습니다. 2) 공시대상 사업 부문의 구분 대분류 중분류 소분류 소매업(자동차 제외) 의약품, 의료용 기구 및 화장품 소매업 화장품 및 화장비누 소매업 (2) 시장의 특성 줄기세포 치료시장은 북미대륙이 전체 대륙별 시장의 30% 이상의 시장을 점유하고 있는 등 선진국시장의 비중이 높지만 아시아지역의 줄기세포 시장도 꾸준히 증가하고 있습니다. 또한 화장품 산업은 사치재에서 필수재로의 화장품에 대한 인식의 변화와 외모에 대한 관심 증대로 인한 소비층 확대 및 소비금액 증가에 따른 미래지향적 산업이며, 정밀화학의 전형적인 특징을 두루 갖춘 산업입니다. 따라서 줄기세포와 화장품산업은 사회의 노령화와 삶의 질 추구에 따라 새로운 수요가 창출되며 거대한 시장형성이 기대되는 산업입니다. 특히 줄기세포 기술을 응용한 기능성화장품인 줄기세포 배양액 화장품의 출시 및 판매는 화장품의 패러다임을 바꿀 만큼 강력한 기술력을 보여 주었으며, 이에 대하여 시장은 매우 뜨겁게 반응하였습니다. (3) 신규 사업 등의 내용 및 전망 부작용 없는 만능줄기세포(nEPS)는 신 성장 동력으로 다양한 산업에 적용되고 새로운 패러다임을 인류의 삶에 선사할 것입니다. 줄기세포치료연구원(STRI)은 모낭세포, 심장근, 망막상피세포, 자연살해 세포 등의 분화 연구 및 줄기세포 분화연구를 토대로 훼손된 인체조직의 기능을 재생하기 위한 줄기세포 기반 바이오장기 유사체를 연구하고 있습니다. 또한 항노화 사업과 관련하여 줄기세포와 에너지워터를 이용한 다운에이징 컨셉의 제품을 개발하고 있으며 더불어 세포의 수명을 연장해주는 물질 발굴 및 개발에 연구를 진행하고 있습니다. p62유전자는 노인성 질병 퇴치를 위한 새로운 기작을 제시하고 있고, 에너지 워터를 이용한 항산화효과와 DNA 안정화에 의한 세포 노화 방지 프로그램 연구를 통하여 수명연장 연구를 진행하고 있어, 시장성이 매우 높은 것으로 평가받고 있어 매출의 증대가 기대되고 있습니다. 또한 줄기세포에 의한 수명연장과 다운에이징 연구가 가시적인 성과를 나타내고 있습니다. 현재 전 세계 인구 10명당 1명꼴인 5억 명 이상이 질환에 시달리고 있습니다. 비만인구 증가로 심장혈관계 질환 환자가 크게 늘어날 것으로 예상되며, 당뇨병 환자의 80%，심장병 환자의 70%，유방암 환자의 50%가 비만에 의한 질환이라는 연구 결과처럼 각종 만성질환은 물론 암발생 위험률까지 높이고 있는 실정입니다. 탄수화물이 20분 내에 물로 변환되는 기능을 가진 식품인 샹떼꼬르는 비만 개선 식품으로 각광받고 있으며 계속적인 기능 향상으로 인한 수요가 증가하여 매출이 향상될 것으로 기대하고 있습니다. 그리고 해외업체의 공급 요청에 따라 협상을 진행하고 있습니다. HSCM(인체유래줄기세포배양액)은 인체유래 줄기세포 배양 시 조건배양액(conditionedmedia)에 분비되는 성장인자 및 단백질로서 줄기세포가 배양되는 과정 중에 배출되는 상피세포 성장인자, 섬유아세포 성장인자, 혈관 형성 성장인자, 전환성장인자-베타 등 성장인자들과 함께 콜라겐, 엘라스틴, 세포외기질 성분 등으로 줄기세포 배양액 원료에는 맑고 건강한 피부를 유지하는 데 도움을 주는 단백질 성분이 들어 있어 피부관리에 탁월한 효과를 보이므로 에스티씨라이프가 줄기세포 배양액 시장의 판매 선두주자로서 주도권을 잡게 될 것입니다. 당사는 2024년을 세계 최고 기업으로의 도약을 준비하는 해로 여기며 매진함과 동시에 해외시장에 최첨단의 줄기세포 기술을 널리 알리고 세계시장을 이끌어 나아갈 것입니다. 새로운 모습으로 변화하는 (주)에스티씨라이프가 될 수 있도록 많은 관심과 격려를 부탁드립니다. 2. 매출에 관한 사항 가. 주요 상품 등의 현황 (2024.6.30현재) \\xa0 \\xa0 \\xa0 \\xa0 \\xa0 \\xa0 \\xa0 \\xa0 \\xa0 \\xa0 \\xa0 \\xa0 \\xa0 \\xa0 \\xa0 \\xa0 \\xa0 \\xa0 \\xa0 \\xa0 \\xa0 \\xa0 \\xa0 \\xa0 \\xa0 \\xa0 \\xa0 \\xa0 \\xa0 \\xa0 \\xa0 \\xa0 \\xa0(단위 : 백만원) 품 목 매출액(비율) 매출총이익(비율) 비 고 화장품 633(100%) 46(7.26%) - 나. 매출형태별 실적 (단위 : 백만원) 구 분 제37기반기 제36기 제35기 매출액 비 율 매출액 비 율 매출액 비 율 수 출 상품매출 - - - - - - 제품매출 - - - - - - 대행매출 - - - - - - 기 타 - - - - - - 소 계 - - - - - - 내 수 상품매출 633 100.00 1,313 100.00 1,524 100.00 제품매출 - - - - - - 대행매출 - - - - - - 기 타 - - - - - - 소 계 633 100.00 1,313 100.00 1,524 100.00 합 계 633 100.00 1,313 100.00 1,524 100.00 다. 판매경로 및 판매방법 등 (1) 판매조직 화장품 및 건강식품 사업 : 국내.외 영업팀 (2) 판매경로 ① 화장품 : 총판 (3) 판매방법 및 조건 직접수출 : 전신환 송금방식(T/T) 국내판매 : 현금판매 (4) 판매전략 화장품 사업부문의 매출액 증대를 위해 전국 대리점 추가개설 및 통신판매를 하고 있으며, 해외현지법인과 제휴를 통하여 해외시장개척을 도모하고 있습니다. 3. 영업설비 등의 현황 가. 영업용 설비 현황 (1) 국내 (단위 : ㎡, 명) 구 분 소재지 토 지 건 물 합 계 비고 본사 충남 천안 - 165.29㎡ 165.29㎡ 임차 지사 서울 용산 - 158.41㎡ 158.41㎡ 임차 합 계 - 323.70㎡ 323.70㎡ - (2) 해외 - 해당사항 없습니다. (3) 신규 지점 등의 설치계획 - 해당사항 없습니다. 나. 기타 영업용 설비 - 해당사항 없습니다. 다. 설비의 신설ㆍ매입 계획 등 - 해당사항 없습니다. 4. 파생상품 및 풋백옵션 등 거래 현항 가. 파생상품계약 체결 현황 - 해당사항 없습니다. 나. 리스크 관리에 관한 사항 - 해당사항 없습니다. 5. 경영상의 주요계약 등 - 해당사항 없습니다. 6. 연구개발활동 가. 연구개발활동의 개요 (1) 연구개발 담당조직 - 생명과학연구소 : 신약개발 연구소, 생활과학연구소 (2) 연구개발비용 (단위 : 천원) 과 \\xa0 \\xa0 \\xa0 목 제37기 반기 제36기 제35기 원 \\xa0재 \\xa0료 \\xa0비 - - - 인 \\xa0 \\xa0건 \\xa0 \\xa0비 - - - 감 가 상 각 비 - - - 위 탁 용 역 비 - - - 기 \\xa0 \\xa0 \\xa0 \\xa0 \\xa0 \\xa0타 - - - 연구개발비용 계 - - - 회계처리 판매비와 관리비 - - - 제조경비 - - - 개발비(무형자산) - - - 연구개발비 / 매출액 비율 [연구개발비용계÷당기매출액×100] - - - 나. 연구개발 실적 특허등록 - 국내 특허등록 제1063299 줄기세포 배양액을 포함하는 화장품 조성료 7. 그 밖에 투자의사결정에 필요한 사항 가. 외부자금조달 요약표 [국내조달](2024.6.30) (단위 : 백만원) 조 달 원 천 기초잔액 신규조달 상환등감소 기말잔액 비고 은 \\xa0 \\xa0 \\xa0 \\xa0 \\xa0 행 - - - - - 보 \\xa0험 \\xa0회 \\xa0사 - - - - - 종합금융회사 - - - - - 여신전문금융회사 - - - - - 상호저축은행 - - - - - 기타금융기관 - - - - - 금융기관 합계 - - - - - 회사채 (공모) 537 - - 537 - 회사채 (사모) 3,562 - - 3,562 - 유 상 증 자 (공모) - - - - - 유 상 증 자 (사모) - - - - - 자산유동화 (공모) - - - - - 자산유동화 (사모) - - - - - 기 \\xa0 \\xa0 \\xa0 \\xa0 \\xa0 타 - - - - - 자본시장 합계 4,099 - - 4,099 - 주주ㆍ임원ㆍ계열회사차입금 - - - - - 기 \\xa0 \\xa0 \\xa0 \\xa0 \\xa0 타 - - - - - 총 \\xa0 \\xa0 \\xa0 \\xa0 \\xa0 계 4,099 - - 4,099 - [해외조달](2024.6.30) (단위 : 백만원) 조 달 원 천 기초잔액 신규조달 상환등감소 기말잔액 비고 금 \\xa0융 \\xa0기 \\xa0관 - - - - - 해외증권(회사채) - - - - - 해외증권(주식등) - - - - - 자 산 유 동 화 - - - - - 기 \\xa0 \\xa0 \\xa0 \\xa0 \\xa0 타 - - - - - 총 \\xa0 \\xa0 \\xa0 \\xa0 \\xa0 계 - - - - - - 해당사항 없습니다. 나. 최근 3년간 신용등급 평가일 평가대상 유가증권 등 평가대상 유가증권의 신용등급 평가회사 (신용평가등급범위) 평가구분 - - - - - - 해당사항 없습니다. 다. 기타 중요한 사항 - 해당사항 없습니다. 8. 기업인수목적회사의 합병추진 - 해당사항 없습니다 1. 사업의 개요 2. 주요 제품 및 서비스 3. 원재료 및 생산설비 4. 매출 및 수주상황 5. 위험관리 및 파생거래 6. 주요계약 및 연구개발활동 7. 기타 참고사항\",\n",
       " \"II. 사업의 내용 【 통신 사업부 】 1. 사업의 개요 가. 업계의 현황 (1) 산업의 특성 ① 사회 구조의 복잡화, 다변화 → 정보욕구의 세분화, 다양화 ② Internet기술의 발달, 급속한 PC의 보급 확대, Digital 통신기술의 등 장 → 통신망의 광대역화와 고속화 필요성 대두 → 초고속통신망의 수요 창출 ③ 초고속통신수단의 종류 xDSL(전화선을 이용) HFC(광.동축 혼합망을 이용) PLC(전력선 이용) FTTH(광 케이블을 이용) 무선통신망 등이 있음. ④ 각종 통신기술의 발달과 더불어 방송과 통신, 컴퓨터가 융합되고 있음 ⑤ 과거 CATV망으로만 활용되던 HFC 망이 Upgrade를 통하여 초고속 통신망으로 전용되면서 최근에는 IPTV Service에도 활용되고 있음. (2) 산업의 성장성 ① 세분화, 전문화, 다변화된 각종 정보수요의 급격한증가 → 초고속 전송기술, 광대역 통신기술, 위성통신기술 등과 관련 기기의 급속한 발전 → 방송, 통신, 컴퓨터 산업의 산업간 경계가 붕괴 → 새로운 형태의 기술과 서비스(B to B, B to C 등)가 등장 ② Digital 통신기술과 관련 기기의 출현 ③ 광대역 통합망(BcN) 인프라 구축에 필요한 초고속 광 가입자망(FTTH) 등차세대 네트워크 제품의 출현 ④ 지상파, 위성을 통한 디지털 방송 개시, 화상회의 등 정보의 대용량화 → 통신수단의 광대역화, 초고속화 촉진 → HFC망이 최적의 수단으로 사용 → HFC망의 업그레이드 필요성 대두 및 FTTH망의 보급 ⑤ 초고속인터넷 인구의 증가로, 망의 세분화와 확장에 따른 지속적 수요 창출 ⑥ 종합유선방송사업자들의 기존 CATV망의 광대역화를 위한 Upgrade에 따른 수요창출 ⑦ 중국, 인도, 태국, 베트남, 스리랑카 등 후발국들의 초고속통신망에 대한 신규 수요창출로 관련 산업의 지속적 성장 예상 (3) 경기변동의 특성 ① HFC 전송망기기사업은 일반 소비재와 달리 기간산업에 가까운 산업으로서, 경기변동에 그리 민감하지는 않음. 단,\\xa0 망 구축사업자들의 사업재편, 신규투자나 사업의 확장을 보류, 포기할 경우 그 영향을 벗어날 수는 없음. ② 새로운 형태의 제품이나 보다 우수한 제품이 출현 하더라도 상당 기간의신뢰성 인증기간 (통상 2년 이상)이 필요하며, 또한 시스템 전체의 특성을 유지하기 위하여 여간해서는 교체되지 아니하는 특성을 지님. (Life Cycle이 긴 편임.) ③ 겨울철 (2개월)과 여름철 우기 (1개월)에는 설치공사가 어려운 관계로 다소계절적 영향을 받음. (4) 경쟁요소 ① 경쟁의 특성 : 완전 경쟁 ② 진입의 난이도 : 전체 시스템으로서 성능이 보장되어야 하는 바, 제품의 개발, 생산, 설계, 시공 등 전분야에 걸친 해결능력을 지니지 못하면 경쟁에 참여불가. ③ 당사 제품의 경쟁요소별 경쟁력 비교 구분 당사 제품 국내 제품 해외 제품 비 고 품질 ◎ ◑ ◎ ISO9001 / ISO14001 가격 ◎ ◎ △ 부품 국산화 / 원가절감의 Know-How 납기 ◎ ◎ △ 양산체제 구축에 따른 월등한 생산성 A/S ◎ ◎ △ 신속하고 완벽한 A/S 체제 기타 ◎ ◑ ◎ HFC 망의 Total Solution 제공. 수년 간에 걸친 Field Test로 신뢰성 입증 ( 주 : ◎ - 우수, ◑ - 보통, △ - 열위 ) ※ 상기 표는 당사의 분석 자료임. (5) 자원조달상의 특성 ① 주요 원자재의 조달 - 수입자재 : Hybrid IC, Laser Diode 등이 있으며, 통상 납기가 8주 이상으로 긴 편이나, 계획생산으로 사전 발주에 의거, 비축을 함으로써 납기로 인한 불편을 최소화하고 있음. - 국내 조달 자재 : Al-Diecasting, SMPS, PCB, Resistor, Ceramic Capacitor 등이 있으며, 대부분 범용 자재로서, 수급상의 문제가 거의 없음. ② 노동력 수급 국내에서는 RF 회로설계 분야 인재가 부족한 입장으로, 대부분의 기술 인력을 자체 내에서 양성, 확보하게 되는 바, 장기근속 기술자들이 대부분이며, 생산기능직 인원이나, 생산관리직 인원의 공급은 원활한 편임. (6) 관계 법령 또는 정부의 규제 정보 선진화 사업은 정부가 주력 육성 산업으로 정하고 학교, 군, 정부기관 등에 초고속 정보통신망을 조기에 구축하여 명실상부한 정보선진국에로의 진입을 추진하고 있는 바, 현재 법적 규제 사항은 전혀 없으며, 관련 산업을 육성, 지원하기 위한 정책을 계속적으로 시행하고 있는 상황이다. (7) 기타 HFC망 전송로기기는 국산기기가 수년간에 걸쳐 신뢰성이 검증된바, 외국 제품을 선호하는 일부 사업자들도 점차 국산장비로 전환하고 있는 실정이다. ※ 용어해설 1. e-BUSINESS(electronic Business) - 전자상거래 인터넷을 이용한 상거래 형태 2. CATV(Cable TV) - 유선방송TV 동축 케이블이나 광 케이블 등의 선로를 통하여 TV신호를 수신하는 시스템 3. SMATV(Satellite Mast Antenna TV) - TV 공시청 아파트 등 집단 거주지역에서 공시청용 위성안테나를 통하여 TV신호를 수신하는 시스템 4. HFC전송망(Hybrid Optic Fiber & Coaxial Cable 전송망) 광대역 무선 지역 통신망 CATV나 초고속정보통신을 위하여 광케이블이나 동축케이블 등의 선로를 통하여 TV 신호나 데이터 등 정보신호를 송ㆍ수신할 수 있도록 포설된 광케이블망, 동축케이블망, 망에 설치되는 각종 신호처리 기기 등을 통틀어 일컬음. 5. FTTH(Fiber To The Home) - 댁내 광가입자망 6. OLT(Optical Line Termination) - 집중국용 광송수신 장비 7. ONT(Optical Network Termination) - 가입자용 광송수신 장비 8. HON(Hybird Overlay Node) - HFC ONU와 PON OLT가 결합된 솔루션 장비 나. 회사의 현황 (1) 영업개황 및 사업부문의 구분 ① 생산 및 취급품목 - HFC 전송망기기 (옥외용 광 송수신기, 간선분기증폭기, 연장증폭기, Tap-off, 전력삽입기, 낙뢰방지기 등) - Headend기기 (광 송신기, 광 수신기, Modulator, Demodulator, Divider, Combiner 등) - CATV / SMATV 기기 (구내용양방향증폭기, 분배기, 분기기, TV Wall Outlet, TV 수신 안테나, 혼합기, 부스터, 위성수신기기, Digital Transmodulator 등) - FTTH 기기 (ONT, OLT) - Cable Modem docsis 3.0 - 망 감시 시스템 (Network Management System) - EMV Card Reader - Home Network 기기 (L2/L3 Switch, Server, Gateway, Wallpad) - 상기 관련 시설 공사의 설계, 감리, 시공 ② 주요 거래처 - HFC 망기기 기간망사업자 : LG유플러스, SK브로드밴드,CJHV,\\xa0 복수종합유선방송사업자(MSO) 및 중계유선방송사업자 등 - CATV/SMATV 기기 건설회사 : 롯데건설, 현대산업개발,\\xa0 GS건설, 현대건설,\\xa0 포스코, 대우건설, 등 가전기기 취급 도매상 등 전국 300여 거래선 - RF 오버레이(RF Overlay) 관련기기 케이블 방송 사업자 : CJ헬로비전 등 ③ 공시대상 사업부문의 구분 사업부문 표준산업분류코드 사 업 내 용 제조부문 26410 유선 통신장비 제조업 제조부문 26421 방송장비 제조업 제조부문 26529 기타 음향기기 제조업 제조부문 26299 전자부품제조업 (2) 시장점유율 등 ① HFC 망기기 : 약 50 ~ 63% (당사 추정) HFC시장의 경쟁사로서는 국내에는T사, 해외에는 Scientific Atlanta, General Instrument 등 이 있습니다. ② CATV기기 : 약 40 ~ 50% (당사 추정) ③ SMATV 기기 관련 공사업 : 약 20 ~ 30% (당사 추정) 당사는 오랜 업력과 독점적 지위를 바탕으로 광전송기기 및 동축전송기기는 대역폭 확장에 따른 기존 망 업그레이드 수요로 매출이 안정적으로 유지되고 있으며, HFC망기기 시장의 80%를 텔라움과 양분하는 등 높은 시장 지배력을 보유하고 있습니다. (3) 시장의 특성 당사의 사업품목을 대분류하면 3가지로 구분할 수 있으며 각 시장특성은 아래와 같음. ① HFC 망기기 - 기간망 사업자( 예 : LGU+, SK브로드밴드 등 )들의 사업계획 및 사업의 부침과 밀접한 관계. - SO들 간의 상호 M&A에 의한 이합집산으로, 대형 MSO화 경향이 있으며 이에따라 중앙 집중식 구매형태를 갖추는 경향을 보임. - 인터넷 인구의 증가 추세와 밀접한 관계 현상을 보임. ② CATV / SMATV 기기 - 집단거주형태(아파트, 다가구주택, 연립주택 등)가 건설경기의 주를 이루면서 관련 경기의 영향을 크게 받음. - 태풍, 낙뢰 등 악천후로 인한 관련기기의 파손 등으로, 일시적 수요급증 현상이 있음. - 기존 오래된 아파트 등에서의 양방향 서비스를 위한 교체 수요가 있음. - CATV, 위성방송수신 가입자 증가로 상대적으로 가정용 기기의 수요는 줄고 있음. ③ 관련 공사업 - 건설 경기의 영향을 크게 받음. - 관련 공사업체의 난립으로 치열한 경쟁을 보이고 있음. - 대형 건설업체의 경우 엄격한 품질검사로, 당사 제품에 대한 신뢰도 확고함. (4) 조직도 조직도-1 2. 주요 제품 및 원재료 등 가. 주요 제품 등의 현황 [2020.12.31. 현재] (단위 : 천원,%) 사업부문 매출유형 품 목 주요상표등 매출액 비율 통신기기제조 제품 유선 통신장비 동양텔레콤㈜ 8,588,356 67.6 상품 및 공사 안테나 및 RF부품 외 동양텔레콤㈜ 4,109,218 32.4 합\\xa0 \\xa0 \\xa0 계 12,697,574 100 나. 주요 제품 등의 가격변동추이. [2020.12.31. 현재] (단위 : 천원) 품 목 2020년도 (제52기) 년간 2019년도 (제51기) 년간 2018년도 (제50기) 년간 광전송기기 내수 842 843 843 동축전송(로)기기 〃 152 154 154 CATV/SMATV기기 〃 50 51 51 안테나(위성ANT 포함) 및 RF부품 〃 60 60 60 통신공사(CATV/HFC망) 〃 142 142 142 수출용 증폭기 수출 - - - (1) 산출기준 연중 단순평균가격방법 연중 2회이상 단가 변동시 평균단가를 산출하여 적용 (2) 주요 가격변동원인 1. 환율변동으로 인한 요인 2. 국내 원자재가격 등락에 의한 요인 다. 주요 원재료 등의 현황 [2020.12. 31. 현재] (단위 : 천원,%) 구분 매입유형 품목 구체적 용도 매입액 비율 비고 통신기기 제조업 원재료 LASER DIODE 외 광신호 전송 외 6,466,978 97.1 - 외주가공비 TBA,ONU 외 MAIN PCB ASS'Y 외 191,993 2.9 - 합\\xa0 \\xa0 \\xa0 \\xa0 \\xa0 \\xa0 계 6,658,971 100 - 라.주요 원재료 등의 가격변동추이 [2020.12. 31. 현재] (단위 : 원) 품 목 제 52기 제 51기 제 50기 트랜스 국\\xa0\\xa0 내 3,900 3,900 4,000 케이스 국\\xa0\\xa0 내 1,300 1,300 1,330 SMPS 국\\xa0\\xa0 내 30,500 30,000 30,625 I\\xa0\\xa0 C 국\\xa0\\xa0 내 17,790($8.43) 15,450($14.04) 15,450($14.04) 다이캐스팅 케이스 국\\xa0\\xa0 내 26,000 26,000 27,000 (1) 산출기준 ① 연중 2회 이상 단가 변동시 평균단가를 산출하여 적용 ② 1품목에 2개 이상의 규격인 경우 합계금액의 평균단가 적용 (2) 주요 가격변동원인 ① 수입자재 : maker 의 출고 가격 조정 및 환율, 관세의 변동에 의함 ② 국내자재 : 원자재 원료가격 및 제반비용 등의 변동에 의함 3. 생산 및 설비에 관한 사항 가. 생산능력 및 생산능력의 산출근거 (1) 생산능력 [2020.12.31. 현재] (단위 : 천원) 사업부문 품 목 사업소 제 52기 연간 제 51기 연간 제 50기 연간 수 량 금 액 수 량 금 액 수 량 금 액 통신기기제 조 광 전송기기 용인 공장 14,821 4,544,514 15,631 4,952,614 28,600 7,012,762 동축 전송기기 용인 공장 44,759 5,365,207 37,925 5,428,700 58,583 6,367,937 기타 (전원공급기외) 용인 공장 3,233 2,063,956 3,816 4,191,344 5,610 2,539,037 합\\xa0\\xa0 계 62,813 11,973,677 57,372 14,572,658 92,793 15,919,736 ※ 잔업 포함한 최대생산능력으로 산출한 것임 (2) 생산능력의 산출근거 [2020.12. 31. 현재] 제품 품목별 항 목 제 52기 연간 제 51기 연간 제 50 연간 광 전송기기 능력 / 1인, 1일 8 대 10대 11 대 근무인원 / 일 평균 7 명 6명 10.0 명 투입인원 / 년도 1,722 명 1,512명 2,520.0 명 생 산 능 력(대) 13,474 명 15,631명 26,503 대 동축 전송기기 능력 / 1인, 1일 17 대 15대 23 대 근무인원 / 일 평균 10 대 10대 5 대 투입인원 / 년도 2,460 명 2,520명 1,260.0 명 생 산 능 력(대) 40,690 대 37,925대 29,448 대 기타 (전원공급기외) 능력 / 1인, 1일 6 대 8대 17 대 근무인원 / 일 평균 2 명 2명 11 명 투입인원 / 년도 492 명 504명 2,772.0 명 생 산 능 력(대) 2,939 대 3,816대 47,612 대 나.\\xa0 당해 분기의 가동률 [2020. 12. 31. 현재] 사업소(사업부문) 연간가동가능일 연간실제가동일 평균가동률 용인공장 246일 212일 86.0% ※ 평균가동률은 생산현장에서 생산품목이 바뀔 때 발생되는 손실을 감안한 것입니다. 다. 생산설비의 현황 등 (1) 생산설비의 현황 [자산항목 : 구축물] (단위 : 천원) 사업소 소유 형태 소재지 구분 기 초 장부가액 기말증감 기말상각 기말 장부가액 비고 증가 감소 통신 사업부 자가보유 경기도 용인시 기흥구 구성로 262-14 - 3.477 - - 522 2,955 - 합 계 3.477 - - 522 2,955 - [자산항목 : 기계장치] (단위 : 천원) 사업소 소유 형태 소재지 기초 장부가액 기말증감 기말상각 기말 장부가액 비고 증가 감소 통신 사업부 자가보유 경기도 용인시 기흥구 언동로 53-11 외 306,200 - 114,846 132,542 58,812 - 합 계 306,200 - 114,846 132,542 58,812 - [자산항목 : 차량운반구] (단위 : 천원) 사업소 소유 형태 소재지 구분 기 초 장부가액 기말증감 기말상각 기말 장부가액 비고 증가 감소 통신 사업부 자가보유 경기도 용인시 기흥구 구성로 262-14 - 17,415 - 9,247 8,165 3 - 합 계 17,415 - 9,247 8,165 3 - [자산항목 : 공구와기구] (단위 : 천원) 사업소 소유 형태 소재지 구분 기 초 장부가액 기말증감 기말상각 기말 장부가액 비고 증가 감소 통신 사업부 자가보유 경기도 용인시 기흥구 언동로 53-11 - 1,321 - 114 1,077 129 - 합 계 1,321 - 114 1,077 129 - [자산항목 : 비품] (단위 : 천원) 사업소 소유 형태 소재지 구분 기 초 장부가액 기말증감 기말상각 기말 장부가액 비고 증가 감소 통신 사업부 자가보유 경기도 용인시 기흥구 구성로 262-14 - 44,835 - 2,147 23,854 18,834 - 합 계 44,835 - 2,147 23,854 18,834 - (2) 설비의 신설ㆍ매입 계획 등 상기 건과 관련하여 진행중이거나 향후 투자예정인 사항은 현재 없음. 4. 매출에 관한 사항 가. 매출실적 (단위 : 천원) 사업 부문 매출 유형 품 목 제 52기 연간 제 51기 연간 제 50기 연간 수량 금액 수량 금액 수량 금액 통신 기기 제조 제품 유선통신기기 57,951 8,588,356 60,011 9,595,830 73,853 10,624,368 상품 안테나 및 RF부품 372,055 1,673,944 664,788 2,531,476 603,763 2,787,761 공사 통신공사 - 1,770,958 - 2,659,545 - 2,743,485 기타 기\\xa0 타 - 664,316 - 523,602 - 511,814 합\\xa0\\xa0 계 430,006 12,697,575 724,799 15,310,453 677,616 16,667,428 나. 판매경로 및 판매방법 등 (1) 판매조직 당사의 판매조직은 총괄 관리책임 이사 아래 개의 3영업팀으로 구성되고,\\xa0 디지털영업팀 아래로 전국 지사가 관리되고 있음. -\\xa0 판매 조직도 영업부 조직도 (2) 판매경로 (단위 : 천원) 매 출 유 형 품\\xa0 \\xa0\\xa0 목 구\\xa0 \\xa0 분 판 매 경 로 판매경로별매출 유선통신기기 유선통신기기 내\\xa0 수 직\\xa0 판 8,588,356 안테나 및 RF부품 내\\xa0 수 직\\xa0 판 1,673,944 통신공사 내\\xa0 수 직\\xa0 판 1,770,958 기\\xa0\\xa0 타 내\\xa0 수 직\\xa0 판 664,316 합\\xa0 \\xa0\\xa0 계 12,697,575 (3) 판매방법 및 조건 - 공급계약 체결이후 제품의 납품 완료 및 성능 테스트 완료후 60일이내 100% 현금\\xa0 \\xa0 결재 하는 방식. - 입찰 또는 주문에 의한 경우 : 납품 또는 공사완료후 30일이내 100% 부대비용은 주문자의 특별한 경우를 제외하고는 당사 부담임. (4) 판매전략 - 제품의 고급화와 특수용도의 제품개발로 고부가가치 위주의 판매정책 - 철저한 품질관리로 제품경쟁력 학보 - 해외 생산거점 확보를 통한 물류비 절감 및 납품기간 단축 등으로 해외거래처 확보 - 지속적인 공정개선을 통하여 제품원가를 감소시켜 가격경쟁력 확보 - 신제품 개발을 통한 매출증대 5. 수주상황 - CATV 공사 (기간 : 2020년 01월 01일 ~ 2020년 12월 31일)\\xa0 \\xa0 \\xa0 \\xa0 \\xa0 \\xa0 \\xa0 \\xa0 \\xa0 \\xa0 \\xa0 \\xa0 \\xa0 \\xa0 \\xa0 \\xa0 \\xa0 \\xa0 \\xa0 \\xa0 \\xa0 \\xa0 \\xa0\\xa0 (단위 : 원) 발\\xa0 주\\xa0 처 품\\xa0 \\xa0 목 수주총액 기납품액 수주잔고 롯데건설 외 CATV 설치공사 외 4,121,202,137 2,070,991,310 2,050,210,827 6. 시장위험과 위험관 당사는 환리스크와 관련하여 별도의 관리는 하지 않고 있으나, 환률의 급변동시 수입거래선 또는 국내 거래선과 단가 재협의를 통하여 관리하고 있습니다. 7. 파생상품거래 현황 당사는 현재 파생상품거래를 하고있지 않습니다. 8. 경영상의 주요계약 등 해당사항 없습니다. 9. 연구개발활동 가. 연구개발활동의 개요 당사는 경기도 용인시 기흥구 구성로 262-14에 동양텔레콤 통신사업부 기술연구소를 운영하고 있습니다. 나. 연구개발 담당조직 당사 통신사업부 연구개발 담당조직은 다음과 같습니다. - 연구개발담당조직 명칭 연구 전담인원 연구분야 동양텔레콤㈜ 기술연구소 5명 제품 및 부품 연구개발 연구소 조직도 다. 연구개발비용 당사의\\xa0 최근 3개년간 연구개발비용은 다음과 같습니다. (단위 : 천원) 과 목 제52기 제51기 제50기 비 고 원 재 료 비 - - - 인 건 비 231,150 513,572 500,230 - 감 가 상 각 비 27,739 28,259 39,517 - 위 탁 용 역 비 - - 기타(경상개발비) 170366 188,224 185,929 - 연구개발비용 계 429,255 724,055 725,676 - 회계처리 판매비와 관리비 429,255 724,055 725,676 - 개발비(무형자산) - - - 연구개발비 / 매출액 비율 [연구개발비용계÷당기매출액×100] 3.38% 4.73% 4.35% - 라. 연구개발 실적 당사의 최근 3개년간 연구개발실적은 다음과 같습니다. 연구과제 Main Frame NMS 장비 연구기관 동양텔레콤 부설 기술연구소 연구결과 상품화 완료 제품명칭 MFM-1000N 개발기간 2017.4. ~ 2017.8. 연구과제 1.2GHz ONU 연구기관 동양텔레콤 부설 기술연구소 연구결과 상품 개발 완료 제품명칭 DFOTR-G104 개발기간 2017.5. ~ 2017.8. 연구과제 1.2GHz TBA 연구기관 동양텔레콤 부설 기술연구소 연구결과 상품 개발 완료 제품명칭 STBA-G402 개발기간 2017.5. ~ 2017.7. 연구과제 옥외용 기가케이블 장비 연구기관 동양텔레콤 부설 기술연구소 연구결과 상품 개발 완료 제품명칭 - 개발기간 2017.9. ~ 2018. 1. 연구과제 G.Hn 전송 장비 연구기관 동양텔레콤 부설 기술연구소 연구결과 상품 개발 완료 제품명칭 DGC-T1200 개발기간 2017.11. ~ 2018.2. 연구과제 OFA-2000 NMS 장비 연구기관 동양텔레콤 부설 기술연구소 연구결과 상품 개발 완료 제품명칭 DNM-P112E 개발기간 2018.1. ~ 2017.3. 연구과제 단방향 OUN 감시장비 연구기관 동양텔레콤 부설 기술연구소 연구결과 상품 개발 완료 제품명칭 DNM-P216U 개발기간 2017.5. ~ 2018. 6. 연구과제 UHD 신호 처리기 연구기관 동양텔레콤 부설 기술연구소 연구결과 상품 개발 완료 제품명칭 DYT-UHD2000 개발기간 2018.11. ~ 2019.2. 연구과제 IoT망 기반 HFC 장비용 NMS 모듈 연구기관 동양텔레콤 부설 기술연구소 연구결과 상품 개발 완료 제품명칭 ONN-O47N 개발기간 2018.12. ~ 2019.3. 연구과제 무선 비상벨 연구기관 동양텔레콤 부설 기술연구소 연구결과 상품 개발 완료 제품명칭 DWEB-100 개발기간 2017.9.1. ~ 2019. 3. 연구과제 광송수신기 통합 모둘 연구기관 동양텔레콤 부설 기술연구소 연구결과 상품 개발 완료 제품명칭 개발기간 2019.4. ~ 2019.7. 연구과제 Multiport EDFA 연구기관 동양텔레콤 부설 기술연구소 연구결과 상품 개발 완료 제품명칭 Multiport EDFA 개발기간 2018.10. ~ 2019.5. 연구과제 DMB 중계기 (Indoor Type) 연구기관 동양텔레콤 부설 기술연구소 연구결과 상품 개발 완료 제품명칭 FDM-200S 개발기간 2019.7. ~ 2019.10. 연구과제 하향 광 수신기 연구기관 동양텔레콤 부설 기술연구소 연구결과 상품 개발 완료 제품명칭 FOR-G8000A 개발기간 2019.9. ~ 2019.12. 연구과제 고출력 ONU 연구기관 동양텔레콤 부설 기술연구소 연구결과 상품 개발 완료 제품명칭 DFOTR-G204CWH 개발기간 2019.11. ~ 2019.12. 연구과제 카드식 분배기, 결합기 연구기관 동양텔레콤 부설 기술연구소 연구결과 2종 개발 완료 제품명칭 RCDP-4FTP, RCCP-4FTP 개발기간 20.10~20.12 연구과제 랙 실장형 하향광 수신기 연구기관 동양텔레콤 부설 기술연구소 연구결과 1차 버전 개발 완료, 2차 진행 중 제품명칭 FOR-G1000N 개발기간 2020.4. ~ 진행 중 연구과제 OBI Free RFoG 연구기관 동양텔레콤 부설 기술연구소 연구결과 개발 진행 중 제품명칭 DFOTR-G45R(OF)_가칭 개발기간 2020.10. ~ 진행 중 【PCB사업부】 당사의 PCB사업부는 2010년 사업을 시작한 이후 지속적으로 적자를 기록하였습니다. 이에당사는 주력사업 의 사업역량 강화 및\\xa0 수익구조 개선을 위하여 2020년 03월 11일 PCB 사업부문의 영업중단을 결정하였습니다 1. 사업의 개요 PCB(Printed Circuit Board:인쇄회로기판)는 인쇄회로 원판에 전기배선의 회로설계에 따라 각종 전자부품을 연결하거나 부품을 지지해주는 핵심부품이며, Metal-PCB는 열전도율이 좋은 알루미늄 또는 구리금속기판에 고열도성 절연층을 형성하고 그 위에 구리배선층을 형성하기 위한 구리(동박)이 붙여진 방열성이 뛰어난 PCB입니다. PCB는 대량생산체제로 일반 대중에게 판매되는 제품이 아니며 완제품 제조업자(Set Maker)의 요구에 따른 주문형 체제이고 전방산업의 성장과 밀접하게 연계된 다품종 소량생산체제의 특징을 지니고 있습니다 일반적으로 반도체가 전자제품의 두뇌라면 PCB는 신경시스템(Nervous system)에 비유될 수 있는데, 최근에는 반도체의 고집적화와 메모리용량의 확대로 인한 정보통신기기의 휴대성과 소형화가 강조됨에 따라 PCB의 성능도 보다 다기능, 고밀도화 되고 있는 추세이며 제조공법의 다양성과 첨단기술이 요구됩니다. PCB는 사용범위가 매우 다양하고, 이를 이용하는 제품의 기술개발 속도가 빨라 전형적인 장치산업이면서도, 기술 변화에 빠르게 대응할 수 있는 기술 사용범위가 매우 다양하고, 기술 변화에 빠르게 대응할 수 있는 기술 및 자금력이 요구되는 산업입니다. 2. 주요제품 가. 주요 제품 등의 현황 [2020. 12. 31. 현재] (단위 : 천원,%) 품 목 주요제품명 구체적용도 주요상품등 매출액 비율 PCB Rigid-Type - 자동차 전장용 - 가전제품용 등 동양텔레콤㈜ 2,383,603 100 합\\xa0 \\xa0 \\xa0 계 2,383,603 100 나. 주요 제품 등의 가격변동추이 [2020. 06. 30. 현재] (단위 : 원) 품 목 2020년 2019년 2018년 PCB (단위:매) DOUBLE-SIDE 93,800 93,800 94,500 METAL 230,000 230,000 230,000 3. 원재료 가. 주요 원재료 등의 현황 [2020. 06. 30.현재] (단위 : 천원 구분 매입유형 품목 구체적 용도 매입액 비율(%) 비고 PCB 사업 원재료 원판 외 제품회로연결 외 423,269 40.8 - 외주가공비 인쇄회로기판 PCB도금 외 613,754 59.2 - 합\\xa0 \\xa0 \\xa0 \\xa0 \\xa0 \\xa0 계 1,037,023 100 - 1) 산출근거 연중 단순평균가격방법 연중 2회이상 단가 변동시 평균단가를 산출하여 적용 2) 주요 가격변동 원인 환율변동으로 인한 요인 나. 주요 원재료 등의 가격변동추이 [2020. 12. 31. 현재] (단위 : 원) 품 목 원산지 2020년 2019년 2018년 PCB 원판 국 내, 국외 40,000 40,000 41,500 [가격산출기준] - 단가 : 품목별(모델 합산) 년간 원재료 입고금액/품목별 년간 입고수량 1) 산출근거 연중 2회이상 단가 변동시 평균단가를 산출하여 적용 1품목에 2개 이상의 규격인 경우 합계금액의 평균단가 적용 단가 : 품목별(모델합산)년간 원재료 입고금액/품목별 년간 입고수량 2) 주요 가격변동 원인 수입자재 : maker의 출고 가격 조정 및 환율, 관세의 변동에 의함. 국내자재 : 원자재 원료가격 및 제반비용 등의 변동에 의함. 4. 생산 및 설비에 관한 사항 - PCB사업부 생산설비는\\xa0 2020년 08월 26일 부동산(토지 및 건물)을 제외하고 매각을 완료 하였습니다. 나. 판매경로 및 판매방법 등 -\\xa0 PCB 사업부 영업중단에 따라\\xa0 영업조직은\\xa0 해산 하였습니다.\",\n",
       " \"II. 사업의 내용 1. 사업의 개요 가. 업계의 현황 1) 국내 화장품 산업 현황 2016년 국내 화장품산업 총생산규모는 13조 513억원으로 전년대비 21.6% 증가했으며, 이 수치는 최근 5년 연평균 증가율은 16.3%를 웃도는 것으로 국내외에서 모두 양호한 성적을 거두었습니다. 화장품 수출은 해마다 빠른 속도로 증가하여 2016년 4조 8,667억원으로 전년대비 46.8% 증가했으며, 수입 (1조 6,937억원)도 전년대비 5.3% 증가했습니다. [표. 국내 화장품산업 시장규모] 출처) 대한화장품협회, 화장품 생산실적 자료, 각 연도 2) 국내 화장품 생산 현황 2016년 국내 화장품 생산규모는 13조 513억원으로 전년대비 21.6% 증가했으며, 이러한 증가세는 지속적 수출증가와 기능성 화장품 성장세 등에 힘입을 것으로 보이며, 화장품 유형별로는 기초 화장용 제품류가 7조 5,858억원(22.3%)으로 선두를 지킨 가운데, 색조화장용 제품류가 2조 2,919억원(33.1%)으로 2위를 기록했습니다. 전반적으로 모든 유형에서 생산이 증가하고 있는 가운데 전체 화장품 생산 중 인체 세정용 제품류와 색조 화장용 제품류 비중은 크게 증가한 반면, 손발톱용 제품류와 면도용 제품류, 체취 방지용 제품류 비중은 감소한 것으로 나타났습니다. 2016년 기초 화장용 제품류 생산액은 7조 5,858억원으로 전년대비 22.3%증가했으며, 세부 유형별로는 로션과 크림(2조 7,404억원)의 생산이 가장 많았고, 그 다음은 팩/마스크, 에센스/오일이 각각 1조 3,852억원, 1조3,3785억원 생산되었으며,\\xa0 그중 팩/마스크 는 전년동기대비 증가율이 50.3%로 가장 높게 나타났습니다. [표. 기초 화장용 제품류 연도별 생산추이] 3) 국내 화장품 기업 현황 “화장품법” 개정에 따라 생산 실적 보고 대상의 회사가 화장품 제조업체에서 제조 및 판매 업체로 변경됨에 따라 ‘위탁하여 제조한 화장품을 유통, 판매하는 업체가 추가되면서 생산실적이 있는 업소가 꾸준히 증가하는 것으로 보인다. 최근 우리나라 화장품 기업은 협소한 내수 시장 및 과다경쟁의 탈피를 위해 해외시장으로 활발하게 진출하고 있다. 한류 등의 영향으로 동남아 및 중국 등에 대한 수출이 증가했고 기업들은 수출증대를 위해 현지화 전략으로 유럽 및 중남미 등 신규시장을 개척하여 수출대상국의 다변화를 추진하고 있다. [표. 화장품 제조업소 및 생산업소] 4) 해외 화장품 산업 현황 2016년 Euromonitor 에 의하면 2016년 세계 화장품 시장규모는 3,649억 달러로 전년대비 4.8% 증가했다. 이는 향후에도 지속되어 2021년 4,871억 달러로 꾸준한 증가세를 보일 것으로 전망된다. 화장품에 대한 필수재 인식 고취, 여성 경제활동 인구의 증가, 소비자 욕구의 다양화, 소비 계층의 확대, 온/오프라인 공유 플랫폼 확산, 고령화 시대 진입 등에 힘입어 화장품산업은 글로벌 경제위기에도 불구하고 지속적으로 새로운 시장 창출이 기대되는 분야이다. [표. 국외 화장품 시장규모 및 증가율] 출처 : Euromonitor International 2018 지역별 시장규모는 아시아/태평양이 1,233억달러(전년대비 5.1%증가)로 가장 크며, 아메리카 지역이 1,233억 달러,유럽이 959억 달러 순으로 나타났습니다. 한편 중동 및 아프리카는 220억 달러로 세계시장에서 6.0%를 차지했으나, 연평균 10.2% 증가로 미루어 볼 때 향후 전망 또한 밝을 것으로 기대되고 있습니다. 2012년과 2016년 지역별 시장규모를 비교해보면 유럽은 전체 세계 시장 대비 29.0%에서 26.3%로 점유율이 하락한 반면, 아시아/태평양과 중동 및 아프리카 지역은 경제적 수준의 향상과 미(美)의 대한 관심 증가로 화장품 소비가 늘면서 전체 세계 시장대비 점유율이 상승하였습니다. [표. 지역별 화장품 시장규모] 2016년 화장품 시장규모는 미국이 706억 달러(19.4%)로 개별국가 기준 세계에서 가장 큰 시장이며, 이어서 중국(436억 달러, 12.0%), 일본(329억 달러, 9.0%), 브라질 (235억 달러, 6.4%), 독일(150억 달러, 4.2%) 등 순으로 규모가 컸습니다. 한편 우리나라 2016년 화장품 시장규모는 109억 달러로 프랑스에 이어 8위를 차지했으며, 세계 화장품 시장에서 차지하는 비중은 3.0% 수준으로 집계되었습니다. 전통적 화장품 강국 미국, 일본, 독일, 프랑스 등이 여전히 높은 시장점유율을 보이고 있으나 한국을 포함하여 중국, 브라질, 인도, 러시아 등 성장률이 전 세계 평균성장률을 크게 상회하고, 앞으로도 지속적인 성장이 예상되어 향후 국가별 판도는 크게 변할 것으로 예상되고 있습니다. 5) 국내외 화장품산업 트렌드 (1) 화장품산업 발전기획단 출범 2017년 화장품산업 종합발전계획의 일환으로 산·학·연 전문가 40여명이 참여한 '화장품산업 발전기획단'이 출범하면서 “화장품 수출 세계 3대 강국으로 도약”이라는 비전에 따라 ▲연구개발(R&D) ▲해외진출 ▲인프라·생태계 ▲제도개선 등 4개 분과위원회로 구성·운영되었다. ‘화장품산업 발전기획단’을 통해 그 동안의 중저가, 중국시장 위주의 산업에서 글로벌 트렌드를 선도하는 수출대표산업으로 발돋움하기 위해 정부의 지원방안을 마련할 계획이라고 밝혔다. (2) 중국 사드(THAAD) 보복 여파 2017년 가장 화두가 되었던 정치적 이슈는 사드 배치로 인한 정치적 갈등이었다. 한국 방문단체 관광객의 제한, 세관 통과 문제 등으로 중국 의존도가 높은 화장품에 대한 수요가 직격탄을 맞았지만 그럼에도 불구하고 현재 화장품 산업은 서서히 회복세의 국면으로 접어들어 실정을 올리고 있다. (3) 선진시장 뷰티편집숍(세포라 등) 진출 확대 최근 국내 화장품 업계는 중국과의 정치적인 이슈로 다소 어려움을 겪어 왔지만 중국 외 새로운 유망 지역 진출을 대비책으로 마련하고 적극적인 전략으로 해외 시장 확대를 위해 노력하였다. 특히 미국, 유럽 등 선진시장에서는 대체로 울타(Ulta), 세포라(Sephora), 부츠(Boots)와 같은 대형 화장품 전문 매장을 방문하는 등 오프라인 유통점이 여전히 강세를 이루고 있으며, 이러한 유통 패러다임에 발맞춰 국내 화장품기업들의 움직임이 활발해지고 있다. 국내 화장품 업계가 해외로 눈을 돌리는 이유는 한국 화장품에 대한 선호도가 높은 데다가 시장리스크가 높은 중국지역에 얽매이기보다 시장예측이 비교적 뚜렷한 지역을 공략하는 것이 유리하다는 판단에서다. 아모레퍼시픽, LG생활건강, 해브앤비 등의 대기업을 포함하여 화장품 중소업체까지 선진시장의 최대 유통채널인 뷰티편집숍으로 시장진출을 가속화하고 있다. (4) 기능성 화장품 품목 확대 등 화장품법 개정 식약처는 기존 기능성화장품에 염모제, 제모제, 탈염제, 아토피성 피부 건조함 개선, 탈모 증상 완화, 여드름성 피부 완화 등 7종을 포함시켰다. 기능성 화장품이란 화장품의 안전성과 의약품의 유효성을 모두 갖춘 제품으로 지금까지는 미백, 주름개선, 자외선 차단제만 포함됐었다. 식약처가 ‘기능성화장품 확대 대상 관련 규정’을 통해 기능성화장품을 확대시킨 이유는 기능성화장품을 원하는 소비자가 자신에게 적합한 품목을 선택할 수 있는 기회를 주기 위해서다. 식품의약품안전처와 화장품업계에 따르면 2016년도 기능성화장품은 4조 4천39억원으로 3조 8천59억원을 기록한 2015년 대비 15.3% 증가했다. 최근 5년간 성장률도 20.1%로 꾸준한 성장세를 보여 이번 기능성화장품 확대는 향후 기능성화장품 시장을 더욱 성장하게 만들 것으로 예상된다. 이번 법 개정으로 국내 화장품 시장은 보다 다변화할 수 있게 됐다. 식약처는 지난해 국내 화장품을 글로벌 프리미엄 제품으로 육성하고, 맞춤형 해외시장 진출 지원을 통해 수출을 선도하는 품목으로 자리매김 할 수 있도록 지원하기 위해 제도 개선등 대책 마련에 나섰다. (5) 더마코스메틱 신융합산업 부상 화장품의 기능을 한단계 이상 뛰어 넘는다는 ‘더마코스메틱’ 시장이 2017년에는 또 하나의 이슈였다. ‘피부과학(Dermatology)’와 ‘화장품(Cosmetic)’이 결합된 말인 더마코스메틱 화장품은 피부과 의사 및 약사가 개발에 참여한 기능성 화장품을 말한다. 최근에는 기미·주근깨 치료제 등 일반의약품과 전문의약품 허가 제품 활용해 기능이 개선된 더마화장품 브랜드가 도마 위에 올랐다. 더마화장품 바람은 바르는 화장품 뿐 아니라 샴푸·바디워시와 같은 생활용품에도 변화를 낳고 있다. 더마 성분 처방으로 두피보습 뿐만 아니라 모발손상에 도움이 되는 등 기능성을 접목시키는 것이 특징이다. 이밖에도 네이처리퍼블릭, LG생활건강, 애경산업 등을 비롯한 유명 화장품업체에서도 더마코스메틱 브랜드를 경쟁적으로 론칭하면서 향후 대형 시장으로 클 수 있다는 기대감을 갖게 했다. 6) 중국 내 마스크팩 시장 현황 화장품 산업에서 독보적으로 가장 크게 성장한 마스크팩은 중국의 사드 영향 속에서도 비교적 타격이 적은 것으로 판단됐다. 국내 기업들은 제품의 차별화와 온/오프라인 채널을 통합한 유통 전략을 세워 꾸준히 마스크팩에 대한 수요를 늘릴 전망이다. 중국 내 환경 변화 및 피부 관리에 대한 인식이 변화하면서 피부 보호용 제품에 대한 수요가 늘고 그 중 마스크 팩이 차지하는 비중은 꾸준히 증가 추세를 보이고 있다. [표. 2010~2017 중국 마스크팩 시장규모 추세] 출처) 중국 산업연구원 마스크팩의 성장요인에는 중국 소비자들의 사용습관과 소비관념이 더욱 명확해지는 것에 기인한다. 2017년 마스크팩 판매액은 191억 위안에 이르고, 전년대비 5% 성장했으며, 마스크팩 제품은 스킨케어 시장의 10%를 차지하고 있다. 스킨케어 시장에서 마스크팩의 점유율은 점차 성장하고 있으며, 상대적인 안정단계에 진입하고 있으며 특히 수분케어 기능이 있는 제품이 소비자들의 가장 많은 관심을 받고 있다. 마스크팩 전문 브랜드인 리더스코스메틱, 메디힐, 앨앤피코스메틱 등은 중국 소비자로 인해 올해 가장 높은 성장한 기업으로 손꼽히고 있다. KOTRA(대한무역투자진흥공사)에 따르면 마스크팩은 중국 화장품 시장의 주요 성장 동력으로 떠올라 전체 화장품 점유율 중 5.18%를 차지하고 있다. 중국에서 마스크팩은 2012년 이후부터 현재까지 약 10%로 이상의 급성장을 보이고 있어 앞으로 중국 소비자들의 한국 마스크팩 수요는 증가할 것으로 전망된다. 중국뿐 아니라 태국은 한류 열풍과 맞물려 왓슨 매장 마스크 팩에서 국내 마스크 팩이 65%라는 높은 점유율을 차지했으며, 대만은 대기 오염 환경과 더불어 피부 미용을 위해 지난해 신 타이완 달러로 약 7000만장의 마스크 팩이 판매되면서 마스크팩 수요가 증가하고 있다. 7) 의료기기 (창상피복재) 산업 동사는 바이오 셀룰로오스에 대한 특허와 생산 노하우를 활용해 마스크팩에서 의료기기로 분류되는 창상피복재로 제품 영역을 확대할 계획이다. (1) 창상피복재의 정의 신체조직의 일부가 손상되었을 때, 인체는 외부의 오염 및 병원균 등에 무방비 상태로 노출된다. 이때 창상피복재는 상처를 보호하거나 오염을 방지하여 상처의 치유의 도움을 주고, 삼출액의 흡수, 출혈 또는 체액의 손실 등을 막기 위하여 사용되는 의료기기다. (2) 창상피복재로서의 바이오 셀룰로오스의 우수함 현대의 피부 상처 치료 시스템은 상처를 덮을 수 있는 물질을 이용하여 상처치료에 필요한 분비액의 손실과 상처 감염에 대하여 장벽을 제공함으로써 표피세포의 재생을 돕는 최적의 환경을 만들어주는 방법을 택하고 있다. 바이오(미생물) 셀룰로오스(MC)는 새로운 상처 치료법에 커다란 잠재성을 갖고 있는 물질로 미생물 셀룰로오스 막은 심각하게 상해를 입은 피부를 위한 상처 치료제로 사용되고 있다. 또한 작은 직경의 혈관 대체물로서 성공적으로 사용되고 있으며, 바이오 셀룰로오스 막은 독특한 나노구조를 이용하여 상처치료 guided tissue regeneration (GTR), 치주치료, 혹은 뇌조직을 감싸는 막과 같이 재생 의학용 소재로 이용되고 있다. [표. 바이오 셀룰로오스 막의 특징과 이상적인 상처치료 물질의 특성과의 연관성] Properties of ideal wound care dressing (이상적인 상처보호제의 특징) Properties of Bio cellulose (바이오 셀룰로오스의 특징) 상처/소독부위의 습기환경 유지 높은 보습력(일반적으로 셀룰로오스 막은 건조중량의 200g 이상의 물을 담을 수 있다), 많은 수증기 전달 세균 감염에 대항하여 물리적인 장벽 제공 나노구멍 구조로 인하여 상처 부위로 세균이 침투하는 것을 막음 높은 흡착력 부분적으로 건조된 막은 본래 능력에 맞게 수분을 흡착 할 수 있음 멸균, 쉬운 사용법, 그리고 저렴한 가격 바이오 셀룰로오스 막은 쉽게 멸균과(스팀 혹은 감마선) 포장이 가능하고, 1㎠당 생산가격이 약 $0.02정도 소모 다양한 모양과 크기로 이용 가능 다양한 형태로 이용 가능 상처 보호에 쉽고, 밀착력 제공. 누구든지 사용가능하고 고통을 줄여줄 수 있는 것 높은 신축성과 안정성 치료하는 동안 고통의 현저한 감소 쉽게 마르지 않는 독특한 바이오 셀룰로오스 나노형태는 신경 말단과 특별한 상호작용을 촉진시킴 가스와 수분의 교환을 위한 구멍을 제공 나노미터에서 마이크로미터까지 다양한 구멍 사이즈를 갖고 있는 다공성 물질 무독성, 비발열성 그리고 생물학적 안정성 생물학적 안정성, 비발열성, 무독성 높은 일치성과 신축성 제공 높은 신축성과 일치성 기계적인 안정성 제공 높은 기계적 강도 출처) Czaja et al., 2007, The future prospects of microbial cellulose in biomedical applications, Biomacromolecules, Vol.8) [표. 쉽게 마르지 않는 바이오 셀룰로오스 막] 출처) images courtesy of the Center of Burn Healing, Siemianowice Slaskie, Poland and Professor Stanislaw Bielecki of the Institute of Technical Biochemistry, Technical University of Lodz, Poland / Czaja et al., 2007, The future prospects of microbial cellulose in biomedical applications, Biomacromolecules, Vol. 8.) 바이오 셀룰로오스 창상피복재는 궤사조직을 통해 일반적인 방법보다 더 효과적이라는 연구 결과가 있다. 본 연구에 따르면, 75%이상 육아조직이 형성되는 평균 일수는 바이오셀룰로오스 창상피복재를 처리한 그룹은 3일 정도이고 일반적인 그룹은 71일 정도였다. 상처부위의 평균 감소율은 6주 후 39% 대 19%, 12주후 74% 대 49%로 바이오 셀룰로오스 창상피복재를 처리한 그룹이 감소율이 더 높았다. 일반적인 보호법으로 치료받은 환자와 비교했을 때, 바이오 셀룰로오스 창상피복재를 이용해 치료받은 그룹은 각 평가부위에 고통이 줄어들었다고 보고되었다. (3) 창상피복재의 세계 시장 동향 2013년 창상피복재 시장은 약34.5억 달러로 추정되며, 향후 연평균 3.1%로 성장하여 2020년에는 42.6억 달러 규모로 성장할 것으로 전망됩니다. 이는 거즈 형태의 기존 상처관리 제품 (Traditional Wound Management)보다 피부 재생 효과가 높은 습윤 형태의 창상피복재(Advanced Wound Management)의 사용이 확대될 것으로 예상된 결과입니다. [표. 세계 창상피복재 시장 규모 (2006-2013)] 출처) Medical Equipment Market Size & Growth 2012년 기준 세계 창상피복재 시장은 Smith & Nephew가 약 5.5억 달러로 전체 시장의 약 16%를 차지하고 있으며, Molnlycke Healthcare(14%), 3M Healthcare(13%), Convatec(10%), Coloplast(8%) 순으로 상위 5개 기업이 전체 시장의 61%를 점유하고 있습니다. 그 외의 기업으로는 Paul Hartmann과 Systagenix Wound Management 등이 선두기업을 추격중이다. (Systagenix Wound Management는 글로벌 의료기기 기업인 Johnson & Johnson의 자회사인 Ethicon의 창상피복재 사업부를 2007년에 인수하여 성장한 기업임) [표. 창상피복제 주요 기업 매출액 현황 (2008-2012)] 출처) Medical Equipment Market Size & Growth 2013년 국내 창상피복재 시장 규모는 생산 및 수출·입 원가 기준으로 약 889억원으로 추정되며, 최근 5년간 연평균 19.7%로 급성장하였습니다. 상처 치료에 대한 인식 변화로 전통적인 밴드, 거즈 등의 제품 사용에서 창상피복재 사용으로의 변화 및 수술 후 해당 부위의 유착 방지를 위한 심부체강 창상피복재의 시장 확대에 기인한 것으로 보이며, 국내 기업의 약진이 두드러져, 국산 제품의 연평균 시장 성장률은 38.2%로 외산 6.7%에 비해 매우 높은 수준입니다. [표. 국내 창상피복재 시장규모, (2009-2013)] 출처) 의료기기 생산·수출·수입 실적 보고자료(2009∼2013), 식품의약품안전처) (4) 건조 바이오 셀룰로오스의 위치 현재 건조 바이오 셀룰로오스를 이용한 의료기기(Medical device)는 도입기에 불과합니다.바이오 셀룰로오스가 창상피복재 뿐만아니라 인공지지체(Artificial scaffold), 화상치료제등에 효과가 좋다는 사실은 여러 연구를 통해 알려져 있지만, 재료비가 고가라 현재 시장에 출시되어 있는 제품도 고가로 한정되어 효과 및 기능에 비해 시장이 확대되지 못하고 있습니다. 당사에서 추진 중인 한국형 건조 바이오 셀룰로오스에 대한 USP (United States Pharmacopoeia, 미국 약적) 승인이 등록 완료되고 양산에 들어간다면 가격경쟁력을 갖춘 제품을 양산할 수 있을 것으로 기대됩니다.\",\n",
       " 'II. 사업의 내용 1. 사업의 개요 1. 일반적 사항 한국채택국제회계기준 제1034호(연결재무제표와 개별재무제표)에 의한 지배회사인 주식회사 에임하이글로벌의 연결재무제표 작성대상 종속기업의 일반적인 현황은 다음과 같습니다. 가. 지배기업의 개요 지배기업은 1979년 3월 21일 동명강판주식회사로 설립되어 전자부품제조업 등을 주요사업으로 영위하였으나, 2017년부터 점차 그 사업비중을 줄이고 신규사업부문인 모바일게임, 캐릭터라이센싱 등을 주요사업으로 집중하고 있습니다. 보고서 제출 기준일 현재 지배기업의 보통주 자본금은 1,506백만원이며, 최대주주 의 지분율은 15.60%입니다. 나. 종속기업의 현황 당분기말 보고기간 종료일 현재 연결재무제표 작성대상에 포함된 종속기업의 현황은 다음과 같습니다. \\xa0 \\xa0 \\xa0 \\xa0 \\xa0 \\xa0 \\xa0 \\xa0 \\xa0 \\xa0 \\xa0 \\xa0 \\xa0 \\xa0 \\xa0 \\xa0 \\xa0 \\xa0 \\xa0 \\xa0 \\xa0 \\xa0 \\xa0 \\xa0 \\xa0 \\xa0 \\xa0 \\xa0 \\xa0 \\xa0 \\xa0 \\xa0 \\xa0 \\xa0 \\xa0 \\xa0 \\xa0 \\xa0 \\xa0(단위:천원) 상호 설립일 주소 주요사업 자산총액 지배관계 근거 주요종속 회사 여부 AiYing(Shanghai) Information Technology 2016.11 Room F146, Building7, 2118 Guanghua Road, Minhang District, Shanghai 정보기술 개발 등 539,545 100% 지분소유 해당 당분기말 현재 당사에 포함된 종속기업은 당사가 영위중인 사업의 보다 원활한 진행을 위해 설립되거나 인수한 종속기업입니다. 종속회사의 사업의 내용에 관한 사항은 지배기업인 당사가 영위하고 있는 사업부문과 목적을 같이 하므로 상세내용은 2.사업의 개요를 참고하여 주시기 바랍니다. 2. 사업의 개요 가. 사업부문별 현황 당사의 사업부문은 모바일 및 온라인 게임, \\xa0캐릭터라이센싱 사업부문 등으로 구별됩니다. 당사의 사업부문별 현황을 요약하면 아래와 같습니다. 구분 상호 주요재화와 용역 사업내용 모바일 및 온라인 게임부문 (주)에임하이글로벌 AiYing(Shanghai) Information Technology 모바일게임, 온라인게임 서비스 IP 라이센스를 활용한 모바일 게임 신규 개발 및 퍼블리싱 기출시된 모바일게임의 판권 구입을 통한 국내 및 해외 퍼블리싱 모바일, 온라인게임 개발 및 퍼블리싱 사업 캐릭터라이센싱 부문 (주)에임하이글로벌 캐릭터 라이센싱 및 대행사업 해외IP 획득을 통한 국내 퍼블리싱 국내기업의 캐릭터 라이센스를 활용한 해외사업 방송프로그램 배급 등 나. 사업부문의 구분 < 모바일게임 사업부문> 산업전망 게임산업은 인터넷 보급률의 증가와 IT 기술의 급속한 발전에 힘입어 국내뿐 아니라 국외에서도 급속하게 성장하고 있는 사업입니다. 특히 모바일게임은 스마트폰을 소유한 모든 고객을 대상으로 서비스가 가능하며, 산업의 미래 성장 가능성이 매우 높습니다. 문화체육관광부의 분석에 따르면 세계 모바일게임의 시장 규모는 2016년 236억 달러로, 2015년부터 2018년까지의 연평균 성장률은 6.7%를 기록하였습니다. 이러한 증가세는 2019년 685억 달러 (약 81조원) 을 기록하였으며 게임 산업은 지속적으로 꾸준하게 성장할 것으로 예측됩니다. 한국콘텐츠진흥원의 발표에 따르면 2018년 국내 게임 시장의 규모는 14조 2,902 억 원이었으며 이중 모바일 게임 시장의 매출은 6조 6,558억 원으로 전체 게임 산업 매출의 46.6%를 차지하며 처음으로 PC 게임 시장의 규모를 넘어선 해였습니다. 영업의 개황 등 당사는 2017년부터 모바일게임사업을 주력사업부문으로 추진하고자 대표이사를 포함하여 경영진들을 게임 관련 비즈니스 전문가들로 구성하고 (주)이디게임즈, AiYing(Shanghai) Information Technology 등의 모바일 및 온라인 게임 관련 자회사 설립과 지분인수 등을 통해 본격적인 사업진출을 위한 네트워크를 구축하였습니다. 또한 당사의 최대주주인 홍콩 페임 챔피언 트레이딩은 중국 심천 증시의 상장사 (시가 총액 한화 약 3조 7,274억원)인 킹넷네트워크의 100% 자회로, 킹넷네트워크는 2016년 중국 웹게임 점유율 7.2%, 모바일 점유율 안드로이드 16.4%, ios(애플) 15.2%의 점유율을 갖고 있는 모바일 게임 시장 굴지의 선도 기업입니다. 당사는 본 보고서 제출일 현재 창혼, 성검영웅전, 새 천하를 열다, 조물법칙, 소울팩션, 세계전선, 대항해시대 \\xa0등의 기존 모바일게임을 국내외 퍼블리싱하여 시장점유율을 점차적으로 높여가고 있으며 당사의 모바일게임사업부문 매출실적으로 연계되고 있습니다. 새로운 모바일게임의 퍼블리싱 뿐만 아니라 당사는 해외 유수의 IP 사용권 및 판권을 취득하고 해외 게임 개발 회사들과 공동개발계약을 통한 신규 게임 개발에도 박차를 가하고 있습니다. <캐릭터라이센싱 사업부문> 산업전망 2016년 콘텐츠진흥원의 보고서에 따르면 국내 캐릭터 라이센싱업은 2011년 이후 연평균 성장율 약 8.7%를 기록하며 지속적인 성장이 기대되는 사업입니다. 더불어 캐릭터 라이센싱 및 그 대행사업은 최초의 라이센스 비용외에는 매출이 곧 이익으로 연결되는 고수익률 사업입니다. 영업의 개황 등 당사는 해외 IP의 국내 퍼블리싱 및 국내 IP를 활용한 해외사업 등을 영위하기 위해 국내외 관련기업들과 계약을 체결하고 이를 영상물, 출판, 완구 및 모바일 게임 등으로 상품화 하기위한 사업을 진행하고 있습니다. 이와 더불어 현재 당사는 캐릭터 완구를 수입하여 국내 유통회사를 통해 판매하는 매출 연계가 되고 있으며, 추후 캐릭터 라이센스 권리를 이용한 봉제 인형과 피규어 제품도 생산 및 유통할 계획입니다. 2. 주요 제품 및 서비스 주요 제품 등의 현황 (별도재무제표 기준) (2023년 06월 30일 현재) \\xa0 \\xa0 \\xa0 \\xa0 \\xa0 \\xa0 \\xa0 \\xa0 \\xa0 \\xa0 \\xa0 \\xa0 \\xa0 \\xa0 \\xa0 \\xa0 \\xa0 \\xa0 \\xa0 \\xa0 \\xa0 \\xa0 \\xa0 \\xa0 \\xa0 \\xa0 \\xa0 \\xa0 \\xa0 \\xa0 \\xa0 \\xa0(단위: 천원) 사업부문 매출유형 구체적용도 주요상표등 매출액(비율) 전체 상품 및 제품 모바일 게임 새천하를 열다, 대항해시대, 세계전선 등 - 합 \\xa0 \\xa0 \\xa0 \\xa0계 - 3. 원재료 및 생산설비 해당사항 없음 4. 매출 및 수주상황 보고기간 중 매출액의 내역은 다음과 같습니다. (단위:천원) 별도재무제표 기준 구 분 당반기 전반기 게임매출 - 537,024 합 계 - 537,024 5. 위험관리 및 파생거래 해당사항 없음 6. 주요계약 및 연구개발활동 - 7. 기타 참고사항 -',\n",
       " 'II. 사업의 내용 1.사업의 개요 당사는 1995년 11월 \"주식회사 아쿠아테크\" 라는 상호로 설립(상호변경: 2014년 10월 28일 \"주식회사 해피드림\")하여 건설업, 운송업등을 영위하고 있습니다. □ 사업부문의 현황 2020년 당분기말 현재 영위하고 있는 사업부문은 다음과 같이 구분합니다. 사업부문 사업의 내용 비고 건설사업부문 토목/조경/철근 ·콘크리트, 부동산업 및 임대업 - 개발사업부문 부동산개발 등 - * 전기중 운송사업부문은 물적분할 신설법인 (주)신우운수를 설립한후 매각하였습니다. □ 건설사업부문 (1) 산업의 특성 지난 반세기 동안 국내경제성장의 주춧돌 역활을 해온 건설업은 공학적 차원의 산업이며, 토지와 자본, 노동 등 제반 생산요소를 투입하여, 건설시설물을 생산하는 종합산업으로 기본적인 주거환경의 조성에서부터 국가 기간산업인 도로, 항만, 철도의 건립까지 폭 넓은 영역을 가지고 있으며, 산업분류 기준으로 3차 산업에 해당합니다. 건설업 기본법상 토목, 건축, 산업설비, 조경, 환경시설 등 시설물의 설치, 유지, 보수, 해체 등의 전통적인 정의에서 점차 시설물의 전 생애주기에 걸친 모든 활동까지 포괄하는 광의적인 영역으로 확대되고 있습니다. 과거에는 직접적인 시공과 감리 등의 하드웨어적인 요소가 건설산업의 기본적인 특징이었다면, 지금은 시공의 전 단계인 기획, 설계와 시공 후의 영역인 시운전, 유지, 보수 등의 소프트웨어적 요소까지 부가가치 창출의 요소로 인식되고 있습니다. ◈ 건설산업 내 분야별 특성 ① 토목부문 도로, 지하철, 해안, 공단부지 조성, 고속철도 등 사회간접자본시설이 주를 이루며, 토목부문에 대한 발주처는 정부나 지방자치단체 등공공부문이 대부분을 차지하고 있습니다. 토목공사의 경우에는 공사별 발주금액이 크고 공사지역 또한 정부나 지방자치단체의 개발 계획에 맞추어 전국 각지에 분표하며 예산에 의한 집행으로 사업추진이 이루어지므로 발주시기, 물량 등이 국가경제추이나 정책 등에 영향을 받는다고 하겠습니다. ② 건축부문 상가, 재건축사업, 오피스텔, 업무용빌딩 등 민간도급공사가 해당되며, 부동산 경기 및 투자수요에 의해 영향을 받고, 지역별로는 인구밀집지역이나 개발지구 등에 특정되어 분포되는 경향이 있습니다. ③ 주택부문 APT 시공 및 빌라, 연립주택 등이 주를 이루며 동부문은 부동산경기및 가계부문의 수요에 영향을 받는다고 하겠습니다. 지역별로는 건축부문과 동일하게 인구밀집지역이나 개발지역 등 대부분 도시권 변에 특정되는 경향이 높습니다. ④ 환경/플랜트부문 폐기물소각장인 폐수처리장, 석유화학분야의 장치산업, 열연설비 등 정부나 지방자치단체의 공공부문과 민간기업이 주요 수요자이며 예산 및 투자수요에 의해 영향을 받으며 산업밀집지역에 편중되는 경향이 높다고 하겠습니다. 건설산업은 발주자로부터 주문을 받아 구조물, 건축물을 완성하여 인도하는 수주산업(주택 및 빌딩의 건축, 사회간접자본의 형성, 국토개발 등)으로 실물자본의 구축을 담당하는 서비스 산업으로 노동·자본·기술 등의 생산요소를 유기적으로 결합하여 시설물을\\xa0 완성하는 종합산업으로 타산업에 비해 생산을 비롯하여, 고용유발효과 및부가가치창출의 효과가 크기 때문에 국내경기에 중요한 역할을 담당하고 있습니다. 건설업은 크게 민간과 공공부문으로 나눌 수 있으며, 사회간접자본시설, 플랜트사업,주택사업으로 크게 구분할 수 있으며, 사업수행방식에 따라 발주처의 주문에 의한 설계 및 시공사업, 사업의 발굴, 기획, 투자, 자금조달에서부터 시설물 운영까지 수행하는 개발 및 운영하는 사업으로 그 영역을 구분하기도 합니다. (2) 산업의 성장성 국가의 경제성장과 더불어 급속히 성장해온 국내 건설산업은 IMF 외환위기를 격으며, 저성장의 국면에 진입하였고, 2001년부터 2007년까지 주택경기의 회복 등으로 인하여, 127조원까지 성장세를 보였으나, 2008년부터 글로벌 금융위기의 여파 등의 이유로 시장규모가 지속적으로 감소하여 \\'13년 91.3조원 규모를 기록하였습니다. 2014년은 기저효과로 인해 전년대비 9%증가한 99조원으로 전망됩니다. \\'14년은 정부의 SOC 예산 감소로 공공부문은 감소하나, 경기회복에 대한 기대감으로 민간부문의 수주가 점차 증가하여 \\'13년 대비 9% 증가한 99조원 규모로 예상되며 현재까지 건설산업은 저성장 단계에 도달해 있습니다. 한편, 해외 각국의 건설산업은 중장기적으로 연평균 8% 수준의 성장이 예상되고 있습니다. 미국의 경우 양적완화축소로 신흥국가 투자위축, 환율리스크 확대로 인한 글로벌 경제의 변동성이 증가하고 있으나 신흥국 도시화, 물동량 증가, 자원수요증가 등으로 중장기적 건설 수요는 지속될 전망입니다. 국내 건설기업들은 단순시공 중심에서 EPC 등 Value Chain 전 단계까지 사업영역을확대하고 있으며, 해외시장의 진출도 기존 중동, 동남아 중심에서 아프리카, 중남미, 동남아등 신규시장으로 진출 지역을 다변화하고자 노력하고 있습니다. ※ 참고 자료 ·Global Insight (\\'14.10월) ·한국건설산업연구원 (2014년 하반기 건설경기 전망, \\'14.6월) 국내 건설산업의 성장은 IMF 외환위기 이후 저성장 단계에 머물러 있으나, 국민소득의 향상과 삶의 질적수준이 높아져 첨단기술과의 융합한 새로운 성장동력을 확보하는 잠재적 성장이 예상 됩니다. 아울러 전반적인 국가의 경제성장이 완만하게 상승하는 단계에 진입함에 따라 국가경제에서 차지하는 비중이 점진적으로 커지고 있으므로, 성장성에 영향을 받고 있으며, 타 산업간에 의존도가 더욱 밀접해지고 있는 현재의 산업부문의 추세를 감안 할 때, 단순시공에서 복합시공 위주로 점진적으로 전환되고 있습니다. 또한, 사회적 이슈인 녹색성장과 같은 산업성장을 좌우하는 변수로 건설산업이 부각될 것이라고 전망되어지고 있습니다. 향후, 주택부족으로 인한 실수요 존재, 국민소득증가 등에 따른 문화, 관광, 레저, 복지 등의 분야에서 사업 발굴 및 개발에 따라 다양한 시장기회가 증대될 것으로 예상되고 있으며, 특히 경기회복을 위한 정부의 SOC 투자, 주택시장 정상화 노력 등은 새로운 성장의 기회요인으로 작용할 수 있으며, 국내 민간부문의 건설회사의 글로벌화에 따른 해외시장 기회확대로 충분히 성장이 가능할 것으로 판단 되어집니다. (3) 경기변동의 특성 1970년대 후반 \\'한강의 기적\\'을 만들며 급속하게 발전하는 국내건설사업은 수주산업이며, 경기에 후행하는 산업이기 때문에 전반적 산업구조에 의한 산업활동의 변동 및경제성장의 추세에 의한 순환주기에 의해 호황과 불황이 반복적으로 영향을 많이 받으며, 정부의 정책 및 제도에 민감하게 반응하는 특성이 있습니다. 정부의 사회간접시설에 대한 투자규모, 타산업의 경제활동 수준 및 기업의 설비투자,가계의 주택구매력 등에 의하여 생산활동이 파생되어지므로 경기에 민감한 산업이므로 다른 산업에 비하여, 부동산 가격 및 관련법규나 정부규제 등 외적요인에 의해 상당한 영향을 받을 수 있습니다. 건축업은 공공부문뿐만 아니라 민간부문에 대한 의존도가 높아, 산업경기변동에 따른기업의 설비투자 수요에 큰 영향을 받고 있으며, 국가의 균형발전계획, 경기활성화투자 확대 등 정부의 정책기조에 따라 변동성이 커지는 특성이 있습니다. 또한, 건설업은 발주자의 투자계획 및 연간 예산활용 등에 크게 영향을 받기 때문에 본격적으로 2분기부터 연말까지 발주가 집중되는 성향이 있으며, 작업이 주로 옥외에서 이루어지므로 계절적으로 봄, 가을의 빠른 공사진행 속도를 나타내는 계절적인 영향을 받는 특징이 있습니다. (4) 경쟁요소 및 경쟁우위요소 건설산업의 구조를 형성하는 근간이 정부규제에서 시장기능으로 이동하고 있는 등 시장경쟁체제로의 이행이 급격히 진행되어가고 있고, 부동산경기의 침체로 민간건축부문의 분양경쟁이 더욱 더 심화될 전망입니다. 외자유치를 촉진하고, 국내부동산의 외국인 소유를 허용하는 개방정책의 결과, 외국건설업체의 진출이 SOC, 주택사업 및 부동산개발사업을 중심으로 확대될 것으로 예상 되고 있습니다. 그리고, 건설산업의 대부분은 공사수주를 통한 일정자격에 해당하는 업체들간의 제한경쟁방식이며, 대체적으로 최저가이고, 가격경쟁력이 적격공사 인 경우에는 공사실적. 재무능력, 기술력, 신인도, 가격 등이 수행능력의 핵심경쟁요소입니다. 최근에는 TK 등에도 가격경쟁의 중요한 요소로 대두되어 지고 있습니다. 건설산업의 주요 경쟁요소는 다음과 같습니다. - 정부정책에 의한 최저가 낙찰제 확대 및 공사의 수주환경변화 등의 원가부담 - 특화된 전문분야 중심의 건설업체 형성 - 시장경쟁체제의 변화에 따른 무한경쟁체제 - 무형지식, 인적자원, 재무능력, PROJECT 경험실적 - 기술력, 브랜드 가치, PROJECT 관리능력, FINANCING 능력 - 영업 및 자원조달에 대한 정보력 (5) 국내·외 시장여건 1)국내 시장여건 국내경제는 기저효과로 인해\\xa0 회복세를 보이며 2013년도 대비 9% 증가한\\xa0 약99조원으로 전망되고 있으며 민간소비의 증가로 소폭 회복될 것으로 기대됩니다. 또한, 대외 수출여건은 2012년처럼 완만하게나 회복될 것으로 기대되고 있으며, 정부를 포함한 경제주체들의 노력에 힘입어 경기개선효과에 따른 경상수지의 흑자기조가 유지될수 있을 것으로 예상 되어집니다. ※ 참고 자료 ·한국건설산업연구원 (월간 건설경기 동향, \\'14.10월, 2014년 하반기 건설경기 전망, \\'14.6월) 2)국외 시장여건 세계경제의 불확실성은 선진국들의 재정건전성 회복을 위한 긴축정책의 영향으로\\xa0 경기 회복세가 대체적으로 부진할 것으로 전망되나 아시아 지역 등의 신흥국가들의 경제회복은 완만하게 진행될것으로 예상되어 지고 있습니다. 중국의 경우 2013년 1분기 지도부가 교체되면서, 기초인프라 사업 위주의 본격적인 경기부양 정책을 시행할 것으로 예상되고 있지만, 지난해 대비 성장세가 소폭으로\\xa0 개선된 성장이 전망되고 있으며, ASEAN 주요국가들은 소비,\\xa0 투자 등 내수부문이 성장을 견인하여 현재까지는 꾸준한 성장세가 예상됩니다. ※ 참고 자료 IMF, \\'13年 세계경제성장률 3.5% → 3.3%로 하향조정(\\'13.4월) (6) 자원조달상의 특성 건설업은 타산업보다 인력자원의 비중이 큰 산업으로 표준화가 어려우며, 건설자재는 철강, 시멘트 등 국내수급자원 비율이 높은 반면, 목재, 골재, 모래 등의 국내자원 고갈로 해외 의존도가 높고, 그에 따른 원가도 높아지고 있는 추세입니다. 또한, 건설업의 계절적 특성에 따라 계절별 수요량 변화가 크고, 주거 형태의 다변화 로, 특정 지역에서의 과다 수요발생으로 지역간 수요편차가 심한 편이며, 건설업 특성상 여타산업에 비해 자동화, 표준화가 미흡하여 인력자원의 비중이 큰산업입니다. (7) 관계법령 및 정부의 규제 등 현재 국내의 건설산업은 타 산업 및 국민생활에 미치는 영향이 크기 때문에 다양한 법률에 의해 규제되고 있습니다. 설계감리 및 엔지니어링 활동은 건축사법, 건설기술관리법, 엔지니어링기술 진흥법, 환경관련 법률의 적용을 받도록 되어 있으며, 시공 및 시공관리업무도 건설산업기본법, 국가계약법, 도시 및 주거환경정비법, 건축법, 주택법, 하도급법, 건설계약, 건설시공, 전기계약, 전기시공, 전기통신계약, 전기통신, 소방계약, 소방시공 감리계약, 감리 등으로 다양한 법률의 적용을 받고 있고, 규제의 신설과 변화에 민감하게 반응하는 특징을 가지고 있습니다. 건설산업이 국내경제에서 차지하는 비중이 높고, 생산 및 고용 유발 효과도 큰 특성을 가지고 있어, 정부는 부동산 경기의 상황에 따라 경제 운영 방침의 변화를 주고 있으며, 이는 건설업에 많은 영향을 미치는 각종 제도와 정책을 시행해 오고 있습니다. 2000년 최저가 낙찰제의 도입후 최근 최저가 낙찰제의 확대를 지속적으로 추진하는 등 시장경쟁원칙의 도입을 위한 국내건설시장의 Global Standard화가 지속적으로 추진되고 있습니다. 현 정부에서는 주택시장 활성화를 위해 제도완화를 추진하고 있으며, 금융권의 건설부문 구조조정을 통하여 재무건정성을 확보하도록 유도하고 있습니다. 2.회사의 현황 회사는 2008년 말부터 건설사업부문을 도입하였으며, 당사의 운송사업부문은 2012년 5월 신우운수를 합병(소규모합병)으로 사업을 시작하였고, 충남 당진지역 및 기타지역에서 화물운송 및 화물주선사업을 하고 있습니다. 유통사업 SSM(Super-Supermarket)은 2012년 12월 04일 임시주주총회를 통해 승인받아 2013년 사업연도부터 운영하고 있었으나 계속되는 영업손실로 인하여 당기말현재 사업을 철수하였습니다. 또한, 사업역량의 강화등을 위해 종속회사였던 홍익인프라(지분율 100%)의 소규모합병 이후 건설업관련 부동산 임대사업도 함께 영위하고 있습니다. 사업부문별 매출액 [2020. 09. 30 현재] [단위:천원] 구체적인 용도 매출액 - - 합\\xa0 \\xa0 \\xa0 계 - 전기 중 화물자동차 운송 서비스 및 운송 주선사업 부문이 물적분할신설법인으로 분할되고, 물적분할신설법인(㈜신우운수)이 매각됨에 따라 화물자동차 운송 서비스 및 운송 주선사업 부문을 중단사업으로 분류하여 재작성되었습니다. 가. 건설사업부문 - 영위사업부문 토목/조경/철근·콘크리트 사업부문 부동산 임대업 당사는 고부가가치 건설사업 영위를 위해서는 차별화 를 비롯한 기술력 및 레퍼런스와 명확한 분석을 바탕으로 전략적인 Target Marketing을 통해서 안정적인 성장을 위한 목표달성을 위해 최선을 다하고 있으나 건설경기의 장기적인 경기부진으로 인하여 어려움을 격고있습니다. □사업의 영역 - 토목/조경/철근·콘크리트 사업분야 도로설계 및 공사, 단지설계 및 공사 부동산 임대업 당사는 주된 사업의 영역을 토목공사에 두고 있으며, 건설경기 침체에 따른 대금회수및 신규계약수주의 어려움을 고려하여 2012년 조경식재 및 철근·콘크리트 공사업을 추가하였습니다. 그 외 당사가 영위하던 골프장, 실내건축분야는 인력 감축 및 효율성 악화, 자금회수의 불확실성과 신규수주가 감소하여, 사업부문에서 제외하였습니다. 3.생산 및 설비에 관한 사항 \"해당 사항 없음\" 4.매출에 관한 사항 가. 매출실적 당사의 매출은 사업영역에 따라서 건설사업부, 운송사업부, 유통사업부, 부동산임대사업부로 구분됩니다. 건설사업부는 현재까지 진행사업인 조경 및 토목 분야와 철근콘크리트 매출로 이루어져 있습니다. 운송사업부문은 위탁과 현대글로비스와 협력업체로서의 운송서비스(자동갱신계약)를 제공하고 있습니다. (단위 : 천원, %) 품 목 형 태 구 분 제26기 3분기 제25기 제24기 금 액 구성비 금 액 구성비 금 액 구성비 건설사업 부문 토목, 조경, 철콘 및 기타 국내 매출 - - - - - - 운송사업 부문 화물운송 국내 매출 - - 966,901 100.00 2,464,477 100.00 합 계 - - 966,901 100.00 2,464,477 100.00 나. 수주 및 판매 전략 (1) 판매전략 □ 건설사업 - 당사 홈페이지나 IR 활동 등을 통한 자사 제품의 우수성을 홍보 - 건설관련 사업 유망지역 중심의 사업추진 및 기술력 제고에 의한 경쟁우위 확보 - 지속적이고 신속한 기술지원, 서비스에 의한 고객과의 신뢰구축 - 신기술, 고급기술, 고부가가치 사업 위주 - 고객, 협력업체와의 신뢰구축, 공동번영추구 - 금융기관, 중견기업 중심의 수익성 중시 영업 - 편안한 임대 서비스 제공 - 임차인과의 소통및 깨끗하고 편안한 공간사용을 위한 관리 (2) 판매조건 □ 건설사업 - 건설업 관련 법규와 규정에 의한 판매(용역서비스) 이행 - 부동산 임대와 관련하여 별도의 조직을 설치 하지 않고 있으며 본사에서 직접관리 를 하며 계약금액과 관리 비용을 수령합니다. 다. 판매조직 1) 건설사업 - 공사팀 : 토목공사, 조경공사, 철근·콘크리트공사 - 부동산 임대 : 당사 소유의 부동산을 임대 5.수주상황 등 \"해당 사항 없음\" 6. 파생상품거래현황 \"해당 사항 없음\" 7.경영상의 주요계약 *해 당 사 항 없 음 8.시장위험과 위험관리 당사는 금융상품과 관련하여 신용위험, 유동성위험 및 이자율위험에 노출되어 있습니다. 당사는 이러한 위험이 당사의 재무성과에 미치는 영향을 분석하고, 이를 허용가능한 수준으로 낮추기 위해 전사적차원에서 노력하고 있으며, 재무부분에서 이를 통제하고 있습니다. 가.신용위험 신용위험은 계약상대방이 계약상의 의무를 불이행하여 당사에 재무적 손실을 미칠 위험을 의미합니다. 당사는 채무불이행으로 인한 재무적 손실을 경감시키는 수단으로서 신용도가 일정 수준 이상인 거래처와 거래하고, 회수가 지연되는 금융자산에 대하여는 매월 회수지연 현황 및 회수대책을 보고하고 있으며, 지연사유에 따라 적절한조치를 취하고 있습니다. 당분기말 및 전기말 현재 당사의 신용위험에 대한 최대 노출정도는 다음과 같습니다. (단위: 천원) 구\\xa0 분 당분기말 전기말 현금 및 현금성자산 35,390 840 매출채권 및 기타채권 851,035 530,761 장기금융상품 655,212 655,212 기타 비유동자산 28,288 38,288 합\\xa0 계 1,569,925 1,225,101 한편, 당사는 금융회사에 현금및현금성자산을 예치하고 있으며, 신용등급이 우수한 금융기관과 거래하고 있으므로 금융기관으로부터의 신용위험은 제한적입니다. 나.유동성위험 당사는 현금 등 금융자산을 인도하여 결제하는 금융부채에 관련된 의무를 충족하는 데 어려움을 겪게 될 유동성위험에 노출되어 있습니다. 당사의 경영진은 유동성위험을 관리하기 위하여 단기 및 중장기 자금관리계획을 수립하고 예측현금흐름과 실제현금흐름을 계속하여 관찰하여 금융자산과 금융부채의 만기구조를 대응시키고 있습니다. 한편, 당사의 금융부채의 만기구조는 다음과 같습니다. <당분기말> (단위: 천원) 구\\xa0 분 3개월이하 4개월~6개월 1년 초과 합\\xa0 계 매입채무 및 기타채무 6,122,628 - - 6,122,628 보증채무 - 116,750 - 116,750 기타유동부채 109,588 - - 109,588 회사채 2,790,000 - - 2,790,000 전환사채 7,940,000 - - 7,940,000 유동성장기부채 6,300,000 - - 6,300,000 합\\xa0\\xa0 계 23,262,216 116,750 - 23,378,966 <전기말> (단위: 천원) 구\\xa0 분 3개월이하 4개월~12개월 1년 초과 합\\xa0 계 매입채무 및 기타채무 5,510,910 - - 5,510,910 단기차입금 190,000 - - 190,000 보증채무 - 116,750 - 116,750 기타유동부채 95,063 - - 95,063 회사채 2,790,000 - - 2,790,000 전환사채 7,940,000 - - 7,940,000 유동성장기부채 6,300,000 - - 6,300,000 합\\xa0\\xa0 계 22,825,973 116,750 - 22,942,723 다. 시장 위험 당사는 단기차입금과 관련하여 이자율변동위험에 노출되어 있습니다. 당사의 경영진은 시장이자율의 변동으로 인하여 금융상품의 공정가치 또는 미래현금흐름이 변동할위험을 측정하여 고정이자율차입금과 변동이자율차입금의 적절한 균형을 유지하려고 노력하고 있습니다. 당사의 이자율 민감도는 변동금리부 금융상품의 이자수익 및 이자비용에 영향을 미치는 시장이자율의 변동에 근거하여 결정됩니다. 이러한 가정 하에서 보고기간 종료일 현재 당사의 금융자산 및 부채에 대하여 1%의 이자율 변동이 발생할 경우 금융손익의 변동은 다음과 같습니다. (단위: 천원) 구분 당분기말 전기말 1% 상승시 1% 하락시 1% 상승시 1% 하락시 이자비용 63,000 (63,000) 64,900 (64,900) 라. 자본관리 당사의 자본관리는 건전한 자본구조의 유지를 통한 주주이익 극대화를 목적으로 하고 있습니다. 당분기말 및 전기말 현재 당사의 부채비율은 다음과 같습니다. (단위: 천원) 구\\xa0 분 당분기말 전기말 부채총계 32,306,107 31,239,873 자본총계 1,472,903 2,402,324 부채비율 2,193.36% 1,300.40% 9.신규사업 등의 내용 및 전망 당사는 국내의 불확실한 경제여건 및 환경에 대비하여 풍부한 경험을 갖춘 우수한 인력과 서비스 정보력을 기반으로 사업부별 통합 리스크 관리를 하는 한편, 효율적인 의사결정과 적시적인 경영자원의 운영을 통하여 사업영역을 확대하고 강화할 예정입니다. 10. 그 밖에 투자의사결정에 필요한 사항 가. 회사의 상표, 고객관리 정책 -해당사항 없음- 나. 법률, 규정 및 정부등의 규제 등에 의한 사항 당사가 영위하는 사업은 경제가치를 창출하는 동시에 계속기업을 전제로 지속가능한성장을 추구하고자 노력하고 있으며 효율적인 경영활동을 통해 창조적 기업문화의 조성과 기업윤리를 비롯한 현행 법률을 준수해 나가고 있습니다. 1)건설사업부문 현재 국내의 건설산업은 국내경제 및 타 산업과 국민생활에 미치는 영향이 크기 때문에 다양한 법률에 의해 규제되고 있습니다. 시공 및 시공관리업무는 건설산업기본법,국가계약법, 도시 및 주거환경정비법, 건축법, 주택법, 하도급법,건설계약, 건설시공, 전기계약, 전기시공, 전기통신계약, 전기통신, 소방계약, 소방시공 감리계약, 감리 등으로 다양한 법률의 적용을 받고 있고, 규제의 신설과 변화에 민감하게 반응하는 특징을 가지고 있습니다. 건설산업이 국내경제에서 차지하는 비중이 높고, 생산 및 고용 유발 효과가 매우 크므로 정부는 부동산 경기의 상황에 따라 경제 운영 방침의 변화를 주고 있으며, 이는 건설업에 많은 영향을 미치는 각종 제도와 정책을 시행해 오고 있습니다. 2000년 최저가 낙찰제의 도입 이후 최근 최저가 낙찰제의 확대를 지속적으로 추진하는 등 시장경쟁원칙의 도입을 위한 국내건설시장의 Global Standard화가 지속적으로추진되고 있습니다. 현 정부에서는 주택시장 활성화를 위해 제도완화를 지속적으로 추진하고 있으며, 금융권의 건설부문 구조조정을 통하여 재무건정성을 확보하도록 유도하고 있으나 건설 및 부동산 경기 침체에 따른 미분양 주택 증가 등으로 일부 건설사의 재무상황 악화는 불가피한 상황입니다. 또한 부실 건설부문은 재편 중이며, 정부차원에서 추가적인 규제책이 도입될 가능성이 존재함에 따라 정책 방향에 따라 직접적인 영향을 받을 수 있으며, 이는 당사의 매출성장이나 변동사항에 부정적인 영향을 줄 수 있습니다. 다. 기타 투자의사결정에 필요한 사항 - 11.조직도 해피드림 조직도(2020.09.30)']"
      ]
     },
     "execution_count": 294,
     "metadata": {},
     "output_type": "execute_result"
    }
   ],
   "source": [
    "item2_list[:10]"
   ]
  },
  {
   "cell_type": "code",
   "execution_count": 295,
   "metadata": {},
   "outputs": [],
   "source": [
    "final_df['item2_replace'] = item2_list"
   ]
  },
  {
   "cell_type": "code",
   "execution_count": 296,
   "metadata": {},
   "outputs": [
    {
     "data": {
      "text/html": [
       "<div>\n",
       "<style scoped>\n",
       "    .dataframe tbody tr th:only-of-type {\n",
       "        vertical-align: middle;\n",
       "    }\n",
       "\n",
       "    .dataframe tbody tr th {\n",
       "        vertical-align: top;\n",
       "    }\n",
       "\n",
       "    .dataframe thead th {\n",
       "        text-align: right;\n",
       "    }\n",
       "</style>\n",
       "<table border=\"1\" class=\"dataframe\">\n",
       "  <thead>\n",
       "    <tr style=\"text-align: right;\">\n",
       "      <th></th>\n",
       "      <th>0</th>\n",
       "      <th>1</th>\n",
       "      <th>2</th>\n",
       "      <th>3</th>\n",
       "      <th>item1_replace</th>\n",
       "      <th>item2_replace</th>\n",
       "    </tr>\n",
       "  </thead>\n",
       "  <tbody>\n",
       "    <tr>\n",
       "      <th>0</th>\n",
       "      <td>지오엠씨</td>\n",
       "      <td>1. 회사의 개요\\n1. 연결대상 종속회사 개황(연결재무제표를 작성하는 주권상장법인...</td>\n",
       "      <td>II. 사업의 내용\\n1. 사업의 개요\\n가. 영업의 현황\\n엠씨스퀘어 사업이\\n3...</td>\n",
       "      <td>IV. 이사의 경영진단 및 분석의견\\n- 기업공시서식 작성기준에 따라 분/반기 보고...</td>\n",
       "      <td>NaN</td>\n",
       "      <td>II. 사업의 내용 1. 사업의 개요 가. 영업의 현황 엠씨스퀘어 사업이 35 년의...</td>\n",
       "    </tr>\n",
       "    <tr>\n",
       "      <th>1</th>\n",
       "      <td>클루넷</td>\n",
       "      <td>1. 회사의 개요\\n1. 연결대상 종속회사 개황(연결재무제표를 작성하는 주권상장법인...</td>\n",
       "      <td>II. 사업의 내용\\n1. 사업의 개요\\n2. 주요 제품 및 서비스\\n3. 원재료 ...</td>\n",
       "      <td>IV. 이사의 경영진단 및 분석의견\\n1. 예측정보에 대한 주의사항\\n당사가 동 사...</td>\n",
       "      <td>NaN</td>\n",
       "      <td>NaN</td>\n",
       "    </tr>\n",
       "    <tr>\n",
       "      <th>2</th>\n",
       "      <td>GRT</td>\n",
       "      <td>1. 회사의 개요\\n가. 연결대상 종속회사 개황\\n(연결재무제표를 작성하는 주권상장...</td>\n",
       "      <td>II. 사업의 내용\\n1. 사업의 개요\\n당사는 홍콩에 설립된 비금융 지주회사이며,...</td>\n",
       "      <td>IV. 이사의 경영진단 및 분석의견\\n1. 예측정보에 대한 주의사항\\n당사가 이사의...</td>\n",
       "      <td>1. 회사의 개요 가. 연결대상 종속회사 개황 (연결재무제표를 작성하는 주권상장법인...</td>\n",
       "      <td>II. 사업의 내용 1. 사업의 개요 당사는 홍콩에 설립된 비금융 지주회사이며, 실...</td>\n",
       "    </tr>\n",
       "    <tr>\n",
       "      <th>3</th>\n",
       "      <td>보진재</td>\n",
       "      <td>1. 회사의 개요\\n(1) 회사의 법적 및 상업적 명칭\\n당사의 국문 명칭은 주식회...</td>\n",
       "      <td>II. 사업의 내용\\n1. 사업의 개요\\n(\\n1) 사업부문별 시장여건 및 영업의 ...</td>\n",
       "      <td>IV. 이사의 경영진단 및 분석의견\\n1. 예측정보에 대한 주의사항\\n당사가 동\\n...</td>\n",
       "      <td>1. 회사의 개요 (1) 회사의 법적 및 상업적 명칭 당사의 국문 명칭은 주식회사 ...</td>\n",
       "      <td>II. 사업의 내용 1. 사업의 개요 ( 1) 사업부문별 시장여건 및 영업의 개황 ...</td>\n",
       "    </tr>\n",
       "    <tr>\n",
       "      <th>4</th>\n",
       "      <td>로스웰</td>\n",
       "      <td>1. 회사의 개요\\n1. 연결대상 종속회사 개황\\n(1) 연결대상 종속회사 현황(요...</td>\n",
       "      <td>II. 사업의 내용\\n1. 사업의 개요\\n당사와 연결종속회사의 주된 영업활동은 자동...</td>\n",
       "      <td>IV. 이사의 경영진단 및 분석의견\\n1. 예측정보에 대한 주의사항\\n본 자료는 미...</td>\n",
       "      <td>1. 회사의 개요 1. 연결대상 종속회사 개황 (1) 연결대상 종속회사 현황(요약)...</td>\n",
       "      <td>II. 사업의 내용 1. 사업의 개요 당사와 연결종속회사의 주된 영업활동은 자동차용...</td>\n",
       "    </tr>\n",
       "    <tr>\n",
       "      <th>...</th>\n",
       "      <td>...</td>\n",
       "      <td>...</td>\n",
       "      <td>...</td>\n",
       "      <td>...</td>\n",
       "      <td>...</td>\n",
       "      <td>...</td>\n",
       "    </tr>\n",
       "    <tr>\n",
       "      <th>2979</th>\n",
       "      <td>HJ중공업</td>\n",
       "      <td>1. 회사의 개요\\n가. 연결대상 종속회사 현황(요약)\\n(단위 : 사)\\n구분\\n...</td>\n",
       "      <td>II. 사업의 내용\\n1. 사업의 개요\\n당사는 조선업과 건설업을 주요사업으로 영위...</td>\n",
       "      <td>IV. 이사의 경영진단 및 분석의견\\n1. 예측정보에 대한 주의사항\\n당사가 동 보...</td>\n",
       "      <td>1. 회사의 개요 가. 연결대상 종속회사 현황(요약) (단위 : 사) 구분 연결대상...</td>\n",
       "      <td>II. 사업의 내용 1. 사업의 개요 당사는 조선업과 건설업을 주요사업으로 영위하고...</td>\n",
       "    </tr>\n",
       "    <tr>\n",
       "      <th>2980</th>\n",
       "      <td>라이온켐텍</td>\n",
       "      <td>1. 회사의 개요\\n1. 연결대상 종속회사 개황(연결재무제표를 작성하는 주권상장법인...</td>\n",
       "      <td>II. 사업의 내용\\n1. 사업의 개요\\n당사는 건축 내외장재로 사용되는 인조대리석...</td>\n",
       "      <td>IV. 이사의 경영진단 및 분석의견\\n1. 예측정보에 대한 주의 사항\\n동 사업보고...</td>\n",
       "      <td>1. 회사의 개요 1. 연결대상 종속회사 개황(연결재무제표를 작성하는 주권상장법인이...</td>\n",
       "      <td>II. 사업의 내용 1. 사업의 개요 당사는 건축 내외장재로 사용되는 인조대리석 및...</td>\n",
       "    </tr>\n",
       "    <tr>\n",
       "      <th>2981</th>\n",
       "      <td>에어부산</td>\n",
       "      <td>1. 회사의 개요\\n가. 연결대상 종속회사 개황(연결재무제표를 작성하는 주권상장법인...</td>\n",
       "      <td>II. 사업의 내용\\n1. 사업의 개요\\n당사의 주요 제품 및 서비스는 여객운송서비...</td>\n",
       "      <td>IV. 이사의 경영진단 및 분석의견\\n1. 예측정보에 대한 유의사항\\n본 자료는 미...</td>\n",
       "      <td>1. 회사의 개요 가. 연결대상 종속회사 개황(연결재무제표를 작성하는 주권상장법인이...</td>\n",
       "      <td>II. 사업의 내용 1. 사업의 개요 당사의 주요 제품 및 서비스는 여객운송서비스입...</td>\n",
       "    </tr>\n",
       "    <tr>\n",
       "      <th>2982</th>\n",
       "      <td>화인베스틸</td>\n",
       "      <td>1. 회사의 개요\\n가. 연결대상 종속회사 개황\\n1) 연결대상 종속회사 현황(요약...</td>\n",
       "      <td>II. 사업의 내용\\n1. 사업의 개요\\n당사는 단일 사업부문(형강 제조 및 판매)...</td>\n",
       "      <td>IV. 이사의 경영진단 및 분석의견\\n1. 예측정보에 대한 주의사항\\n당사가 동 이...</td>\n",
       "      <td>1. 회사의 개요 가. 연결대상 종속회사 개황 1) 연결대상 종속회사 현황(요약) ...</td>\n",
       "      <td>II. 사업의 내용 1. 사업의 개요 당사는 단일 사업부문(형강 제조 및 판매)으로...</td>\n",
       "    </tr>\n",
       "    <tr>\n",
       "      <th>2983</th>\n",
       "      <td>케이씨씨글라스</td>\n",
       "      <td>1. 회사의 개요\\n(1) 연결대상 종속회사 현황(요약)\\n(단위 : 사)\\n구분\\...</td>\n",
       "      <td>II. 사업의 내용\\n1. 사업의 개요\\n가. 사업의 개요\\n당사는 2020년 1월...</td>\n",
       "      <td>IV. 이사의 경영진단 및 분석의견\\n1. 예측정보에 대한 주의사항\\n당사는 '자본...</td>\n",
       "      <td>1. 회사의 개요 (1) 연결대상 종속회사 현황(요약) (단위 : 사) 구분 연결대...</td>\n",
       "      <td>II. 사업의 내용 1. 사업의 개요 가. 사업의 개요 당사는 2020년 1월 1일...</td>\n",
       "    </tr>\n",
       "  </tbody>\n",
       "</table>\n",
       "<p>2984 rows × 6 columns</p>\n",
       "</div>"
      ],
      "text/plain": [
       "            0                                                  1  \\\n",
       "0        지오엠씨  1. 회사의 개요\\n1. 연결대상 종속회사 개황(연결재무제표를 작성하는 주권상장법인...   \n",
       "1         클루넷  1. 회사의 개요\\n1. 연결대상 종속회사 개황(연결재무제표를 작성하는 주권상장법인...   \n",
       "2         GRT  1. 회사의 개요\\n가. 연결대상 종속회사 개황\\n(연결재무제표를 작성하는 주권상장...   \n",
       "3         보진재  1. 회사의 개요\\n(1) 회사의 법적 및 상업적 명칭\\n당사의 국문 명칭은 주식회...   \n",
       "4         로스웰  1. 회사의 개요\\n1. 연결대상 종속회사 개황\\n(1) 연결대상 종속회사 현황(요...   \n",
       "...       ...                                                ...   \n",
       "2979    HJ중공업  1. 회사의 개요\\n가. 연결대상 종속회사 현황(요약)\\n(단위 : 사)\\n구분\\n...   \n",
       "2980    라이온켐텍  1. 회사의 개요\\n1. 연결대상 종속회사 개황(연결재무제표를 작성하는 주권상장법인...   \n",
       "2981     에어부산  1. 회사의 개요\\n가. 연결대상 종속회사 개황(연결재무제표를 작성하는 주권상장법인...   \n",
       "2982    화인베스틸  1. 회사의 개요\\n가. 연결대상 종속회사 개황\\n1) 연결대상 종속회사 현황(요약...   \n",
       "2983  케이씨씨글라스  1. 회사의 개요\\n(1) 연결대상 종속회사 현황(요약)\\n(단위 : 사)\\n구분\\...   \n",
       "\n",
       "                                                      2  \\\n",
       "0     II. 사업의 내용\\n1. 사업의 개요\\n가. 영업의 현황\\n엠씨스퀘어 사업이\\n3...   \n",
       "1     II. 사업의 내용\\n1. 사업의 개요\\n2. 주요 제품 및 서비스\\n3. 원재료 ...   \n",
       "2     II. 사업의 내용\\n1. 사업의 개요\\n당사는 홍콩에 설립된 비금융 지주회사이며,...   \n",
       "3     II. 사업의 내용\\n1. 사업의 개요\\n(\\n1) 사업부문별 시장여건 및 영업의 ...   \n",
       "4     II. 사업의 내용\\n1. 사업의 개요\\n당사와 연결종속회사의 주된 영업활동은 자동...   \n",
       "...                                                 ...   \n",
       "2979  II. 사업의 내용\\n1. 사업의 개요\\n당사는 조선업과 건설업을 주요사업으로 영위...   \n",
       "2980  II. 사업의 내용\\n1. 사업의 개요\\n당사는 건축 내외장재로 사용되는 인조대리석...   \n",
       "2981  II. 사업의 내용\\n1. 사업의 개요\\n당사의 주요 제품 및 서비스는 여객운송서비...   \n",
       "2982  II. 사업의 내용\\n1. 사업의 개요\\n당사는 단일 사업부문(형강 제조 및 판매)...   \n",
       "2983  II. 사업의 내용\\n1. 사업의 개요\\n가. 사업의 개요\\n당사는 2020년 1월...   \n",
       "\n",
       "                                                      3  \\\n",
       "0     IV. 이사의 경영진단 및 분석의견\\n- 기업공시서식 작성기준에 따라 분/반기 보고...   \n",
       "1     IV. 이사의 경영진단 및 분석의견\\n1. 예측정보에 대한 주의사항\\n당사가 동 사...   \n",
       "2     IV. 이사의 경영진단 및 분석의견\\n1. 예측정보에 대한 주의사항\\n당사가 이사의...   \n",
       "3     IV. 이사의 경영진단 및 분석의견\\n1. 예측정보에 대한 주의사항\\n당사가 동\\n...   \n",
       "4     IV. 이사의 경영진단 및 분석의견\\n1. 예측정보에 대한 주의사항\\n본 자료는 미...   \n",
       "...                                                 ...   \n",
       "2979  IV. 이사의 경영진단 및 분석의견\\n1. 예측정보에 대한 주의사항\\n당사가 동 보...   \n",
       "2980  IV. 이사의 경영진단 및 분석의견\\n1. 예측정보에 대한 주의 사항\\n동 사업보고...   \n",
       "2981  IV. 이사의 경영진단 및 분석의견\\n1. 예측정보에 대한 유의사항\\n본 자료는 미...   \n",
       "2982  IV. 이사의 경영진단 및 분석의견\\n1. 예측정보에 대한 주의사항\\n당사가 동 이...   \n",
       "2983  IV. 이사의 경영진단 및 분석의견\\n1. 예측정보에 대한 주의사항\\n당사는 '자본...   \n",
       "\n",
       "                                          item1_replace  \\\n",
       "0                                                   NaN   \n",
       "1                                                   NaN   \n",
       "2     1. 회사의 개요 가. 연결대상 종속회사 개황 (연결재무제표를 작성하는 주권상장법인...   \n",
       "3     1. 회사의 개요 (1) 회사의 법적 및 상업적 명칭 당사의 국문 명칭은 주식회사 ...   \n",
       "4     1. 회사의 개요 1. 연결대상 종속회사 개황 (1) 연결대상 종속회사 현황(요약)...   \n",
       "...                                                 ...   \n",
       "2979  1. 회사의 개요 가. 연결대상 종속회사 현황(요약) (단위 : 사) 구분 연결대상...   \n",
       "2980  1. 회사의 개요 1. 연결대상 종속회사 개황(연결재무제표를 작성하는 주권상장법인이...   \n",
       "2981  1. 회사의 개요 가. 연결대상 종속회사 개황(연결재무제표를 작성하는 주권상장법인이...   \n",
       "2982  1. 회사의 개요 가. 연결대상 종속회사 개황 1) 연결대상 종속회사 현황(요약) ...   \n",
       "2983  1. 회사의 개요 (1) 연결대상 종속회사 현황(요약) (단위 : 사) 구분 연결대...   \n",
       "\n",
       "                                          item2_replace  \n",
       "0     II. 사업의 내용 1. 사업의 개요 가. 영업의 현황 엠씨스퀘어 사업이 35 년의...  \n",
       "1                                                   NaN  \n",
       "2     II. 사업의 내용 1. 사업의 개요 당사는 홍콩에 설립된 비금융 지주회사이며, 실...  \n",
       "3     II. 사업의 내용 1. 사업의 개요 ( 1) 사업부문별 시장여건 및 영업의 개황 ...  \n",
       "4     II. 사업의 내용 1. 사업의 개요 당사와 연결종속회사의 주된 영업활동은 자동차용...  \n",
       "...                                                 ...  \n",
       "2979  II. 사업의 내용 1. 사업의 개요 당사는 조선업과 건설업을 주요사업으로 영위하고...  \n",
       "2980  II. 사업의 내용 1. 사업의 개요 당사는 건축 내외장재로 사용되는 인조대리석 및...  \n",
       "2981  II. 사업의 내용 1. 사업의 개요 당사의 주요 제품 및 서비스는 여객운송서비스입...  \n",
       "2982  II. 사업의 내용 1. 사업의 개요 당사는 단일 사업부문(형강 제조 및 판매)으로...  \n",
       "2983  II. 사업의 내용 1. 사업의 개요 가. 사업의 개요 당사는 2020년 1월 1일...  \n",
       "\n",
       "[2984 rows x 6 columns]"
      ]
     },
     "execution_count": 296,
     "metadata": {},
     "output_type": "execute_result"
    }
   ],
   "source": [
    "final_df"
   ]
  },
  {
   "cell_type": "markdown",
   "metadata": {},
   "source": [
    "### 경영진단\n",
    "분/반기 보고서 경우에 기제하지 않음"
   ]
  },
  {
   "cell_type": "code",
   "execution_count": 297,
   "metadata": {},
   "outputs": [],
   "source": [
    "import numpy as np\n",
    "texts = final_df.loc[:,'3'].values\n",
    "texts = np.array([text.replace(\"\\n\", \" \") for text in texts])"
   ]
  },
  {
   "cell_type": "code",
   "execution_count": 298,
   "metadata": {},
   "outputs": [],
   "source": [
    "import re\n",
    "def process_sentence(sentence):\n",
    "    # \"2.\"이 있는지 확인\n",
    "    if \"2.\" in sentence:\n",
    "        # \"2.\"을 기준으로 분할하여 뒷부분을 가져옴\n",
    "        return re.split(r\"2\\.\", sentence, maxsplit=1)[-1].strip()\n",
    "    else:\n",
    "        # \"2.\"이 없는 경우 np.NaN 반환\n",
    "        return np.NaN\n",
    "\n",
    "processed_sentences = np.array([process_sentence(sentence) for sentence in texts], dtype=object)\n",
    "\n"
   ]
  },
  {
   "cell_type": "code",
   "execution_count": 299,
   "metadata": {},
   "outputs": [
    {
     "data": {
      "text/plain": [
       "array([nan,\n",
       "       \"개요 당사는 인터넷 인프라 서비스 전문 기업으로 클라우드 컴퓨팅 기술인 CCN(Cloud Computing Network)기반의 CDN(Contents Delivery Network)서비스를 중점적으로 개발, 공급하고 있으며 클라우드 스토리지 서비스와 디지털 콘텐츠 유통을 주요 사업으로 영위하고 있습니다. 기업부설연구소 체제로 지속적인 기술 개발 및 신제품 출시를 위해 노력하고 있습니다. 실제 CDN 기반의 콘텐츠 전송기술에 클라우드 컴퓨팅 기술을 접목시켜 CCN 이라는 서비스로 초기 시장을 선점 하고 있으며 클라우드 스토리지 서비스 등 다양한 비지니스 모델을 만들어 가고 있습니다. 당사의 주요고객은 온라인 콘텐츠 유통 업체를 비롯해 온라인 교육 사업자와 게임업체 및 포털업체 그리고 인터넷방송사에 이르기까지 대용량의 콘텐츠 사업을 하고 있는 곳입니다. 기타 자세한 사항은 동 신고서의 'Ⅱ. 사업의 내용'을 참조하시기 바랍니다. 3. 재무상태 및 영업실적에 대한 분석 당사의 당기 (제19기 : 2020. 01. 01 - 2020. 12. 31) 경영성과를 전기 (제18기 : 2019.01.01 - 2019. 12. 31) 와 대비하여 진단하였습니다. (1) 경영성과 2020년 매출액은 0백만원으로 전년도 0백만원 대비 약0% 감소 하였으며 영업손실은 전년동기 21만원에서 19백만원으로 손실폭이 축소되었습니다. 지분법손실로 인해 당기순손실 역시 전년동기 186백만원에서 당기 152백만원으로 전년대비\\xa0 34백만원으로 손실이 축소 되었습니다. - 당사의 영업실적에 관한 자료는 다음과 같습니다. (단위 : 원) 구\\xa0 \\xa0\\xa0 분 영\\xa0 \\xa0 \\xa0 업\\xa0 \\xa0 \\xa0 실\\xa0 \\xa0 \\xa0 적 증감금액 증감비율 (%) 2020년 2019년 매출액 - - - - 매출원가 - - - - 매출총이익 - - - - 판매관리비 17,681,320 18,517,203 -835,883 -9.62% 영업이익(손실) -17,681,320 -18,517,203 -835,883 -9.62% 법인세차감전계속사업이익(손실) -126,682,299 -159,424,166 32,741,867 20.53% 당기순이익(손실) -126,682,299 -159,424,166 32,741,867 20.53% - 당사의 재무상태에 관한 자료는 다음과 같습니다. (단위 : 원) 구\\xa0 \\xa0\\xa0 분 재\\xa0 \\xa0 \\xa0 무\\xa0 \\xa0 \\xa0 상\\xa0 \\xa0 \\xa0 태 증감금액 증감비율(%) 2020년 2019년 유동자산 73,526,169 90,578,256 -17,052,087 -18.83% 비유동자산 1,075,014,516 1,184,094,728 -109,080,212 -9.21% 자산총계 1,148,540,685 1,274,672,984 -126,132,299 -9.90% 유동부채 301,538,988 300,496,728 1,042,260 -0.34% 비유동부채 69,691,781 69,691,781 0 0.00% 부채총계 370,647,909 370,097,909 550,000 -0.19% 자본금 2,520,436,500 2,520,436,500 - 0.00% 자본총계 777,892,776 904,575,075 -126,682,299 -14.00%\",\n",
       "       \"개요 당사의 제 1공장, 2공장, 3공장은 모두 가동중입니다. 당사의 당기 매출액은 전기대비 13.18% 증가한 48.7억RMB, 영업이익과 순이익은 전기대비 92.53%, 93.99% 증가한 8억RMB, 6억RMB를 기록하였습니다. 3. 재무상태 및 영업실적 가. 매출액 (단위: 천RMB, %) 구분 FY2024 FY2023 증감 증감율 포장필름 373,431 271,062 102,369 37.8% 광학보호필름 1,659,722 1,604,815 54,907 3.4% 광학접착필름 1,267,151 708,713 558,438 78.8% 기능성필름 1,181,551 1,345,111 (163,560) -12.2% 기타 92,367 111,936 (19,569) -17.5% 매출 합계 4,574,221 4,041,639 532,582 13.2% 포장필름은 전기대비 37.8% 증가한 3.7억RMB, 광학보호필름은 전기대비 3.4% 증가한 16.6억RMB를 기록하였습니다. 광학접착필름과 기능성필름 각각 전기대비 78.8% 증가한 12.7억RMB, 12.2% 감소한 11.8억RMB를 기록하였습니다. 기타 매출은 전기대비 17.5% 감소한 0.9억RMB를 기록하였습니다. 나. 영업이익 및 당기순이익 (단위 : 천RMB) 구분 FY2024 FY2023 증감 증감율 매출원가 3,392,010 3,402,175 (10,165) -0.30% 매출원가율(%) 74.15% 84.18% -10.03%p 판매관리비 384,132 224,949 159,183 70.76% 판매관리비율(%) 8.40% 5.57% 2.83%p 영업이익 798,079 414,515 383,564 92.53% 영업이익률(%) 17.45% 10.26% 7.19%p 당기순이익 600,146 309,375 290,771 93.99% 당기순이익률(%) 13.12% 7.65% 5.47%p 매출액 대비 판관비중이 2.83% 증가하였습니다. 당사는 제4차 산업 필름 코팅소재 전문기업으로 성장기반을 강화하기 위한 연구개발 투자를 아끼지 않고 있으며 지속적으로 R&D 역량을 강화하고 있습니다. 통리광전은 첨단기술기업 인증을 받아 2019년 1월 1일부터 3년간 특례세율인 15%의 세율을 적용받습니다. 영업이익과 당기순이익은 전기 대비 각각 92.53%, 93.99% 증가한 8억RMB, 6억RMB를, 영업이익률 및 당기순이익률은 각각 17.45%, 13.12%를 기록하며 안정적인 수익성을 유지하였습니다. 다. 자산총계 (단위 : 천RMB) 구분 FY2024 FY2023 증감 증감율 자산총계 8,881,713 8,198,529 683,184 8.3% 유동자산 2,491,421 1,849,855 641,566 34.7% 현금및예치금 561,703 309,485 252,218 81.5% 매출채권및기타채권 1,726,400 1,160,796 565,604 48.7% 재고자산 117,068 118,453 (1,385) -1.2% 비유동자산 6,390,292 6,348,675 41,617 0.7% 관계기업투자 62,218 62,229 (11) 0.0% 유형자산 6,021,995 5,942,354 79,641 1.3% 무형자산 32,189 45,046 (12,857) -28.5% 유동비율(%) 274.8 74.1% 200.7%p 자산총계는 전기대비 8.3% 증가한 88.8억RMB를 기록하였습니다. 유형자산 및 무형자산은 전기 대비 각각 1.3% 증가, 28.5% 감소한 60.2억RMB, 0.3억RMB를 기록하였습니다. 라. 부채총계 (단위 : 천RMB) 구분 FY2024 FY2023 증감 증감율 부채총계 4,005,510 3,946,075 59,435 1.5% 유동부채 906,519 2,497,675 (1,591,156) -63.7% 매입채무 603,950 949,668 (345,718) -36.4% 단기차입금 185,000 195,300 (10,300) -5.3% 비유동부채 3,098,991 1,448,400 1,650,591 114.0% 부채비율(%) 82.1% 92.8% -10.7%p 당기말 당사의 부채총액은 전기 대비 1.5% 증가한 40억RMB를 기록하였습니다. 유동부채는 전기 대비 63.7% 감소하였고, 당사의 금융기관 단기차입금 잔액은 전기대비 5.3% 감소하였습니다. 당사의 부채비율은 전기 92.8%에서 당기 82.1%로 10.7%p 감소하였습니다. 마. 자본총계 (단위 : 천RMB) 구분 FY2024 FY2023 증감 증감율 자본총계 4,876,204 4,252,454 623,750 14.7% 납입자본 770,089 770,089 0 0.0% 자본잉여금 750,193 410,213 339,980 82.9% 이익잉여금(결손금) 3,127,328 2,641,687 485,641 18.4% 비지배지분 711,090 430,465 280,625 65.2% 유보율(%) 503.5% 396.3% 107.2% 자기자본비율(%) 54.9% 51.90% 3.0% 당사의 자기자본은 당기말 49.8억RMB에 달하면서 전기 대비 14.7% 증가하였습니다. 당기말 자본잉여금은 82.9%증가한 7.7억RMB를 기록하였으며, 이익잉여금은 전기말 대비 18.4%증가한 31.3억RMB를 기록하였습니다. 당사의 유보율은 전기말 396.3%에서 당기말 503.5%로 상승하였고, 반면 자기자본비율은 전기말 대비 3.0%p 증가한 54.9%에 달하였습니다. 4. 부외 거래 당사의 부외거래는 'Ⅲ. 재무에 관한 사항'의 '3. 연결재무제표 주석' 의 '우발채무 및 약정사항'을 참조하시기 바랍니다. 5. 그 밖에 투자의사결정에 필요한 사항 연결재무제표 작성을 위하여 연결실체는 지속적으로 제정 혹은 개정된 국제회계기준 (International Financial Reporting Standard), IASB(International Accounting Stand ards Board) 및 IFRS 해석위원회(Internationa Financial Reporting Interpretations Committee, IFRIC)에 의해 발행된 유효한 개정사항 및 해석을 적용하였습니다. (1) 회계정책의 변경의 내용 연결실체는 2023년 7월 1일로 개시하는 회계기간부터 다음의 개정 기준서 및 해석서 를 신규로 적용하였습니다. ① IAS 1 '재무제표 표시(Presentation of Financial Statements)' - '회계정책'의 공 시 중요한 회계정책 정보를 정의하고 이를 공시하도록 하였습니다. ② IAS 8 '회계정책, 회계추정의 변경 및 오류(Accounting Policies Changes in Acco unting Estimates and Errors)' - '회계추정'의 정의 회계추정을 정의하고, 회계정책의 변경과 구별하는 방법을 명확히 하였습니다. ③ IAS 12 '법인세(Income Taxes)' - 단일거래에서 생기는 자산과 부채에 대한 이연 법인세 자산 또는 부채가 최초로 인식되는 거래의 최초 인식 예외 요건에 거래시점 동일한 가산할 일시적차이와 차감할 일시적차이를 발생시키지 않는 거래라는 요건을 추가하 였습니다. (2) 미적용 제ㆍ개정 기준서 제정 또는 공표되었으나 시행일이 도래하지 않아 적용하지 아니한 제ㆍ개정 기준서 및 해석서는 다음과 같습니다. 연결실체는 재무제표 작성시 다음의 제ㆍ개정 기준서 및 해석서를 조기적용하지 아니하였습니다. ① IAS 1 '재무제표 표시(Presentation of Financial Statements)' 개정 - 부채의 유동 /비유동 분류, 약정사항이 있는 비유동부채 부채는 보고기간말 현재 존재하는 실질적인 권리에 따라 유동 또는 비유동으로 분류 되며, 부채의 결제를 연기할 수 있는 권리의 행사가능성이나 경영진의 기대는 고려하 지 않습니다. 또한, 부채의 결제에 자기지분상품의 이전도 포함되나, 복합금융상품에 서 자기 지분상품으로 결제하는 옵션이 지분상품의 정의를 충족하여 부채와 분리하 여 인식된 경우는 제외됩니다. 또한, 기업이 보고기간말 후에 준수해야하는 약정은 해당 부채의 분류에 영향을 미치지 않으며, 보고기간 이후 12개월 이내 약정사항을 준수해야하는 부채가 비유동부채로 분류된 경우 보고기간 이후 12개월 이내 부채가 상환될 수 있는 위험에 관한 정보를 공시해야 합니다. 동 개정사항은 2024년 1월 1일 이후 시작하는 회계연도부터 적용되며, 조기적용이 허용됩니다. ② IAS 7 '현금흐름표(Statement of Cash Flows)', IFRS 7 '금융상품: 공시(Financial Instruments : Disclosures)' 개정 - 공급자금융약정에 대한 정보 공시 공급자금융약정을 적용하는 경우, 재무제표이용자가 공급자금융약정이 기업의 부채 와 현금흐름 그리고 유동성위험익스포저에 미치는 영향을 평가할 수 있도록 공급자 금융약정에 대한 정보를 공시해야 합니다. 동 개정사항은 2024년 1월 1일 이후 시작 하는 회계연도부터 적용되며, 조기적용이 허용됩니다. ③ IFRS 16 ‘ 리스(Leases)’ 개정 - 판매후리스에서 생기는 리스부채 판매후리스에서 생기는 리스부채를 후속적으로 측정할 때 판매자-리스이용자가 보 유하는 사용권 관련 손익을 인식하지 않는 방식으로 리스료나 수정리스료를 산정합 니다. 동 개정사항은 2024년 1월 1일 이후 시작하는 회계연도부터 적용되며, 조기적 용이 허용됩니다. ④ IAS 1 '재무제표 표시(Presentation of Financial Statements)' 개정 - ‘ 가상자산 공시’ 가상자산을 보유하는 경우, 가상자산을 고객을 대신하여 보유하는 경우, 가상자산을 발행한 경우의 추가 공시사항을 규정하고 있습니다. 동 개정사항은 2024년 1월 1일 이후 시작하는 회계연도부터 적용되며, 조기적용이 허용됩니다. 연결실체는 상기에 열거된 제.개정사항이 재무제표에 중요한 영향을 미치지 않을 것 으로 예상하고 있습니다.\",\n",
       "       ...,\n",
       "       '개요 당사는 2019년 연간 매출액은 전년대비 3.1% 감소한 6,332억 원, 영업이익은 전년대비 284.1% 감소한 -378억 원, 당기순이익은 전년 대비 459.3% 감소한 -729억 원을 기록하였습니다. 당사는 향후 항공기 신규 도입을 통한 노선 확장, 고객의 편의성을 증대한 다양한 부가서비스 개발 등 항공업 본연에서의 역량 집중을 통해 외형 성장 및 수익성 증대를 도모하고자 합니다. 3. 재무상태 및 영업실적 가. 재무상태 (단위 : 원) 과목 제13(당)기 제12(전)기 증감 증감율 자산 985,775,844,327 302,699,757,341 683,076,086,986 225.7% 유동자산 112,510,124,877 105,633,986,875 6,876,138,002 6.5% 비유동자산 873,265,719,450 197,065,770,466 676,199,948,984 343.1% 부채 877,666,773,929 150,402,815,344 727,263,958,585 483.5% 유동부채 271,787,841,558 117,372,793,838 154,415,047,720 131.6% 비유동부채 605,878,932,371 33,030,021,506 572,848,910,865 1734.3% 자본 108,109,070,398 152,296,941,997 (44,187,871,599) -29.0% 자본금 52,070,000,000 52,070,000,000 0 0.0% 자본잉여금 4,602,564,634 4,602,564,634 0 0.0% 자본조정 (6,576,800,001) (6,576,800,001) 0 0.0% 기타포괄손익누계액 - - 0 0.0% 이익잉여금 58,013,305,765 102,201,177,364 (44,187,871,599) -43.2% 유동비율 41.4% 90.0% -48.6%p -54.0% 부채비율 811.8% 98.8% 713.1%p 722.1% 자기자본비율 11.0% 50.3% -39.3%p -78.2% 나. 영업실적 (단위 : 원) 과목 제13(당)기 제12(전)기 증감 증감율 매출 633,183,493,115 653,567,218,543 (20,383,725,428) -3.1% 매출원가 (621,924,582,988) (588,119,920,116) (33,804,662,872) 5.7% 매출총이익 11,258,910,127 65,447,298,427 (54,188,388,300) -82.8% 판매비와관리비 (49,102,266,775) (44,893,119,112) (4,209,147,663) 9.4% 영업이익 (37,843,356,648) 20,554,179,315 (58,397,535,963) -284.1% 금융수익 6,471,158,509 2,740,941,612 3,730,216,897 136.1% 금융원가 (43,762,672,367) (1,999,770,123) (41,762,902,244) 2088.4% 기타수익 10,888,931,375 8,466,365,903 2,422,565,472 28.6% 기타비용 (31,684,047,267) (6,147,722,731) (25,536,324,536) 415.4% 법인세비용차감전순이익 (95,929,986,398) 23,613,993,976 (119,543,980,374) -506.2% 법인세수익(비용) 23,019,768,352 (3,319,810,005) 0 0.0% 당기순이익 (72,910,218,046) 20,294,183,971 (93,204,402,017) -459.3% 다. 신규사업 현재 당사가 추진하고 있는 별도의 신규사업은 존재하지 않습니다. 다만 향후 항공기 신규 도입을 통한 노선 확장, 고객의 편의성을 증대시킬 수 있는 다양한 부가서비스 개발 등 항공업 본연에서의 역량 집중을 통해 외형 성장 및 수익성 증대를 도모하고자 합니다. 라. 중단사업 당사는 사업보고서 제출일 현재 해당사항 없습니다. 마. 경영합리화 당사는 사업보고서 제출일 현재 해당사항 없습니다. 바. 환율변동위험 당사는 외화로 체결된 구매계약 등과 관련하여 환율변동위험에 노출되어 있으며, 환율의 불확실성은 미래의 영업 거래, 자산과 부채에 영향을 미칠 수 있습니다. 당사는 내부적으로 원화 환율 변동에 대한 환위험을 정기적으로 측정하고 있습니다. 당기말과 전기말 현재 기능통화 이외의 외화로 표시된 화폐성자산 및 부채의 장부금액은 다음과 같습니다. (단위: 천원) 구분 제13(당)기 제12(전)기 화폐성 외화자산 화폐성 외화부채 화폐성 외화자산 화폐성 외화부채 JPY 7,379,578 1,876,873 6,731,691 3,410,099 USD 80,499,692 707,032,662 95,262,687 12,709,453 CNY 7,018,273 1,217,640 6,465,973 722,613 기타 4,680,390 1,775,126 8,625,072 1,442,478 합계 99,577,933 711,902,301 117,085,423 18,284,643 당기말과 전기말 현재 외화에 대한 원화환율의 10% 변동이 당기손익에 미치는 영향은 다음과 같습니다. (단위: 천원) 구분 제13(당)기 제12(전)기 10% 상승시 10% 하락시 10% 상승시 10% 하락시 세전순이익 증가(감소) (61,232,437) 61,232,437 9,880,078 (9,880,078) 상기 민감도 분석은 보고기간 말 현재 기능통화 이외의 외화로 표시된 화폐성 자산 및 부채를 대상으로 하였습니다. 사. 자산손상 감액손실 등 당사는 사업보고서 제출일 현재 해당사항 없습니다. 4. 유동성 및 자금조달과 지출 가. 유동성 (단위 : 원) 과목 제13(당)기 제12(전)기 증감 영업활동 현금흐름 112,534,646,988 25,026,162,509 87,508,484,479 투자활동 현금흐름 (56,263,832,801) (14,242,755,940) (42,021,076,861) 재무활동 현금흐름 (49,217,433,089) 12,365,264,633 (61,582,697,722) 현금및현금성자산의 순증감 7,053,381,098 23,148,671,202 (16,095,290,104) 기초 현금및현금성자산 35,906,234,127 12,378,691,959 23,527,542,168 외화표시 현금및현금성자산의 환율변동효과 3,270,947,438 378,870,966 2,892,076,472 기말 현금및현금성자산 46,230,562,663 35,906,234,127 10,324,328,536 나. 자금조달 (1) 유상증자 당사는 2018년 12월 27일 유가증권시장에 상장하였으며 이를 통해 18,745,200,000원을 조달하였습니다. (단위 : 원, 주) 증권의 종류 증권수량 액면가액 모집(매출) 가액 모집(매출) 총액 모집(매출) 방법 기명식보통주 5,207,000 1,000 3,600 18,745,200,000 일반공모 (2) 단기차입금 당기말과 전기말 현재 단기차입금의 내역은 다음과 같습니다. (단위: 백만원) 차입의 성격 차입처 연이자율 변동/고정 당기 전기 기타담보차입금 부산은행 2.95% 고정이자율 30,000 - 당사는 상기 차입금과 관련하여 사옥을 담보로 제공하고 있습니다. (3) 사채 당기말과 전기말 현재 사채의 내역은 다음과 같습니다. (단위: 백만원) 사채명 발행일 만기일 연이자율 변동/고정 당기 전기 제1회 무기명 사모사채 2019.10.23 2020.10.23 4.20% 고정이자율 10,000 - (4) 자금조달 상환 일정 당사의 자금 조달 내역과 차입금의 상환일정은 다음과 같습니다. (단위 : 백만원) 구 \\xa0 \\xa0 \\xa0 분 금액 상환일정 비고 2020년 2021년 2022년 이후 단기 차입금 일반자금대출 30,000 30,000 - - - 시설자금대출 - - - - - 유동성장기차입금 - - - - - 유동성사채 10,000 10,000 - - - 합 계 40,000 40,000 - - - 5. 부외거래 당사는 사업보고서 제출일 현재 해당사항 없습니다. 6. 그 밖에 투자의사결정에 필요한 사항 가. 중요한 회계정책 및 추정에 관한 사항 첨부된 감사보고서의 주석 2 재무제표의 작성기준을 참조하시기 바랍니다. 나. 환경 및 종업원 등에 관한 사항 (1) 환경에 관한 사항 당사는 환경 보전을 위한 사회적 책임을 다하기 위해 화석연료 소모량 감소 및 이산화탄소 배출량 감축을 위한 노력을 지속적으로 수행하고 있습니다. (2) 종업원 등에 관한 사항 당사는 사내의 핵심인재를 발굴하고 이들의 질적 성장을 후원하기 위하여 여러 제도를 운영중에 있습니다. 다. 법규상의 규제에 관한 사항 항공운송업은 진입 단계부터 다양한 정부의 규제를 충족하여야 하며, 진입 이후에도 항공 관련 다수의 법령에서 정하는 요건을 충족하여야 합니다. 이를 위반할 경우 제제를 받게 됩니다. 또한 국내법을 충족하는 것 이외에도 취항국가의 다양한 법령 등을 준수하여야 하는 산업이므로, 국내/외 규제 및 지침의 변화가 당사의 영업환경에 미치는 영향이 매우 큰 산업의 특성을 보이고 있습니다. 라. 파생상품 및 위험관리정책에 관한 사항 당사는 사업보고서 작성기준일 현재 파생상품 및 풋백옵션 계약을 보유하고 있지 않습니다. 위험관리 사항에 관하여 Ⅱ. 사업의 내용의 - 7. 시장위험과 위험관리를 참조하시기 바랍니다.',\n",
       "       \"개요 회사의 경영에 대한 전반적인 사항을 파악하기 위하여 장부와 관계서류를 열람하고 재무제표 및 부속명세서에 대하여도 면밀히 검토하였습니다. \\xa0경영활동에 중대한 영향을 미칠수 있는 사항에 대하여는 그 내용을 검토하는 등 적정한 방법으로 회사경영에 대한 내용을 진단하였습니다. 3. 재무상태 및 영업실적 가. 재무상태 (주)화인베스틸 (단위 : 원) 과 \\xa0 \\xa0 목 제 17(당) 기말 제 16(당) 기말 증감액 증감율 자 \\xa0 \\xa0 \\xa0 \\xa0 \\xa0 \\xa0산 유동자산 64,638,053,655 78,946,829,058 (14,308,775,403) -18.10% 현금및현금성자산 339,062,450 4,491,937,833 (4,152,875,383) -92.50% 단기금융상품 1,882,020,858 305,921,677 1,576,099,181 515.20% 당기손익공정가치측정금융자산 336,777,860 397,820,635 (61,042,775) -15.30% 매출채권및기타채권 27,311,267,772 25,018,664,148 2,292,603,624 9.20% 기타유동자산 2,190,462,155 3,291,391,605 (1,100,929,450) -33.40% 재고자산 32,576,482,300 45,440,891,724 (12,864,409,424) -28.30% 당기법인세자산 1,980,260 201,436 1,778,824 883.10% 비유동자산 117,998,237,263 100,676,080,811 17,322,156,452 17.20% 장기금융상품 123,754,242 119,047,853 4,706,389 4.00% 매출채권및기타채권 678,022,955 637,712,121 40,310,834 6.30% 당기손익공정가치측정금융자산 4,877,759,704 4,877,759,704 100.00% 기타포괄손익공정가치측정금융자산 114,240,000 104,000,000 10,240,000 9.80% 종속기업투자주식 14,800,000,000 14,800,000,000 100.00% 유형자산 82,426,698,184 88,540,982,139 (6,114,283,955) -6.90% 투자부동산 10,939,298,679 8,631,673,409 2,307,625,270 26.70% 무형자산 183,960,000 183,960,000 0 0.00% 이연법인세자산 3,854,503,499 2,458,705,289 1,395,798,210 56.80% 자 \\xa0 산 \\xa0 총 \\xa0 계 182,636,290,918 179,622,909,869 3,013,381,049 1.70% 부 \\xa0 \\xa0 \\xa0 \\xa0 \\xa0 \\xa0채 유동부채 115,884,382,073 98,773,910,391 17,110,471,682 17.30% 매입채무및기타채무 18,691,384,649 20,787,931,593 (2,096,546,944) -10.10% 당기손익공정가치측정금융부채 6,926,400,664 2,013,893,811 4,912,506,853 243.90% 단기리스부채 176,208,993 129,817,537 46,391,456 35.70% 단기차입금 77,926,328,881 66,237,792,310 11,688,536,571 17.60% 전환사채 11,753,649,036 7,665,202,212 4,088,446,824 53.30% 기타유동부채 410,409,850 1,939,272,928 (1,528,863,078) -78.80% 비유동부채 3,284,329,469 2,586,014,922 698,314,547 27.00% 매입채무및기타채무 300,000,000 300,000,000 0 0.00% 장기리스부채 219,479,759 300,806,357 (81,326,598) -27.00% 순확정급여부채 2,709,467,950 1,934,533,626 774,934,324 40.10% 기타충당부채(비유동) 55,381,760 50,674,939 4,706,821 9.30% 부 \\xa0 채 \\xa0 총 \\xa0 계 119,168,711,542 101,359,925,313 17,808,786,229 17.60% 자 \\xa0 \\xa0 \\xa0 \\xa0 \\xa0 \\xa0본 자본금 16,234,059,000 16,165,970,500 68,088,500 0.40% 기타불입자본 61,460,615,704 61,209,003,199 251,612,505 0.40% 기타자본구성요소 (22,584,126) (30,257,260) 7,673,134 -25.4% 이익잉여금 (14,204,511,202) 918,268,117 (15,122,779,319) -1,646.90% 자 \\xa0 본 \\xa0 총 \\xa0 계 63,467,579,376 78,262,984,556 (14,795,405,180) -18.90% 부 채 및 자 본 총 계 182,636,290,918 179,622,909,869 -3,616,025,648 -2.0% ※. 경영지표 구분 산식 비 \\xa0 \\xa0 \\xa0 율 제17기 제16기 자기자본비율 자본총계/자산총계 *100 34.8% 43.6% 부채비율 총 부 채 /자기자본 * 100 187.8% 129.5% 유동비율 유동자산/유동부채＊100 55.8% 79.9% - 제17기 당사의 자산은 전년대비 30억(1.7%) 증가한 1,826억 이며, 부채는 전년대비 178억(17.6%) 증가한 1,192억 입니다. - 자본은 전년대비 148억(18.9%) 감소한 635억입니다. - 재무비율 측면에서 자기자본비율이 전년대비 8.8% 감소한 34.8%, 부채비율은 전년대비 58.3% 감소한 187.8%, 유동비율은 전년대비 24.1% 감소한 55.8% 로, 재무구조를 안정적으로 유지하고자 노력중에 있습니다 나. 영업실적 당사의 지난 2사업년도의 영업실적에 관한 자료는 다음과 같습니다. (주)화인베스틸 (단위 : 원) 과 \\xa0 \\xa0 목 제 17(당) 기 제 16(전) 기 증감액 증감율 매출액 129,727,545,224 139,604,226,438 (9,876,681,214) -7.10% 매출원가 132,198,096,829 132,489,839,877 (291,743,048) -0.20% 매출총이익 (2,470,551,605) 7,114,386,561 (9,584,938,166) -134.70% 판매비와관리비 14,842,382,509 6,395,314,384 8,447,068,125 132.10% 영업이익(손실) (17,312,934,114) 719,072,177 (18,032,006,291) -2,507.70% 금융수익 7,372,679,394 1,347,590,014 6,025,089,380 447.10% 금융비용 6,850,875,613 5,018,783,052 1,832,092,561 36.50% 기타영업외수익 528,372,499 657,809,926 (129,437,427) -19.70% 기타영업외비용 157,482,544 539,619,905 (382,137,361) -70.80% 법인세비용차감전순이익(손실) (16,420,240,378) (2,833,930,840) (13,586,309,538) -479.40% 법인세비용(수익) (1,415,775,612) (234,949,091) (1,180,826,521) 502.60% 당기순이익(손실) (15,004,464,766) (2,598,981,749) (12,405,483,017) -477.30% 기타포괄손익 (110,641,419) 625,908,902 (736,550,321) -117.70% 총포괄손익 (15,115,106,185) (1,973,072,847) (13,142,033,338) -661.10% 제17기 당해사업년도 매출은 1,297억원으로 전년대비 98억원(7.1%) 감소, 영업이익 180억원(2,507.7.0%) 감소, 당기순이익 124억원(477.3%) 감소 하였습니다. 이는 당사의 전방산업의 불황과 매출단가의 인하에 따라 전년대비 매출액이 감소하였습니다. 다. 신규사업 및 중단사업 보고서 제출일 현재 신규사업 및 중단사업은 없습니다. 4. 유동성 및 자금조달과 지출 당기말 현재 회사에서 운영하는 차입금 현황은 다음과 같습니다. 주로 구매금융 및 일반대출을 통해 자금을 조달하고 있으며, 전기에 전환사채를 발행하였습니다. 당사의 당기 및 전기의 현금흐름은 아래 표와 같습니다. (주)화인베스틸 (단위 : 원) 과목 당기 전기 증감 I. 영업활동으로 인한 현금흐름 -4,933,929,370 6,346,281,668 -11,280,211,038 II. 투자활동으로 인한 현금흐름 -21,655,974,634 -1,687,269,328 -19,968,705,306 III. 재무활동으로 인한 현금흐름 22,437,028,621 -1,468,314,327 23,905,342,948 IV. 현금의 증가(감소) ( I + II + III ) -4,152,875,383 3,190,698,013 -7,343,573,396 V. 기초의 현금 4,491,937,833 1,301,239,820 3,190,698,013 VI. 기말의 현금 339,062,450 4,491,937,833 -4,152,875,383 가. 차입금 (1) 당기말 및 전기말 현재 차입금의 구성내역은 다음과 같습니다. (단위 : 천원) 구 \\xa0분 당기말 전기말 유 \\xa0동 비유동 유 \\xa0동 비유동 단기차입금 77,926,329 - 65,320,038 - 장기차입금 - - 917,754 - 합 \\xa0계 77,926,329 - 66,237,792 - (2) 당기말과 전기말 현재 단기차입금의 내역은 다음과 같습니다. (단위 : 천원) 차입처 차입종류 이자율(%) 당기말 전기말 부산은행 일반자금 6.20, 7.29 13,563,000 13,563,000 종합통장 7.71 5,081,951 - 구매자금 6.99 ~ 7.15 26,911,378 13,875,212 한국산업은행 산업운영자금 7.16 8,370,000 9,300,000 한국수출입은행 수출성장자금 5.35 24,000,000 25,000,000 국민은행 USANCE - - 3,581,826 유동성장기부채 - 917,754 합 \\xa0계 77,926,329 66,237,792 (3) 당기말과 전기말 현재 장기차입금의 내역은 다음과 같습니다. (단위 : 천원) 차입처 차입종류 이자율(%) 당기말 전기말 부산은행 일반자금 - - 917,754 유동성대체 - (917,754) 장기차입금 - - (4) 상기 차입금과 관련하여 당사의 종속기업투자주식, 재고자산, 유형자산 및 투자부동산이 담보로 제공되어 있으며, 특수관계자인 장인화, ㈜화인인터내셔날, 에프씨인베스트㈜로부터 담보 및 지급보증을 제공받고 있습니다. 나. 전환사채 (1) 당기말과 전기말 현재 전환사채의 발행내역은 다음과 같습니다. (단위 : 천원) 종류 발행일 만기일 당기말 전기말 제1회 무기명식 이권부 무보증 사모 전환사채 2021년 04월 30일 2024년 04월 30일 3,000,000 9,300,000 제2회 무기명식 이권부 무보증 사모 전환사채 2023년 07월 07일 2028년 07월 07일 1,560,000 - 제3회 무기명식 이권부 무보증 사모 전환사채 2023년 07월 07일 2028년 07월 07일 17,000,000 - (2) 당기말 현재 전환사채의 발행조건은 다음과 같습니다. 구 분 제1회 무기명식 이권부 무보증 사모 전환사채 제2회 무기명식 이권부 무보증 사모 전환사채 제3회 무기명식 이권부 무보증 사모 전환사채 발행가액 10,000,000천원 2,460,000천원 17,000,000천원 발행일자 2021년 04월 30일 2023년 7월 7일 2023년 7월 7일 만기일자 2024년 04월 30일 2028년 7월 7일 2028년 7월 7일 표면이자율 / 만기보장수익률 0.0% / 1.0% 0.0% / 1.0% 0.0% / 3.0% 전환가액 조정내역 1) 사채 발행 후 3개월이 경과한 날 및 이후 매 3개월이 경과한 날 기준으로 가중산술 평균주가가 전환가액보다 낮은 경우 2) 유상증자, 합병, 감자, 주식병합 등 사유 발생시 1) 사채 발행 후 3개월이 경과한 날 및 이후 매 3개월이 경과한 날 기준으로 가중산술 평균주가가 전환가액보다 낮은 경우 2) 유상증자, 합병, 감자, 주식병합 등 사유 발생시 1) 사채 발행 후 3개월이 경과한 날 및 이후 매 3개월이 경과한 날 기준으로 가중산술 평균주가가 전환가액보다 낮은 경우 2) 유상증자, 합병, 감자, 주식병합 등 사유 발생시 전환조건 전환청구기간 2022년 04월 30일 ~ 2024년 03월 30일 2024년 07월 07일 ~ 2028년 06월 07일 2024년 07월 07일 ~ 2028년 06월 07일 전환시 발행할 주식 기명식 보통주식 기명식 보통주식 기명식 보통주식 전환가격(*) 2,203원(발행시점 전환가격은 3,147원이며, 시가하락에 따라 조정된 금액임) 2,592원 2,592원 상환방법 만기일에 전자등록금액의 103.0415%에 해당하는 금액을 일시 상환 만기일에 전자등록금액의 105.1010%금액 일시 상환 만기일에 전자등록금액의 116.1184%금액 일시 상환 투자자의 조기상환청구권 2023년 04월 30일 및 그로부터 3개월이 되는 날에 사채발행가액의 전부 또는 일부에 대하여 만기 전 조기상환을 청구할 수 있음 2025년 07월 07일 및 이후 매3개월에 해당하는 날에 본 사채의 권면금액의 전부 또는 일부에 대하여 만기전 조기상환을 청구할 수 있음 2025년 07월 07일 및 이후 매3개월에 해당하는 날에 본 사채의 권면금액의 전부 또는 일부에 대하여 만기전 조기상환을 청구할 수 있음 발행인의 매도청구권 발행회사 또는 발행회사가 지정하는 제3자는 발행일로부터 12개월이 되는 날(2022년 03월 31일)을 시작으로 24개월이 되는 날(2023년 04월 30일)까지 매 3개월에 해당되는 날에 사채 발행가액의 40%에 해당하는 금액까지 매도청구권을 행사할 수 있음 - 발행회사 및 발행회사가 지정하는 자는 본 사채의 발행일로부터 12개월이 경과한 날인 2024년 07월 07일로부터 발행일로부터 24개월이 경과한 날인 2025년 07월 07일까지 매 3개월에 해당하는 날에 사채권자가 보유하고 있는 본 사채의 일부를 매수인에게 매도하여 줄 것을 청구할 수 있음 (*) 제2회,3회는 2024년 2월 7일 1,815원으로 조정되었습니다. 2024년 3월 14일 유상증자로 인하여 전환가액이 제1회 2,197원, 제2회 및 제3회는 1,810원으로 조정되었습니다. 제1회 전환사채 발행가액 100억원 중 당기 136,177주(3억원), 전기 231,941주(7억원)가 전환되었으며, 당기 중 20.8억원은 조기상환 하였습니다. 또한 당사는 각 인수인들에게 매도청구권을 행사하여 제1회 전환사채 발행가액 100억원 중 39.2억을 양수하였습니다. (3) 당기말과 전기말 현재 전환사채의 장부가액은 다음과 같습니다. (당기말) (단위 : 천원) 구분 제1회 제2회(*) 제3회 합계 발행가액 3,000,000 1,560,000 17,000,000 21,560,000 사채상환할증금 91,245 79,576 2,740,128 2,910,949 사채할인발행차금 (167,163) (1,101,051) (11,449,086) (12,717,300) 계 2,924,082 538,524 8,291,042 11,753,649 (*) 당기 중 최초 발행시에 24.6억원으로 발행되었으나, 9억원은 반납되었습니다. (전기말) (단위 : 천원) 구분 제1회 제2회 제3회 합계 발행가액 9,300,000 - - 9,300,000 사채상환할증금 282,860 - - 282,860 사채할인발행차금 (1,917,658) - - (1,917,658) 계 7,665,202 - - 7,665,202 투자자 조기상환청구권 및 전환청구권의 행사가능시기를 고려하여 유동부채로 분류하였습니다. (4) 당기말과 전기말 현재 전환사채와 관련하여 발생한 파생금융자산 및 파생금융부채의 내역은 다음과 같습니다. (단위 : 천원) 구분 당기말 전기말 파생금융자산 매도청구권 336,778 397,821 파생금융부채 전환권 및 조기상환청구권 6,876,451 1,998,694 (5) 당기 및 전기 중 전환사채와 관련하여 발생한 파생금융자산 및 파생금융부채의 변동내역은 다음과 같습니다 (당기) (단위 : 천원) 구분 당기초 증감 평가 전환 기타(*) 당기말 파생금융자산 397,821 1,776,716 (1,439,938) - (397,821) 336,778 파생금융부채 (1,998,694) (12,236,370) 6,094,903 58,422 1,205,288 (6,876,451) (*)당기 중 1회차 전환사채의 조기상환청구권 행사(20.8억원) 및 당사가 인수자들로부터 매도청구권 행사(39.2억원)에 따른 변동금액입니다. (전기) (단위 : 천원) 구분 당기초 평가 전환 기타 당기말 파생금융자산 - - - 397,821 397,821 파생금융부채 (2,847,136) 1,023,603 222,660 (397,821) (1,998,694) 5. 부외거래 당사의 부외거래 상세 내용은 'Ⅲ. 재무에 관한 사항 - 3. 재무제표 주석' 의 '35. 우발부채 및 약정사항'을 참조하시기 바랍니다. 6. 그 밖에 투자결정에 필요사항 가. 중요한 회계정책 및 추정에 관한 사항 제17기 재무제표에 대한 감사보고서 참조 나. 환경 및 종업원등에 관한 사항 당사는 보고서 제출일 현재 해당사항이 없습니다. 다. 법규상의 규제에 관한 사항 당사는 보고서 제출일 현재 해당사항이 없습니다. 라. 파생상품 및 위험 관리정책에 관한 사항 당사는 이자율위험과 외화위험을 관리하기 위하여 통화선도 등의 파생상품계약을 체결합니다. 파생상품은 최초 인식시 계약일의 공정가치로 측정하고 있으며, 후속적으로 매 보고기간말의 공정가치로 재측정하고 있습니다. 파생상품을 위험회피수단으로 지정하였으나 위험회피에 효과적이지 않다면 파생상품의 공정가치변동으로 인한 평가손익은 즉시 당기손익으로 인식하고 있습니다. 파생상품을 위험회피수단으로 지정하고 위험회피에 효과적이라면 당기손익의 인식시점은 위험회피관계의 특성에 따라 좌우됩니다. 공정가치가 정(+)의 값을 갖는 파생상품은 금융자산으로 인식하며, 부(-)의 값을 갖는파생상품을 금융부채로 인식하고 있습니다. 법적으로 집행가능한 상계권리가 없거나상계할 의도가 없다면 재무상태표상 파생상품은 상계하지 아니합니다. 파생상품은 파생상품의 잔여만기가 12개월을 초과하고 12개월 이내에 실현되거나 결제되지 않는 경우에는 비유동자산 또는 비유동부채로 분류하고 있습니다. 기타 파생상품은 유동자산 또는 유동부채로 표시하고 있습니다.\",\n",
       "       \"개요 당사는 2020년 1월 1일을 분할기일로 하여 분할 전 존속회사인 주식회사 케이씨씨로부터 단순 인적분할 방식으로 신규 설립되었으며 분할된 사업부문은 유리, 홈씨씨, 상재 부문입니다. 당사는 2020년 1월 21일 유가증권시장에 재상장되었으며, 2020년 12월 1일 코리아오토글라스 주식회사를 흡수합병하였습니다. 당사의 2023년 말 연결기준 자산총액은 2조 2,237억원이며, 부채총액은 7,357억원입니다. 금융자산(현금및현금성자산+기타금융자산)은 3,648억원이고, 차입금은 3,399억원으로 이는 삼성카드 결제 서비스에 따른 매출채권담보 차입금 78억원, 유동성 장기차입금 26억원, 장기차입금 1,098억원, 유동성사채 200억 (사채할인발행차금 제외) , 사채 2,000억원(사채할인발행차금 제외)으로 구성되어 있습니다. 당사는 급격한 경제 상황 변동 등으로 발생할 수 있는 유동성 위험을 최소화하기 위하여 신용등급이 높은 금융기관을 선별하여 단기 금융상품을 위주로 자금을 운용하고 있습니다. 또한, 단기사채 발행을 통한 단기차입금을 운용하여 유동성 확보와 동시에 보다 효과적이고 전략적인 자금운용을 시행하고 있습니다. 현재 수준의 유동성 유지 또는 확대를 위한 정책을 시행하고 있으나 비유동자산의 매각 등을 통한 유동성 확대에 대해서는 검토하고 있지 않습니다. 당사의 2023년 말 연결기준 매출액은 1조 6,801억원, 영업이익은 950억이며, 전년 동기 대비 매출은 증가하였으나 영업이익은 감소하였습니다. 2023년 말 기준 각 사업 부문별 매출과 영업이익은 다음과 같습니다. 유리 부문 매출과 영업이익은 9,481억원, 699억원, 인테리어 및 유통 부문의 매출과 영업이익은 6,829억원, 250억원, 파일 사업 부문의 매출은 491억원, 영업이익은 1억원 수준입니다. 유리 부문 실적과 관련하여 국내 건설경기는 선행지표인 건설수주가 전년대비 감소했으며, 착공면적 또한 최저치를 기록하고 있습니다. 최근 원자재 가격의 상승으로 민간에서는 착공이 지연되는 경향이 있으며, 정부의 전반적인 공사 물량도 감소한 것으로 보여집니다. 그 결과 건축용 유리 수요는 전년대비 감소한 것으로 추정됩니다. 다만, 정부의 270만호 이상의 주택공급계획(인허가 기준) 검토, 3기 신도시 착공, 정비사업분야 수주물량 확대 등의 요인은 중장기적으로 건설 경기 회복세를 일정부문 견인할 수 있는 요소로 판단됩니다. 안전유리 실적은 자동차 산업 내에서 큰 업황의 변화는 감지되지 않으나 차량용 반도체 수급 문제가 점차 해소가 되며 차량 생산이 증가할 것으로 예상됩니다. 급등세를 보이는 원재료 및 유가, 금리 및 환율 상승 등의 대내외 경제 이슈 속에서 쉽지 않은 경영 환경이 전개되는 상황입니다. 안전유리 실적은 당사의 주요 매출처인 국내 주요 자동차사의 생산량 증가, 시장 점유 및 브랜드 가치가 꾸준히 상승하여 수요 측면에서 견조한 모습을 보이고 있는 상황입니다. 특히, 내연기관에서 전기차로 시장 패러다임이 급격하게 변화하는 환경 속에서 국내 자동차 업계의 전기차 시장 대응이 시장에서 좋은 평가를 받고 있다는 점에 있어 장기적 관점에서의 실적 흐름에 긍정적 영향을 미칠 것으로 예상하고 있습니다. 인테리어 및 유통 부문에 있어, 주택 매매가 급감하는 시장 여건 속에서도, 인테리어 사업영역에서 다양한 마케팅을 바탕으로 시공상품을 지속적으로 판매하였고 고급 PVC바닥재인 LVT와 라미필름, 친환경 G-PET 필름 매출의 성장 등을 통해 성과를 보였습니다. 인테리어 시장에서의 치열한 경쟁 속에서 당사는 인테리어 사업의 확장과 시장 선점을 위해 장기적 관점에서 다양한 방식의 투자와 역량 강화를 이어가고 있으며, 현재의 투자가 향후 인테리어 사업의 성장과 실적 개선으로 이어질 것으로 기대하고 있습니다. 파일사업 부문에 있어, 2023년 누계 주택허가는 전년대비 26% 가량 감소, 주택착공은 전년대비 약 45% 감소, 분양 실적은 전년대비 33% 감소하였습니다. 2023년 상반기 이후 건설시장은 각종 건자재의 가격인상으로 인한 건설업계의 원가부담이 증가되면서 신규 현장개설이 지연되고 있으며, 하반기는 금리 상승으로 인한 분양성 저조 및 미분양물량 증가, 건설사의 자금조달여건의 악화에 따른 신규 사업 억제로 인해 파일업계 실적이 저조하였습니다. 2024년 상반기는 부동산 PF로 인한 리스크 및 한국은행의 장기 긴축정책으로 인하여 단기적으로 건설경기의 반등효과를 기대하기 어렵지만 공급량 부족으로 인해 중장기적으로 반등할 것으로 예상됩니다. 당사는 기업의 경쟁력 향상과 핵심역량 결합을 위하여 2020년 주식회사 케이씨씨로부터 인적분할하였고, 코리아오토글라스 주식회사를 흡수합병하였습니다. 그리고 새로운 시장 개척을 위하여 인도네시아 법인 설립을 결정하였고, 글로벌 원자재 수급 능력 확보를 위해 주식회사 코마글로벌을 흡수합병 하였습니다. 새로운 성장 기회 확보를 위하여 끊임없는 연구개발과 기술혁신으로 매출 및 수익 목표 달성을 위하여 핵심역량을 강화하고 신규 시장 개척과 비즈니스 환경 개선을 지속적으로 이어가겠습니다. 3. 주요 경영지표 지 \\xa0 \\xa0 \\xa0 표 산출기준 제4기 (2023년) 제3기 (2022년) 제2기 (2021년) 유동비율 (유동자산÷유동부채)×100 283.22% 215.17% 205.52% 부채비율 (부채총계÷자기자본)×100 49.44% 53.16% 35.26% 자기자본비율 (자기자본÷총자산)×100 66.92% 65.29% 73.93% 차입금의존도 (차입금÷총자산)×100 15.28% 17.39% 8.45% 4. 재무상태 및 영업실적 가. 재무상태(연결) (단위 : 천원) 구 분 제4기 (2023년말) 제3기 (2022년말) 제2기 (2021년말) [유동자산] 912,921,221 958,080,961 792,918,297 ㆍ현금및현금성자산 231,279,582 254,185,202 64,979,758 ㆍ매출채권및기타채권 223,911,187 214,966,450 204,955,491 ㆍ기타유동금융자산 107,447,078 160,346,976 347,192,747 ㆍ재고자산 258,251,663 260,897,676 165,578,296 ㆍ기타유동자산 92,031,710 67,684,657 10,212,004 [비유동자산] 1,310,758,377 1,251,483,824 1,085,016,732 ㆍ장기매출채권및기타채권 36,239,061 34,362,114 35,952,606 ㆍ기타비유동금융자산 26,059,228 23,626,979 12,154,895 ㆍ관계기업및공동기업투자 74,959,862 74,239,229 69,367,317 ㆍ유형자산 912,115,284 858,728,919 863,560,222 ㆍ무형자산 66,677,931 72,760,342 39,681,477 ㆍ투자부동산 69,484,133 20,310,425 19,939,180 ㆍ기타비유동자산 125,222,879 167,455,817 44,361,035 자산총계 2,223,679,597 2,209,564,786 1,877,935,029 [유동부채] 322,335,002 445,261,766 385,816,176 [비유동부채] 413,329,745 321,691,270 103,704,586 부채총계 735,664,746 766,953,037 489,520,762 [지배기업 소유주지분] 1,488,013,066 1,442,609,772 1,388,414,267 [자본금] 15,970,512 15,970,512 15,970,512 [자본잉여금] 1,162,662,120 1,162,662,120 1,162,662,120 [자본조정] (1,113,989) (1,113,989) (1,113,989) [기타포괄손익누계액] (842,453) (1,928,708) (60,004) [이익잉여금] 311,336,876 267,019,837 210,955,628 [비지배지분] 1,786 1,977 - 자본총계 1,488,014,851 1,442,611,749 1,388,414,267 종속·관계·공동기업 투자주식의 평가방법 지분법 지분법 지분법 주) 현금및현금성자산은 정부보조금이 차감된 금액입니다. 나. 영업실적(연결) (단위 : 천원) 구 분 제4기 (2023.01.01 ~2023.12.31) 제3기 (2022.01.01 ~2022.12.31) 제2기 (2021.01.01 ~2021.12.31) 매출액 1,680,055,647 1,443,680,692 1,175,659,965 영업이익 95,020,315 119,220,615 160,451,158 당기순이익 81,715,932 93,975,893 117,224,619 총포괄이익 80,478,435 92,459,287 117,996,852 기본주당순이익(단위 : 원) 5,125 5,894 7,353 희석주당순이익(단위 : 원) 5,125 5,894 7,353 주요 성과 지표 매출이익률 16.78% 20.30% 25.22% 영업이익률 5.66% 8.26% 13.65% 순이익률 4.86% 6.51% 9.97% 다. 신규사업의 개요 (1) 인도네시아 유리공장 신규투자 당사는 유리사업의 글로벌 시장 진출을 위해 2021년 5월 6일 인도네시아 유리공장 설립을 위한 출자를 결정하였습니다. 인도네시아는 수도 이전 등 지속적인 건설시장 성장이 예상되며, 경제규모도 꾸준히 성장하여 과거 10개년 경제성장률 평균이 약 5% 수준에 달할 정도로 지속 성장하고 있는 국가입니다. 인구수는 2억 7천만명으로 중국, 인도, 미국에 이어 세계 4위로 성장잠재력도 높은 것으로 평가받고 있습니다. 인도네시아 법인명은 'PT. KCC GLASS INDONESIA'이며, 설립시 자본금은 약 636억원입니다. 공장은 인도네시아 중부 자바의 바탕 산업단지 내에 설립 중에 있으며, 공장 부지는 약 14.8만평 규모입니다. 이번 투자를 통해 연간 약 43만 8천톤 규모의 판유리 생산설비를 갖추게 됩니다. 예상 투자기간은 약 3년으로 2024년 완공을 목표로 단계적으로 투자가 진행되고 있습니다. 라. 일부 사업의 중단에 관한 사항 공시서류 작성기준일 현재 해당사항이 없습니다. 마. 경영합리화에 관한 사항 공시서류 작성기준일 현재 해당사항이 없습니다. 바. 환율변동위험에 관한 사항 'XII. 상세표 - 4-3. 사업의 개요 - 위험관리(상세) - 가. 위험요소'를 참조하시기 바랍니다. 사. 자산의 손상에 관한 사항 당사는 2021년 3월 여주 공장 설비 중 일부가 파손되었고, 이와 관련하여 기타경영사항(자율공시) 공시를 한 바 있습니다. 파손된 설비에 대해서 2021년 1분기 중 기계장치 및 구축물에서 7,448백만원의 손상차손을 인식하였습니다. 설비 파손 시점부터 대체 설비의 가동시점까지의 생산 공백 기간 동안 당사는 기존 재고자산의 활용 및 생산계획의 조정, 대체 설비의 긴급 보수 방식으로 대응하였습니다. 긴급 보수를 통한 대체 설비는 2021년 7월부터 가동이 재개되었으며, 설비 파손이 영업활동에 미치는 영향은 제한적인 것으로 판단됩니다. 자세한 사항은 2021년 3월 15일 공시된 「기타경영사항(자율공시)」을 참고하시기 바랍니다. 아. 제재에 관한 사항 공정거래위원회는 2021년 7월, 2008년부터 2017년 1월까지 이루어진 고강도 콘크리트 파일(PHC파일) 민수 시장에서의 입찰 담합 행위에 대하여 당사에(담합행위자: 舊 삼부건설공업 주식회사) 8,893백만원의 과징금 부과를 발표하였습니다. 콘크리트파일 제조업을 영위하는 삼부건설공업 주식회사는 2017년 3월 코리아오토글라스 주식회사가 흡수합병하였으며, 당사는 2020년 12월 코리아오토글라스 주식회사를 흡수합병하였습니다. 당사는 공정거래위원회의 과징금 8,893백만원을 2021년 2분기 중 기타손실로 반영하였으며, 당 공시서류 제출일 기준 과징금 납부를 완료하였습니다. 당사는 과징금 부과와 관련하여 공정거래위원회를 상대로 소송을 진행 중에 있으며, 소송의 결과에 따라 과징금 감면 가능성이 있으나 소송의 결과는 예측할 수 없습니다. 당사는 높은 수준의 윤리경영 체계를 수립하고 있으며, 설립과 동시에 공정거래자율준수프로그램(CP)을 도입ㆍ운영하는 등 사회적 책임을 다하기 위한 노력을 지속하고 있습니다. 제재에 관한 자세한 사항은 'XI. 그 밖에 투자자 보호를 위하여 필요한 사항 - 3. 제재 등과 관련한 사항'을 참고하시기 바랍니다. 5. 유동성 및 자금 조달 현황 가. 유동성 현황 당사의 유동비율(283.22%), 차입금의존도(15.28%) 등을 감안할 때 유동성 위험은 낮은 것으로 판단됩니다. 당사는 유동성 위험 최소화를 최우선 목표로 하여 자금운용계획을 수립/운용하고 있습니다. (단위 : 천원) 구 분 제4기 제3기 제2기 영업이익 95,020,315 119,220,615 160,451,158 영업활동으로 인한 현금흐름 173,125,606 (71,402,472) 229,687,323 투자활동으로 인한 현금흐름 (101,560,956) 81,513,083 (242,466,955) 재무활동으로 인한 현금흐름 (93,946,188) 178,353,508 (7,413,866) 현금의 증가(감소) (22,381,538) 188,464,119 (20,193,498) 외화표시 현금에 대한 환율변동효과 (524,082) 741,325 (49,986) 기말의 현금 231,279,582 254,185,202 64,979,758 (1) 영업활동으로 인한 현금흐름 연결회사의 제4기 영업활동으로 인한 현금흐름은 전기대비 2,445억원 증가하였습니다. 영업활동 현금흐름이 증가한 주요원인으로는 영업자산부채의 변동 2,382억원, 법인세의 납부액의 감소로 318억원 등이 있습니다. (2) 투자활동으로 인한 현금흐름 연결회사의 제4기 투자활동으로 인한 현금흐름은 전기대비 1,831억원 감소하였습니다. 투자활동 현금흐름이 감소한 주요 원인으로는 당기손익-공정가치 측정 금융자산의 감소 1,044억원, 유·무형, 투자자산 취득 653억원, 단기대여금 감소 197억원 등이 있습니다. (3) 재무활동으로 인한 현금흐름 연결회사의 제4기 재무활동으로 인한 현금흐름은 전기대비 2,723억 감소하였습니다. 재무활동 현금흐름이 감소한 주요 원인으로는 사채 발행금액 감소 2,000억원, 단기차입금의 순증감 감소 2,250억원, 유동성장기부채 상환금액 감소 800억원 장기차입금의 차입 증가 745억원등이 있습니다. 나. 자금조달 당사의 자산 대비 차입금 비율(15.28%)은 낮은 수준 으 로 신 규 사업 진출 또는 대규모 시설투자 등이 발생할 때까지 별도의 순차입금 증가 없는 자금 운용을 실행할 계획이며, 일부 미스매치 상황에서 효과적이고 전략적인 자금운용을 위하여 단기사채 등을 활용하고 있습니다. (1) 당기말과 전기말 현재 차입금의 내역은 다음과 같습니다. (단위: 천원) 구 \\xa0분 당기말 전기말 유동성 차입금 단기차입금 7,788,324 145,570,361 유동성장기차입금 2,577,555 - 유동성사채 19,986,619 - 소 \\xa0계 30,352,498 145,570,361 비유동성 차입금 장기차입금 109,774,713 19,084,463 비유동성사채 199,750,396 219,583,765 소 \\xa0계 309,525,109 238,668,228 합 \\xa0계 339,877,607 384,238,589 (2) 단기차입금 당기말과 전기말 현재 단기차입금의 내역은 다음과 같습니다. (단위: 천원) 차입처 내역 이자율(%) 당기말 전기말 삼성카드 주) 거래정산 서비스 잔액 0.9 ~ 1.75 7,788,324 8,480,699 BNK투자증권 단기사채 - - 80,000,000 신한은행 일반운영자금 - - 50,000,000 국민은행 등 Banker's Usance - - 7,089,662 합 \\xa0 계 7,788,324 145,570,361 주) 연결기업은 삼성카드와 대리점매출채권을 담보로 차입하는 거래를 약정하였습니다. 해당 차입거래는 대리점이 카드이용대금을 3개월 이상 연체하는 경우, 카드이용대금에 대한 일체의 대위변제의무가 있는 채무거래입니다. 해당 이자율은 차입거래 발생 시 적용되는 요율입니다. (3) 장기차입금 ① 당기말과 전기말 현재 장기차입금의 내역은 다음과 같습니다 . (단위: 천원) 차입처 이자율(%) 당기말 전기말 PT BANK KEB HANA INDONESIA SOFR + 1.2 38,663,328 18,962,305 PT BANK Shinhan INDONESIA SOFR + 1.5 73,688,940 122,158 소 \\xa0계 112,352,268 19,084,463 유동성 대체 (2,577,555) - 합 \\xa0계 109,774,713 19,084,463 ② 당기말 현재 장기차입금의 연도별 상환계획은 다음과 같습니다. (단위: 천원) 상환계획 장기차입금 2024.01.01 ~ 2024.12.31 2,577,555 2025.01.01 ~ 2025.12.31 22,470,454 2026.01.01 ~ 2026.12.31 22,470,454 2027.01.01 ~ 2027.12.31 22,470,454 2028.01.01 ~ 2028.12.31 22,470,454 2028.12.31 이후 19,892,897 합 \\xa0 \\xa0계 112,352,268 (4) 사채 ① 당기말과 전기말 현재 연결기업이 발행한 사채의 내역은 다음과 같습니다. (단위: 천원) 구 \\xa0 분 상환일 연이자율(%) 당기말 전기말 제1-2회 무보증국내사채 2024-11-27 2.14 20,000,000 20,000,000 제2-1회 무보증국내사채 2025-01-26 2.79 110,000,000 110,000,000 제2-2회 무보증국내사채 2027-01-26 2.93 90,000,000 90,000,000 소 \\xa0 계 220,000,000 220,000,000 사채할인발행차금 (262,985) (416,235) 소 \\xa0 \\xa0 계 219,737,015 219,583,765 유동성 대체 (19,986,619) - 합 \\xa0 계 199,750,396 219,583,765 ② 당기말 현재 사채의 연도별 상환계획은 다음과 같습니다. (단위: 천원) 상환계획 사채 2024.01.01 ~ 2024.12.31 20,000,000 2025.01.01 ~ 2025.12.31 110,000,000 2027.01.01 ~ 2027.12.31 90,000,000 합 \\xa0 \\xa0계 220,000,000 6. 부외거래 부외거래 관련 사항은 동 공시 서류상의 'ⅩI. 그 밖에 투자자 보호를 위하여 필요한 사항 - 2. 우발부채 등에 관한 사항'을 참고하시기 바랍니다. 7. 그 밖에 투자의사결정에 필요한 사항 가. 중요한 회계정책 및 추정에 관한 사항 'Ⅲ. 재무에 관한 사항 - 3. 연결재무제표 주석' 및 'Ⅲ. 재무에 관한 사항 - 5. 재무제표 주석'을 참조하시기 바랍니다. 나. 환경 및 종업원에 관한 사항 'Ⅱ. 사업의 내용 - 7. 기타 참고사항 - 나. 환경 물질의 배출 또는 환경 보호와 관련된 규제의 준수' 및 'VIII. 임원 및 직원 등에 관한 사항 - 1. 임원 및 직원 등의 현황'을 참조하시기 바랍니다. 다. 법규상의 규제에 관한 사항 ' X I. 그밖에 투자자 보호를 위하여 필요한 사항 - 3. 제재 등과 관련된 사항'을 참조하시기 바랍니다. 라. 파생상품 및 위험관리 정책에 관한 사항 'Ⅱ. 사업의 내용 - 5. 위험관리 및 파생거래' 를 참조하시기 바랍니다.\"],\n",
       "      dtype=object)"
      ]
     },
     "execution_count": 299,
     "metadata": {},
     "output_type": "execute_result"
    }
   ],
   "source": [
    "processed_sentences"
   ]
  },
  {
   "cell_type": "code",
   "execution_count": 300,
   "metadata": {},
   "outputs": [],
   "source": [
    "final_df['item3_replace'] = processed_sentences"
   ]
  },
  {
   "cell_type": "code",
   "execution_count": 301,
   "metadata": {},
   "outputs": [
    {
     "data": {
      "text/plain": [
       "0                  0\n",
       "1                  0\n",
       "2                  0\n",
       "3                  0\n",
       "item1_replace    243\n",
       "item2_replace      1\n",
       "item3_replace     59\n",
       "dtype: int64"
      ]
     },
     "execution_count": 301,
     "metadata": {},
     "output_type": "execute_result"
    }
   ],
   "source": [
    "final_df.isna().sum()"
   ]
  },
  {
   "cell_type": "code",
   "execution_count": 309,
   "metadata": {},
   "outputs": [
    {
     "data": {
      "text/plain": [
       "array([\"II. 사업의 내용 1. 사업의 개요 [게임 사업] 당사와 당사의 종속회사인 (주)디에프랩은 「VR(가상현실), AR(증강현실), 온라인, 모바일 콘텐츠 소프트웨어의 개발 및유통업」을 주요 사업목적으로 영위 중이며, 멀티 플랫폼 기반의「VRㆍAR 게임」및 PC 인터넷 플랫폼 기반의「온라인 게임」과 스마트폰 등 모바일 플랫폼 기반의「모바일 게임」을 개발 및 유통하고 있습니다. 당사의 주요 매출 품목인 스페셜포스, 콜오브카오스 등의 온라인, 모바일 게임 등의 매출은 당반기 연결기준 15,068백만원(내수 14,618백만원, 수출 450백만원)을 시현하며 전체매출의 90.29%를 차지하였습니다. 온라인 및 모바일 게임은 직접 서비스 하는 경우와 외부에서 퍼블리싱 하는 경우, 외부 게임을 당사에서 퍼블리싱 하는 경우로 구분할 수 있는데, 당사의 '스페셜포스'의 경우 국내서비스를 자체적으로 운영하고 있으며, '스페셜포스2'는 국내 게임포탈인 넷마블에서 서비스 하고 있습니다. 해외에서는 해외 각국의 퍼블리셔에서 서비스 중입니다. '콜오브카오스 어셈블'의 경우 당사에서 퍼블리싱을 하고 있습니다. VRㆍAR 콘텐츠의 경우 스팀 등 온라인 플랫폼을 통하여 개인 직접 판매, 해외수출 등의 방법으로 판매하고 있습니다. [기능성 필름 및 자동차 흡음재 사업] 당사의 종속회사인 (주)리노펙은 기능성 필름 사업과 자동차 흡음재 사업을 목적으로 영위중이며, Roll-to-Roll 스퍼터 시스템을 이용한 ITO(Indium Tin Oxide)를 증착시킨 '투명전도막 필름'을 개발하여 현대엘리베이터 필름, LG전자 세탁기 증착필름, LG하우시스 고내식성 세탁기 적용필름 위주로 생산하고 있습니다. 또한, 30년간 축적된 자동차 패드류 생산, 제조 기술력을 활용하여 흡음재, 쿠션 및 씰링 제품군을 생산하고 있습니다. 당반기 연결기준 동사업부 기능성필름과 자동차 흡음재는 각각 606백만원, 1,015백만원의 매출을 시현하였으며, 모두 국내 매출로 각각 전체매출의 3.63%와 6.08%를 차지하고 있습니다. 기능성 필름과 자동차 흡음재 패드의 단가는 시장 수급상황에 따라 변동하며 당반기말 기준 각각 2,068.3원/미터, 54.5원/개입니다. 기능성 필름의 주요 원재료인 필름 및 금속타겟은 각각 평균 3,700원, 1,558,000원에 매입하고 있으며, 자동차 흡음재의 주요 원재료인 테이프, 이형지와 흡음용 원단, 방화용 원단은 각각 평균 3,532원, 14,250원, 4,261원에 매입하고 있습니다. 원재료 가격 역시 시장 수급상황에 따라 변동하고 있고, 안정적으로 공급받고 있습니다. 기능성 필름 사업부의 당반기 생산능력은 1,444,089.60미터, 생산실적은 293,072미터로 20.3%의 가동률을 보이며, 생산된 제품은 전자, 기기 OEM 업체등에 납품하고 있습니다. 자동차 흡음재 사업부의 당반기 생산능력은 34,272,000개, 생산실적 18,599,392개로 54.27%의 가동률을 보이며, 완성차 1차 협력사에 납품하고 있습니다. 당사는 제35기 반기 연결기준 전체 매출액의 약 8.25%에 해당하는 1,376백만원의 연구개발비용을 지출하고 있습니다 . 게임사 업에서는 신규 프로젝트 게임 개발을 위하여 노력하고 있으며, 기능성 필름 및 자동차 흡음재 사업에서는 신기술을 도입한 신제품을 개발하고 제조공정 개선 등 공정 및 품질개선을 위하여 지속적으로 노력하고 있습니다. 2. 주요 제품 및 서비스 (1) 주요 제품 등의 현황 [2024년 6월 30일 기준] \\xa0 \\xa0 \\xa0 \\xa0 \\xa0 \\xa0 \\xa0 \\xa0 \\xa0 \\xa0 \\xa0 \\xa0 \\xa0 \\xa0 \\xa0 \\xa0 \\xa0 \\xa0 \\xa0 \\xa0 \\xa0 \\xa0 \\xa0 \\xa0 \\xa0 \\xa0 \\xa0 \\xa0 \\xa0 \\xa0 \\xa0 \\xa0 \\xa0 \\xa0 \\xa0 \\xa0 \\xa0 \\xa0 \\xa0 \\xa0 \\xa0 \\xa0 \\xa0 \\xa0 \\xa0 \\xa0 \\xa0 \\xa0 \\xa0 \\xa0(단위 : 백만원) 사업부문 매출유형 품 목 매출액 비 율 게임사업 온라인, 모바일게임 등 부분유료 스페셜포스 콜오브카오스 외 15,068 90.29% 기능성 필름 사업 기능성 필름 제품 필름 606 3.63% 자동차 흡음재 사업 자동차 흡음재 제품 패드 1,015 6.08% 합 \\xa0 계 16,689 100% (*) 상기의 매출실적은 한국채택국제회계기준(K-IFRS)에 따라 작성된 연결재무제표 기준입니다. (2) 주요 제품 등의 가격변동추이 1) 게임사업부문 당사의 온라인, 모바일 게임 및 VRㆍAR 은 고정가격의 산정이 어렵습니다. 2) 기능성 필름 및 자동차 흡음재 사업 부문 [2024년 6월 30일 기준] \\xa0 \\xa0 \\xa0 \\xa0 \\xa0 \\xa0 \\xa0 \\xa0 \\xa0 \\xa0 \\xa0 \\xa0 \\xa0 \\xa0 \\xa0 \\xa0 \\xa0 \\xa0(단위 : 필름 원/미터, 흡음재 원/개) 사업부문 품목 2024년 반기 ('24.1.1~6.30) 2023년 ('23.1.1~12.31) 2022년 ('22.1.1~12.31) 기능성 필름 필름 2,068.3 2,316.1 2,233.3 자동차 흡음재 패드 54.5 47.7 47.3 3. 원재료 및 생산설비 (1) 주요 원재료 등의 가격변동추이 1) 게임사업부문 당사의 온라인 게임 및 VRㆍAR은 원재료 가격의 의미있는 기재를 할 수 없습니다. 2) 기능성 필름 및 자동차 흡음재 사업 부문 [2024년 6월 30일 기준] \\xa0 \\xa0 \\xa0 \\xa0 \\xa0 \\xa0 \\xa0 \\xa0 \\xa0 \\xa0 \\xa0 \\xa0 \\xa0 \\xa0 \\xa0 \\xa0 \\xa0 \\xa0 \\xa0 \\xa0 \\xa0 \\xa0 \\xa0 \\xa0 \\xa0 \\xa0 \\xa0 \\xa0 \\xa0 \\xa0 \\xa0 \\xa0 \\xa0 \\xa0 \\xa0 \\xa0 \\xa0 \\xa0 \\xa0 (단위 : 원) 사업부문 품목 2024년 반기 ('24.1.1~6.30) 2023년 ('23.1.1~12.31) 2022년 ('22.1.1~12.31) 기능성 필름 필름 3,700 884 465 금속 타겟 1,558,000 1,999,231 1,512,712 자동차 흡음재 테이프, 이형지 3,532 3,085 2,248 흡음용 원단 14,250 13,905 13,893 방화용 원단 4,261 - - (2) 주요 매입처 등 기능성 필름 사업부문의 주요 원재료는 주식회사 에이디피(필름), 브이티엠(금속 타켓)에서 매입하고 있으며, 자동차 흡음재 사업부문의 주요 원재료는 대경 케미칼(테이프, 이형지), 한양하이켐(원단), 휴텍스코리아(원단, 3D형상)에서 매입하고 있습니다. 동 매입처는 당사 및 당사의 자회사와 특수관계가 없으며, 안정적으로 공급받고 있습니다. (3) 생산능력, 생산실적 및 가동률 1) 게임사업부문 당사의 온라인 게임 및 VRㆍAR은 사업의 특성상 별도의 생산설비는 없으며, 인적자원을 활용한 매출시현으로 생산능력 및 생산실적의 산출이 어렵고 생산능력의 제한은 거의 없다고 할 수 있습니다. 2) 기능성 필름 및 자동차 흡음재 사업 부문 [2024년 6월 30일 기준] \\xa0 \\xa0 \\xa0 \\xa0 \\xa0 \\xa0 \\xa0 \\xa0 \\xa0 \\xa0 \\xa0 \\xa0 \\xa0 \\xa0 \\xa0 \\xa0 \\xa0 \\xa0 \\xa0 \\xa0 \\xa0 \\xa0 \\xa0 \\xa0 \\xa0 \\xa0 \\xa0 \\xa0 \\xa0 \\xa0 \\xa0 \\xa0 \\xa0 \\xa0 \\xa0 \\xa0 \\xa0 \\xa0 \\xa0 \\xa0 (단위 : 필름/미터, 흡음재/개) 사업부문 품목 구분 2024년 반기 ('24.1.1~6.30) 2023년 ('23.1.1~12.31) 2022년 ('22.1.1~12.31) 기능성 필름 필름 생산능력 1,444,089.60 2,888,179 2,888,179 생산실적 293,072 409,585 504,130 가동률 20.3% 14.2% 17.5% 자동차 흡음재 흡음재(씨링) 생산능력 14,688,000 29,376,000 29,376,000 생산실적 8,007,038 15,635,366 15,307,960 가동률 54.5% 53.2% 52.1% 흡음재(톰슨) 생산능력 19,584,000 39,168,000 39,168,000 생산실적 10,592,354 20,683,718 17,492,469 가동률 54.1% 52.8% 44.7% ※ 생산능력 산출 근거 가. 산출기준 - 주요 생산설비의 기본능력 기준 - 필름 사업 : 주야 2교대, 월 20일 가정 - 흡음재 사업 : 일 8시간, 월 20일 가정 나. 산출방법 - 생산능력 = 시간당 생산량 x 가동시간 x 수율 x 설비 개수 - 가동률 = 생산실적 ÷ 생산능력 (4) 생산설비에 관한 사항 1) 게임사업부문 당사의 온라인 게임 및 VRㆍAR은 사업의 특성상 별도의 생산설비는 없으며, 인적자원을 활용한 매출시현으로 생산능력 및 생산실적의 산출이 어렵고 생산능력의 제한은 거의 없다고 할 수 있습니다. 2) 기능성 필름 및 자동차 흡음재 사업 부문 [2024년 6월 30일 기준] \\xa0 \\xa0 \\xa0 \\xa0 \\xa0 \\xa0 \\xa0 \\xa0 \\xa0 \\xa0 \\xa0 \\xa0 \\xa0 \\xa0 \\xa0 \\xa0 \\xa0 \\xa0 \\xa0 \\xa0 \\xa0 \\xa0 \\xa0 \\xa0 \\xa0 \\xa0 \\xa0 \\xa0 \\xa0 \\xa0 \\xa0 \\xa0 \\xa0 \\xa0 \\xa0 \\xa0 \\xa0 \\xa0 \\xa0 \\xa0 \\xa0 \\xa0 \\xa0 \\xa0 \\xa0 \\xa0 \\xa0 \\xa0(단위 : 천원) 구분 소재지 기초가액 당기증감 당기상각 기말가액 증가 감소 토지 김해시 소망로 82 2,461,602 - - - 2,461,602 건물 507,691 - - (14,146) 493,545 기계장치 568,857 220,045 - (52,693) 736,209 시설장치 182 5,318 - (445) 5,055 4. 매출 및 수주상황 (1) 매출실적 (단위 : 백만원) 사업부문 매출유형 품 목 2024년 반기 ('24.1.1~6.30) 2023년 ('23.1.1~12.31) 2022년 ('22.1.1~12.31) 게임 사업 온라인, 모바일 게임 등 부분유료 스페셜포스, 콜오브카오스 외 수 출 450 877 869 내 수 14,618 11,243 2,581 합 계 15,068 12,120 3,450 기능성 필름 사업 기능성 필름 제품 필름 수 출 - - - 내 수 606 842 916 합 계 606 842 916 자동차 흡음재 사업 자동차 흡음재 제품 패드 등 수 출 - - - 내 수 1,015 1,733 1,550 합 계 1,015 1,733 1,550 기타 수 출 - - 3 내 수 - 1,923 1,178 합 계 - 1,923 1,181 합 \\xa0 계 수 출 450 877 872 내 수 16,239 15,741 6,225 합 계 16,689 16,618 7,097 (*) 상기의 매출실적은 한국채택국제회계기준(K-IFRS)에 따라 작성된 연결재무제표 기준입니다. (2) 판매경로 및 판매방법 등 1) 판매경로 ① 게임사업부문 품 목 구 분 판매경로 온라인 게임 모바일 게임 자체 퍼블리싱 국내 게임개발→CBT→OBT →상용화 외부 퍼블리싱 국내 게임개발→퍼블리싱계약→CBT→OBT →상용화 수출 게임개발→퍼블리싱계약→CBT→OBT →상용화 VRㆍAR 콘텐츠 주요 VR 파크 및 VR 테마파크에 콘텐츠 판매 AR 기반 어플리케이션 개발 및 판매 VR 테마파크 VR 테마파크 직영 매출 및 프랜차이즈 매출 ② 기능성 필름 및 자동차 흡음재 사업 부문 품 목 구 분 판매경로 필름 국내 당사→전자, 기기 OEM →국내 소비자 수출 당사→전자, 기기 OEM →수출→해외 소비자 흡음재 국내 당사→완성차 1차 협력사→국내 OEM 완성차→소비자 수출 당사→완성차 1차 협력사→수출→국내외 OEM 완성차→소비자 2) 판매방법 및 조건 ① 게임사업부문 온라인게임의 판매방법 및 조건은 개인 직접 판매, PC방 판매, 부가사업 판매 및 해외수출의 4가지로 구분할 수 있습니다. 국내 판매의 경우 대부분의 매출을 차지하는 부분은 개인을 상대로 하는 직접 판매와 프리미엄 서비스를 제공하는 PC방을 대상으로 하는 IP 판매입니다. 모바일게임은 구글플레이스토어, 애플 앱스토어 등의 플랫폼을 통하여 개인 직접 판매, 부가사업 판매 및 해외수출 등의 판매방법이 있습니다. VRㆍAR 콘텐츠의 판매방법 및 조건은 주요 VR 파크 및 VR 테마파크에 콘텐츠를 직접 판매하는「B2B : Business to Business(기업이 기업 고객들을 대상으로 하는 사업)」방식과VR 테마파크에서 판매되는「B2C : Business to Consumer (기업이 개인 고객들을 대상으로 하는 사업)」방식이 있습니다. VR 테마파크 프랜차이즈 매출의 경우 B2B 방식이라고 할 수 있습니다. ② 기능성 필름 및 자동차 흡음재 사업 부문 기능성 필름 및 자동차 흡음재는 수주 후 제조하여 판매하고 있으며, 대부분 B2B : Business to Business」방식으로 판매하고 있습니다. 3) 판매전략 ① 게임사업부문 당사 온라인게임 판매전략의 핵심은 유료화입니다. 이 부분이 경쟁사와 대비하여 가장 차별적인 부분이라고 생각하며 개발 초기단계인 게임 기획시점부터 아이템 판매에 대한 수익모델을 설정하고 이에 따라 시스템 개발을 완료하고 본격적인 개발에 들어가는 순서로 진행됩니다. 또한 온라인게임은 한번 완성되면 변경할 수 없는 여타의게임 플랫폼과는 다르게 유저와 함께 성장하는 특징을 가집니다. 이에 따라 초기 기획단계에서 수립된 유료화 전략은 유저반응에 따른 여러가지 시나리오로 철저하게 준비되었으며, 이와 연관하여 게임 성장의 전개에 대응할 수 있도록 하였습니다. 이러한 전략에 따라 개발된 게임이 당사의「스페셜포스」이며, 본 게임의 유료화의 특징은 단계별 유료화에 있습니다. 단계별 유료화와 게임의 성장에 따른 적절한 방향설정을 위해서는 유기적인 마케팅 활동이 필요합니다. 유저의 게임 사용 데이터나 구매형태를 철저하게 분석하여 유저의 감춰진 Needs(요구)를 찾아내고, 이러한 내용은 개발부문과 협의하여 게임의 기획에 반영됩니다. 또한 마케팅 기획부문은 게임의 업데이트 및 아이템 출시시점에 맞는 적절한 프로모션 방법을 찾아냅니다. 이러한 유기적인 부문간 커뮤니케이션은 지속적인 매출 확대를 위한 당사의 가장 중요한 판매전략입니다. ② 기능성 필름 및 자동차 흡음재 사업 부문 - 고객의 요구 사항 파악 후 조기 대응 - R&D 투자를 통한 기술 개발, 품질 향상, 인재 양성 - 품질, 가격의 경쟁력 강화 - 신기술 개발 및 신시장 개척 (3) 수주상황 기능성 필름 및 자동차 흡음재 사업부문은 매출처의 판매계획에 따라 발주량과 납기를 결정하고 있습니다. 수주잔고는 매출처의 상황에 따라 수시로 확정되므로 특정일의 정확한 수주잔고를 표시할 수 없습니다. 5. 위험관리 및 파생거래 (1) 시장위험과 위험관리 기업공시서식 작성지침에 의거 당사는 소규모기업에 해당하므로 시장위험과 위험관리에 관한 사항을 기재하지 않습니다. (2) 파생상품 및 풋백옵션 등 거래 현황 보고서 작성기준일 현재 파생상품 및 풋백옵션 등의 거래는 없습니다. 6. 주요계약 및 연구개발활동 (1) 주요계약 해당사항이 없습니다. (2) 연구개발활동 1) 연구개발 담당조직 당사는 한국산업기술협회(KOITA)로부터 공식 인증된 기업부설연구소 (주)드래곤플라이 DF R&D Center에서 개발을 총괄하고 있으며, 당사의 박철승 고문이 연구소장으로서 산하 각 개발팀의 연구개발을 총지휘하고 있습니다. 당사의 종속회사는 별도의 연구개발 조직을 운영하고 있습니다. 2) 연구개발비용 (단위 : 천원) 과 \\xa0목 2024년 반기 ('24.1.1~6.30) 2023년 ('23.1.1~12.31) 2022년 ('22.1.1~12.31) 연구개발비용 계 1,376,386 2,750,160 1,918,151 (정부보조금) - (3,038) (300) 연구개발비/매출액 비율 [연구개발비용 계÷당기매출액×100] 8.25% 16.55% 27.03% (*1) 상기 연구개발비용은 연결기준입니다. (*2) 상기 비율은 정부보조금을 차감하기 전의 연구개발비용 지출 총액을 기준으로 산정하였습니다. 3) 연구개발실적 ① 게임사업부문 【 내부연구기관 : (주)드래곤플라이 기업부설연구소 】 프로젝트 연구과제 비 고 스페셜포스 사설 서버 방지 기능 외 17개 상세표 참조 스페셜포스2 Depth Of Field Shader 외 24개 스페셜포스 VR: UNIVERSAL WAR VR 스트리밍 외 1개 스페셜포스 VR: ACE VR 게임 접속 스페셜포스 VR: INVASION VR-Mobile 연동 'narle' 어플리케이션 Android카메라 영상정보를 Unity에 Rendering 외 4개 신비아파트 G 파인더 Unity AR Foundation 을 이용한 증강 현실 게임 개발 외1개 SFM SF1전체 시스템을 Unity 엔진으로 교체 ※상세 현황은 '상세표-4. 사업의 내용과 관련된 사항(상세)' 참조 ② 기능성 필름 및 자동차 흡음재 사업부문 연구과제 연구개발내용 연구결과 및 기대효과 다층박막제조용 연속 코팅 시스템개발 롤투롤 스퍼터링 증착시스템 개발 스퍼터링 공정 기초 및 양산적용 공정조건 확립 롤투롤 증착법을 이용한 바이오 에어로졸 제어필터 제조기술 개발 필터에 적용되는 부직포 및 섬유를 모재로하여 항균기능을 보유한 박막층 구현 항균기능을 보유한 필터개발 및 적용분야 사업군 확대 고품위 디자인구현을 위한 내장재용 나노다층박막 색상구현패턴필름 개발 임프린팅형태로 패턴이 구현된 필름상에 증착을 통한 색상구현 및 물성확보 현재 양산 제품 블랙다이아 및 메탈실버 공정최적화 구현 나노금형기반 맞춤형 융합제품 상용화 지원센터 구축 (참여기관으로 진행중) 나노기술을 통한 색변환 패턴필름상에 메탈증착으로 각도에 따른 색상변환필름 개발 임프린팅 패턴필름과의 밀착력 개선 및 제품고급화 이온빔소스 전처리를 통한 금속박막 밀착력 개선연구 이온빔소스를 전처리 공정조건 확립 및 성능평가 기존 스크래치 필름상의 밀착력 개선 및 향후 다른 모재의 적용가능성 확배 7. 기타 참고사항 (1) 지식재산권 현항 당사는 보고서 작성기준일 현재 국내 및 해외 상표 88건, 특허 3건을 보유하고 있습니다. (2) 각 사업부문의 시장여건 및 영업의 개황 ● 모바일 게임 사업 1) 산업의 특성 및 성장성 게임 산업을 플랫폼 유형으로 구분했을 때 하나의 세분 시장에 해당하는 모바일 게임은 스마트폰, 피쳐폰, 태블릿, 스마트워치, PDA, 포터블 미디어 플레이어 등에서 플레이할 수 있는 게임으로, 대부분 게임 애플리케이션을 다운로드 받아 이용합니다. 콘솔, PC 등 장비를 따로 구입할 필요가 없고 접근성이 높은 모바일 게임은 타 게임 장르와 달리 유저들이 다양한 게임을 시도할 수 있게 되었고, 모바일 게임 시장의 주요 타겟은 남녀노소 구분이 없이 확장되었으며, 다양한 장르의 게임이 발전할 수 있는 배경이 되었습니다. ① 국내시장의 특성 및 성장성 국내에서는 2011년부터 모바일 게임시장이 확대되고, 2012년부터 모바일 메신저인 '카카오톡', '라인'이 게임 퍼블리싱 사업에 진출하면서 모바일 게임시장의 확대를 촉진시켰습니다. 2013년부터는 중국의 대표 메신저 플랫폼 '위챗'의 부상 등 글로벌 게임회사들의 경쟁이 가속화되었고 2015년도 모바일 게임시장은 \\xa0고성능 스마트폰과 태블릿 PC의 잇따른 출시, 4G 등 네트워크의 진화, 앱스토어와 같은 이용자 친화적 유통 플랫폼의 보편화가 모바일게임 시장 성장의 토대가 되어 다른 플랫폼보다 높은 성장율을 보이고 있습니다. 또한 초기 퍼즐이나 보드게임 중심에서 벗어나 화려한 그래픽의 RPG(Role Playing Game)나 시뮬레이션게임(Simulation Game)이 부상함에 따라 모바일 게임시장의 성장세는 당분간 계속될 것으로 전망되고 있습니다. 세계적으로 스마트폰의 고사양화 추세가 지속됨에 따라 모바일 게임의 성장 추세 또한 지속될 것으로 전망됩니다. 2022년 국내 모바일 게임 시장 규모는 13조 720억 원 규모를 형성하고 있으며 전년 대비 7.6% 성장하였습니다. 이는 국내 게임 산업 전체 비중의 58.8%를 차지하는 것으로 모바일 게임이 국내 게임 시장의 큰 축으로 자리하고 있음을 알 수 있습니다. 국내 게임 산업의 게임 개발 동향이 멀티플랫폼을 지향하고 있기에 모바일 게임의 지속 성장이 예측됩니다.(출처 : 2023 대한민국 게임백서) <국내 게임시장의 규모추이(2019~2022년)> (단위:억 원,%) 구 \\xa0분 2019년 2020년 2021년 2022년 매출액 성장률 매출액 성장률 매출액 성장률 매출액 성장률 PC(온라인) 게임 48,058 -4.3 49,012 2.0 56,373 15.0 58,053 3.0 모바일 게임 77,399 16.3 108,311 39.9 121,483 12.2 130,720 7.6 콘솔 게임 6,945 31.4 10,925 57.3 10,520 -3.7 11,196 6.4 아케이드 게임 2,236 20.6 2,272 1.6 2,733 20.3 2,976 8.9 PC방 20,409 11.6 17,970 -11.9 18,408 2.4 18,766 1.9 아케이드 게임장 703 2.4 365 -48.1 396 8.6 438 10.4 합 \\xa0계 155,750 9.0 188,855 21.3 209,913 11.2 222,149 5.8 [출처 : 2023 대한민국 게임백서] ② 해외시장의 특성 및 성장성 2021년을 기준으로 상대적으로 가장 성장한 게임 시장은 PC 게임시장과 모바일 게임 시장입니다. 모바일 게임 시장은 2021년에 7.5% 성장을 보이면서 5년간 전 세계 평균 6.9% 성장을 예상하고 있습니다. 코로나19 기간을 포함하여 전체 게임 시장은 2026년까지 5년간 평균 8.5% 성장할 것으로 전망됩니다. 2022년 세계 모바일 게임 시장 규모는 2021년 대비 0.5% 감소하였습니다. 이는 2022년 게임시장이 얼마나 어려웠는지를 증명하는 수치이기는 하나, 2023년 이후에는 4.4%, 7.0%, 6.9% 등 다시 예전과 같은 성장세를 이어갈 수 있다고 예상됩니다. 2021년 모바일 게임 시장은 7.5% 성장하였고 이 중 북미시장은 10.3%로 크게 성장했습니다. 기존 코로나19로 인해 모바일 게임 시장이 이용자층과 시간이 확대되었다면, 엔데믹으로 인해 가장 큰 변화를 겪고 있기도 합니다. 물론 이는 급격한 상승으로 인한 자연스러운 조정 과정이라 볼 수 있습니다. 향후 5년간 평균 성장률을 북미시장은 6.6%, 유럽은 5.8%, 아시아시장은 5.9%, 남미시장은 9.4%로 전 세계 평균 6.1%의 성장세를 예상하고 있습니다.(출처 : 2023 대한민국 게임백서) <세계 게임시장 규모 및 성장률(2020~2025년)> (단위:백만달러,%) 구 \\xa0분 2020년 2021년 2022년 2023년 2024년 2025년 22-25 CAGR 콘솔 게임 매출액 56,334 57,668 59,141 62,776 64,220 65,858 2.5 성장률 - 2.4 2.6 6.1 2.3 2.6 아케이드 게임 매출액 18,489 20,240 21,076 21,292 21,520 21,744 6.1 성장률 - 9.5 4.1 1.0 1.1 1 PC(온라인) 게임 매출액 34,274 36,308 36,352 37,364 38,268 39,127 3.7 성장률 - 5.9 0.1 2.8 2.4 2.2 모바일 게임 매출액 85,693 92,146 91,681 95,709 102,381 109,451 1.0 성장률 - 7.5 -0.5 4.4 7 6.9 합 \\xa0계 매출액 194,789 206,362 208,249 217,141 226,389 236,180 4.3 성장률 - 5.9 0.9 4.3 4.3 4.3 [출처 : 2023 대한민국 게임백서] 2) 경기변동의 특성 및 계절성 게임산업은 남녀노소 누구나 즐기는 문화 콘텐츠 입니다. 따라서 다양한 소비층이 형성되어 지속적으로 성장 중에 있으며, 경기 침체기에도 다른 문화 콘텐츠에 비해 저렴한 비용으로 편리하게 즐길 수 있다는 장점을 갖고 있기 때문에 경기변동의 영향을 덜 받습니다. 글로벌 경기침체와 같은 경기변동이 큰 시기에도 게임 산업은 그 성장세를 유지해 왔습니다. 특히 모바일 게임의 경우 그 이용 가격대가 무료부터 다양하게 형성되어 있고, 최근 대부분 모바일 게임의 비즈니스 모델이 '무료+부분유료화' 형태로 구성되어 유저들에게 평균적으로 주어지는 경제적 부담이 크지 않기 때문에 다른 산업과 비교하여 경기변동에 대한 안정성이 상대적으로 더 높습니다. 또한 모바일 기기의 성능에 따라 구동환경의 변화, 게임 퀄리티 향상 등이 가능한 점에서 모바일 기기 개발 기술과 네트워크 기술이 모바일 게임 산업에 직접적인 영향을 주고 있다고 볼 수 있습니다. ● VRㆍAR 콘텐츠 사업 1) 산업의 특성 및 성장성 VR(Virtual Reality, 가상 현실)은 컴퓨터 등의 플랫폼을 사용한 인공적인 기술로 만들어낸 실제와 유사하지만 실제가 아닌 어떤 특정한 환경이나 상황 혹은 그 기술 자체를 의미하며 가상 현실이라는 개념은 1970년대 중반에 비디오 플레이스(Video place) 개념을 창안한 크루거(Myron Krueger) 박사에 의해 처음으로 탄생되었습니다. AR(Augmented Reality, 증강 현실)은 실세계에 3차원의 가상물체를 겹쳐서 보여주는 기술을 활용해 현실과 가상 환경을 융합하는 복합형 가상 현실입니다. MR(Mixed Reality, 혼합 현실)은 현실(Reality)에 가상 현실(VR)이 접목되어 현실의 물리적 객체와 가상 객체가 상호 작용할 수 있는 환경으로 현실을 기반으로 가상 정보를 부가하는 증강 현실(AR : Augmented Reality)과 가상 환경에 현실 정보를 부가하는 증강 가상(AV : Augmented Virtuality)의 의미를 포함하며, 1994년 폴 밀그램(Paul Milgram)이 논문에서 처음 제시한 개념으로 실제 현실(Reality) 환경과 가상(virtual) 환경 사이에서 증강 현실(AR)과 증강 가상(AV)의 혼합으로 설명되고 있습니다. 간단하게 개념을 정리하면 다음과 같습니다. VR ( V irtual R eality, 가상 현실) = 가상공간 AR ( A ugmented R eality, 증강 현실) = 현실세계+가상물체(이미지) MR ( M ixed R eality, 혼합 현실) = 현실세계+가상공간(세계) VRㆍARㆍMR (출처 : 삼성전자 뉴스룸) '마이너리티 리포트', '매트릭스', '레디 플레이어 원' 등의 영화내에서 선보였던 가상현실기술이 실제화되어 상용 구현을 위한 개발이 확대되고 있으며, 고해상도 디스플레이, 강력한 컴퓨팅 파워, 3D센싱 등의 기술이 비약적으로 발달하고, VR 헤드셋 HMD(Head MountedDisplay) 등 하드웨어 비용이 대중화되어 가면서 VRㆍAR 콘텐츠의 활용 기반이 폭넓게 발전하고 있습니다. 현재 VRㆍAR 기술은 매우 다양한 산업에 적용되고 있으며, 타 분야와의 기술 융합 산업규모가 지속적으로 확대될 것으로 전망하고 있습니다. 특히 최근 코로나19 영향으로 사회ㆍ경제 전반에 걸쳐 다양한 포스트 코로나 전략의 필요성이 제기되는 가운데, 비대면 산업을 이끌 것으로 VRㆍAR 산업이 주목받고 있습니다. VRㆍAR 산업은 이미 구글ㆍ애플ㆍ페이스북ㆍMS 등 글로벌 ICT(Information and Communication Technology, 정보통신기술) 기업을 비롯해 LG전자ㆍ삼성전자ㆍSONY(소니)ㆍEPSON(앱슨)ㆍ오큘러스, HTC 등 VRㆍAR 관련 제조사ㆍ통신사ㆍ방송사 등 다양한 기업들이 산업의 생태계 선점을 위하여 본격적인 투자 및 개발을 진행하고 있습니다. 지난 수년간 VR 헤드셋 HMD(Head Mounted Display) 등의 디바이스 시장이 산업 전반을 선도하여 왔으나 향후 콘텐츠 분야가 기존의 컴퓨터, TV 외에 스마트폰 등 멀티 플랫폼 확보 경쟁과 동반하여 VRㆍAR 전체 시장을 이끌어 가며 빠르게 성장할 것으로 예상하고 있습니다. 국내 VR 시장은 최고 수준의 유무선 통신망, VR 헤드셋 HMD(Head Mounted Display)의 핵심부품인 고해상도 디스플레이 기술력, 고성능 최신 스마트폰 보급률 등 VR 관련 서비스를 위한 하드웨어 인프라 경쟁력이 매우 높은 것으로 평가 받고 있습니다. 반면 하드웨어에 비해 취약한 VR 산업의 핵심인 콘텐츠 분야는 아직 산업 발전에 따른 수요에 미치지 못하고 있는 실정으로 향후 시장 선점을 위한 콘텐츠 개발 경쟁이 심화될 것으로 예상하고 있습니다. 디바이스 및 네트워크 기술의 급속한 발전을 기반으로 글로벌 대기업들의 콘텐츠 개발에 따른 시장 형성 및 생태계 조성에 주력하고 있고, 우리 정부 역시 VRㆍAR 기술이 향후 국가 미래 경제성장에 있어 중요한 요인으로 인지하여 핵심 원천기술 확보를 위한 기초ㆍ원천 R&D 지원, 전문기업 육성, 규제개선, 인력양성 등 포괄적인 VRㆍAR 정책을 추진 중이며, 세계 최초 5G 상용화를 계기로 킬러콘텐츠 육성과 생태계 촉진을 통한 실감콘텐츠산업 활성화에 주력하고 있습니다. <VRㆍAR 시장규모> 시장조사업체 IDC는 2020년 전세계 VR 및 AR 시장수요가 188억 달러(약 22조 36260억 원)규모에 달할 것으로 전망하였습니다. 이는 105억 달러(약 12조 4950억 원)로 추산된 2019년 예상치보다 78.5% 증가한 수치입니다. 또한 VRㆍAR 제품과 서비스가 빠르게 확산하면서 2020년부터 2023년까지 향후 5년 간 연평균 77%의 성장세를 이어갈 것으로 예측하였습니다. 또한, 글로벌 ARㆍVR 헤드셋 시장은 앞으로 81.5%의 성장률을 거두며 2024년 약 7670만대의 출하량을 기록할 것으로 예상하고 있습니다. 이렇듯 VRㆍAR 산업은 현재와 미래 신성장 동력으로 주목받고 있으며 고성장이 기대되는 산업입니다. <VRㆍAR 주요 활용 분야> 글로벌 시장전망 기관인 PWC가 2019년에 발표한 자료에 따르면 VRㆍAR 활용분야별로 시장규모를 전망해볼 때 첫째 VRㆍAR기반 제품 및 서비스 개발 분야(3,594억 달러)가 가장 크고, 두번째로 VRㆍAR기반 의료 및 헬스케어 분야(2,942억달러)가 큰 부문이며 VRㆍAR기반 교육 및 훈련 분야, VRㆍAR기반 프로세스 개선분야, VRㆍAR기반 소비재 및 유통 분야 등의 순서가 될 것으로 예상하였습니다. VR/AR 활용분야 활용내용 및 예시 2030년 제품 및 서비스 개발 (Product and service development) - 제품 디자인과 개발과정을 효율화하고 새로운 기술적용 가능 - 자동차 산업 분야에서 VR/AR은 이미 보다 정확하고 현실적인 구 \\xa0 \\xa0 상(concept) 창출을 가속화하여 제품 개발 파이프라인을 단축하 \\xa0 \\xa0 고 상당한 시간과 비용 절감 3,594억 달러 의료 및 헬스케어 (Healthcare) - 의대생과 외과 의사들을 훈련시키고 의사 결정과 대응 연습 - AR글라스는 엑스레이를 환자의 몸에 겹쳐 놓고 의사의 시야를 확 \\xa0 보해 환자의 검사 결과와 데이터를 한 눈에 확인 가능 3,509억 달러 교육 및 훈련 (Development and training) - VR/AR 기술은 실용적이거나 안전하지 않은 곳에서 일하는 직원들 \\xa0 을 실제세계에서 교육할 수 있는 방법을 제공 2,942억 달러 공정개선 (Process improvement) - 프로세스의 효율성, 생산성, 정확도를 향상시키는 혁신적 방법 - 엔지니어 및 기술자는 VR/AR인터페이스를 사용하여 신속하게 수 \\xa0 \\xa0리 및 유지보수 수행, 물류 부문에서는 스마트 안경에 작업자의 \\xa0 \\xa0 \\xa0선별 정보를 표시하고 위치를 강조 표시 2,750억 달러 소비재 및 유통 (Retail and consumer) - VR/AR은 영화, 게임, 소매 분야에서 소비자와 관계를 맺고 즐거움 \\xa0 을 주며 소통하는 혁신적인 방법을 제공 - 특히 게임은 이미 많은 사람들이 VR/AR을 경험한 분야 2,040억 달러 [출처 : 정보통신정책연구원 KISDI, 'VR/AR 시장 전망 및 사업자 동향' (2020년 1월)] 여러 글로벌 시장전망 기관에서는 VRㆍAR 기술이 3~5년내에 범용적인 기술이 될 것이고 ICT 생태계를 비롯한 여러산업에서 부가가치 높은 서비스의 형태로 확산될 것으로 전망하고 있으며 최근 애플, 페이스북, 구글, 삼성, LG 등 기존의 ICT 기업들을 비롯한 국내외 통신사업자들이 최근 VRㆍAR시장에 인력과 자금을 투입하며 새로운 서비스를 잇따라 출시하는 모습을 볼 수 있습니다. \\xa0또한 국내 통신 3사의 경우에도 5G 보급과 더불어 스마트폰을 대체할 새로운 플랫폼으로 VRㆍAR시장을 염두해 두고 어려 사업자들의 가상, 증강현실 서비스를 유통하는 플랫폼으로 역할을 하기 위하여 다향한 노력을 하고 있습니다. 2) 경기변동의 특성 및 계절성 현재 VRㆍAR 산업 분야의 킬러콘텐츠는 단연 게임이며, 게임산업과 더불어 경기변동의 영향이 적은 지속 성장이 가능한 산업입니다. 또한, 실내 VR 테마파크를 비롯한 멀티 플랫폼 시스템의 콘텐츠 서비스가 국내외에서 꾸준히 연구ㆍ개발 중으로 새로운 놀이문화와 다양한 응용분야를 고려하면 계절적인 영향이 타산업에 비해 매우 적다고 할 수 있습니다. 3) 회사의 경쟁우위 요소 당사는 VR 콘텐츠 공급자(Provider)로서 KT가 운영하는 VR 테마파크 'VRIGHT(브라이트)'와 현대IT&E가 운영하는 VR 테마파크 'VR 스테이션'에「스페셜포스 VR: UNIVERSAL WAR」, 「스페셜포스 VR: ACE」등을 공급하였으며, 마카오 VR 테마파크 'LEGEND HEROES PARK'에 「또봇 VR」, \\xa0KT가 운영하는 말레이시아 VR 테마파크 '브리니티(VRINITY)'에 「또봇 VR」,「스페셜포스 VR: ACE」를 공급하는 등 국내 뿐만 아니라 해외에도 점차 VR 콘텐츠의 공급ㆍ판매를 확대해 가고 있습니다. 또한 2019년 8월 PC 온라인 VR 게임인「스페셜포스 VR: INFINITY WAR」를 스팀 플랫폼 내에 런칭하였으며, 2020년 8월 모바일 AR 게임인「신비아파트 G 파인더」를 런칭하였습니다. 지난 2019년 1월 업계 최초 VR e-스포츠 특화 VR 테마파크인 'LENOVO VR MAGIC PARK'를 신도림 테크노파크에 오픈하여 「스페셜포스 VR: ACE」및 「또봇 VR」등을 주 종목으로 VR e-스포츠를 매월 운영하고 있습니다. 창업 이래 회사는 온라인과 모바일 장르의 수많은 게임을 개발하며 축적된 개발 노하우와 유명 게임 IP, 국내외 유저풀(User Pool)을 활용하여 고퀄리티의 VRㆍAR 콘텐츠 개발과 유통ㆍ보급할 수 있는 경쟁력을 갖추었습니다. 또한, 인프라 구성이 뛰어난 광주지역에 VRㆍAR 센터를 설립하였으며 광주정보문화산업진흥원의 VR 정부프로젝트 참여사업에 선정되었습니다. 국내외 VRㆍAR 관련 전시회, 엑스포 참가 등으로 마케팅 전략을 수립하고 바이어를 확보할 계획입니다. <전시회ㆍ엑스포 참가 이력> 2019년 11월 : 'G-STAR 2019' (부산 벡스코) 2019년 10월 : '코리아 VR 페스티벌 2019' (서울 COEX) 2019년 01월 : '대만게임쇼 2019' (대만 타이페이) 2018년 11월 : '지스타 2018' (부산 벡스코) 2018년 10월 : '한ㆍ아세안 디지털 콘텐츠 콘퍼런스 2018' (잠실 롯데호텔월드) 2018년 10월 : '제16회 지상군페스티벌' (육군본부 계룡대) 2018년 09월 : 'KVRF(KOREA VR FESTIVAL) 2018 (상암동 누리꿈스퀘어) 2018년 08월 : '울산 미래박람회' (울산 동천체육관) 2018년 08월 : '아시안게임 KT 5G 체험존' (인도네시아 자카르타) 2018년 08월 : 'e스포츠 명예의 전당' (상암동 에스플렉스센터) 2018년 07월 : '2018 부산 VR 페스티벌' (해운대 벡스코) 2018년 07월 : 'GDF 2018 VR-e스포츠 쇼케이스' (판교 경기창조경제혁신센터) 2018년 07월 : '캐릭터 라이선싱 페어 2018' (강남 코엑스) 2018년 05월 : 'WORLD IT SHOW 2018' (강남 코엑스) 2018년 05월 : '2018 Play X4' (일산 킨덱스) 2018년 04월 : '한ㆍ아세안 디지털 콘텐츠 컨퍼런스' (말레이시아) 2018년 04월 : 'SEOUL VRㆍAR EXPO' (강남 코엑스) 2018년 04월 : 'MIPTV 2018' (프랑스 칸느) 2018년 03월 : 'GDC 2018 엑스포' (미국 샌프란시스코) 2018년 02월 : 'MWC 2018' (스페인 바르셀로나) 2018년 2월, 스페인 바르셀로나에서 성황리에 개최된 '모바일월드콩그레스(MWC)2018’에서는 KT와 제휴하여 5G 기반 기술을 바탕으로 한 세계 최초의 완전 무선 PVP(Player VS Player, 플레이어간 대전방식) 방식의 VR 게임「스페셜포스 VR: UNIVERSAL WAR 」를 선보인 바 있습니다. 회사는 온라인 FPS 게임(First-Person Shooting, 1인칭 슈팅게임) 장르를 개척한 선구자로서, 그 동안 축적된 FPS 자체 핵심 기술력과 노하우를 바탕으로 VRㆍAR 게임 콘텐츠의 개발 및 VR e-스포츠 구현과 보급에 최적화된 경쟁력으로 재도약 할 것으로 믿고 있습니다. ● 온라인 게임 사업 1) 산업의 특성 및 성장성 게임산업은 정보화 지식산업이며, 종합 엔터테인먼트 산업이자 문화 콘텐츠를 개발하고 서비스하는 산업입니다. 또한 원자재나 대량의 설비투자 없이 기획력과 아이디어로 승부하기에 투입 대비 산출의 비율이 여타 다른 산업보다 월등히 높은 고부가가치 산업입니다. 게임산업 자체뿐 아니라 만화, 애니메이션, 영화, 방송, 인터넷 및 네트워크, 음악산업, 캐릭터산업 등과 같은 주변산업과 접목해 부가가치 및 파생상품을 창출할 수 있다는 산업특성도 가지고 있습니다. ① 국내시장의 특성 및 성장성 국내 온라인 게임산업은 개발력을 중심으로 한 높은 완성도를 기반으로 글로벌 경쟁력을 가진 산업 중 하나로 발전해 왔습니다. 당사를 비롯한 국내 게임업체들은 국내 시장의 선점은 물론 해외시장에 적극적으로 진출하여 세계 온라인 게임시장에서 국산게임을 확산시키기 위해 노력하고 있습니다. 2023년 국내 게임시장 규모는 2022년 대비 10.9% 감소한 19조 7,900억 원을 형성할 전망입니다. 2022년 PC 게임 시장 규모는 5조 8,053억 원으로 2021년과 비교해 3% 성장했습니다. PC방 매출 규모도 1조 8,765억 원을 기록하며 전년(1조 8,407억 원) 대비 1.9% 성장 한 것으로 나타났습니다. (출처 : 2023 대한민국 게임백서) ② 해외시장의 특성 및 성장성 2022년 세계 PC 게임 시장 규모는 약 363억 5,200만 달러로 이는 2021 대비 0.1% 성장한 것으로 나타났습니다. 2023년부터 북미시장은 2%대 남미시장은 3.6% 아시아시장은 2.8%대로 성장할 것으로 전망하고 있습니다. PC 게임 시장에서 아시아에서도 특히 중화권 국가들을 중심으로 시장 성장이 유지되고 있습니다. 2022년 기준 세계 게임 시장 규모는 전년 대비 0.9% 증가한 2,082억 4,900만 달러로 추정되었습니다. PC게임이 전년대비 0.1% 증가하였지만 2023년 이후에는 2022년보다 개선될 것으로 예상하고 있습니다.(출처 : 2023 대한민국 게임백서) 2) 회사의 경쟁우위 요소 ■ 온라인 FPS 게임 분야의 선도업체의 입지 확보 2002년 넷마블을 통해 세계 최초의 온라인 FPS 게임「카르마 온라인」의 서비스를 시작하여 최고 동시접속자 86,000명을 달성함으로써 불모지였던 온라인 FPS 시장의 가능성을 열었으며, 2004년부터는「스페셜포스」를 서비스하여 79주간 국내 PC방 접속률 1위 기록을 비롯하여 전세계 30여개 국에서 1억명 이상의 유저들이 즐기고 있고 국내 FPS 시장을 MMORPG 장르와 경쟁하는 규모로 성장시키는 데 절대적인 역할을 하였습니다. ■ 성공적 유료화 모델의 노하우 유저들이 게임을 통해 얻을 수 있는 요소가 유저의 게임능력 향상으로만 한정되기 때문에 상대적으로 유료화에 대한 깊은 연구와 노하우의 축적이 필요한 부분입니다. 당사는「카르마 온라인」을 통해 밸런스를 해치지 않으며 유저의 심리적 저항을 최소화 하는 등 FPS게임에 맞는 유료화 모델을 집중 연구하였으며, 이를 통해 철저하게 사전 기획된 유료화 시스템을 적용하여「스페셜포스」를 상업적으로 크게 성공시켰습니다. 그 결과 \\xa0MMORPG게임에 버금가는 성공을 이루었으며, 유저의 성장단계에 맞춘 단계적인 유료화를 적용하여 단기적인 성과가 아닌 장기적인 매출을 이끌어 냈습니다. 당사는 이러한 유료화 시스템의 기획과 노하우를 바탕으로 방대한 볼륨의 콘텐츠, 시스템, 그리고E-SPORTS등의 재미 요소들과 결합하여 게임을 더욱 풍성하게 만들었습니다. ■ 적극적인 해외시장 진출과 이로 인한 성장엔진 확보 당사는 현재 국내를 비롯하여 태국 및 기타동남아와 중국에「스페셜포스」를 서비스하고 있으며, 「스페셜포스2」또한 국내 서비스를 필두로 글로벌 서비스를 하고 있습니다. 「스페셜포스」의 경우 2006년부터 순차적으로 해외서비스를 진행하여 가장 먼저 서비스를 시작한 태국에서 게임 시장을 선점하며 국민게임으로 자리잡아 있으며, 공식 E-SPORTS 리그인 SFWC(Special Force World Championship)을 출범시키며 글로벌 E-SPORTS 활성화 및 저변 확대를 성공적으로 이끌어내어 글로벌 기업으로 도약하는 발판을 구축하였습니다. 이러한 성공적인 해외 진출에 따른 인지도 상승으로 글로벌 업체들과 우호적인 관계를 형성하였고 동남아시아 뿐만 아니라 중화권, 북미 및 유럽 등 전세계적으로 탄탄한 유저풀 역시 형성하였습니다. 또한, 인지도 있는 글로벌 퍼블리셔 및 통신사 등과의B2B 파트너십을 강화하여 신규 게임 출시 및 VR, AR과 같은 신사업으로도 파트너십이 확장되고 있습니다. ■ 현지화의 노하우 해외 진출 시 시장에 맞는 현지화 능력은 목표시장에서 성공하기 위한 필수적인 요소이며, 현지화의 노하우는 기술적인 측면과 문화적인 측면의 두 가지 부분을 동시에 진행하는 것을 말합니다. 기술적인 측면에서 온라인 FPS 게임장르는 현지 네트워크에 대한 의존도가 크며 현지 환경의 어려움을 극복하기 위한 높은 기술력이 요구되는 분야로 온라인 게임으로는 쉽지 않은 장르입니다. 국내 네트워크 환경과 비교할 때 많은 해외국가들의 네트워크 환경이 열악하여「스페셜포스」와 「스페셜포스2」의 해외 진출 시에는 초기부터 해외시장의 기술적인 환경을 사전에 고려하였습니다. 문화적인 측면의 경우, 기본적으로 서비스 국가에 맞는 언어버전 개발에서부터 유저 성향, 인터넷 문화, 역사적 특성 등을 고려하여 서비스 하였으며, 오픈 서비스 이후에도 현지에 맞는 아이템과 맵 개발, 현지 특성에 맞는 이벤트, 프로모션을 진행하였습니다. 이는 단순히 수출업체가 단독으로 완벽하게 진행할 수 있는 부분이 아니고 현지의 게임 퍼블리싱 업체와 긴밀하게 협조하고 논의할 수 있는 원활한 커뮤니케이션 체제를 갖추어야만 가능합니다. 이를 위해 권역별 전문가를 배치하고 마케팅, 기획, 프로그래머를 \\xa0전담시켜 시장환경에 빠르게 대처할 수 있도록 하였습니다. 당사의 이러한 현지화에 대한 노하우는 향후 신규게임의 해외 진출시 성공 가능성을 높이는 경쟁력이라 할 수 있겠습니다. ■ 게임업체 네트워크 당사는 국내 게임 개발의 1세대로서 유수한 국내외 게임업체들과 우호적인 네트워크를 형성하고 있습니다. 이러한 네트워크를 통해서 많은 정보교류와 기술교류를 지속하고 있으며 새로운 서비스 또는 새로운 지역으로의 진출 시에도 서로 협력하고 있습니다. 당사는 이러한 회사들과 경쟁관계에 있다고 근시안적으로 생각하지 않습니다. 게임 시장은 빠르게 변화하고 있고, 특히 해외시장의 경우 급격하게성장하고 있기에 당사와 같은 국내 게임 개발1세대의 오래되고 숙련된 노하우를 바탕으로 잠재 가능성 있는 업체들을 이끌고 적극적인 협력을 통하여 게임 시장을 확대시키고 발전시켜 나가는데 주도적인 역할을 해야 한다고 생각합니다. 3) 회사의 열위요소 ■ '스페셜포스' IP에 대한 높은 의존도 당사는 국내외 온라인 FPS 게임 분야에서 선도업체로서의 입지를 확보하였으며, '스페셜포스'라는 브랜드 파워가 있는 IP를 보유하고 있습니다. 당사는 '스페셜포스' IP를 기반으로 후속작 개발 및 다양한 장르로의 사업영역 확대 등을 위해 노력하였습니다. 그러나 스페셜포스 외의 게임 개발에 크게 성공하지 못하면서 현재까지도 당사의 매출이 스페셜포스 IP에 편중되어 발생하고 있습니다. 당사는 이를 타개하기 위하여 스페셜포스 외에 타 IP를 활용하고, 지속적인 게임 연구 개발을 통해 신규 브랜드를 출시하여 신규 게임 장르에 도전하는 방법 등으로 스페셜포스 IP에 대한 사업 및 실적 의존도를 낮추고, IP를 다양화하는 것을 목표로 하고 있습니다. ■ 전문 개발 인력의 부족 최근 디지털 전환의 가속으로 각 산업분야에서 개발자 채용이 증가하면서 개발인력에 대한 수요가 더욱 증가하였습니다. IT업계 내에서 대기업 위주로의 개발인력 쏠림 현상이 심화되면서, 당사를 비롯한 중소, 중견기업들은 개발 경험을 지니고 있는 개발인력을 확보하는 데 어려움을 겪고 있습니다. 따라서 당사는 우수한 개발 인력을 확보하기 위해 사내 복지제도를 개선하고 원격근무 도입 등 효율적인 근무환경을 조성하기 위하여 노력하고 있습니다. ● 기능성 필름 사업 1) 산업의 특성 및 성장성 기능성 나노필름은 항균성, 친환경성, 내열성, 초전도성 등 전방산업에서 요구하는 다양한 기 능을 보유한 친환경 필름으로 반도체, 자동차, 건축, 디스플레이, 스마트폰, 터치스크린, 에너지 변환, 의료기기, 식품포장 등 다양한 분야에서 사용되고 있습니다. 기능성나노필름은 기재로 사용되는 필름에 탄소나노튜브, 금속 나노입자, 풀러렌 등의 나노소재를 접목하여 유기, 무기 복합화 과정을 통해 복합적 기능을 갖도록 만들어진 다기능소재로 각 용도에 따라 초전도성, 고선명, 내오염성, 인체에 해로운 적외선 차단 및 열적 성능 향상 등의 기능이 향상된 친환경 필름입니다. 기능성나노필름에 접목되는 나노소재기술은 물질의 크기가 대략 100mm 이하일 때 나타나는 새 로운 현상 및 특성을 이용하는 첨단 신소재 기술로 정의되며, 물질을 원자·분자 단위에서 조작 하고 기존에 없던 새로운 물질과 특성을 만들 수 있습니다. 나노소재기술은 기재 필름 위에 나노코팅 기술을 통해 구현 가능하며, 기존 필름 소재에서 얻을 수 없는 물성을 얻어내거나, 이 종소재의 코팅을 통해 다양한 물성을 부여할 수 있습니다. 또한, 나노소재기술은 기술융합을 통해 시장 창출로 연결하려는 다양한 노력이 시도되고 있으며, 반사 방지, 긁힘 방지, 자외선 차단, 결로 방지, 방수, 발열 등 대체 가능한 기술을 갖고 있기 때문에 이를 적용하여 다양한 산업용 기능성나노필름이 개발되고 있습니다. ① 국내시장의 특성 및 성장성 MarketsandMarkets의 2018년 자료에 따르면, 국내 투명전도성필름 시장은 2017년2,188억원 규모이며, 이후 연평균 8.0%의 성장률을 보이면서 2022년에는 3,213억 원의 시장규모를 형성할 것으로 전망하고 있습니다. 2017년 기준 국내 시장규모는 세계 시장의 6%, 아시아태평양 시장의 11%를 차지하고 있습니다. ② 해외시장의 특성 및 성장성 MarketsandMarkets의 2018년 자료에 따르면, 세계 투명전도성필름 시장은 2017년31.0억달러 규모로 이후 연평균 6.0%의 성장률을 보이면서 2022년에는 41.3억 달러의 시장규모를 형성할 것으로 전망하고 있습니다. 2) 경기변동의 특성 및 계절성 기능성 필름 산업은 전자, 기기 산업의 경기변동에 크게 영향을 받으며 전자, 기기 산업은 국내 소비 경제의상황과 경기 전반에 따라 영향을 받습니다. 즉 당사가 영위 하는 기능성 필름산업은 국민생활과 밀접한 관계를 지니고 있습니다. 전자 기기 등 소비재 관련 시장에 집중되던 시장은 점차 자동차, 항공, 선박, 건축, 의료 산업재 시장으로 영역을 확대 시켜나가고 있고 제품에 따라 계절적 수요 변동이 큰 양상을 보이고 있습니다. 3) 회사의 경쟁우위 요소 박막 증착 기술은 터치 스크린, 플래시블 디스플레이, 박막형 태양전지 등 미래 고부가치 제품에 없어서는 안 될 핵심 기술로, Roll-to-Roll 스퍼터링 기술은 다양한 금속 재료를 안정하고 균일하게 모재에 증착시키면서 연속 공정이 가능해 생산 측명에서도 기존의 Batch 타입 대비 큰 경쟁력을 지니고 있습니다. 4) 회사의 열위요소 당사의 자회사는 기능성 필름 분야의 핵심 기술력 및 노하우를 보유하고 있으나, 매출처가 편중되어 있어 해당 고객사의 영업환경 및 실적 등에 따라 당사 자회사의 실적도 많은 영향을 받고 있습니다. 실제로 현재 주 고객사에 납품하고 있는 가전제품의 필름 증착 방식이 금속 증착에서 인쇄로 변경됨에 따라 당사 자회사가 생산하는 제품의 수요가 크게 감소한 상황입니다. 당사의 자회사는 변화하는 가전제품 트렌드에 대응하기 위하여 신규제품에 적용되는 필름을 고객사와 함께 개발하고 있으며, 다양한 신규 고객사를 확보하기 위해 기존 필름에만 증착하는 중간가공에서 벗어나 알루미늄, 스테인리스에 금속증착하기 위한 개발을 진행하고 있습니다. ● 자동차 흡음재 사업 1) 사업의 특성 및 성장성 자동차에 있어서 차량의 흡/차음재 역할은 자동차 산업의 발전과 더불어 수요자의 요구가 다양화, 고급화됨에 따라 자동차의 성능 중에 가장 큰 현안으로 대두되고 있는 이슈 중 하나 입니다. 차내의 소음을 줄일 수 있도록 하기 위하여 완성차 업체는 물론 부품 및 원료소재 업체들이 다양한 제품을 개발 중에 있으며 특히, 부품업체들은 섬유재료(펠트, 유리섬유), 폴리우레탄 foam, poly(ethylene terephthalate)(PET) 섬유재료 등과 같은 소음 흡수재료를 사용하여 차체 안쪽을 도포하거나 sheet, film상의 재질을 삽입하는 방식을 이용하고 있습니다. 소음 흡/차음재료들은 자동차의 차체 전 부분에 장착 되어 엔진 및 타이어 등에서 발생하는 소음 및 진동을 차단하여 쾌적한 승차감을 주는 주요한 부품으로 자리 잡고 있으며, 자동차의 등급 또는 배기량에 따라 적용수지가 다르며 고급차 일수록 사용부위 및 사용량이 많은 것이 일반적입니다. 이처럼 차량의 소음 제거를 위한 자동차용 흡/차음재료의 중요성은 최근 들어 더욱 높아지고 있으며 소음저감 목적 이외에 연비개선을 위한 경량화, 비용절감 등과 더불어 산업 영역이 확장되고 있습니다. ① 국내시장의 특성 및 성장성 자동차 흡음재 사업의 성장성은 자동차 산업의 성장성과 비례하여 성장하고 있습니다. Covid 19의 영향으로 전 세계 자동차 생산량은 감소 하였으나 한국자동차 산업협회(KAMA)의 '2020년 10대 자동차 생산국 현황' 조사에 따르면 한국의 2020년 생산량은 351만대로 코로나 19 영향 \\xa0에도 불구 하고 주요국 대비 선방하면서 2016년 이후 인도에 내어준 5위 자리를 5년 만에 탈환한 것으로 확인 되었고, \\xa0자동차 산업의 점진적 회복세의 영향으로 흡음재 산업도 동반성장이 예측됩니다. ② 해외시장의 특성 및 성장성 LMC Automotive 자료에 따르면 21년 Covid19 영향, 반도체 부족 사태로 전세계 자동차 생산량은 75백만대, 22년 92백만대, 23년 96백만대 수준으로 점진적 회복 예측이 되며, 고객선호도의 변화 (스마트화, 고급화, 전동화) 추세에 따른 흡음재 산업의 비중은 더욱 중요 시 될 것으로 예측 됩니다. 2) 경기변동의 특성 및 계절성 자동차 흡음재 산업은 자동차 산업의 경기변동에 크게 영향을 받으며 자동차 산업은 국내 소비 경제 상황과 경기 전반에 따라 영향을 받습니다. 호황기의 자동차 산업은 경기를 일으켜 세우는 촉매제 역할을 하나, 불황기에는 투자비와 개발비의 부담때문에 위축될 수 있는 가능성이 있습니다. '경제성장률, 실질 구매력의 증감 및 국제 유가 동향과 밀접한 관련이 있어 경기 침체에 따른 자산가치 하락, 가계 부채 증가등에 기인한 소비심리 위축과 고용불안정, 고유가의 지속으로 인한 유지비 부담증가등은 자동차 판매에 부정적인 영향을 미치며 반대로 회복시에는 소득증가에 따른 소비 심리 회복과 고용증가, 국내 유가 안정등의 긍정적인 요인으로 판매 확대의 경향을 보입니다. 자동차 산업은 계절적 경기 변동의 영향이 없는 산업이나, 신차 출시나 기존 모델의 풀체인지가 이루어지는 경우 차량 대기 수요로 인해 동급 경쟁 차종 또는 구형 모델이 되는 기존 차종에 대한 수요는 일시 감소하는 경우가 있습니다. 3) 회사의 경쟁우위 요소 당사의 자회사는 30년간 축적된 자동차 패드류 생산, 제조 기술력을 활용하여 흡음재, 쿠션 및 씰링 제품군을 생산하고 있습니다. 고품질의 제품을 생산하기 위한 설비 및 인력을 보충 완료하여 매출 확대에 만전을 기하고 있습니다. 또한 지속적인 연구개발을 통하여 보다 차원 높은 고부가가치 제품 개발에 주력하고 있습니다. 4) 회사의 열위요소 당사의 자회사는 오랜 기간 축적해 온 자동차 패드류 생산 및 제조 노하우를 바탕으로 자동차용 패드 및 흡음재를 생산하고 있습니다. 그러나 업계 특성상 전방산업인 자동차 산업 업황에 크게 영향을 받으며, 매출처가 편중되어 있어 주요 고객사들의 영업환경 및 실적 등에 따라 많은 영향을 받고 있습니다. 이를 타개하기 위하여 당사 자회사는 다양한 신규 고객사를 확보하기 위한 적극적인 영업활동을 펼치고 있으며, 이의 일환으로 고급 전기차 타이어용 흡음재 가공과 전기차 배터리 보호막 소재 가공 등을 통해 전기차 관련 신규 제품 납품을 계획하고 있습니다.\"],\n",
       "      dtype=object)"
      ]
     },
     "execution_count": 309,
     "metadata": {},
     "output_type": "execute_result"
    }
   ],
   "source": [
    "final_df[final_df['0'] == '드래곤플라이']['item2_replace'].values"
   ]
  },
  {
   "cell_type": "markdown",
   "metadata": {},
   "source": [
    "## 학습용 데이터 만들기 "
   ]
  },
  {
   "cell_type": "code",
   "execution_count": null,
   "metadata": {},
   "outputs": [],
   "source": [
    "import os\n",
    "# os.environ['OPENAI_API_KEY'] = "
   ]
  },
  {
   "cell_type": "code",
   "execution_count": 15,
   "metadata": {},
   "outputs": [],
   "source": [
    "final_df_slice = final_df[['0','item1_replace','item2_replace','item3_replace']]"
   ]
  },
  {
   "cell_type": "code",
   "execution_count": 16,
   "metadata": {},
   "outputs": [
    {
     "data": {
      "text/html": [
       "<div>\n",
       "<style scoped>\n",
       "    .dataframe tbody tr th:only-of-type {\n",
       "        vertical-align: middle;\n",
       "    }\n",
       "\n",
       "    .dataframe tbody tr th {\n",
       "        vertical-align: top;\n",
       "    }\n",
       "\n",
       "    .dataframe thead th {\n",
       "        text-align: right;\n",
       "    }\n",
       "</style>\n",
       "<table border=\"1\" class=\"dataframe\">\n",
       "  <thead>\n",
       "    <tr style=\"text-align: right;\">\n",
       "      <th></th>\n",
       "      <th>0</th>\n",
       "      <th>item1_replace</th>\n",
       "      <th>item2_replace</th>\n",
       "      <th>item3_replace</th>\n",
       "    </tr>\n",
       "  </thead>\n",
       "  <tbody>\n",
       "    <tr>\n",
       "      <th>0</th>\n",
       "      <td>지오엠씨</td>\n",
       "      <td>NaN</td>\n",
       "      <td>II. 사업의 내용 1. 사업의 개요 가. 영업의 현황 엠씨스퀘어 사업이 35 년의...</td>\n",
       "      <td>NaN</td>\n",
       "    </tr>\n",
       "    <tr>\n",
       "      <th>1</th>\n",
       "      <td>클루넷</td>\n",
       "      <td>NaN</td>\n",
       "      <td>NaN</td>\n",
       "      <td>개요 당사는 인터넷 인프라 서비스 전문 기업으로 클라우드 컴퓨팅 기술인 CCN(Cl...</td>\n",
       "    </tr>\n",
       "    <tr>\n",
       "      <th>2</th>\n",
       "      <td>GRT</td>\n",
       "      <td>1. 회사의 개요 가. 연결대상 종속회사 개황 (연결재무제표를 작성하는 주권상장법인...</td>\n",
       "      <td>II. 사업의 내용 1. 사업의 개요 당사는 홍콩에 설립된 비금융 지주회사이며, 실...</td>\n",
       "      <td>개요 당사의 제 1공장, 2공장, 3공장은 모두 가동중입니다. 당사의 당기 매출액은...</td>\n",
       "    </tr>\n",
       "    <tr>\n",
       "      <th>3</th>\n",
       "      <td>보진재</td>\n",
       "      <td>1. 회사의 개요 (1) 회사의 법적 및 상업적 명칭 당사의 국문 명칭은 주식회사 ...</td>\n",
       "      <td>II. 사업의 내용 1. 사업의 개요 ( 1) 사업부문별 시장여건 및 영업의 개황 ...</td>\n",
       "      <td>개 요 회사의 경영에 대한 전반적인 사항을 파악하기 위하여 장부와 관계서류를 열람하...</td>\n",
       "    </tr>\n",
       "    <tr>\n",
       "      <th>4</th>\n",
       "      <td>로스웰</td>\n",
       "      <td>1. 회사의 개요 1. 연결대상 종속회사 개황 (1) 연결대상 종속회사 현황(요약)...</td>\n",
       "      <td>II. 사업의 내용 1. 사업의 개요 당사와 연결종속회사의 주된 영업활동은 자동차용...</td>\n",
       "      <td>개요 당사와 연결종속회사의 주된 영업활동은 자동차용 전장제품의 연구개발과 제조 및 ...</td>\n",
       "    </tr>\n",
       "    <tr>\n",
       "      <th>...</th>\n",
       "      <td>...</td>\n",
       "      <td>...</td>\n",
       "      <td>...</td>\n",
       "      <td>...</td>\n",
       "    </tr>\n",
       "    <tr>\n",
       "      <th>2979</th>\n",
       "      <td>HJ중공업</td>\n",
       "      <td>1. 회사의 개요 가. 연결대상 종속회사 현황(요약) (단위 : 사) 구분 연결대상...</td>\n",
       "      <td>II. 사업의 내용 1. 사업의 개요 당사는 조선업과 건설업을 주요사업으로 영위하고...</td>\n",
       "      <td>개요 당사는 조선업(선박건조)과 건설업(토목, 건축, 주택, 플랜트 등)을 주요 사...</td>\n",
       "    </tr>\n",
       "    <tr>\n",
       "      <th>2980</th>\n",
       "      <td>라이온켐텍</td>\n",
       "      <td>1. 회사의 개요 1. 연결대상 종속회사 개황(연결재무제표를 작성하는 주권상장법인이...</td>\n",
       "      <td>II. 사업의 내용 1. 사업의 개요 당사는 건축 내외장재로 사용되는 인조대리석 및...</td>\n",
       "      <td>개요 당사는 1973년 새한화학공업사로 설립 이후 연구개발을 지속적으로 수행하여 1...</td>\n",
       "    </tr>\n",
       "    <tr>\n",
       "      <th>2981</th>\n",
       "      <td>에어부산</td>\n",
       "      <td>1. 회사의 개요 가. 연결대상 종속회사 개황(연결재무제표를 작성하는 주권상장법인이...</td>\n",
       "      <td>II. 사업의 내용 1. 사업의 개요 당사의 주요 제품 및 서비스는 여객운송서비스입...</td>\n",
       "      <td>개요 당사는 2019년 연간 매출액은 전년대비 3.1% 감소한 6,332억 원, 영...</td>\n",
       "    </tr>\n",
       "    <tr>\n",
       "      <th>2982</th>\n",
       "      <td>화인베스틸</td>\n",
       "      <td>1. 회사의 개요 가. 연결대상 종속회사 개황 1) 연결대상 종속회사 현황(요약) ...</td>\n",
       "      <td>II. 사업의 내용 1. 사업의 개요 당사는 단일 사업부문(형강 제조 및 판매)으로...</td>\n",
       "      <td>개요 회사의 경영에 대한 전반적인 사항을 파악하기 위하여 장부와 관계서류를 열람하고...</td>\n",
       "    </tr>\n",
       "    <tr>\n",
       "      <th>2983</th>\n",
       "      <td>케이씨씨글라스</td>\n",
       "      <td>1. 회사의 개요 (1) 연결대상 종속회사 현황(요약) (단위 : 사) 구분 연결대...</td>\n",
       "      <td>II. 사업의 내용 1. 사업의 개요 가. 사업의 개요 당사는 2020년 1월 1일...</td>\n",
       "      <td>개요 당사는 2020년 1월 1일을 분할기일로 하여 분할 전 존속회사인 주식회사 케...</td>\n",
       "    </tr>\n",
       "  </tbody>\n",
       "</table>\n",
       "<p>2984 rows × 4 columns</p>\n",
       "</div>"
      ],
      "text/plain": [
       "            0                                      item1_replace  \\\n",
       "0        지오엠씨                                                NaN   \n",
       "1         클루넷                                                NaN   \n",
       "2         GRT  1. 회사의 개요 가. 연결대상 종속회사 개황 (연결재무제표를 작성하는 주권상장법인...   \n",
       "3         보진재  1. 회사의 개요 (1) 회사의 법적 및 상업적 명칭 당사의 국문 명칭은 주식회사 ...   \n",
       "4         로스웰  1. 회사의 개요 1. 연결대상 종속회사 개황 (1) 연결대상 종속회사 현황(요약)...   \n",
       "...       ...                                                ...   \n",
       "2979    HJ중공업  1. 회사의 개요 가. 연결대상 종속회사 현황(요약) (단위 : 사) 구분 연결대상...   \n",
       "2980    라이온켐텍  1. 회사의 개요 1. 연결대상 종속회사 개황(연결재무제표를 작성하는 주권상장법인이...   \n",
       "2981     에어부산  1. 회사의 개요 가. 연결대상 종속회사 개황(연결재무제표를 작성하는 주권상장법인이...   \n",
       "2982    화인베스틸  1. 회사의 개요 가. 연결대상 종속회사 개황 1) 연결대상 종속회사 현황(요약) ...   \n",
       "2983  케이씨씨글라스  1. 회사의 개요 (1) 연결대상 종속회사 현황(요약) (단위 : 사) 구분 연결대...   \n",
       "\n",
       "                                          item2_replace  \\\n",
       "0     II. 사업의 내용 1. 사업의 개요 가. 영업의 현황 엠씨스퀘어 사업이 35 년의...   \n",
       "1                                                   NaN   \n",
       "2     II. 사업의 내용 1. 사업의 개요 당사는 홍콩에 설립된 비금융 지주회사이며, 실...   \n",
       "3     II. 사업의 내용 1. 사업의 개요 ( 1) 사업부문별 시장여건 및 영업의 개황 ...   \n",
       "4     II. 사업의 내용 1. 사업의 개요 당사와 연결종속회사의 주된 영업활동은 자동차용...   \n",
       "...                                                 ...   \n",
       "2979  II. 사업의 내용 1. 사업의 개요 당사는 조선업과 건설업을 주요사업으로 영위하고...   \n",
       "2980  II. 사업의 내용 1. 사업의 개요 당사는 건축 내외장재로 사용되는 인조대리석 및...   \n",
       "2981  II. 사업의 내용 1. 사업의 개요 당사의 주요 제품 및 서비스는 여객운송서비스입...   \n",
       "2982  II. 사업의 내용 1. 사업의 개요 당사는 단일 사업부문(형강 제조 및 판매)으로...   \n",
       "2983  II. 사업의 내용 1. 사업의 개요 가. 사업의 개요 당사는 2020년 1월 1일...   \n",
       "\n",
       "                                          item3_replace  \n",
       "0                                                   NaN  \n",
       "1     개요 당사는 인터넷 인프라 서비스 전문 기업으로 클라우드 컴퓨팅 기술인 CCN(Cl...  \n",
       "2     개요 당사의 제 1공장, 2공장, 3공장은 모두 가동중입니다. 당사의 당기 매출액은...  \n",
       "3     개 요 회사의 경영에 대한 전반적인 사항을 파악하기 위하여 장부와 관계서류를 열람하...  \n",
       "4     개요 당사와 연결종속회사의 주된 영업활동은 자동차용 전장제품의 연구개발과 제조 및 ...  \n",
       "...                                                 ...  \n",
       "2979  개요 당사는 조선업(선박건조)과 건설업(토목, 건축, 주택, 플랜트 등)을 주요 사...  \n",
       "2980  개요 당사는 1973년 새한화학공업사로 설립 이후 연구개발을 지속적으로 수행하여 1...  \n",
       "2981  개요 당사는 2019년 연간 매출액은 전년대비 3.1% 감소한 6,332억 원, 영...  \n",
       "2982  개요 회사의 경영에 대한 전반적인 사항을 파악하기 위하여 장부와 관계서류를 열람하고...  \n",
       "2983  개요 당사는 2020년 1월 1일을 분할기일로 하여 분할 전 존속회사인 주식회사 케...  \n",
       "\n",
       "[2984 rows x 4 columns]"
      ]
     },
     "execution_count": 16,
     "metadata": {},
     "output_type": "execute_result"
    }
   ],
   "source": [
    "final_df_slice"
   ]
  },
  {
   "cell_type": "markdown",
   "metadata": {},
   "source": [
    "### open ai 입력 데이터 만들기"
   ]
  },
  {
   "cell_type": "code",
   "execution_count": 25,
   "metadata": {},
   "outputs": [],
   "source": [
    "import math\n",
    "qrys = []\n",
    "for i in range(len(final_df_slice.index)):\n",
    "    for j in range(1,len(final_df_slice.columns)):\n",
    "        check_company = final_df_slice.iloc[i,0]\n",
    "        check_text = final_df_slice.iloc[i,j]\n",
    "        if type(check_text) == np.str_ or type(check_text) == str:\n",
    "          \n",
    "            messages = [\n",
    "            {\"content\": f\"당신의 임무는  정량적 금융 문제를 만드는 것입니다. 기업의 공시 정보를 제공하며 한국어로 시험형 문제로 재구성해보세요. 질문은 앞에 Q.를 붙이고 답변은 A.를 붙이세요 여러개의 질문 답변쌍을 내용이 겹치지 않게 만드세요. 제공된 공시 기업 이름은 {check_company}입니다.\", \"role\": \"system\"},\n",
    "            {\"content\": check_text, \"role\": \"user\"}]\n",
    "            qrys.append(messages)\n",
    "\n",
    "            \n"
   ]
  },
  {
   "cell_type": "code",
   "execution_count": 26,
   "metadata": {},
   "outputs": [
    {
     "data": {
      "text/plain": [
       "8649"
      ]
     },
     "execution_count": 26,
     "metadata": {},
     "output_type": "execute_result"
    }
   ],
   "source": [
    "len(qrys)"
   ]
  },
  {
   "cell_type": "code",
   "execution_count": 43,
   "metadata": {},
   "outputs": [],
   "source": [
    "import pickle\n",
    "with open('qrys.pkl',\"wb\") as file:\n",
    "    pickle.dump(qrys,file)"
   ]
  },
  {
   "cell_type": "markdown",
   "metadata": {},
   "source": [
    "<!--  -->"
   ]
  },
  {
   "cell_type": "code",
   "execution_count": 19,
   "metadata": {},
   "outputs": [],
   "source": [
    "# import pickle\n",
    "# with open('qrys.pkl','rb') as file:\n",
    "#     qrys = pickle.load(file)"
   ]
  },
  {
   "cell_type": "code",
   "execution_count": 27,
   "metadata": {},
   "outputs": [],
   "source": [
    "import random\n",
    "\n",
    "# 리스트 qrys의 원소들을 랜덤하게 섞음\n",
    "random.shuffle(qrys)\n"
   ]
  },
  {
   "cell_type": "code",
   "execution_count": null,
   "metadata": {},
   "outputs": [
    {
     "name": "stderr",
     "output_type": "stream",
     "text": [
      "  0%|          | 11/4325 [02:26<14:35:08, 12.17s/it]"
     ]
    },
    {
     "name": "stdout",
     "output_type": "stream",
     "text": [
      "\n",
      "\u001b[1;31mGive Feedback / Get Help: https://github.com/BerriAI/litellm/issues/new\u001b[0m\n",
      "LiteLLM.Info: If you need to debug this error, use `litellm.set_verbose=True'.\n",
      "\n"
     ]
    },
    {
     "name": "stderr",
     "output_type": "stream",
     "text": [
      " 66%|██████▋   | 2876/4325 [9:31:29<3:34:31,  8.88s/it] "
     ]
    },
    {
     "name": "stdout",
     "output_type": "stream",
     "text": [
      "\n",
      "\u001b[1;31mGive Feedback / Get Help: https://github.com/BerriAI/litellm/issues/new\u001b[0m\n",
      "LiteLLM.Info: If you need to debug this error, use `litellm.set_verbose=True'.\n",
      "\n"
     ]
    },
    {
     "name": "stderr",
     "output_type": "stream",
     "text": [
      " 67%|██████▋   | 2917/4325 [9:38:50<3:59:57, 10.23s/it]"
     ]
    },
    {
     "name": "stdout",
     "output_type": "stream",
     "text": [
      "\n",
      "\u001b[1;31mGive Feedback / Get Help: https://github.com/BerriAI/litellm/issues/new\u001b[0m\n",
      "LiteLLM.Info: If you need to debug this error, use `litellm.set_verbose=True'.\n",
      "\n"
     ]
    },
    {
     "name": "stderr",
     "output_type": "stream",
     "text": [
      " 82%|████████▏ | 3568/4325 [11:29:19<2:00:16,  9.53s/it]"
     ]
    },
    {
     "name": "stdout",
     "output_type": "stream",
     "text": [
      "\n",
      "\u001b[1;31mGive Feedback / Get Help: https://github.com/BerriAI/litellm/issues/new\u001b[0m\n",
      "LiteLLM.Info: If you need to debug this error, use `litellm.set_verbose=True'.\n",
      "\n"
     ]
    },
    {
     "name": "stderr",
     "output_type": "stream",
     "text": [
      " 82%|████████▏ | 3568/4325 [11:29:24<2:26:16, 11.59s/it]\n"
     ]
    }
   ],
   "source": [
    "\n",
    "\n",
    "import time\n",
    "import openai\n",
    "from litellm import completion, batch_completion\n",
    "import litellm\n",
    "from tqdm import tqdm \n",
    "# messages 생성 및 토큰 계산\n",
    "responses = []\n",
    "batch_size = 2  # 한번에 요청할 batch 크기\n",
    "sleep_interval = 1  # 각 배치 사이의 슬립 시간 (초)\n",
    "count = 0\n",
    "# litellm의 verbose 설정\n",
    "litellm.set_verbose = False  # 초기 설정은 False로\n",
    "\n",
    "for i in tqdm(range(0, len(qrys), batch_size)):\n",
    "    batch_messages = qrys[i:i + batch_size]\n",
    "\n",
    "    batch_responses = batch_completion(\n",
    "        model=\"gpt-4o-mini-2024-07-18\",\n",
    "        messages=batch_messages\n",
    "    )\n",
    "    if 'RateLimitError' in str(batch_responses):  # 허용 호출수준이 넘어가면 자동으로 끊기는게 아니라 그냥 오류를 출력함 => 비용, 시간 낭비 임으로 예외 처리 \n",
    "        break\n",
    "    else :\n",
    "        responses.extend(batch_responses)\n",
    "        count += 1\n",
    "\n",
    "    # \"Give Feedback / Get Help\" 메시지 확인\n",
    "\n",
    "\n",
    "    time.sleep(sleep_interval)"
   ]
  },
  {
   "cell_type": "code",
   "execution_count": null,
   "metadata": {},
   "outputs": [],
   "source": []
  },
  {
   "cell_type": "code",
   "execution_count": null,
   "metadata": {},
   "outputs": [],
   "source": [
    "# import pickle\n",
    "\n",
    "# with open('data/gpt_4o_korcompany_qa2024.pkl', 'wb') as file:\n",
    "#     pickle.dump(responses,file)\n"
   ]
  },
  {
   "cell_type": "code",
   "execution_count": 24,
   "metadata": {},
   "outputs": [
    {
     "ename": "TypeError",
     "evalue": "ContextWindowExceededError.__init__() missing 2 required positional arguments: 'model' and 'llm_provider'",
     "output_type": "error",
     "traceback": [
      "\u001b[1;31m---------------------------------------------------------------------------\u001b[0m",
      "\u001b[1;31mTypeError\u001b[0m                                 Traceback (most recent call last)",
      "Cell \u001b[1;32mIn[24], line 5\u001b[0m\n\u001b[0;32m      3\u001b[0m \u001b[38;5;66;03m# pickle 파일 열기\u001b[39;00m\n\u001b[0;32m      4\u001b[0m \u001b[38;5;28;01mwith\u001b[39;00m \u001b[38;5;28mopen\u001b[39m(\u001b[38;5;124m\"\u001b[39m\u001b[38;5;124mdata/gpt_4o_korcompany_qa2024.pkl\u001b[39m\u001b[38;5;124m\"\u001b[39m, \u001b[38;5;124m\"\u001b[39m\u001b[38;5;124mrb\u001b[39m\u001b[38;5;124m\"\u001b[39m) \u001b[38;5;28;01mas\u001b[39;00m file:  \u001b[38;5;66;03m# \"rb\"는 읽기와 바이너리 모드를 의미\u001b[39;00m\n\u001b[1;32m----> 5\u001b[0m     data \u001b[38;5;241m=\u001b[39m pickle\u001b[38;5;241m.\u001b[39mload(file)\n",
      "\u001b[1;31mTypeError\u001b[0m: ContextWindowExceededError.__init__() missing 2 required positional arguments: 'model' and 'llm_provider'"
     ]
    }
   ],
   "source": [
    "import pickle\n",
    "\n",
    "# pickle 파일 열기\n",
    "with open(\"data/gpt_4o_korcompany_qa2024.pkl\", \"rb\") as file:  # \"rb\"는 읽기와 바이너리 모드를 의미\n",
    "    data = pickle.load(file)"
   ]
  },
  {
   "cell_type": "code",
   "execution_count": 25,
   "metadata": {},
   "outputs": [
    {
     "name": "stdout",
     "output_type": "stream",
     "text": [
      "Error while loading pickle: ContextWindowExceededError.__init__() missing 2 required positional arguments: 'model' and 'llm_provider'\n"
     ]
    }
   ],
   "source": [
    "import pickle\n",
    "\n",
    "# Safe Unpickling을 위한 사용자 정의 클래스 무시\n",
    "class ContextWindowExceededError(Exception):\n",
    "    def __init__(self, *args, **kwargs):\n",
    "        pass\n",
    "\n",
    "# pickle 파일 열기\n",
    "with open(\"data/gpt_4o_korcompany_qa2024.pkl\", \"rb\") as file:\n",
    "    try:\n",
    "        data = pickle.load(file)\n",
    "    except Exception as e:\n",
    "        print(f\"Error while loading pickle: {e}\")"
   ]
  },
  {
   "cell_type": "code",
   "execution_count": 19,
   "metadata": {},
   "outputs": [],
   "source": [
    "import pandas as pd"
   ]
  },
  {
   "cell_type": "code",
   "execution_count": 89,
   "metadata": {},
   "outputs": [],
   "source": [
    "df_cfa = pd.read_csv('data/math/CFA_KRX.csv')"
   ]
  },
  {
   "cell_type": "code",
   "execution_count": 98,
   "metadata": {},
   "outputs": [],
   "source": [
    "df_cfa_clean = df_cfa.iloc[:,1:]"
   ]
  },
  {
   "cell_type": "code",
   "execution_count": 99,
   "metadata": {},
   "outputs": [],
   "source": [
    "df_cfa_clean.columns = ['question','response']"
   ]
  },
  {
   "cell_type": "code",
   "execution_count": 100,
   "metadata": {},
   "outputs": [
    {
     "data": {
      "text/html": [
       "<div>\n",
       "<style scoped>\n",
       "    .dataframe tbody tr th:only-of-type {\n",
       "        vertical-align: middle;\n",
       "    }\n",
       "\n",
       "    .dataframe tbody tr th {\n",
       "        vertical-align: top;\n",
       "    }\n",
       "\n",
       "    .dataframe thead th {\n",
       "        text-align: right;\n",
       "    }\n",
       "</style>\n",
       "<table border=\"1\" class=\"dataframe\">\n",
       "  <thead>\n",
       "    <tr style=\"text-align: right;\">\n",
       "      <th></th>\n",
       "      <th>question</th>\n",
       "      <th>response</th>\n",
       "    </tr>\n",
       "  </thead>\n",
       "  <tbody>\n",
       "    <tr>\n",
       "      <th>0</th>\n",
       "      <td>다음 문제를 읽고 정답으로 가장 알맞은 것을 고르시요.\\n### 질문:재무 제표 분...</td>\n",
       "      <td>C</td>\n",
       "    </tr>\n",
       "    <tr>\n",
       "      <th>1</th>\n",
       "      <td>다음 문제를 읽고 정답으로 가장 알맞은 것을 고르시요.\\n### 질문:비율은 재무 ...</td>\n",
       "      <td>C</td>\n",
       "    </tr>\n",
       "    <tr>\n",
       "      <th>2</th>\n",
       "      <td>다음 문제를 읽고 정답으로 가장 알맞은 것을 고르시요.\\n### 질문:분석가가 사용...</td>\n",
       "      <td>A</td>\n",
       "    </tr>\n",
       "    <tr>\n",
       "      <th>3</th>\n",
       "      <td>다음 문제를 읽고 정답으로 가장 알맞은 것을 고르시요.\\n### 질문:회사가 발표 ...</td>\n",
       "      <td>C</td>\n",
       "    </tr>\n",
       "    <tr>\n",
       "      <th>4</th>\n",
       "      <td>다음 문제를 읽고 정답으로 가장 알맞은 것을 고르시요.\\n### 질문:독립적 인 감...</td>\n",
       "      <td>B</td>\n",
       "    </tr>\n",
       "    <tr>\n",
       "      <th>...</th>\n",
       "      <td>...</td>\n",
       "      <td>...</td>\n",
       "    </tr>\n",
       "    <tr>\n",
       "      <th>1027</th>\n",
       "      <td>다음 문제를 읽고 정답으로 가장 알맞은 것을 고르시요.\\n### 질문:고객은 지금부...</td>\n",
       "      <td>B</td>\n",
       "    </tr>\n",
       "    <tr>\n",
       "      <th>1028</th>\n",
       "      <td>다음 문제를 읽고 정답으로 가장 알맞은 것을 고르시요.\\n### 질문:오늘 투자 한...</td>\n",
       "      <td>B</td>\n",
       "    </tr>\n",
       "    <tr>\n",
       "      <th>1029</th>\n",
       "      <td>다음 문제를 읽고 정답으로 가장 알맞은 것을 고르시요.\\n### 질문:은행은 명시된...</td>\n",
       "      <td>B</td>\n",
       "    </tr>\n",
       "    <tr>\n",
       "      <th>1030</th>\n",
       "      <td>다음 문제를 읽고 정답으로 가장 알맞은 것을 고르시요.\\n### 질문:다음 위험 보...</td>\n",
       "      <td>C</td>\n",
       "    </tr>\n",
       "    <tr>\n",
       "      <th>1031</th>\n",
       "      <td>다음 문제를 읽고 정답으로 가장 알맞은 것을 고르시요.\\n### 질문:명목상의 무위...</td>\n",
       "      <td>A</td>\n",
       "    </tr>\n",
       "  </tbody>\n",
       "</table>\n",
       "<p>1032 rows × 2 columns</p>\n",
       "</div>"
      ],
      "text/plain": [
       "                                               question response\n",
       "0     다음 문제를 읽고 정답으로 가장 알맞은 것을 고르시요.\\n### 질문:재무 제표 분...        C\n",
       "1     다음 문제를 읽고 정답으로 가장 알맞은 것을 고르시요.\\n### 질문:비율은 재무 ...        C\n",
       "2     다음 문제를 읽고 정답으로 가장 알맞은 것을 고르시요.\\n### 질문:분석가가 사용...        A\n",
       "3     다음 문제를 읽고 정답으로 가장 알맞은 것을 고르시요.\\n### 질문:회사가 발표 ...        C\n",
       "4     다음 문제를 읽고 정답으로 가장 알맞은 것을 고르시요.\\n### 질문:독립적 인 감...        B\n",
       "...                                                 ...      ...\n",
       "1027  다음 문제를 읽고 정답으로 가장 알맞은 것을 고르시요.\\n### 질문:고객은 지금부...        B\n",
       "1028  다음 문제를 읽고 정답으로 가장 알맞은 것을 고르시요.\\n### 질문:오늘 투자 한...        B\n",
       "1029  다음 문제를 읽고 정답으로 가장 알맞은 것을 고르시요.\\n### 질문:은행은 명시된...        B\n",
       "1030  다음 문제를 읽고 정답으로 가장 알맞은 것을 고르시요.\\n### 질문:다음 위험 보...        C\n",
       "1031  다음 문제를 읽고 정답으로 가장 알맞은 것을 고르시요.\\n### 질문:명목상의 무위...        A\n",
       "\n",
       "[1032 rows x 2 columns]"
      ]
     },
     "execution_count": 100,
     "metadata": {},
     "output_type": "execute_result"
    }
   ],
   "source": [
    "df_cfa_clean"
   ]
  },
  {
   "cell_type": "code",
   "execution_count": 192,
   "metadata": {},
   "outputs": [],
   "source": [
    "\n",
    "extra_data_krx_sample_1_make_gpt_indexing = df_cfa_clean[['question','response']]\n",
    "extra_data_krx_sample_1_make_gpt_indexing['__index_level_0__'] = extra_data_krx_sample_1_make_gpt_indexing.index\n",
    "extra_data_krx_sample_1_make_gpt_indexing.columns = ['prompt','response','__index_level_0__']\n",
    "extra_data_krx_sample_1_make_gpt__Dataset = Dataset.from_pandas(extra_data_krx_sample_1_make_gpt_indexing)"
   ]
  },
  {
   "cell_type": "code",
   "execution_count": 193,
   "metadata": {},
   "outputs": [
    {
     "data": {
      "application/vnd.jupyter.widget-view+json": {
       "model_id": "da73105ecbfb4d579495ae3b187e5f60",
       "version_major": 2,
       "version_minor": 0
      },
      "text/plain": [
       "Saving the dataset (0/1 shards):   0%|          | 0/1032 [00:00<?, ? examples/s]"
      ]
     },
     "metadata": {},
     "output_type": "display_data"
    }
   ],
   "source": [
    "extra_data_krx_sample_1_make_gpt__Dataset.save_to_disk(\"data/final/cfa_woobin\")"
   ]
  },
  {
   "cell_type": "code",
   "execution_count": 104,
   "metadata": {},
   "outputs": [],
   "source": [
    "df_math = pd.read_csv('data/math/kmwp train.csv')"
   ]
  },
  {
   "cell_type": "code",
   "execution_count": 113,
   "metadata": {},
   "outputs": [],
   "source": [
    "df_math_del8 = df_math[~(df_math['class'] == 8)]"
   ]
  },
  {
   "cell_type": "code",
   "execution_count": 127,
   "metadata": {},
   "outputs": [],
   "source": [
    "df_math_del8_clean = pd.DataFrame([df_math_del8['problem'],'파이썬 코드는 아래와 같고 '+df_math_del8['code'] +\" 정답은 다음과 같음 \"+ df_math_del8['answer']]).T"
   ]
  },
  {
   "cell_type": "code",
   "execution_count": 128,
   "metadata": {},
   "outputs": [],
   "source": [
    "df_math_del8_clean.columns = ['question','response']"
   ]
  },
  {
   "cell_type": "code",
   "execution_count": 123,
   "metadata": {},
   "outputs": [
    {
     "data": {
      "text/plain": [
       "1       윤아는 부추전을 똑같이 8조각으로 나누어 한 조각을 먹었습니다. 윤미는 같은 크기의...\n",
       "3       6장의 숫자 카드 0, 9, 8, 7, 2, 1가 있습니다. 이를, 한 번씩 사용하...\n",
       "4                                    0.26 x 0.8을 계산해 주세요.\n",
       "5       현수네 집에서 미용실, 병원, 백화점까지의 거리는 각각 4/5km, 1/3km, 0...\n",
       "6       어떤 수를 3으로 나누어야 하는 것을 잘못하여 9로 나누었더니 몫이 9가 되었습니다...\n",
       "                              ...                        \n",
       "2813    어느 가전 마트에서는 115만 원인 노트북을 어제까지는 30%를 할인하여 판매하였습...\n",
       "2815    10분 동안 6.53k미터를 가는 자동차와 20분 동안 15.12k미터를 가는 오토...\n",
       "2817           4880보다 ○ 큰 수 는 9000입니다. ○안에 알맞은 수를 써 넣으시오.\n",
       "2818    어느 문구점에서 연필 한 자루는 400원이고 공책 한 권은 1000원입니다. 현승이...\n",
       "2819    초콜릿 44개를 상자 11개에 똑같이 나누어 담으려고 합니다. 한 상자에는 몇 개에...\n",
       "Name: problem, Length: 2020, dtype: object"
      ]
     },
     "execution_count": 123,
     "metadata": {},
     "output_type": "execute_result"
    }
   ],
   "source": [
    "df_math_del8['problem']"
   ]
  },
  {
   "cell_type": "code",
   "execution_count": 144,
   "metadata": {},
   "outputs": [],
   "source": [
    "df_math_del8_clean.reset_index(inplace=True)"
   ]
  },
  {
   "cell_type": "code",
   "execution_count": 194,
   "metadata": {},
   "outputs": [
    {
     "data": {
      "text/html": [
       "<div>\n",
       "<style scoped>\n",
       "    .dataframe tbody tr th:only-of-type {\n",
       "        vertical-align: middle;\n",
       "    }\n",
       "\n",
       "    .dataframe tbody tr th {\n",
       "        vertical-align: top;\n",
       "    }\n",
       "\n",
       "    .dataframe thead th {\n",
       "        text-align: right;\n",
       "    }\n",
       "</style>\n",
       "<table border=\"1\" class=\"dataframe\">\n",
       "  <thead>\n",
       "    <tr style=\"text-align: right;\">\n",
       "      <th></th>\n",
       "      <th>question</th>\n",
       "      <th>response</th>\n",
       "    </tr>\n",
       "  </thead>\n",
       "  <tbody>\n",
       "    <tr>\n",
       "      <th>0</th>\n",
       "      <td>윤아는 부추전을 똑같이 8조각으로 나누어 한 조각을 먹었습니다. 윤미는 같은 크기의...</td>\n",
       "      <td>파이썬 코드는 아래와 같고 a = 8\\nb = 16\\ny = b // a\\nprin...</td>\n",
       "    </tr>\n",
       "    <tr>\n",
       "      <th>1</th>\n",
       "      <td>6장의 숫자 카드 0, 9, 8, 7, 2, 1가 있습니다. 이를, 한 번씩 사용하...</td>\n",
       "      <td>파이썬 코드는 아래와 같고 from itertools import permutati...</td>\n",
       "    </tr>\n",
       "    <tr>\n",
       "      <th>2</th>\n",
       "      <td>0.26 x 0.8을 계산해 주세요.</td>\n",
       "      <td>파이썬 코드는 아래와 같고 a = 0.26\\nb = 0.8\\ny = a * b\\np...</td>\n",
       "    </tr>\n",
       "    <tr>\n",
       "      <th>3</th>\n",
       "      <td>현수네 집에서 미용실, 병원, 백화점까지의 거리는 각각 4/5km, 1/3km, 0...</td>\n",
       "      <td>파이썬 코드는 아래와 같고 a = 4 / 5\\nb = 1 / 3\\nc = 0.9\\n...</td>\n",
       "    </tr>\n",
       "    <tr>\n",
       "      <th>4</th>\n",
       "      <td>어떤 수를 3으로 나누어야 하는 것을 잘못하여 9로 나누었더니 몫이 9가 되었습니다...</td>\n",
       "      <td>파이썬 코드는 아래와 같고 a = 3\\nb = 9\\nc = 9\\ny = int(c ...</td>\n",
       "    </tr>\n",
       "    <tr>\n",
       "      <th>...</th>\n",
       "      <td>...</td>\n",
       "      <td>...</td>\n",
       "    </tr>\n",
       "    <tr>\n",
       "      <th>2015</th>\n",
       "      <td>어느 가전 마트에서는 115만 원인 노트북을 어제까지는 30%를 할인하여 판매하였습...</td>\n",
       "      <td>파이썬 코드는 아래와 같고 a = 1150000\\nb = 30\\nc = 15\\nd ...</td>\n",
       "    </tr>\n",
       "    <tr>\n",
       "      <th>2016</th>\n",
       "      <td>10분 동안 6.53k미터를 가는 자동차와 20분 동안 15.12k미터를 가는 오토...</td>\n",
       "      <td>파이썬 코드는 아래와 같고 a = 6.53 / 10\\nb = 15.12 / 20\\n...</td>\n",
       "    </tr>\n",
       "    <tr>\n",
       "      <th>2017</th>\n",
       "      <td>4880보다 ○ 큰 수 는 9000입니다. ○안에 알맞은 수를 써 넣으시오.</td>\n",
       "      <td>파이썬 코드는 아래와 같고 a = 9000\\nb = 4880\\ny = a - b\\n...</td>\n",
       "    </tr>\n",
       "    <tr>\n",
       "      <th>2018</th>\n",
       "      <td>어느 문구점에서 연필 한 자루는 400원이고 공책 한 권은 1000원입니다. 현승이...</td>\n",
       "      <td>파이썬 코드는 아래와 같고 a = 400\\nb = 1000\\nc = 5000\\nd ...</td>\n",
       "    </tr>\n",
       "    <tr>\n",
       "      <th>2019</th>\n",
       "      <td>초콜릿 44개를 상자 11개에 똑같이 나누어 담으려고 합니다. 한 상자에는 몇 개에...</td>\n",
       "      <td>파이썬 코드는 아래와 같고 a = 44\\nb = 11\\ny = a // b\\npri...</td>\n",
       "    </tr>\n",
       "  </tbody>\n",
       "</table>\n",
       "<p>2020 rows × 2 columns</p>\n",
       "</div>"
      ],
      "text/plain": [
       "                                               question  \\\n",
       "0     윤아는 부추전을 똑같이 8조각으로 나누어 한 조각을 먹었습니다. 윤미는 같은 크기의...   \n",
       "1     6장의 숫자 카드 0, 9, 8, 7, 2, 1가 있습니다. 이를, 한 번씩 사용하...   \n",
       "2                                  0.26 x 0.8을 계산해 주세요.   \n",
       "3     현수네 집에서 미용실, 병원, 백화점까지의 거리는 각각 4/5km, 1/3km, 0...   \n",
       "4     어떤 수를 3으로 나누어야 하는 것을 잘못하여 9로 나누었더니 몫이 9가 되었습니다...   \n",
       "...                                                 ...   \n",
       "2015  어느 가전 마트에서는 115만 원인 노트북을 어제까지는 30%를 할인하여 판매하였습...   \n",
       "2016  10분 동안 6.53k미터를 가는 자동차와 20분 동안 15.12k미터를 가는 오토...   \n",
       "2017         4880보다 ○ 큰 수 는 9000입니다. ○안에 알맞은 수를 써 넣으시오.   \n",
       "2018  어느 문구점에서 연필 한 자루는 400원이고 공책 한 권은 1000원입니다. 현승이...   \n",
       "2019  초콜릿 44개를 상자 11개에 똑같이 나누어 담으려고 합니다. 한 상자에는 몇 개에...   \n",
       "\n",
       "                                               response  \n",
       "0     파이썬 코드는 아래와 같고 a = 8\\nb = 16\\ny = b // a\\nprin...  \n",
       "1     파이썬 코드는 아래와 같고 from itertools import permutati...  \n",
       "2     파이썬 코드는 아래와 같고 a = 0.26\\nb = 0.8\\ny = a * b\\np...  \n",
       "3     파이썬 코드는 아래와 같고 a = 4 / 5\\nb = 1 / 3\\nc = 0.9\\n...  \n",
       "4     파이썬 코드는 아래와 같고 a = 3\\nb = 9\\nc = 9\\ny = int(c ...  \n",
       "...                                                 ...  \n",
       "2015  파이썬 코드는 아래와 같고 a = 1150000\\nb = 30\\nc = 15\\nd ...  \n",
       "2016  파이썬 코드는 아래와 같고 a = 6.53 / 10\\nb = 15.12 / 20\\n...  \n",
       "2017  파이썬 코드는 아래와 같고 a = 9000\\nb = 4880\\ny = a - b\\n...  \n",
       "2018  파이썬 코드는 아래와 같고 a = 400\\nb = 1000\\nc = 5000\\nd ...  \n",
       "2019  파이썬 코드는 아래와 같고 a = 44\\nb = 11\\ny = a // b\\npri...  \n",
       "\n",
       "[2020 rows x 2 columns]"
      ]
     },
     "execution_count": 194,
     "metadata": {},
     "output_type": "execute_result"
    }
   ],
   "source": [
    "df_math_del8_clean.iloc[:,2:]"
   ]
  },
  {
   "cell_type": "code",
   "execution_count": 195,
   "metadata": {},
   "outputs": [],
   "source": [
    "\n",
    "extra_data_krx_sample_1_make_gpt_indexing = df_math_del8_clean.iloc[:,2:][['question','response']]\n",
    "extra_data_krx_sample_1_make_gpt_indexing['__index_level_0__'] = extra_data_krx_sample_1_make_gpt_indexing.index\n",
    "extra_data_krx_sample_1_make_gpt_indexing.columns = ['prompt','response','__index_level_0__']\n",
    "extra_data_krx_sample_1_make_gpt__Dataset_1 = Dataset.from_pandas(extra_data_krx_sample_1_make_gpt_indexing)\n",
    "\n"
   ]
  },
  {
   "cell_type": "code",
   "execution_count": null,
   "metadata": {},
   "outputs": [],
   "source": [
    "extra_data_krx_sample_1_make_gpt__Dataset_1['prompt']"
   ]
  },
  {
   "cell_type": "code",
   "execution_count": 198,
   "metadata": {},
   "outputs": [
    {
     "data": {
      "application/vnd.jupyter.widget-view+json": {
       "model_id": "b64b382d94f249f78945bed705f2ec92",
       "version_major": 2,
       "version_minor": 0
      },
      "text/plain": [
       "Saving the dataset (0/1 shards):   0%|          | 0/2020 [00:00<?, ? examples/s]"
      ]
     },
     "metadata": {},
     "output_type": "display_data"
    }
   ],
   "source": [
    "extra_data_krx_sample_1_make_gpt__Dataset_1.save_to_disk(\"data/final/krx-math1\")"
   ]
  },
  {
   "cell_type": "code",
   "execution_count": 72,
   "metadata": {},
   "outputs": [
    {
     "ename": "NameError",
     "evalue": "name 'responses' is not defined",
     "output_type": "error",
     "traceback": [
      "\u001b[1;31m---------------------------------------------------------------------------\u001b[0m",
      "\u001b[1;31mNameError\u001b[0m                                 Traceback (most recent call last)",
      "Cell \u001b[1;32mIn[72], line 4\u001b[0m\n\u001b[0;32m      1\u001b[0m qa_df \u001b[38;5;241m=\u001b[39m pd\u001b[38;5;241m.\u001b[39mDataFrame(columns\u001b[38;5;241m=\u001b[39m[\u001b[38;5;124m\"\u001b[39m\u001b[38;5;124mQ\u001b[39m\u001b[38;5;124m\"\u001b[39m, \u001b[38;5;124m\"\u001b[39m\u001b[38;5;124mA\u001b[39m\u001b[38;5;124m\"\u001b[39m])\n\u001b[0;32m      3\u001b[0m \u001b[38;5;66;03m# Process each response and add rows directly to the DataFrame\u001b[39;00m\n\u001b[1;32m----> 4\u001b[0m \u001b[38;5;28;01mfor\u001b[39;00m j \u001b[38;5;129;01min\u001b[39;00m responses:\n\u001b[0;32m      5\u001b[0m     \u001b[38;5;28;01mtry\u001b[39;00m:\n\u001b[0;32m      6\u001b[0m         \u001b[38;5;66;03m# Split content and clean empty strings\u001b[39;00m\n\u001b[0;32m      7\u001b[0m         cleaned_data \u001b[38;5;241m=\u001b[39m [item \u001b[38;5;28;01mfor\u001b[39;00m item \u001b[38;5;129;01min\u001b[39;00m j[\u001b[38;5;124m'\u001b[39m\u001b[38;5;124mchoices\u001b[39m\u001b[38;5;124m'\u001b[39m][\u001b[38;5;241m0\u001b[39m][\u001b[38;5;124m'\u001b[39m\u001b[38;5;124mmessage\u001b[39m\u001b[38;5;124m'\u001b[39m][\u001b[38;5;124m'\u001b[39m\u001b[38;5;124mcontent\u001b[39m\u001b[38;5;124m'\u001b[39m]\u001b[38;5;241m.\u001b[39msplit(\u001b[38;5;124m'\u001b[39m\u001b[38;5;130;01m\\n\u001b[39;00m\u001b[38;5;124m'\u001b[39m) \u001b[38;5;28;01mif\u001b[39;00m item \u001b[38;5;241m!=\u001b[39m \u001b[38;5;124m'\u001b[39m\u001b[38;5;124m'\u001b[39m]\n",
      "\u001b[1;31mNameError\u001b[0m: name 'responses' is not defined"
     ]
    }
   ],
   "source": [
    "qa_df = pd.DataFrame(columns=[\"Q\", \"A\"])\n",
    "\n",
    "# Process each response and add rows directly to the DataFrame\n",
    "for j in responses:\n",
    "    try:\n",
    "        # Split content and clean empty strings\n",
    "        cleaned_data = [item for item in j['choices'][0]['message']['content'].split('\\n') if item != '']\n",
    "        \n",
    "        # Check if data contains even pairs of Q & A\n",
    "        if len(cleaned_data) % 2 == 0:\n",
    "            for i in range(0, len(cleaned_data), 2):\n",
    "                # Add each Q, A pair as a row in the DataFrame\n",
    "                qa_df = pd.concat([qa_df, pd.DataFrame({\"Q\": [cleaned_data[i]], \"A\": [cleaned_data[i+1]]})], ignore_index=True)\n",
    "    except Exception as e:\n",
    "        print(\"Error processing response:\", e)"
   ]
  },
  {
   "cell_type": "code",
   "execution_count": 5,
   "metadata": {},
   "outputs": [],
   "source": [
    "import csv\n",
    "with open(\"krx_legal_extension_v1.csv\", \"r\") as f:\n",
    "    reader = csv.reader(f)\n",
    "    loaded_data = next(reader)\n",
    "\n",
    "qa_df_legal = pd.DataFrame(columns=[\"Q\", \"A\"])\n",
    "\n",
    "# Process each response and add rows directly to the DataFrame\n",
    "for j in loaded_data:\n",
    "    try:\n",
    "        # Split content and clean empty strings\n",
    "        cleaned_data = [item for item in j.split( 'content=')[1].split('\\\\n') if item != '']\n",
    "        \n",
    "        # Check if data contains even pairs of Q & A\n",
    "        if len(cleaned_data) % 2 == 0:\n",
    "            for i in range(0, len(cleaned_data), 2):\n",
    "                # Add each Q, A pair as a row in the DataFrame\n",
    "                qa_df_legal = pd.concat([qa_df_legal, pd.DataFrame({\"Q\": [cleaned_data[i]], \"A\": [cleaned_data[i+1]]})], ignore_index=True)\n",
    "    except Exception as e:\n",
    "        print(\"Error processing response:\", e)"
   ]
  },
  {
   "cell_type": "code",
   "execution_count": 6,
   "metadata": {},
   "outputs": [],
   "source": [
    "import pandas as pd\n",
    "from datasets import Dataset,concatenate_datasets\n",
    "from datasets import load_dataset\n",
    "\n"
   ]
  },
  {
   "cell_type": "code",
   "execution_count": 7,
   "metadata": {},
   "outputs": [],
   "source": [
    "# qa_df.columns = ['question','response']\n",
    "qa_df_legal.columns = ['question','response']"
   ]
  },
  {
   "cell_type": "code",
   "execution_count": 185,
   "metadata": {},
   "outputs": [],
   "source": [
    "\n",
    "extra_data_krx_sample_1_make_gpt_indexing = qa_df_legal[['question','response']]\n",
    "extra_data_krx_sample_1_make_gpt_indexing['__index_level_0__'] = extra_data_krx_sample_1_make_gpt_indexing.index\n",
    "extra_data_krx_sample_1_make_gpt_indexing.columns = ['prompt','response','__index_level_0__']\n",
    "extra_data_krx_sample_1_make_gpt__Dataset = Dataset.from_pandas(extra_data_krx_sample_1_make_gpt_indexing)"
   ]
  },
  {
   "cell_type": "code",
   "execution_count": 189,
   "metadata": {},
   "outputs": [
    {
     "data": {
      "application/vnd.jupyter.widget-view+json": {
       "model_id": "1d3daa00decd4a86a10e88a8d12ce11c",
       "version_major": 2,
       "version_minor": 0
      },
      "text/plain": [
       "Saving the dataset (0/1 shards):   0%|          | 0/1520 [00:00<?, ? examples/s]"
      ]
     },
     "metadata": {},
     "output_type": "display_data"
    }
   ],
   "source": [
    "extra_data_krx_sample_1_make_gpt__Dataset.save_to_disk(\"data/final/krx-legal\")\n"
   ]
  },
  {
   "cell_type": "code",
   "execution_count": 16,
   "metadata": {},
   "outputs": [],
   "source": [
    "import pandas as pd\n",
    "from datasets import Dataset,concatenate_datasets\n",
    "import pandas as pd\n",
    "from datasets import Dataset,concatenate_datasets\n",
    "from datasets import load_dataset"
   ]
  },
  {
   "cell_type": "code",
   "execution_count": 154,
   "metadata": {},
   "outputs": [],
   "source": [
    "dataset_krx_sample = load_dataset(\"amphora/krx-sample-instructions\", split = \"train\") # 일반적인 경제 상식 25951개"
   ]
  },
  {
   "cell_type": "code",
   "execution_count": 156,
   "metadata": {},
   "outputs": [
    {
     "data": {
      "application/vnd.jupyter.widget-view+json": {
       "model_id": "1606a0d859bb417ebc395ef4676258d0",
       "version_major": 2,
       "version_minor": 0
      },
      "text/plain": [
       "Saving the dataset (0/1 shards):   0%|          | 0/25951 [00:00<?, ? examples/s]"
      ]
     },
     "metadata": {},
     "output_type": "display_data"
    }
   ],
   "source": [
    "dataset_krx_sample.save_to_disk(\"data/final/krx-sample_normal_finance\")"
   ]
  },
  {
   "cell_type": "code",
   "execution_count": 157,
   "metadata": {},
   "outputs": [
    {
     "name": "stderr",
     "output_type": "stream",
     "text": [
      "C:\\Users\\son\\AppData\\Local\\Temp\\ipykernel_10340\\209054034.py:3: SettingWithCopyWarning: \n",
      "A value is trying to be set on a copy of a slice from a DataFrame.\n",
      "Try using .loc[row_indexer,col_indexer] = value instead\n",
      "\n",
      "See the caveats in the documentation: https://pandas.pydata.org/pandas-docs/stable/user_guide/indexing.html#returning-a-view-versus-a-copy\n",
      "  extra_data_krx_sample_1_make_gpt_indexing['__index_level_0__'] = extra_data_krx_sample_1_make_gpt_indexing.index\n"
     ]
    }
   ],
   "source": [
    "extra_data_krx_sample_1_make_gpt = pd.read_csv('c:/Users/son/Desktop/KRX_compatition/rewrite-se-quant.csv') #금융 공학 내용 1000개\n",
    "extra_data_krx_sample_1_make_gpt_indexing = extra_data_krx_sample_1_make_gpt[['question','response']]\n",
    "extra_data_krx_sample_1_make_gpt_indexing['__index_level_0__'] = extra_data_krx_sample_1_make_gpt_indexing.index\n",
    "extra_data_krx_sample_1_make_gpt_indexing.columns = ['prompt','response','__index_level_0__']\n",
    "extra_data_krx_sample_1_make_gpt__Dataset_1 = Dataset.from_pandas(extra_data_krx_sample_1_make_gpt_indexing)\n",
    "extra_data_krx_sample_1_make_gpt__Dataset = Dataset.from_pandas(extra_data_krx_sample_1_make_gpt_indexing)"
   ]
  },
  {
   "cell_type": "code",
   "execution_count": 158,
   "metadata": {},
   "outputs": [
    {
     "data": {
      "text/plain": [
       "Dataset({\n",
       "    features: ['prompt', 'response', '__index_level_0__'],\n",
       "    num_rows: 1000\n",
       "})"
      ]
     },
     "execution_count": 158,
     "metadata": {},
     "output_type": "execute_result"
    }
   ],
   "source": [
    "extra_data_krx_sample_1_make_gpt__Dataset"
   ]
  },
  {
   "cell_type": "code",
   "execution_count": 161,
   "metadata": {},
   "outputs": [
    {
     "name": "stderr",
     "output_type": "stream",
     "text": [
      "C:\\Users\\son\\AppData\\Local\\Temp\\ipykernel_10340\\1296983350.py:3: SettingWithCopyWarning: \n",
      "A value is trying to be set on a copy of a slice from a DataFrame.\n",
      "Try using .loc[row_indexer,col_indexer] = value instead\n",
      "\n",
      "See the caveats in the documentation: https://pandas.pydata.org/pandas-docs/stable/user_guide/indexing.html#returning-a-view-versus-a-copy\n",
      "  extra_data_krx_sample_1_make_gpt_indexing['__index_level_0__'] = extra_data_krx_sample_1_make_gpt_indexing.index\n",
      "C:\\Users\\son\\AppData\\Local\\Temp\\ipykernel_10340\\1296983350.py:11: SettingWithCopyWarning: \n",
      "A value is trying to be set on a copy of a slice from a DataFrame.\n",
      "Try using .loc[row_indexer,col_indexer] = value instead\n",
      "\n",
      "See the caveats in the documentation: https://pandas.pydata.org/pandas-docs/stable/user_guide/indexing.html#returning-a-view-versus-a-copy\n",
      "  extra_data_krx_sample_1_make_gpt_indexing['__index_level_0__'] = extra_data_krx_sample_1_make_gpt_indexing.index\n"
     ]
    },
    {
     "name": "stdout",
     "output_type": "stream",
     "text": [
      "1000\n"
     ]
    },
    {
     "name": "stderr",
     "output_type": "stream",
     "text": [
      "C:\\Users\\son\\AppData\\Local\\Temp\\ipykernel_10340\\1296983350.py:19: SettingWithCopyWarning: \n",
      "A value is trying to be set on a copy of a slice from a DataFrame.\n",
      "Try using .loc[row_indexer,col_indexer] = value instead\n",
      "\n",
      "See the caveats in the documentation: https://pandas.pydata.org/pandas-docs/stable/user_guide/indexing.html#returning-a-view-versus-a-copy\n",
      "  extra_data_krx_sample_1_make_gpt_indexing['__index_level_0__'] = extra_data_krx_sample_1_make_gpt_indexing.index\n"
     ]
    }
   ],
   "source": [
    "extra_data_krx_sample_1_make_gpt = pd.read_csv('c:/Users/son/Desktop/KRX_compatition/rewrite-se-quant.csv') #금융 공학 내용 1000개\n",
    "extra_data_krx_sample_1_make_gpt_indexing = extra_data_krx_sample_1_make_gpt[['question','response']]\n",
    "extra_data_krx_sample_1_make_gpt_indexing['__index_level_0__'] = extra_data_krx_sample_1_make_gpt_indexing.index\n",
    "extra_data_krx_sample_1_make_gpt_indexing.columns = ['prompt','response','__index_level_0__']\n",
    "extra_data_krx_sample_1_make_gpt__Dataset_1 = Dataset.from_pandas(extra_data_krx_sample_1_make_gpt_indexing)\n",
    "print(len(extra_data_krx_sample_1_make_gpt))\n",
    "extra_data_krx_sample_1_make_gpt__Dataset_1 = Dataset.from_pandas(extra_data_krx_sample_1_make_gpt_indexing)\n",
    "\n",
    "extra_data_krx_sample_1_make_gpt = pd.read_csv('c:/Users/son/Desktop/KRX_compatition/rewrite-se-quant_final.csv') #금융 공학 내용 4000개\n",
    "extra_data_krx_sample_1_make_gpt_indexing = extra_data_krx_sample_1_make_gpt[['question','response']]\n",
    "extra_data_krx_sample_1_make_gpt_indexing['__index_level_0__'] = extra_data_krx_sample_1_make_gpt_indexing.index\n",
    "extra_data_krx_sample_1_make_gpt_indexing.columns = ['prompt','response','__index_level_0__']\n",
    "extra_data_krx_sample_1_make_gpt__Dataset_2 = Dataset.from_pandas(extra_data_krx_sample_1_make_gpt_indexing)\n",
    "\n",
    "combined_dataset = concatenate_datasets([extra_data_krx_sample_1_make_gpt__Dataset_1,extra_data_krx_sample_1_make_gpt__Dataset_2])\n",
    "\n",
    "extra_data_krx_sample_1_make_gpt = pd.read_csv('c:/Users/son/Desktop/KRX_compatition/rewrite-se-quant_final_extention_v1.csv') #금융 공학 내용 16200개\n",
    "extra_data_krx_sample_1_make_gpt_indexing = extra_data_krx_sample_1_make_gpt[['question','response']]\n",
    "extra_data_krx_sample_1_make_gpt_indexing['__index_level_0__'] = extra_data_krx_sample_1_make_gpt_indexing.index\n",
    "extra_data_krx_sample_1_make_gpt_indexing.columns = ['prompt','response','__index_level_0__']\n",
    "extra_data_krx_sample_1_make_gpt__Dataset_3 = Dataset.from_pandas(extra_data_krx_sample_1_make_gpt_indexing)\n",
    "\n",
    "combined_dataset_1 = concatenate_datasets([combined_dataset,extra_data_krx_sample_1_make_gpt__Dataset_3])"
   ]
  },
  {
   "cell_type": "code",
   "execution_count": 162,
   "metadata": {},
   "outputs": [
    {
     "data": {
      "text/plain": [
       "Dataset({\n",
       "    features: ['prompt', 'response', '__index_level_0__'],\n",
       "    num_rows: 21952\n",
       "})"
      ]
     },
     "execution_count": 162,
     "metadata": {},
     "output_type": "execute_result"
    }
   ],
   "source": [
    "combined_dataset_1"
   ]
  },
  {
   "cell_type": "code",
   "execution_count": 163,
   "metadata": {},
   "outputs": [
    {
     "data": {
      "application/vnd.jupyter.widget-view+json": {
       "model_id": "1e2d2cf73cf144f086e53c01d450ecae",
       "version_major": 2,
       "version_minor": 0
      },
      "text/plain": [
       "Saving the dataset (0/1 shards):   0%|          | 0/21952 [00:00<?, ? examples/s]"
      ]
     },
     "metadata": {},
     "output_type": "display_data"
    }
   ],
   "source": [
    "combined_dataset_1.save_to_disk(\"data/final/krx-sample_rewrite_financial_engineering\")"
   ]
  },
  {
   "cell_type": "code",
   "execution_count": 181,
   "metadata": {},
   "outputs": [],
   "source": [
    "# # # dataset_krx_sample = load_dataset(\"amphora/krx-sample-instructions\", split = \"train\") # 일반적인 경제 상식 25951개\n",
    "# # # 추가 데이터 로드 후 결합\n",
    "# # extra_data_krx_sample_1_make_gpt = pd.read_csv('c:/Users/son/Desktop/KRX_compatition/rewrite-se-quant.csv') #금융 공학 내용 1000개\n",
    "# # extra_data_krx_sample_1_make_gpt_indexing = extra_data_krx_sample_1_make_gpt[['question','response']]\n",
    "# # extra_data_krx_sample_1_make_gpt_indexing['__index_level_0__'] = extra_data_krx_sample_1_make_gpt_indexing.index\n",
    "# # extra_data_krx_sample_1_make_gpt_indexing.columns = ['prompt','response','__index_level_0__']\n",
    "# # extra_data_krx_sample_1_make_gpt__Dataset_1 = Dataset.from_pandas(extra_data_krx_sample_1_make_gpt_indexing)\n",
    "# # print(len(extra_data_krx_sample_1_make_gpt))\n",
    "# # extra_data_krx_sample_1_make_gpt__Dataset = Dataset.from_pandas(extra_data_krx_sample_1_make_gpt_indexing)\n",
    "\n",
    "# extra_data_krx_sample_1_make_gpt = pd.read_csv('c:/Users/son/Desktop/KRX_compatition/rewrite-se-quant_final.csv') #금융 공학 내용 4000개\n",
    "# extra_data_krx_sample_1_make_gpt_indexing = extra_data_krx_sample_1_make_gpt[['question','response']]\n",
    "# extra_data_krx_sample_1_make_gpt_indexing['__index_level_0__'] = extra_data_krx_sample_1_make_gpt_indexing.index\n",
    "# extra_data_krx_sample_1_make_gpt_indexing.columns = ['prompt','response','__index_level_0__']\n",
    "# extra_data_krx_sample_1_make_gpt__Dataset = Dataset.from_pandas(extra_data_krx_sample_1_make_gpt_indexing)\n",
    "\n",
    "# combined_dataset = concatenate_datasets([combined_dataset,extra_data_krx_sample_1_make_gpt__Dataset])\n",
    "\n",
    "# extra_data_krx_sample_1_make_gpt = pd.read_csv('c:/Users/son/Desktop/KRX_compatition/rewrite-se-quant_final_extention_v1.csv') #금융 공학 내용 16200개\n",
    "# extra_data_krx_sample_1_make_gpt_indexing = extra_data_krx_sample_1_make_gpt[['question','response']]\n",
    "# extra_data_krx_sample_1_make_gpt_indexing['__index_level_0__'] = extra_data_krx_sample_1_make_gpt_indexing.index\n",
    "# extra_data_krx_sample_1_make_gpt_indexing.columns = ['prompt','response','__index_level_0__']\n",
    "# extra_data_krx_sample_1_make_gpt__Dataset = Dataset.from_pandas(extra_data_krx_sample_1_make_gpt_indexing)\n",
    "\n",
    "# combined_dataset = concatenate_datasets([combined_dataset,extra_data_krx_sample_1_make_gpt__Dataset])\n",
    "qa_df = pd.read_csv('kor_company_data_69827.csv')\n",
    "extra_korcompany_gpt4o_indexing = qa_df.iloc[:,1:]\n",
    "extra_korcompany_gpt4o_indexing.columns = ['question','response'] # 한국 기업 재무정보 68989개\n",
    "extra_korcompany_gpt4o_indexing['__index_level_0__'] = extra_korcompany_gpt4o_indexing.index\n",
    "extra_korcompany_gpt4o_indexing.columns = ['prompt','response','__index_level_0__']\n",
    "extra_extra_korcompany_gpt4o_Dataset = Dataset.from_pandas(extra_korcompany_gpt4o_indexing)\n",
    "\n",
    "# combined_dataset = combined_dataset.map(formatting_prompts_func, batched = True)"
   ]
  },
  {
   "cell_type": "code",
   "execution_count": 9,
   "metadata": {},
   "outputs": [],
   "source": [
    "dataset_krx_sample = load_dataset(\"amphora/krx-sample-instructions\", split = \"train\") # 일반적인 경제 상식 25951개\n",
    "extra_krxlegal_gpt4o_indexing = qa_df_legal[['question','response']] # 법 내용 1000개\n",
    "extra_krxlegal_gpt4o_indexing['__index_level_0__'] = extra_krxlegal_gpt4o_indexing.index\n",
    "extra_krxlegal_gpt4o_indexing.columns = ['prompt','response','__index_level_0__']\n",
    "extra_extra_krxlegal_gpt4o_Dataset = Dataset.from_pandas(extra_krxlegal_gpt4o_indexing)\n",
    "combined_dataset = concatenate_datasets([dataset_krx_sample,extra_extra_krxlegal_gpt4o_Dataset])"
   ]
  },
  {
   "cell_type": "code",
   "execution_count": 10,
   "metadata": {},
   "outputs": [
    {
     "data": {
      "text/plain": [
       "Dataset({\n",
       "    features: ['prompt', 'response', '__index_level_0__'],\n",
       "    num_rows: 27471\n",
       "})"
      ]
     },
     "execution_count": 10,
     "metadata": {},
     "output_type": "execute_result"
    }
   ],
   "source": [
    "combined_dataset"
   ]
  },
  {
   "cell_type": "code",
   "execution_count": 1,
   "metadata": {},
   "outputs": [
    {
     "ename": "FileNotFoundError",
     "evalue": "Directory c:/Users/son/Desktop/KRX_compatition/data/final_dataset/LORA1/krx-legal not found",
     "output_type": "error",
     "traceback": [
      "\u001b[0;31m---------------------------------------------------------------------------\u001b[0m",
      "\u001b[0;31mFileNotFoundError\u001b[0m                         Traceback (most recent call last)",
      "Cell \u001b[0;32mIn[1], line 4\u001b[0m\n\u001b[1;32m      1\u001b[0m \u001b[38;5;28;01mfrom\u001b[39;00m \u001b[38;5;21;01mdatasets\u001b[39;00m \u001b[38;5;28;01mimport\u001b[39;00m load_from_disk\n\u001b[1;32m      3\u001b[0m \u001b[38;5;66;03m# 로컬 경로에서 데이터셋 불러오기\u001b[39;00m\n\u001b[0;32m----> 4\u001b[0m combined_dataset \u001b[38;5;241m=\u001b[39m \u001b[43mload_from_disk\u001b[49m\u001b[43m(\u001b[49m\u001b[38;5;124;43m\"\u001b[39;49m\u001b[38;5;124;43mc:/Users/son/Desktop/KRX_compatition/data/final_dataset/LORA1/krx-legal\u001b[39;49m\u001b[38;5;124;43m\"\u001b[39;49m\u001b[43m)\u001b[49m\n",
      "File \u001b[0;32m~/miniforge3/lib/python3.10/site-packages/datasets/load.py:2244\u001b[0m, in \u001b[0;36mload_from_disk\u001b[0;34m(dataset_path, fs, keep_in_memory, storage_options)\u001b[0m\n\u001b[1;32m   2241\u001b[0m     path_join \u001b[38;5;241m=\u001b[39m os\u001b[38;5;241m.\u001b[39mpath\u001b[38;5;241m.\u001b[39mjoin\n\u001b[1;32m   2243\u001b[0m \u001b[38;5;28;01mif\u001b[39;00m \u001b[38;5;129;01mnot\u001b[39;00m fs\u001b[38;5;241m.\u001b[39mexists(dest_dataset_path):\n\u001b[0;32m-> 2244\u001b[0m     \u001b[38;5;28;01mraise\u001b[39;00m \u001b[38;5;167;01mFileNotFoundError\u001b[39;00m(\u001b[38;5;124mf\u001b[39m\u001b[38;5;124m\"\u001b[39m\u001b[38;5;124mDirectory \u001b[39m\u001b[38;5;132;01m{\u001b[39;00mdataset_path\u001b[38;5;132;01m}\u001b[39;00m\u001b[38;5;124m not found\u001b[39m\u001b[38;5;124m\"\u001b[39m)\n\u001b[1;32m   2245\u001b[0m \u001b[38;5;28;01mif\u001b[39;00m fs\u001b[38;5;241m.\u001b[39misfile(path_join(dest_dataset_path, config\u001b[38;5;241m.\u001b[39mDATASET_INFO_FILENAME)) \u001b[38;5;129;01mand\u001b[39;00m fs\u001b[38;5;241m.\u001b[39misfile(\n\u001b[1;32m   2246\u001b[0m     path_join(dest_dataset_path, config\u001b[38;5;241m.\u001b[39mDATASET_STATE_JSON_FILENAME)\n\u001b[1;32m   2247\u001b[0m ):\n\u001b[1;32m   2248\u001b[0m     \u001b[38;5;28;01mreturn\u001b[39;00m Dataset\u001b[38;5;241m.\u001b[39mload_from_disk(dataset_path, keep_in_memory\u001b[38;5;241m=\u001b[39mkeep_in_memory, storage_options\u001b[38;5;241m=\u001b[39mstorage_options)\n",
      "\u001b[0;31mFileNotFoundError\u001b[0m: Directory c:/Users/son/Desktop/KRX_compatition/data/final_dataset/LORA1/krx-legal not found"
     ]
    }
   ],
   "source": [
    "from datasets import load_from_disk\n",
    "\n",
    "# 로컬 경로에서 데이터셋 불러오기\n",
    "combined_dataset = load_from_disk(\"c:/Users/son/Desktop/KRX_compatition/data/final_dataset/LORA1/krx-legal\")"
   ]
  },
  {
   "cell_type": "code",
   "execution_count": null,
   "metadata": {},
   "outputs": [],
   "source": [
    "combined_dataset['prompt']"
   ]
  },
  {
   "cell_type": "code",
   "execution_count": 342,
   "metadata": {},
   "outputs": [],
   "source": [
    "legal_1 = pd.read_csv(\"newFE.csv\")"
   ]
  },
  {
   "cell_type": "code",
   "execution_count": 343,
   "metadata": {},
   "outputs": [
    {
     "data": {
      "text/html": [
       "<div>\n",
       "<style scoped>\n",
       "    .dataframe tbody tr th:only-of-type {\n",
       "        vertical-align: middle;\n",
       "    }\n",
       "\n",
       "    .dataframe tbody tr th {\n",
       "        vertical-align: top;\n",
       "    }\n",
       "\n",
       "    .dataframe thead th {\n",
       "        text-align: right;\n",
       "    }\n",
       "</style>\n",
       "<table border=\"1\" class=\"dataframe\">\n",
       "  <thead>\n",
       "    <tr style=\"text-align: right;\">\n",
       "      <th></th>\n",
       "      <th>Unnamed: 0</th>\n",
       "      <th>Question</th>\n",
       "      <th>Answer</th>\n",
       "    </tr>\n",
       "  </thead>\n",
       "  <tbody>\n",
       "    <tr>\n",
       "      <th>0</th>\n",
       "      <td>0</td>\n",
       "      <td>미국형 콜 옵션의 가격을 이항 가격 결정 모델을 통해 산출할 때, 배당금을 지급하지...</td>\n",
       "      <td>배당금을 지급하지 않는 경우, 조기 행사 가치와 만기 시점의 미래 가치를 비교해야 ...</td>\n",
       "    </tr>\n",
       "    <tr>\n",
       "      <th>1</th>\n",
       "      <td>1</td>\n",
       "      <td>유럽형 콜 옵션의 가격은 어떻게 계산되나요?</td>\n",
       "      <td>유럽형 콜 옵션의 가격은 만기 시점에만 행사할 수 있는 옵션이므로 다음과 같은 식으...</td>\n",
       "    </tr>\n",
       "    <tr>\n",
       "      <th>2</th>\n",
       "      <td>2</td>\n",
       "      <td>미국형 콜 옵션의 가격을 결정할 때 어떤 식을 사용하나요?</td>\n",
       "      <td>미국형 콜 옵션의 가격은 다음 방정식으로 표현됩니다: \\(V_n(\\omega) = ...</td>\n",
       "    </tr>\n",
       "    <tr>\n",
       "      <th>3</th>\n",
       "      <td>3</td>\n",
       "      <td>만료되지 않은 심각한 인 더 머니(deep in-the-money) 상태의 미국형 ...</td>\n",
       "      <td>이 경우 옵션의 현재 가치인 \\(S(\\omega) - K\\)는 매우 높지만, 조기 ...</td>\n",
       "    </tr>\n",
       "    <tr>\n",
       "      <th>4</th>\n",
       "      <td>4</td>\n",
       "      <td>배당금을 지급하지 않는 주식에서 미국형 콜 옵션과 유럽형 콜 옵션의 가격이 동일하다...</td>\n",
       "      <td>배당금이 없는 경우 조기 행사로 인한 기회비용이 발생하지 않으며, 따라서 시간 가치...</td>\n",
       "    </tr>\n",
       "    <tr>\n",
       "      <th>...</th>\n",
       "      <td>...</td>\n",
       "      <td>...</td>\n",
       "      <td>...</td>\n",
       "    </tr>\n",
       "    <tr>\n",
       "      <th>123385</th>\n",
       "      <td>123385</td>\n",
       "      <td>포워드 가격이란 무엇인가요?</td>\n",
       "      <td>포워드 가격은 현재 시점에서 미래의 특정 시점에 한정된 금액을 특정 환율로 교환하기...</td>\n",
       "    </tr>\n",
       "    <tr>\n",
       "      <th>123386</th>\n",
       "      <td>123386</td>\n",
       "      <td>포워드 가격은 어떻게 계산되나요?</td>\n",
       "      <td>포워드 가격은 현재 스팟 환율과 두 나라의 이자율을 바탕으로 계산되며, 다음의 비율...</td>\n",
       "    </tr>\n",
       "    <tr>\n",
       "      <th>123387</th>\n",
       "      <td>123387</td>\n",
       "      <td>산술 평균 환율을 사용한 포워드 가격 계산은 어떻게 이루어지나요?</td>\n",
       "      <td>산술 평균 환율을 사용하는 경우, 일정 기간 동안의 스팟 환율을 먼저 평균하여 구한...</td>\n",
       "    </tr>\n",
       "    <tr>\n",
       "      <th>123388</th>\n",
       "      <td>123388</td>\n",
       "      <td>기업이나 투자자가 FX 포지션을 관리할 때 평균 환율을 고려하는 이유는 무엇인가요?</td>\n",
       "      <td>평균 환율을 고려하는 것은 환율 변동으로 인한 리스크를 줄이는 한 방법입니다. 이를...</td>\n",
       "    </tr>\n",
       "    <tr>\n",
       "      <th>123389</th>\n",
       "      <td>123389</td>\n",
       "      <td>FX 관련 자료를 어디에서 찾을 수 있나요?</td>\n",
       "      <td>FX 관련 자료는 금융 서적, 경제학 및 금융학 연구 논문, 금융 데이터 제공 업체...</td>\n",
       "    </tr>\n",
       "  </tbody>\n",
       "</table>\n",
       "<p>123390 rows × 3 columns</p>\n",
       "</div>"
      ],
      "text/plain": [
       "        Unnamed: 0                                           Question  \\\n",
       "0                0  미국형 콜 옵션의 가격을 이항 가격 결정 모델을 통해 산출할 때, 배당금을 지급하지...   \n",
       "1                1                           유럽형 콜 옵션의 가격은 어떻게 계산되나요?   \n",
       "2                2                   미국형 콜 옵션의 가격을 결정할 때 어떤 식을 사용하나요?   \n",
       "3                3  만료되지 않은 심각한 인 더 머니(deep in-the-money) 상태의 미국형 ...   \n",
       "4                4  배당금을 지급하지 않는 주식에서 미국형 콜 옵션과 유럽형 콜 옵션의 가격이 동일하다...   \n",
       "...            ...                                                ...   \n",
       "123385      123385                                    포워드 가격이란 무엇인가요?   \n",
       "123386      123386                                 포워드 가격은 어떻게 계산되나요?   \n",
       "123387      123387               산술 평균 환율을 사용한 포워드 가격 계산은 어떻게 이루어지나요?   \n",
       "123388      123388     기업이나 투자자가 FX 포지션을 관리할 때 평균 환율을 고려하는 이유는 무엇인가요?   \n",
       "123389      123389                           FX 관련 자료를 어디에서 찾을 수 있나요?   \n",
       "\n",
       "                                                   Answer  \n",
       "0       배당금을 지급하지 않는 경우, 조기 행사 가치와 만기 시점의 미래 가치를 비교해야 ...  \n",
       "1       유럽형 콜 옵션의 가격은 만기 시점에만 행사할 수 있는 옵션이므로 다음과 같은 식으...  \n",
       "2       미국형 콜 옵션의 가격은 다음 방정식으로 표현됩니다: \\(V_n(\\omega) = ...  \n",
       "3       이 경우 옵션의 현재 가치인 \\(S(\\omega) - K\\)는 매우 높지만, 조기 ...  \n",
       "4       배당금이 없는 경우 조기 행사로 인한 기회비용이 발생하지 않으며, 따라서 시간 가치...  \n",
       "...                                                   ...  \n",
       "123385  포워드 가격은 현재 시점에서 미래의 특정 시점에 한정된 금액을 특정 환율로 교환하기...  \n",
       "123386  포워드 가격은 현재 스팟 환율과 두 나라의 이자율을 바탕으로 계산되며, 다음의 비율...  \n",
       "123387  산술 평균 환율을 사용하는 경우, 일정 기간 동안의 스팟 환율을 먼저 평균하여 구한...  \n",
       "123388  평균 환율을 고려하는 것은 환율 변동으로 인한 리스크를 줄이는 한 방법입니다. 이를...  \n",
       "123389  FX 관련 자료는 금융 서적, 경제학 및 금융학 연구 논문, 금융 데이터 제공 업체...  \n",
       "\n",
       "[123390 rows x 3 columns]"
      ]
     },
     "execution_count": 343,
     "metadata": {},
     "output_type": "execute_result"
    }
   ],
   "source": [
    "legal_1"
   ]
  },
  {
   "cell_type": "code",
   "execution_count": 326,
   "metadata": {},
   "outputs": [],
   "source": [
    "legal_1_list = legal_1.columns.to_list()"
   ]
  },
  {
   "cell_type": "code",
   "execution_count": 327,
   "metadata": {},
   "outputs": [],
   "source": [
    "# 정규표현식 패턴 정의\n",
    "qa_pattern = re.compile(r\"Q\\.\\s*(.*?)\\s*A\\.\\s*(.*?)(?=Q\\.|$)\", re.DOTALL)\n"
   ]
  },
  {
   "cell_type": "code",
   "execution_count": 337,
   "metadata": {},
   "outputs": [
    {
     "name": "stdout",
     "output_type": "stream",
     "text": [
      "                                               Question  \\\n",
      "0     거래소거래확인시세텀 운영 등에 대한 내용이 담긴...   \n",
      "1     거래소거래확인시세텀 운영 등에 사용되는 “이용자...   \n",
      "2     거래소거래확인시세텀 운영 등에 “거래확인서”란 ...   \n",
      "3     거래소거래확인시세텀 운영 등에 기준의 변경 사항...   \n",
      "4     거래소거래확인시세텀 운영 등에 \"당사자이용자\"의...   \n",
      "...                                                 ...   \n",
      "1632  참가자가 매매거래에 관하여 거래증명을 요청할 경우, 거래소는 어떻게 처리해야 하나요...   \n",
      "1633                   KRX석유시장에서 발생한 이자는 누구에게 귀속되나요?      \n",
      "1634  KRX석유시장 활성화를 위해 거래소는 어떤 방식으로 참가자에게 대가를 지급할 수 있...   \n",
      "1635        KRX석유시장 참가자는 별도의 약정을 통해 어떤 사항을 정할 수 있나요?      \n",
      "1636              KRX석유시장 규정의 시행에 관한 사항은 무엇으로 정해지나요?      \n",
      "\n",
      "                                                 Answer  \n",
      "0     제1조의 목적은 한국거래소「장외파생상품 청산업무규정 시행세칙」에 따라 거래소거래확인...  \n",
      "1        “이용자”란 한국거래소와 거래소거래확인시스템 이용계약을 체결한 자를 의미합니다.    \n",
      "2     “거래확인서”란 기본계약의 적용을 받는 개별거래에 대한 거래조건 등 합의내용을 서면...  \n",
      "3     기준의 변경 사항은 거래소 홈페이지 및 시스템 화면에 게시하거나 기타의 방법으로 이...  \n",
      "4     “당사자이용자”란 이용자 중 기본계약에 의거하여 체결된 거래의 당사자를 의미합니다....  \n",
      "...                                                 ...  \n",
      "1632  거래소는 참가자의 요청에 따라 지체 없이 서면 또는 전자문서로 거래증명을 발급해야 ...  \n",
      "1633                    KRX석유시장에서 발생한 이자는 거래소에 귀속됩니다.    \n",
      "1634  거래소는 KRX석유시장 활성화에 기여한 참가자에게 석유시장 수수료의 범위 내에서 대...  \n",
      "1635  KRX석유시장 참가자는 계약서 및 규정에 위반되지 않는 범위 내에서 석유제품의 매매...  \n",
      "1636  KRX석유시장 규정의 시행에 관한 필요한 사항은 세칙으로 정해집니다.', role=...  \n",
      "\n",
      "[1637 rows x 2 columns]\n"
     ]
    }
   ],
   "source": [
    "# Q&A 데이터를 저장할 리스트 초기화\n",
    "all_questions = []\n",
    "all_answers = []\n",
    "\n",
    "# 데이터 리스트를 순회하며 Q&A 추출\n",
    "for text in legal_1_list:\n",
    "    # 정규표현식을 사용하여 Q&A 쌍 찾기\n",
    "    qa_pairs = qa_pattern.findall(text)\n",
    "    for q, a in qa_pairs:\n",
    "        # 질문과 답변의 공백 및 줄바꿈 문자 정리\n",
    "        question = q.strip().replace('\\n', ' ').replace('\\\\n', ' ')\n",
    "        answer = a.strip().replace('\\n', ' ').replace('\\\\n', ' ')\n",
    "        all_questions.append(question)\n",
    "        all_answers.append(answer)\n",
    "\n",
    "# Q&A 데이터를 DataFrame으로 변환\n",
    "qa_df = pd.DataFrame({\n",
    "    \"Question\": all_questions,\n",
    "    \"Answer\": all_answers\n",
    "})\n",
    "\n",
    "# 결과 확인\n",
    "print(qa_df)\n"
   ]
  },
  {
   "cell_type": "code",
   "execution_count": 338,
   "metadata": {},
   "outputs": [
    {
     "data": {
      "text/html": [
       "<div>\n",
       "<style scoped>\n",
       "    .dataframe tbody tr th:only-of-type {\n",
       "        vertical-align: middle;\n",
       "    }\n",
       "\n",
       "    .dataframe tbody tr th {\n",
       "        vertical-align: top;\n",
       "    }\n",
       "\n",
       "    .dataframe thead th {\n",
       "        text-align: right;\n",
       "    }\n",
       "</style>\n",
       "<table border=\"1\" class=\"dataframe\">\n",
       "  <thead>\n",
       "    <tr style=\"text-align: right;\">\n",
       "      <th></th>\n",
       "      <th>Question</th>\n",
       "      <th>Answer</th>\n",
       "    </tr>\n",
       "  </thead>\n",
       "  <tbody>\n",
       "    <tr>\n",
       "      <th>0</th>\n",
       "      <td>거래소거래확인시세텀 운영 등에 대한 내용이 담긴...</td>\n",
       "      <td>제1조의 목적은 한국거래소「장외파생상품 청산업무규정 시행세칙」에 따라 거래소거래확인...</td>\n",
       "    </tr>\n",
       "    <tr>\n",
       "      <th>1</th>\n",
       "      <td>거래소거래확인시세텀 운영 등에 사용되는 “이용자...</td>\n",
       "      <td>“이용자”란 한국거래소와 거래소거래확인시스템 이용계약을 체결한 자를 의미합니다.</td>\n",
       "    </tr>\n",
       "    <tr>\n",
       "      <th>2</th>\n",
       "      <td>거래소거래확인시세텀 운영 등에 “거래확인서”란 ...</td>\n",
       "      <td>“거래확인서”란 기본계약의 적용을 받는 개별거래에 대한 거래조건 등 합의내용을 서면...</td>\n",
       "    </tr>\n",
       "    <tr>\n",
       "      <th>3</th>\n",
       "      <td>거래소거래확인시세텀 운영 등에 기준의 변경 사항...</td>\n",
       "      <td>기준의 변경 사항은 거래소 홈페이지 및 시스템 화면에 게시하거나 기타의 방법으로 이...</td>\n",
       "    </tr>\n",
       "    <tr>\n",
       "      <th>4</th>\n",
       "      <td>거래소거래확인시세텀 운영 등에 \"당사자이용자\"의...</td>\n",
       "      <td>“당사자이용자”란 이용자 중 기본계약에 의거하여 체결된 거래의 당사자를 의미합니다....</td>\n",
       "    </tr>\n",
       "    <tr>\n",
       "      <th>...</th>\n",
       "      <td>...</td>\n",
       "      <td>...</td>\n",
       "    </tr>\n",
       "    <tr>\n",
       "      <th>1632</th>\n",
       "      <td>참가자가 매매거래에 관하여 거래증명을 요청할 경우, 거래소는 어떻게 처리해야 하나요...</td>\n",
       "      <td>거래소는 참가자의 요청에 따라 지체 없이 서면 또는 전자문서로 거래증명을 발급해야 ...</td>\n",
       "    </tr>\n",
       "    <tr>\n",
       "      <th>1633</th>\n",
       "      <td>KRX석유시장에서 발생한 이자는 누구에게 귀속되나요?</td>\n",
       "      <td>KRX석유시장에서 발생한 이자는 거래소에 귀속됩니다.</td>\n",
       "    </tr>\n",
       "    <tr>\n",
       "      <th>1634</th>\n",
       "      <td>KRX석유시장 활성화를 위해 거래소는 어떤 방식으로 참가자에게 대가를 지급할 수 있...</td>\n",
       "      <td>거래소는 KRX석유시장 활성화에 기여한 참가자에게 석유시장 수수료의 범위 내에서 대...</td>\n",
       "    </tr>\n",
       "    <tr>\n",
       "      <th>1635</th>\n",
       "      <td>KRX석유시장 참가자는 별도의 약정을 통해 어떤 사항을 정할 수 있나요?</td>\n",
       "      <td>KRX석유시장 참가자는 계약서 및 규정에 위반되지 않는 범위 내에서 석유제품의 매매...</td>\n",
       "    </tr>\n",
       "    <tr>\n",
       "      <th>1636</th>\n",
       "      <td>KRX석유시장 규정의 시행에 관한 사항은 무엇으로 정해지나요?</td>\n",
       "      <td>KRX석유시장 규정의 시행에 관한 필요한 사항은 세칙으로 정해집니다.', role=...</td>\n",
       "    </tr>\n",
       "  </tbody>\n",
       "</table>\n",
       "<p>1637 rows × 2 columns</p>\n",
       "</div>"
      ],
      "text/plain": [
       "                                               Question  \\\n",
       "0     거래소거래확인시세텀 운영 등에 대한 내용이 담긴...   \n",
       "1     거래소거래확인시세텀 운영 등에 사용되는 “이용자...   \n",
       "2     거래소거래확인시세텀 운영 등에 “거래확인서”란 ...   \n",
       "3     거래소거래확인시세텀 운영 등에 기준의 변경 사항...   \n",
       "4     거래소거래확인시세텀 운영 등에 \"당사자이용자\"의...   \n",
       "...                                                 ...   \n",
       "1632  참가자가 매매거래에 관하여 거래증명을 요청할 경우, 거래소는 어떻게 처리해야 하나요...   \n",
       "1633                   KRX석유시장에서 발생한 이자는 누구에게 귀속되나요?      \n",
       "1634  KRX석유시장 활성화를 위해 거래소는 어떤 방식으로 참가자에게 대가를 지급할 수 있...   \n",
       "1635        KRX석유시장 참가자는 별도의 약정을 통해 어떤 사항을 정할 수 있나요?      \n",
       "1636              KRX석유시장 규정의 시행에 관한 사항은 무엇으로 정해지나요?      \n",
       "\n",
       "                                                 Answer  \n",
       "0     제1조의 목적은 한국거래소「장외파생상품 청산업무규정 시행세칙」에 따라 거래소거래확인...  \n",
       "1        “이용자”란 한국거래소와 거래소거래확인시스템 이용계약을 체결한 자를 의미합니다.    \n",
       "2     “거래확인서”란 기본계약의 적용을 받는 개별거래에 대한 거래조건 등 합의내용을 서면...  \n",
       "3     기준의 변경 사항은 거래소 홈페이지 및 시스템 화면에 게시하거나 기타의 방법으로 이...  \n",
       "4     “당사자이용자”란 이용자 중 기본계약에 의거하여 체결된 거래의 당사자를 의미합니다....  \n",
       "...                                                 ...  \n",
       "1632  거래소는 참가자의 요청에 따라 지체 없이 서면 또는 전자문서로 거래증명을 발급해야 ...  \n",
       "1633                    KRX석유시장에서 발생한 이자는 거래소에 귀속됩니다.    \n",
       "1634  거래소는 KRX석유시장 활성화에 기여한 참가자에게 석유시장 수수료의 범위 내에서 대...  \n",
       "1635  KRX석유시장 참가자는 계약서 및 규정에 위반되지 않는 범위 내에서 석유제품의 매매...  \n",
       "1636  KRX석유시장 규정의 시행에 관한 필요한 사항은 세칙으로 정해집니다.', role=...  \n",
       "\n",
       "[1637 rows x 2 columns]"
      ]
     },
     "execution_count": 338,
     "metadata": {},
     "output_type": "execute_result"
    }
   ],
   "source": [
    "qa_df"
   ]
  },
  {
   "cell_type": "code",
   "execution_count": 344,
   "metadata": {},
   "outputs": [],
   "source": [
    "extra_krxlegal_gpt4o_indexing = legal_1[['Question','Answer']] # 법 내용 1000개\n",
    "extra_krxlegal_gpt4o_indexing['__index_level_0__'] = extra_krxlegal_gpt4o_indexing.index\n",
    "extra_krxlegal_gpt4o_indexing.columns = ['prompt','response','__index_level_0__']\n",
    "extra_extra_krxlegal_gpt4o_Dataset = Dataset.from_pandas(extra_krxlegal_gpt4o_indexing)\n"
   ]
  },
  {
   "cell_type": "code",
   "execution_count": 345,
   "metadata": {},
   "outputs": [
    {
     "data": {
      "text/plain": [
       "Dataset({\n",
       "    features: ['prompt', 'response', '__index_level_0__'],\n",
       "    num_rows: 123390\n",
       "})"
      ]
     },
     "execution_count": 345,
     "metadata": {},
     "output_type": "execute_result"
    }
   ],
   "source": [
    "extra_extra_krxlegal_gpt4o_Dataset"
   ]
  },
  {
   "cell_type": "code",
   "execution_count": 346,
   "metadata": {},
   "outputs": [
    {
     "data": {
      "application/vnd.jupyter.widget-view+json": {
       "model_id": "0e79e0651655476d8d58a1e11b67ede4",
       "version_major": 2,
       "version_minor": 0
      },
      "text/plain": [
       "Saving the dataset (0/1 shards):   0%|          | 0/123390 [00:00<?, ? examples/s]"
      ]
     },
     "metadata": {},
     "output_type": "display_data"
    }
   ],
   "source": [
    "extra_extra_krxlegal_gpt4o_Dataset.save_to_disk('krx-FE')"
   ]
  },
  {
   "cell_type": "code",
   "execution_count": 335,
   "metadata": {},
   "outputs": [],
   "source": [
    "def clean_text(text):\n",
    "    # 불필요한 공백 제거\n",
    "    text = text.strip()\n",
    "    # 연속된 공백을 단일 공백으로 변환\n",
    "    text = re.sub(r'\\s+', ' ', text)\n",
    "    return text\n",
    "\n",
    "# 클렌징 적용\n",
    "qa_df['Question'] = qa_df['Question'].apply(clean_text)\n",
    "qa_df['Answer'] = qa_df['Answer'].apply(clean_text)\n",
    "\n",
    "# 클렌징된 데이터 확인\n"
   ]
  },
  {
   "cell_type": "code",
   "execution_count": 336,
   "metadata": {},
   "outputs": [
    {
     "data": {
      "text/plain": [
       "\"KRX석유시장 규정의 시행에 관한 필요한 사항은 세칙으로 정해집니다.', role='assistant', tool_calls=None, function_call=None))], created=1731915212, model='gpt-4o-mini-2024-07-18', object='chat.completion', system_fingerprint='fp_0ba0d124f1', usage=Usage(completion_tokens=473, prompt_tokens=1318, total_tokens=1791, completion_tokens_details=CompletionTokensDetailsWrapper(audio_tokens=0, reasoning_tokens=0, text_tokens=None, accepted_prediction_tokens=0, rejected_prediction_tokens=0), prompt_tokens_details=PromptTokensDetailsWrapper(audio_tokens=0, cached_tokens=0, text_tokens=None, image_tokens=None)), service_tier=None)\""
      ]
     },
     "execution_count": 336,
     "metadata": {},
     "output_type": "execute_result"
    }
   ],
   "source": [
    "qa_df['Answer'][1636]"
   ]
  },
  {
   "cell_type": "code",
   "execution_count": 320,
   "metadata": {},
   "outputs": [
    {
     "data": {
      "text/plain": [
       "'A. 정규시장은 9시부터 15시 30분까지이며, 단, 시장관리상 필요에 따라 거래소가 정하는 경우에는 임시로 변경될 수 있다.'"
      ]
     },
     "execution_count": 320,
     "metadata": {},
     "output_type": "execute_result"
    }
   ],
   "source": [
    "combined_dataset['response'][706]"
   ]
  },
  {
   "cell_type": "code",
   "execution_count": 166,
   "metadata": {},
   "outputs": [
    {
     "data": {
      "text/plain": [
       "'Q7. KRX석유시장과 관련된 규정의 시행에 관하여 필요한 사항은 무엇으로 정하는가?'"
      ]
     },
     "execution_count": 166,
     "metadata": {},
     "output_type": "execute_result"
    }
   ],
   "source": [
    "combined_dataset['prompt'][-1]"
   ]
  },
  {
   "cell_type": "code",
   "execution_count": 167,
   "metadata": {},
   "outputs": [],
   "source": [
    "qa_df = pd.DataFrame([combined_dataset['prompt'][26951:],combined_dataset['response'][26951:]])"
   ]
  },
  {
   "cell_type": "code",
   "execution_count": 171,
   "metadata": {},
   "outputs": [],
   "source": [
    "qa_df.T.columns = ['question','response']"
   ]
  },
  {
   "cell_type": "code",
   "execution_count": 172,
   "metadata": {},
   "outputs": [
    {
     "data": {
      "text/html": [
       "<div>\n",
       "<style scoped>\n",
       "    .dataframe tbody tr th:only-of-type {\n",
       "        vertical-align: middle;\n",
       "    }\n",
       "\n",
       "    .dataframe tbody tr th {\n",
       "        vertical-align: top;\n",
       "    }\n",
       "\n",
       "    .dataframe thead th {\n",
       "        text-align: right;\n",
       "    }\n",
       "</style>\n",
       "<table border=\"1\" class=\"dataframe\">\n",
       "  <thead>\n",
       "    <tr style=\"text-align: right;\">\n",
       "      <th></th>\n",
       "      <th>0</th>\n",
       "      <th>1</th>\n",
       "      <th>2</th>\n",
       "      <th>3</th>\n",
       "      <th>4</th>\n",
       "      <th>5</th>\n",
       "      <th>6</th>\n",
       "      <th>7</th>\n",
       "      <th>8</th>\n",
       "      <th>9</th>\n",
       "      <th>...</th>\n",
       "      <th>69817</th>\n",
       "      <th>69818</th>\n",
       "      <th>69819</th>\n",
       "      <th>69820</th>\n",
       "      <th>69821</th>\n",
       "      <th>69822</th>\n",
       "      <th>69823</th>\n",
       "      <th>69824</th>\n",
       "      <th>69825</th>\n",
       "      <th>69826</th>\n",
       "    </tr>\n",
       "  </thead>\n",
       "  <tbody>\n",
       "    <tr>\n",
       "      <th>0</th>\n",
       "      <td>Q. 노바텍의 2023년 연결재무상태표에서 자산총계가 증가한 원인은 무엇인가요?</td>\n",
       "      <td>Q. 2023년 노바텍의 부채총계는 어떻게 변화하였으며, 그 원인은 무엇인가요?</td>\n",
       "      <td>Q. 2023년 노바텍의 영업이익률은 얼마였으며, 이전 연도와 비교했을 때 어떤 변...</td>\n",
       "      <td>Q. 노바텍의 당기순이익은 2023년에 어떻게 변화했으며, 그 증가의 주된 원인은 ...</td>\n",
       "      <td>Q. 노바텍의 2023년 유동비율은 얼마이며, 이는 전년도와 비교하여 어떻게 변화하...</td>\n",
       "      <td>Q. 노바텍의 신규사업으로 시작한 친환경 Recycle Plate 제작의 주요 목표...</td>\n",
       "      <td>Q. 환율변동이 노바텍의 재무에 미치는 영향은 어떤가요?</td>\n",
       "      <td>Q. 노바텍의 2023년도 ROA와 ROE는 각각 얼마인가요?</td>\n",
       "      <td>Q. 노바텍은 자산 손상징후를 검토할 때 어떤 절차를 따라야 하나요?</td>\n",
       "      <td>Q. 노바텍이 보유하고 있는 유동자금의 규모는 얼마이며, 이전 연도와 비교했을 때 ...</td>\n",
       "      <td>...</td>\n",
       "      <td>Q. KRX석유시장 운영규정에 따른 매매거래 상황 파악의 목...</td>\n",
       "      <td>Q. KRX석유시장 운영규정에서 일반상품시장위원회의 역할은 ...</td>\n",
       "      <td>Q. KRX석유시장 운영규정에 따라 일반상품시장위원회의 위원...</td>\n",
       "      <td>'Q1. KRX석유시장 참가자는 석유제품담당자를 몇 명 이상 지정하여 거래소에 등록...</td>\n",
       "      <td>Q2. KRX석유시장 주유소 협의회는 어떤 목적으로 설치되는가?</td>\n",
       "      <td>Q3. 참가자는 매매거래에 관한 거래증명을 어떻게 요청할 수 있는가?</td>\n",
       "      <td>Q4. 거래소 명의의 결제계좌에서 발생한 이자는 누구에게 귀속되는가?</td>\n",
       "      <td>Q5. KRX석유시장에 활성화를 기여한 참가자에게 거래소가 지급할 수 있는 대가는 ...</td>\n",
       "      <td>Q6. 참가자는 계약서 및 규정에 위반되지 않는 범위 내에서 어떤 사항에 대해 별도...</td>\n",
       "      <td>Q7. KRX석유시장과 관련된 규정의 시행에 관하여 필요한 사항은 무엇으로 정하는가?</td>\n",
       "    </tr>\n",
       "    <tr>\n",
       "      <th>1</th>\n",
       "      <td>A. 자산총계는 유동자산과 비유동자산 모두에서 증가하였으며, 특히 기타유동금융자산,...</td>\n",
       "      <td>A. 2023년 부채총계는 105억 원으로, 2022년 대비 22억 원이 감소하였으...</td>\n",
       "      <td>A. 2023년 영업이익률은 27.7%로, 전년의 24%에 비해 증가하였습니다.</td>\n",
       "      <td>A. 2023년 당기순이익은 296억 원으로, 전년 대비 153억 원이 증가하였으며...</td>\n",
       "      <td>A. 2023년 유동비율은 1685.64%로, 전년의 1167.29%와 비교하여 상...</td>\n",
       "      <td>A. 신규사업의 주요 목표는 개발 및 영업 인력을 충원하여 사업을 확장하고, 차별화...</td>\n",
       "      <td>A. 환율변동은 영업 거래, 자산 및 부채에 영향을 미칠 수 있으며, 이를 최소화하...</td>\n",
       "      <td>A. 2023년도 ROA는 17.5%, ROE는 18.7%입니다.</td>\n",
       "      <td>A. 자산의 손상징후를 검토하고, 손상징후가 있을 경우 자산의 회수가능액과 장부가액...</td>\n",
       "      <td>A. 2023년 말 유동자금은 1,002억 원으로, 전년의 856억 원 대비 146...</td>\n",
       "      <td>...</td>\n",
       "      <td>A. 매매거래 조치의 적시성·적정성 등을 확보하기 위해 거래소는 상시적으로 매매거래...</td>\n",
       "      <td>A. 일반상품시장위원회는 시장 제도의 개선, 석유제품 종류의 변경 등 시장운영과 관...</td>\n",
       "      <td>A. 일반상품시장위원회의 위원 구성 및 회의 개최 등 운영에 관한 필요한 사항은 거...</td>\n",
       "      <td>A1. 참가자는 1인 이상의 석유제품담당자를 지정하여 거래소에 등록해야 한다.</td>\n",
       "      <td>A2. KRX석유시장 주유소 협의회는 KRX석유시장의 발전을 위한 공동 노력 및 상...</td>\n",
       "      <td>A3. 참가자는 거래소에 매매거래에 관한 거래증명을 요청할 수 있으며, 거래소는 지...</td>\n",
       "      <td>A4. 거래소 명의의 결제계좌에서 발생한 이자는 거래소에 귀속된다.</td>\n",
       "      <td>A5. 거래소는 KRX석유시장 수수료의 범위 내에서 대가를 지급할 수 있다.</td>\n",
       "      <td>A6. 참가자는 석유제품의 매매거래와 관련한 사항에 대해 다른 참가자와의 별도 약정...</td>\n",
       "      <td>A7. KRX석유시장과 관련된 규정의 시행에 관하여 필요한 사항은 세칙으로 정한다....</td>\n",
       "    </tr>\n",
       "  </tbody>\n",
       "</table>\n",
       "<p>2 rows × 69827 columns</p>\n",
       "</div>"
      ],
      "text/plain": [
       "                                               0      \\\n",
       "0     Q. 노바텍의 2023년 연결재무상태표에서 자산총계가 증가한 원인은 무엇인가요?     \n",
       "1  A. 자산총계는 유동자산과 비유동자산 모두에서 증가하였으며, 특히 기타유동금융자산,...   \n",
       "\n",
       "                                               1      \\\n",
       "0     Q. 2023년 노바텍의 부채총계는 어떻게 변화하였으며, 그 원인은 무엇인가요?     \n",
       "1  A. 2023년 부채총계는 105억 원으로, 2022년 대비 22억 원이 감소하였으...   \n",
       "\n",
       "                                               2      \\\n",
       "0  Q. 2023년 노바텍의 영업이익률은 얼마였으며, 이전 연도와 비교했을 때 어떤 변...   \n",
       "1       A. 2023년 영업이익률은 27.7%로, 전년의 24%에 비해 증가하였습니다.   \n",
       "\n",
       "                                               3      \\\n",
       "0  Q. 노바텍의 당기순이익은 2023년에 어떻게 변화했으며, 그 증가의 주된 원인은 ...   \n",
       "1  A. 2023년 당기순이익은 296억 원으로, 전년 대비 153억 원이 증가하였으며...   \n",
       "\n",
       "                                               4      \\\n",
       "0  Q. 노바텍의 2023년 유동비율은 얼마이며, 이는 전년도와 비교하여 어떻게 변화하...   \n",
       "1  A. 2023년 유동비율은 1685.64%로, 전년의 1167.29%와 비교하여 상...   \n",
       "\n",
       "                                               5      \\\n",
       "0  Q. 노바텍의 신규사업으로 시작한 친환경 Recycle Plate 제작의 주요 목표...   \n",
       "1  A. 신규사업의 주요 목표는 개발 및 영업 인력을 충원하여 사업을 확장하고, 차별화...   \n",
       "\n",
       "                                               6      \\\n",
       "0                  Q. 환율변동이 노바텍의 재무에 미치는 영향은 어떤가요?     \n",
       "1  A. 환율변동은 영업 거래, 자산 및 부채에 영향을 미칠 수 있으며, 이를 최소화하...   \n",
       "\n",
       "                                  7      \\\n",
       "0  Q. 노바텍의 2023년도 ROA와 ROE는 각각 얼마인가요?     \n",
       "1  A. 2023년도 ROA는 17.5%, ROE는 18.7%입니다.   \n",
       "\n",
       "                                               8      \\\n",
       "0           Q. 노바텍은 자산 손상징후를 검토할 때 어떤 절차를 따라야 하나요?     \n",
       "1  A. 자산의 손상징후를 검토하고, 손상징후가 있을 경우 자산의 회수가능액과 장부가액...   \n",
       "\n",
       "                                               9      ...  \\\n",
       "0  Q. 노바텍이 보유하고 있는 유동자금의 규모는 얼마이며, 이전 연도와 비교했을 때 ...  ...   \n",
       "1  A. 2023년 말 유동자금은 1,002억 원으로, 전년의 856억 원 대비 146...  ...   \n",
       "\n",
       "                                               69817  \\\n",
       "0  Q. KRX석유시장 운영규정에 따른 매매거래 상황 파악의 목...   \n",
       "1  A. 매매거래 조치의 적시성·적정성 등을 확보하기 위해 거래소는 상시적으로 매매거래...   \n",
       "\n",
       "                                               69818  \\\n",
       "0  Q. KRX석유시장 운영규정에서 일반상품시장위원회의 역할은 ...   \n",
       "1  A. 일반상품시장위원회는 시장 제도의 개선, 석유제품 종류의 변경 등 시장운영과 관...   \n",
       "\n",
       "                                               69819  \\\n",
       "0  Q. KRX석유시장 운영규정에 따라 일반상품시장위원회의 위원...   \n",
       "1  A. 일반상품시장위원회의 위원 구성 및 회의 개최 등 운영에 관한 필요한 사항은 거...   \n",
       "\n",
       "                                               69820  \\\n",
       "0  'Q1. KRX석유시장 참가자는 석유제품담당자를 몇 명 이상 지정하여 거래소에 등록...   \n",
       "1        A1. 참가자는 1인 이상의 석유제품담당자를 지정하여 거래소에 등록해야 한다.   \n",
       "\n",
       "                                               69821  \\\n",
       "0                Q2. KRX석유시장 주유소 협의회는 어떤 목적으로 설치되는가?   \n",
       "1  A2. KRX석유시장 주유소 협의회는 KRX석유시장의 발전을 위한 공동 노력 및 상...   \n",
       "\n",
       "                                               69822  \\\n",
       "0             Q3. 참가자는 매매거래에 관한 거래증명을 어떻게 요청할 수 있는가?   \n",
       "1  A3. 참가자는 거래소에 매매거래에 관한 거래증명을 요청할 수 있으며, 거래소는 지...   \n",
       "\n",
       "                                    69823  \\\n",
       "0  Q4. 거래소 명의의 결제계좌에서 발생한 이자는 누구에게 귀속되는가?   \n",
       "1   A4. 거래소 명의의 결제계좌에서 발생한 이자는 거래소에 귀속된다.   \n",
       "\n",
       "                                               69824  \\\n",
       "0  Q5. KRX석유시장에 활성화를 기여한 참가자에게 거래소가 지급할 수 있는 대가는 ...   \n",
       "1         A5. 거래소는 KRX석유시장 수수료의 범위 내에서 대가를 지급할 수 있다.   \n",
       "\n",
       "                                               69825  \\\n",
       "0  Q6. 참가자는 계약서 및 규정에 위반되지 않는 범위 내에서 어떤 사항에 대해 별도...   \n",
       "1  A6. 참가자는 석유제품의 매매거래와 관련한 사항에 대해 다른 참가자와의 별도 약정...   \n",
       "\n",
       "                                               69826  \n",
       "0    Q7. KRX석유시장과 관련된 규정의 시행에 관하여 필요한 사항은 무엇으로 정하는가?  \n",
       "1  A7. KRX석유시장과 관련된 규정의 시행에 관하여 필요한 사항은 세칙으로 정한다....  \n",
       "\n",
       "[2 rows x 69827 columns]"
      ]
     },
     "execution_count": 172,
     "metadata": {},
     "output_type": "execute_result"
    }
   ],
   "source": [
    "qa_df"
   ]
  },
  {
   "cell_type": "code",
   "execution_count": 70,
   "metadata": {},
   "outputs": [],
   "source": [
    "qa_df.T.to_csv('kor_company_data_69827.csv')"
   ]
  },
  {
   "cell_type": "code",
   "execution_count": 173,
   "metadata": {},
   "outputs": [],
   "source": [
    "qa_df = pd.read_csv('kor_company_data_69827.csv')"
   ]
  },
  {
   "cell_type": "code",
   "execution_count": 174,
   "metadata": {},
   "outputs": [
    {
     "data": {
      "text/html": [
       "<div>\n",
       "<style scoped>\n",
       "    .dataframe tbody tr th:only-of-type {\n",
       "        vertical-align: middle;\n",
       "    }\n",
       "\n",
       "    .dataframe tbody tr th {\n",
       "        vertical-align: top;\n",
       "    }\n",
       "\n",
       "    .dataframe thead th {\n",
       "        text-align: right;\n",
       "    }\n",
       "</style>\n",
       "<table border=\"1\" class=\"dataframe\">\n",
       "  <thead>\n",
       "    <tr style=\"text-align: right;\">\n",
       "      <th></th>\n",
       "      <th>Unnamed: 0</th>\n",
       "      <th>0</th>\n",
       "      <th>1</th>\n",
       "    </tr>\n",
       "  </thead>\n",
       "  <tbody>\n",
       "    <tr>\n",
       "      <th>0</th>\n",
       "      <td>0</td>\n",
       "      <td>Q. 노바텍의 2023년 연결재무상태표에서 자산총계가 증가한 원인은 무엇인가요?</td>\n",
       "      <td>A. 자산총계는 유동자산과 비유동자산 모두에서 증가하였으며, 특히 기타유동금융자산,...</td>\n",
       "    </tr>\n",
       "    <tr>\n",
       "      <th>1</th>\n",
       "      <td>1</td>\n",
       "      <td>Q. 2023년 노바텍의 부채총계는 어떻게 변화하였으며, 그 원인은 무엇인가요?</td>\n",
       "      <td>A. 2023년 부채총계는 105억 원으로, 2022년 대비 22억 원이 감소하였으...</td>\n",
       "    </tr>\n",
       "    <tr>\n",
       "      <th>2</th>\n",
       "      <td>2</td>\n",
       "      <td>Q. 2023년 노바텍의 영업이익률은 얼마였으며, 이전 연도와 비교했을 때 어떤 변...</td>\n",
       "      <td>A. 2023년 영업이익률은 27.7%로, 전년의 24%에 비해 증가하였습니다.</td>\n",
       "    </tr>\n",
       "    <tr>\n",
       "      <th>3</th>\n",
       "      <td>3</td>\n",
       "      <td>Q. 노바텍의 당기순이익은 2023년에 어떻게 변화했으며, 그 증가의 주된 원인은 ...</td>\n",
       "      <td>A. 2023년 당기순이익은 296억 원으로, 전년 대비 153억 원이 증가하였으며...</td>\n",
       "    </tr>\n",
       "    <tr>\n",
       "      <th>4</th>\n",
       "      <td>4</td>\n",
       "      <td>Q. 노바텍의 2023년 유동비율은 얼마이며, 이는 전년도와 비교하여 어떻게 변화하...</td>\n",
       "      <td>A. 2023년 유동비율은 1685.64%로, 전년의 1167.29%와 비교하여 상...</td>\n",
       "    </tr>\n",
       "    <tr>\n",
       "      <th>...</th>\n",
       "      <td>...</td>\n",
       "      <td>...</td>\n",
       "      <td>...</td>\n",
       "    </tr>\n",
       "    <tr>\n",
       "      <th>69822</th>\n",
       "      <td>69822</td>\n",
       "      <td>Q3. 참가자는 매매거래에 관한 거래증명을 어떻게 요청할 수 있는가?</td>\n",
       "      <td>A3. 참가자는 거래소에 매매거래에 관한 거래증명을 요청할 수 있으며, 거래소는 지...</td>\n",
       "    </tr>\n",
       "    <tr>\n",
       "      <th>69823</th>\n",
       "      <td>69823</td>\n",
       "      <td>Q4. 거래소 명의의 결제계좌에서 발생한 이자는 누구에게 귀속되는가?</td>\n",
       "      <td>A4. 거래소 명의의 결제계좌에서 발생한 이자는 거래소에 귀속된다.</td>\n",
       "    </tr>\n",
       "    <tr>\n",
       "      <th>69824</th>\n",
       "      <td>69824</td>\n",
       "      <td>Q5. KRX석유시장에 활성화를 기여한 참가자에게 거래소가 지급할 수 있는 대가는 ...</td>\n",
       "      <td>A5. 거래소는 KRX석유시장 수수료의 범위 내에서 대가를 지급할 수 있다.</td>\n",
       "    </tr>\n",
       "    <tr>\n",
       "      <th>69825</th>\n",
       "      <td>69825</td>\n",
       "      <td>Q6. 참가자는 계약서 및 규정에 위반되지 않는 범위 내에서 어떤 사항에 대해 별도...</td>\n",
       "      <td>A6. 참가자는 석유제품의 매매거래와 관련한 사항에 대해 다른 참가자와의 별도 약정...</td>\n",
       "    </tr>\n",
       "    <tr>\n",
       "      <th>69826</th>\n",
       "      <td>69826</td>\n",
       "      <td>Q7. KRX석유시장과 관련된 규정의 시행에 관하여 필요한 사항은 무엇으로 정하는가?</td>\n",
       "      <td>A7. KRX석유시장과 관련된 규정의 시행에 관하여 필요한 사항은 세칙으로 정한다....</td>\n",
       "    </tr>\n",
       "  </tbody>\n",
       "</table>\n",
       "<p>69827 rows × 3 columns</p>\n",
       "</div>"
      ],
      "text/plain": [
       "       Unnamed: 0                                                  0  \\\n",
       "0               0     Q. 노바텍의 2023년 연결재무상태표에서 자산총계가 증가한 원인은 무엇인가요?     \n",
       "1               1     Q. 2023년 노바텍의 부채총계는 어떻게 변화하였으며, 그 원인은 무엇인가요?     \n",
       "2               2  Q. 2023년 노바텍의 영업이익률은 얼마였으며, 이전 연도와 비교했을 때 어떤 변...   \n",
       "3               3  Q. 노바텍의 당기순이익은 2023년에 어떻게 변화했으며, 그 증가의 주된 원인은 ...   \n",
       "4               4  Q. 노바텍의 2023년 유동비율은 얼마이며, 이는 전년도와 비교하여 어떻게 변화하...   \n",
       "...           ...                                                ...   \n",
       "69822       69822             Q3. 참가자는 매매거래에 관한 거래증명을 어떻게 요청할 수 있는가?   \n",
       "69823       69823             Q4. 거래소 명의의 결제계좌에서 발생한 이자는 누구에게 귀속되는가?   \n",
       "69824       69824  Q5. KRX석유시장에 활성화를 기여한 참가자에게 거래소가 지급할 수 있는 대가는 ...   \n",
       "69825       69825  Q6. 참가자는 계약서 및 규정에 위반되지 않는 범위 내에서 어떤 사항에 대해 별도...   \n",
       "69826       69826    Q7. KRX석유시장과 관련된 규정의 시행에 관하여 필요한 사항은 무엇으로 정하는가?   \n",
       "\n",
       "                                                       1  \n",
       "0      A. 자산총계는 유동자산과 비유동자산 모두에서 증가하였으며, 특히 기타유동금융자산,...  \n",
       "1      A. 2023년 부채총계는 105억 원으로, 2022년 대비 22억 원이 감소하였으...  \n",
       "2           A. 2023년 영업이익률은 27.7%로, 전년의 24%에 비해 증가하였습니다.  \n",
       "3      A. 2023년 당기순이익은 296억 원으로, 전년 대비 153억 원이 증가하였으며...  \n",
       "4      A. 2023년 유동비율은 1685.64%로, 전년의 1167.29%와 비교하여 상...  \n",
       "...                                                  ...  \n",
       "69822  A3. 참가자는 거래소에 매매거래에 관한 거래증명을 요청할 수 있으며, 거래소는 지...  \n",
       "69823              A4. 거래소 명의의 결제계좌에서 발생한 이자는 거래소에 귀속된다.  \n",
       "69824         A5. 거래소는 KRX석유시장 수수료의 범위 내에서 대가를 지급할 수 있다.  \n",
       "69825  A6. 참가자는 석유제품의 매매거래와 관련한 사항에 대해 다른 참가자와의 별도 약정...  \n",
       "69826  A7. KRX석유시장과 관련된 규정의 시행에 관하여 필요한 사항은 세칙으로 정한다....  \n",
       "\n",
       "[69827 rows x 3 columns]"
      ]
     },
     "execution_count": 174,
     "metadata": {},
     "output_type": "execute_result"
    }
   ],
   "source": [
    "qa_df"
   ]
  },
  {
   "cell_type": "code",
   "execution_count": 151,
   "metadata": {},
   "outputs": [],
   "source": [
    "combined_dataset = concatenate_datasets([combined_dataset,combined_dataset_math])"
   ]
  },
  {
   "cell_type": "code",
   "execution_count": 3,
   "metadata": {},
   "outputs": [
    {
     "data": {
      "text/plain": [
       "Dataset({\n",
       "    features: ['prompt', 'response', '__index_level_0__'],\n",
       "    num_rows: 4000\n",
       "})"
      ]
     },
     "execution_count": 3,
     "metadata": {},
     "output_type": "execute_result"
    }
   ],
   "source": [
    "extra_data_krx_sample_1_make_gpt__Dataset"
   ]
  },
  {
   "cell_type": "code",
   "execution_count": 152,
   "metadata": {},
   "outputs": [
    {
     "data": {
      "text/plain": [
       "Dataset({\n",
       "    features: ['prompt', 'response', '__index_level_0__'],\n",
       "    num_rows: 120782\n",
       "})"
      ]
     },
     "execution_count": 152,
     "metadata": {},
     "output_type": "execute_result"
    }
   ],
   "source": [
    "combined_dataset"
   ]
  },
  {
   "cell_type": "code",
   "execution_count": 153,
   "metadata": {},
   "outputs": [
    {
     "data": {
      "application/vnd.jupyter.widget-view+json": {
       "model_id": "6e90454b13384092993dda82686622ce",
       "version_major": 2,
       "version_minor": 0
      },
      "text/plain": [
       "Saving the dataset (0/1 shards):   0%|          | 0/120782 [00:00<?, ? examples/s]"
      ]
     },
     "metadata": {},
     "output_type": "display_data"
    }
   ],
   "source": [
    "combined_dataset.save_to_disk(\"data/final_Asample_Akorcompany_Alegal_cfa_kim\")"
   ]
  },
  {
   "cell_type": "code",
   "execution_count": null,
   "metadata": {},
   "outputs": [],
   "source": [
    "combined_dataset['prompt']"
   ]
  },
  {
   "cell_type": "code",
   "execution_count": 235,
   "metadata": {},
   "outputs": [],
   "source": [
    "\n",
    "number1 = pd.read_csv('data/finance_kor_exam/서기쌤 파생최종 데이터셋(1).csv',encoding='euc-kr')\n",
    "number2 = pd.read_csv('data/finance_kor_exam/서기쌤 파생최종 데이터셋(2) (최종본).csv',encoding='euc-kr')\n",
    "number3 = pd.read_csv('data/finance_kor_exam/증투사 2과목 데이터셋(최종).csv',encoding='euc-kr')\n",
    "number4 = pd.read_csv('data/finance_kor_exam/증투사 100% 데이터셋 (1).csv',encoding='euc-kr')\n",
    "number5 = pd.read_csv('data/finance_kor_exam/펀드투자 데이터셋.csv',encoding='euc-kr')\n",
    "\n"
   ]
  },
  {
   "cell_type": "code",
   "execution_count": 233,
   "metadata": {},
   "outputs": [],
   "source": [
    "number5 = pd.read_csv('data/finance_kor_exam/펀드투자 데이터셋.csv', encoding='euc-kr', on_bad_lines='skip')\n"
   ]
  },
  {
   "cell_type": "code",
   "execution_count": 240,
   "metadata": {},
   "outputs": [],
   "source": [
    "import re\n",
    "def adjust_spaces(text):\n",
    "    # 1개의 공백 제거\n",
    "    text = re.sub(r'(?<!\\s)\\s(?!\\s)', '', text)  # 공백 1개만 제거\n",
    "    # 2개 이상의 공백을 1개로 줄이기\n",
    "    text = re.sub(r'\\s{2,}', ' ', text)\n",
    "    return text\n",
    "\n",
    "# 데이터프레임의 특정 열에 함수 적용\n",
    "number1['Answer'] =  number1['Answer'].apply(adjust_spaces)"
   ]
  },
  {
   "cell_type": "code",
   "execution_count": 241,
   "metadata": {},
   "outputs": [
    {
     "data": {
      "text/plain": [
       "'D. 선도거래는 청산소에서 계약이행을 보증한다. 해설. 선도거래는 장외거래이다. '"
      ]
     },
     "execution_count": 241,
     "metadata": {},
     "output_type": "execute_result"
    }
   ],
   "source": [
    "number1['Answer'][0]"
   ]
  },
  {
   "cell_type": "code",
   "execution_count": 243,
   "metadata": {},
   "outputs": [],
   "source": [
    "df_combined = pd.concat([number1, number2, number3, number4, number5], axis=0, ignore_index=True)"
   ]
  },
  {
   "cell_type": "code",
   "execution_count": 246,
   "metadata": {},
   "outputs": [],
   "source": [
    "df_combined.columns = ['question','response']"
   ]
  },
  {
   "cell_type": "code",
   "execution_count": 247,
   "metadata": {},
   "outputs": [],
   "source": [
    "df_combined.columns = ['question','response']\n",
    "extra_krxlegal_gpt4o_indexing = df_combined[['question','response']] # 법 내용 1000개\n",
    "extra_krxlegal_gpt4o_indexing['__index_level_0__'] = extra_krxlegal_gpt4o_indexing.index\n",
    "extra_krxlegal_gpt4o_indexing.columns = ['prompt','response','__index_level_0__']\n",
    "extra_extra_korexam_gpt4o_Dataset = Dataset.from_pandas(extra_krxlegal_gpt4o_indexing)\n"
   ]
  },
  {
   "cell_type": "code",
   "execution_count": 250,
   "metadata": {},
   "outputs": [
    {
     "data": {
      "application/vnd.jupyter.widget-view+json": {
       "model_id": "1f1b2548a081409abd281026f129c518",
       "version_major": 2,
       "version_minor": 0
      },
      "text/plain": [
       "Saving the dataset (0/1 shards):   0%|          | 0/595 [00:00<?, ? examples/s]"
      ]
     },
     "metadata": {},
     "output_type": "display_data"
    }
   ],
   "source": [
    "extra_extra_korexam_gpt4o_Dataset.save_to_disk(\"data/final_dataset/korexam\")"
   ]
  },
  {
   "cell_type": "code",
   "execution_count": null,
   "metadata": {},
   "outputs": [],
   "source": []
  }
 ],
 "metadata": {
  "kernelspec": {
   "display_name": "fromson_test",
   "language": "python",
   "name": "fromson"
  },
  "language_info": {
   "codemirror_mode": {
    "name": "ipython",
    "version": 3
   },
   "file_extension": ".py",
   "mimetype": "text/x-python",
   "name": "python",
   "nbconvert_exporter": "python",
   "pygments_lexer": "ipython3",
   "version": "3.10.9"
  }
 },
 "nbformat": 4,
 "nbformat_minor": 2
}
